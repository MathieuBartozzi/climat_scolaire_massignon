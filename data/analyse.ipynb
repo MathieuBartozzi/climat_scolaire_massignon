{
 "cells": [
  {
   "cell_type": "markdown",
   "id": "47b3e1b8",
   "metadata": {},
   "source": [
    "| Question                                                                 | Nom de variable                          | Type         | Code |\n",
    "|--------------------------------------------------------------------------|------------------------------------------|--------------|------|\n",
    "| Quel est ton niveau de classe ?                                          | Q1_Niveau                                | Catégorielle | Q1   |\n",
    "| Quel est ton genre ?                                                    | Q2_Genre                                 | Catégorielle | Q2   |\n",
    "| Comment te sens-tu globalement dans ton établissement ?                 | Q3_Sentiment_global                      | Int          | Q3   |\n",
    "| As-tu confiance dans les décisions prises par les adultes ?             | Q4_Confiance_adultes                     | Int          | Q4   |\n",
    "| Y a-t-il un élément qui pourrait renforcer la confiance et le dialogue ?| Q5_Element_confiance_dialogue            | String       | Q5   |\n",
    "| Te sens-tu en sécurité dans l’établissement ?                           | Q6_Securite                              | Int          | Q6   |\n",
    "| As-tu déjà participé à des projets ou activités dans l’établissement ?  | Q7_Participation_projets                | Int          | Q7   |\n",
    "| Si oui, lesquelles ?                                                    | Q8_Projets_details                       | String       | Q8   |\n",
    "| Peux-tu t’exprimer librement dans l’établissement ?                    | Q9_Liberte_expression                    | Int          | Q9   |\n",
    "| Te sens-tu écouté(e) et soutenu(e) ?                                    | Q10_Ecoute_soutien                       | Int          | Q10  |\n",
    "| Si oui, où et quand peux-tu t’exprimer ?                                | Q11_Lieux_expression                     | String       | Q11  |\n",
    "| As-tu envie de venir chaque jour à l’établissement ?                    | Q12_Envie_venir                          | Int          | Q12  |\n",
    "| Comment qualifierais-tu la relation entre ta famille, l’établissement et toi ? | Q13_Relation_famille_etablissement | Int          | Q13  |\n",
    "| Quels sont les moments les plus agréables ? Les moins agréables ? Pourquoi ? | Q14_Moments_agr_desagr             | String       | Q14  |\n",
    "| Quels lieux te semblent les plus agréables ? Les moins agréables ? Pourquoi ? | Q15_Lieux_agr_desagr               | String       | Q15  |\n",
    "| Si tu pouvais proposer un changement concret dans l’établissement, quel serait-il ? | Q16_Changement_souhaite        | String       | Q16  |\n"
   ]
  },
  {
   "cell_type": "code",
   "execution_count": null,
   "id": "b5fdccdd",
   "metadata": {},
   "outputs": [],
   "source": [
    "# import pandas as pd\n",
    "\n",
    "# # 1. Charger les données sources\n",
    "# # Remplace le nom par le chemin réel de ton fichier\n",
    "# file_path = \"processed_data/df_processed.csv\"\n",
    "# df = pd.read_csv(file_path)\n",
    "# df_q14 = pd.read_csv(\"temp/extraction_Q14_Moments_agr_desagr.csv\")\n",
    "# df_q15 = pd.read_csv(\"temp/extraction_Q15_Lieux_agr_desagr.csv\")\n",
    "\n",
    "# # 2. Renommer les colonnes de Q14 et Q15\n",
    "# df_q14.rename(columns={\n",
    "#     \"agréables\": \"moments_agréables\",\n",
    "#     \"désagréables\": \"moments_désagréables\"\n",
    "# }, inplace=True)\n",
    "\n",
    "# df_q15.rename(columns={\n",
    "#     \"agréables\": \"lieux_agréables\",\n",
    "#     \"désagréables\": \"lieux_désagréables\"\n",
    "# }, inplace=True)\n",
    "\n",
    "# # 3. S'assurer que l'index est cohérent\n",
    "# df_q14.set_index(\"index\", inplace=True)\n",
    "# df_q15.set_index(\"index\", inplace=True)\n",
    "# df.reset_index(drop=True, inplace=True)\n",
    "\n",
    "# # 4. Fusionner dans df\n",
    "# df = df.merge(df_q14[[\"moments_agréables\", \"moments_désagréables\"]], left_index=True, right_index=True, how=\"left\")\n",
    "# df = df.merge(df_q15[[\"lieux_agréables\", \"lieux_désagréables\"]], left_index=True, right_index=True, how=\"left\")\n",
    "\n",
    "# # Colonnes à conserver (catégorielles, fermées numériques, extraits, agréables/désagréables)\n",
    "# colonnes_finales = [\n",
    "#     \"Q1_Niveau\", \"Q2_Genre\",\n",
    "#     \"Q3_Sentiment_global\", \"Q4_Confiance_adultes\", \"Q6_Securite\",\n",
    "#     \"Q7_Participation_projets\", \"Q9_Liberte_expression\", \"Q10_Ecoute_soutien\",\n",
    "#     \"Q12_Envie_venir\", \"Q13_Relation_famille_etablissement\",\n",
    "#     \"Q5_Element_confiance_dialogue_extrait\", \"Q8_Projets_details_extrait\",\n",
    "#     \"Q11_Lieux_expression_extrait\", \"Q16_Changement_souhaite_extrait\",\n",
    "#     \"moments_agréables\", \"moments_désagréables\",\n",
    "#     \"lieux_agréables\", \"lieux_désagréables\"\n",
    "# ]\n",
    "\n",
    "# # Renommer les colonnes pour plus de clarté\n",
    "# renommer = {\n",
    "#     \"Q1_Niveau\": \"niveau\",\n",
    "#     \"Q2_Genre\": \"genre\",\n",
    "#     \"Q3_Sentiment_global\": \"sentiment_global\",\n",
    "#     \"Q4_Confiance_adultes\": \"confiance_adultes\",\n",
    "#     \"Q6_Securite\": \"sentiment_securite\",\n",
    "#     \"Q7_Participation_projets\": \"participation_projets\",\n",
    "#     \"Q9_Liberte_expression\": \"liberte_expression\",\n",
    "#     \"Q10_Ecoute_soutien\": \"ecoute_et_soutien\",\n",
    "#     \"Q12_Envie_venir\": \"envie_venir\",\n",
    "#     \"Q13_Relation_famille_etablissement\": \"relation_famille_etab\",\n",
    "#     \"Q5_Element_confiance_dialogue_extrait\": \"confiance_dialogue_extrait\",\n",
    "#     \"Q8_Projets_details_extrait\": \"projets_participes\",\n",
    "#     \"Q11_Lieux_expression_extrait\": \"lieux_expression_libre\",\n",
    "#     \"Q16_Changement_souhaite_extrait\": \"changements_souhaites\",\n",
    "#     \"moments_agréables\": \"moments_agreables\",\n",
    "#     \"moments_désagréables\": \"moments_desagreables\",\n",
    "#     \"lieux_agréables\": \"lieux_agreables\",\n",
    "#     \"lieux_désagréables\": \"lieux_desagreables\"\n",
    "# }\n",
    "\n",
    "# # Filtrer et renommer le dataframe\n",
    "# df = df[colonnes_finales].rename(columns=renommer)\n",
    "\n",
    "# # 5. Sauvegarder\n",
    "# df.to_csv(\"processed_data/df_processed.csv\", index=False)\n"
   ]
  },
  {
   "cell_type": "code",
   "execution_count": 12,
   "id": "7f185d31",
   "metadata": {},
   "outputs": [],
   "source": [
    "import plotly.express as px\n",
    "\n",
    "import pandas as pd\n",
    "import json\n",
    "import plotly.express as px\n",
    "from dotenv import load_dotenv\n",
    "import os\n",
    "import matplotlib.pyplot as plt\n",
    "\n",
    "# Charger les variables d'environnement\n",
    "load_dotenv()\n",
    "\n",
    "# api_key = os.getenv(\"OPENAI_API_KEY\")\n",
    "# client = OpenAI(api_key=api_key)\n",
    "\n",
    "# Remplace le nom par le chemin réel de ton fichier\n",
    "file_path = \"processed_data/df_processed.csv\"\n",
    "df = pd.read_csv(file_path)\n"
   ]
  },
  {
   "cell_type": "markdown",
   "id": "c14426b9",
   "metadata": {},
   "source": [
    "## Scores composites"
   ]
  },
  {
   "cell_type": "markdown",
   "id": "35bee160",
   "metadata": {},
   "source": [
    "### Scoring\n"
   ]
  },
  {
   "cell_type": "code",
   "execution_count": null,
   "id": "e1965b7a",
   "metadata": {},
   "outputs": [
    {
     "data": {
      "text/html": [
       "<div>\n",
       "<style scoped>\n",
       "    .dataframe tbody tr th:only-of-type {\n",
       "        vertical-align: middle;\n",
       "    }\n",
       "\n",
       "    .dataframe tbody tr th {\n",
       "        vertical-align: top;\n",
       "    }\n",
       "\n",
       "    .dataframe thead th {\n",
       "        text-align: right;\n",
       "    }\n",
       "</style>\n",
       "<table border=\"1\" class=\"dataframe\">\n",
       "  <thead>\n",
       "    <tr style=\"text-align: right;\">\n",
       "      <th></th>\n",
       "      <th>genre</th>\n",
       "      <th>niveau</th>\n",
       "      <th>climat_de_confiance</th>\n",
       "      <th>bien_etre</th>\n",
       "      <th>expression_et_ecoute</th>\n",
       "      <th>engagement</th>\n",
       "    </tr>\n",
       "  </thead>\n",
       "  <tbody>\n",
       "    <tr>\n",
       "      <th>0</th>\n",
       "      <td>Garçon</td>\n",
       "      <td>4e</td>\n",
       "      <td>1.666667</td>\n",
       "      <td>1.666667</td>\n",
       "      <td>3.333333</td>\n",
       "      <td>0.833333</td>\n",
       "    </tr>\n",
       "    <tr>\n",
       "      <th>1</th>\n",
       "      <td>Garçon</td>\n",
       "      <td>5e</td>\n",
       "      <td>0.000000</td>\n",
       "      <td>1.666667</td>\n",
       "      <td>1.666667</td>\n",
       "      <td>1.944444</td>\n",
       "    </tr>\n",
       "    <tr>\n",
       "      <th>2</th>\n",
       "      <td>Fille</td>\n",
       "      <td>5e</td>\n",
       "      <td>2.500000</td>\n",
       "      <td>1.666667</td>\n",
       "      <td>0.000000</td>\n",
       "      <td>0.000000</td>\n",
       "    </tr>\n",
       "    <tr>\n",
       "      <th>3</th>\n",
       "      <td>Fille</td>\n",
       "      <td>4e</td>\n",
       "      <td>4.166667</td>\n",
       "      <td>3.333333</td>\n",
       "      <td>3.333333</td>\n",
       "      <td>1.666667</td>\n",
       "    </tr>\n",
       "    <tr>\n",
       "      <th>4</th>\n",
       "      <td>Garçon</td>\n",
       "      <td>5e</td>\n",
       "      <td>2.500000</td>\n",
       "      <td>0.000000</td>\n",
       "      <td>5.000000</td>\n",
       "      <td>0.000000</td>\n",
       "    </tr>\n",
       "  </tbody>\n",
       "</table>\n",
       "</div>"
      ],
      "text/plain": [
       "    genre niveau  climat_de_confiance  bien_etre  expression_et_ecoute  \\\n",
       "0  Garçon     4e             1.666667   1.666667              3.333333   \n",
       "1  Garçon     5e             0.000000   1.666667              1.666667   \n",
       "2   Fille     5e             2.500000   1.666667              0.000000   \n",
       "3   Fille     4e             4.166667   3.333333              3.333333   \n",
       "4  Garçon     5e             2.500000   0.000000              5.000000   \n",
       "\n",
       "   engagement  \n",
       "0    0.833333  \n",
       "1    1.944444  \n",
       "2    0.000000  \n",
       "3    1.666667  \n",
       "4    0.000000  "
      ]
     },
     "execution_count": 13,
     "metadata": {},
     "output_type": "execute_result"
    }
   ],
   "source": [
    "with open(\"utils/scores_axes.json\", \"r\", encoding=\"utf-8\") as f:\n",
    "    score_axes = json.load(f)\n",
    "\n",
    "\n",
    "\n",
    "def compute_composite_scores(df, scores_mapping, scale=5, max_score=3, context_cols=[\"genre\", \"niveau\"]):\n",
    "    \"\"\"\n",
    "    Calcule les scores composites pour chaque axe, sur une échelle de 0 à `scale`.\n",
    "    Retourne uniquement les scores finaux + colonnes contextuelles demandées (par ex. genre, classe).\n",
    "\n",
    "    Args:\n",
    "        df (pd.DataFrame): Données initiales.\n",
    "        scores_mapping (dict): Dictionnaire {axe: [colonnes]} sans inclure de score calculé.\n",
    "        scale (int): Échelle des scores finaux.\n",
    "        max_score (int): Score max par variable source.\n",
    "        context_cols (list): Colonnes contextuelles à inclure dans le résultat final.\n",
    "\n",
    "    Returns:\n",
    "        pd.DataFrame: DataFrame avec les scores finaux et les colonnes contextuelles.\n",
    "    \"\"\"\n",
    "    df_copy = df.copy()\n",
    "\n",
    "    # Étape 1 : score quantitatif des projets\n",
    "    if \"projets_participes\" in df_copy.columns:\n",
    "        df_copy[\"_n_projets_participes\"] = df_copy[\"projets_participes\"].apply(\n",
    "            lambda x: len(eval(x)) if isinstance(x, str) and x.startswith(\"[\") else 0\n",
    "        )\n",
    "        max_count = df_copy[\"_n_projets_participes\"].max() or 1\n",
    "        df_copy[\"_score_nb_projets\"] = df_copy[\"_n_projets_participes\"].apply(\n",
    "            lambda x: (x / max_count) * max_score if x > 0 else 0\n",
    "        )\n",
    "\n",
    "    # Étape 2 : calcul des scores pour chaque axe\n",
    "    for axis, cols in scores_mapping.items():\n",
    "        cols_to_use = cols.copy()\n",
    "\n",
    "        if axis.lower() == \"engagement\" and \"_score_nb_projets\" in df_copy.columns:\n",
    "            cols_to_use.append(\"_score_nb_projets\")\n",
    "\n",
    "        available_cols = [col for col in cols_to_use if col in df_copy.columns]\n",
    "\n",
    "        if available_cols:\n",
    "            df_copy[axis] = df_copy[available_cols].mean(axis=1) * scale / max_score\n",
    "        else:\n",
    "            df_copy[axis] = None\n",
    "\n",
    "    # Étape 3 : construction du DataFrame final avec les scores et colonnes contextuelles\n",
    "    final_cols = [col for col in context_cols if col in df_copy.columns] + list(scores_mapping.keys())\n",
    "    result = df_copy[final_cols].copy()\n",
    "\n",
    "    return result\n",
    "\n",
    "\n",
    "\n",
    "df_scores = compute_composite_scores(df, score_axes)\n",
    "\n",
    "df_scores.head()\n"
   ]
  },
  {
   "cell_type": "code",
   "execution_count": 19,
   "id": "b2c8b7d7",
   "metadata": {},
   "outputs": [
    {
     "data": {
      "application/vnd.plotly.v1+json": {
       "config": {
        "plotlyServerURL": "https://plot.ly"
       },
       "data": [
        {
         "bingroup": "x",
         "hovertemplate": "genre=Garçon<br>climat_de_confiance=%{x}<br>count=%{y}<extra></extra>",
         "legendgroup": "Garçon",
         "marker": {
          "color": "#636efa",
          "pattern": {
           "shape": ""
          }
         },
         "name": "Garçon",
         "nbinsx": 6,
         "orientation": "v",
         "showlegend": true,
         "type": "histogram",
         "x": {
          "bdata": "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",
          "dtype": "f8"
         },
         "xaxis": "x",
         "yaxis": "y"
        },
        {
         "bingroup": "x",
         "hovertemplate": "genre=Fille<br>climat_de_confiance=%{x}<br>count=%{y}<extra></extra>",
         "legendgroup": "Fille",
         "marker": {
          "color": "#EF553B",
          "pattern": {
           "shape": ""
          }
         },
         "name": "Fille",
         "nbinsx": 6,
         "orientation": "v",
         "showlegend": true,
         "type": "histogram",
         "x": {
          "bdata": "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",
          "dtype": "f8"
         },
         "xaxis": "x",
         "yaxis": "y"
        }
       ],
       "layout": {
        "bargap": 0.1,
        "barmode": "relative",
        "legend": {
         "title": {
          "text": "genre"
         },
         "tracegroupgap": 0
        },
        "template": {
         "data": {
          "bar": [
           {
            "error_x": {
             "color": "#2a3f5f"
            },
            "error_y": {
             "color": "#2a3f5f"
            },
            "marker": {
             "line": {
              "color": "#E5ECF6",
              "width": 0.5
             },
             "pattern": {
              "fillmode": "overlay",
              "size": 10,
              "solidity": 0.2
             }
            },
            "type": "bar"
           }
          ],
          "barpolar": [
           {
            "marker": {
             "line": {
              "color": "#E5ECF6",
              "width": 0.5
             },
             "pattern": {
              "fillmode": "overlay",
              "size": 10,
              "solidity": 0.2
             }
            },
            "type": "barpolar"
           }
          ],
          "carpet": [
           {
            "aaxis": {
             "endlinecolor": "#2a3f5f",
             "gridcolor": "white",
             "linecolor": "white",
             "minorgridcolor": "white",
             "startlinecolor": "#2a3f5f"
            },
            "baxis": {
             "endlinecolor": "#2a3f5f",
             "gridcolor": "white",
             "linecolor": "white",
             "minorgridcolor": "white",
             "startlinecolor": "#2a3f5f"
            },
            "type": "carpet"
           }
          ],
          "choropleth": [
           {
            "colorbar": {
             "outlinewidth": 0,
             "ticks": ""
            },
            "type": "choropleth"
           }
          ],
          "contour": [
           {
            "colorbar": {
             "outlinewidth": 0,
             "ticks": ""
            },
            "colorscale": [
             [
              0,
              "#0d0887"
             ],
             [
              0.1111111111111111,
              "#46039f"
             ],
             [
              0.2222222222222222,
              "#7201a8"
             ],
             [
              0.3333333333333333,
              "#9c179e"
             ],
             [
              0.4444444444444444,
              "#bd3786"
             ],
             [
              0.5555555555555556,
              "#d8576b"
             ],
             [
              0.6666666666666666,
              "#ed7953"
             ],
             [
              0.7777777777777778,
              "#fb9f3a"
             ],
             [
              0.8888888888888888,
              "#fdca26"
             ],
             [
              1,
              "#f0f921"
             ]
            ],
            "type": "contour"
           }
          ],
          "contourcarpet": [
           {
            "colorbar": {
             "outlinewidth": 0,
             "ticks": ""
            },
            "type": "contourcarpet"
           }
          ],
          "heatmap": [
           {
            "colorbar": {
             "outlinewidth": 0,
             "ticks": ""
            },
            "colorscale": [
             [
              0,
              "#0d0887"
             ],
             [
              0.1111111111111111,
              "#46039f"
             ],
             [
              0.2222222222222222,
              "#7201a8"
             ],
             [
              0.3333333333333333,
              "#9c179e"
             ],
             [
              0.4444444444444444,
              "#bd3786"
             ],
             [
              0.5555555555555556,
              "#d8576b"
             ],
             [
              0.6666666666666666,
              "#ed7953"
             ],
             [
              0.7777777777777778,
              "#fb9f3a"
             ],
             [
              0.8888888888888888,
              "#fdca26"
             ],
             [
              1,
              "#f0f921"
             ]
            ],
            "type": "heatmap"
           }
          ],
          "histogram": [
           {
            "marker": {
             "pattern": {
              "fillmode": "overlay",
              "size": 10,
              "solidity": 0.2
             }
            },
            "type": "histogram"
           }
          ],
          "histogram2d": [
           {
            "colorbar": {
             "outlinewidth": 0,
             "ticks": ""
            },
            "colorscale": [
             [
              0,
              "#0d0887"
             ],
             [
              0.1111111111111111,
              "#46039f"
             ],
             [
              0.2222222222222222,
              "#7201a8"
             ],
             [
              0.3333333333333333,
              "#9c179e"
             ],
             [
              0.4444444444444444,
              "#bd3786"
             ],
             [
              0.5555555555555556,
              "#d8576b"
             ],
             [
              0.6666666666666666,
              "#ed7953"
             ],
             [
              0.7777777777777778,
              "#fb9f3a"
             ],
             [
              0.8888888888888888,
              "#fdca26"
             ],
             [
              1,
              "#f0f921"
             ]
            ],
            "type": "histogram2d"
           }
          ],
          "histogram2dcontour": [
           {
            "colorbar": {
             "outlinewidth": 0,
             "ticks": ""
            },
            "colorscale": [
             [
              0,
              "#0d0887"
             ],
             [
              0.1111111111111111,
              "#46039f"
             ],
             [
              0.2222222222222222,
              "#7201a8"
             ],
             [
              0.3333333333333333,
              "#9c179e"
             ],
             [
              0.4444444444444444,
              "#bd3786"
             ],
             [
              0.5555555555555556,
              "#d8576b"
             ],
             [
              0.6666666666666666,
              "#ed7953"
             ],
             [
              0.7777777777777778,
              "#fb9f3a"
             ],
             [
              0.8888888888888888,
              "#fdca26"
             ],
             [
              1,
              "#f0f921"
             ]
            ],
            "type": "histogram2dcontour"
           }
          ],
          "mesh3d": [
           {
            "colorbar": {
             "outlinewidth": 0,
             "ticks": ""
            },
            "type": "mesh3d"
           }
          ],
          "parcoords": [
           {
            "line": {
             "colorbar": {
              "outlinewidth": 0,
              "ticks": ""
             }
            },
            "type": "parcoords"
           }
          ],
          "pie": [
           {
            "automargin": true,
            "type": "pie"
           }
          ],
          "scatter": [
           {
            "fillpattern": {
             "fillmode": "overlay",
             "size": 10,
             "solidity": 0.2
            },
            "type": "scatter"
           }
          ],
          "scatter3d": [
           {
            "line": {
             "colorbar": {
              "outlinewidth": 0,
              "ticks": ""
             }
            },
            "marker": {
             "colorbar": {
              "outlinewidth": 0,
              "ticks": ""
             }
            },
            "type": "scatter3d"
           }
          ],
          "scattercarpet": [
           {
            "marker": {
             "colorbar": {
              "outlinewidth": 0,
              "ticks": ""
             }
            },
            "type": "scattercarpet"
           }
          ],
          "scattergeo": [
           {
            "marker": {
             "colorbar": {
              "outlinewidth": 0,
              "ticks": ""
             }
            },
            "type": "scattergeo"
           }
          ],
          "scattergl": [
           {
            "marker": {
             "colorbar": {
              "outlinewidth": 0,
              "ticks": ""
             }
            },
            "type": "scattergl"
           }
          ],
          "scattermap": [
           {
            "marker": {
             "colorbar": {
              "outlinewidth": 0,
              "ticks": ""
             }
            },
            "type": "scattermap"
           }
          ],
          "scattermapbox": [
           {
            "marker": {
             "colorbar": {
              "outlinewidth": 0,
              "ticks": ""
             }
            },
            "type": "scattermapbox"
           }
          ],
          "scatterpolar": [
           {
            "marker": {
             "colorbar": {
              "outlinewidth": 0,
              "ticks": ""
             }
            },
            "type": "scatterpolar"
           }
          ],
          "scatterpolargl": [
           {
            "marker": {
             "colorbar": {
              "outlinewidth": 0,
              "ticks": ""
             }
            },
            "type": "scatterpolargl"
           }
          ],
          "scatterternary": [
           {
            "marker": {
             "colorbar": {
              "outlinewidth": 0,
              "ticks": ""
             }
            },
            "type": "scatterternary"
           }
          ],
          "surface": [
           {
            "colorbar": {
             "outlinewidth": 0,
             "ticks": ""
            },
            "colorscale": [
             [
              0,
              "#0d0887"
             ],
             [
              0.1111111111111111,
              "#46039f"
             ],
             [
              0.2222222222222222,
              "#7201a8"
             ],
             [
              0.3333333333333333,
              "#9c179e"
             ],
             [
              0.4444444444444444,
              "#bd3786"
             ],
             [
              0.5555555555555556,
              "#d8576b"
             ],
             [
              0.6666666666666666,
              "#ed7953"
             ],
             [
              0.7777777777777778,
              "#fb9f3a"
             ],
             [
              0.8888888888888888,
              "#fdca26"
             ],
             [
              1,
              "#f0f921"
             ]
            ],
            "type": "surface"
           }
          ],
          "table": [
           {
            "cells": {
             "fill": {
              "color": "#EBF0F8"
             },
             "line": {
              "color": "white"
             }
            },
            "header": {
             "fill": {
              "color": "#C8D4E3"
             },
             "line": {
              "color": "white"
             }
            },
            "type": "table"
           }
          ]
         },
         "layout": {
          "annotationdefaults": {
           "arrowcolor": "#2a3f5f",
           "arrowhead": 0,
           "arrowwidth": 1
          },
          "autotypenumbers": "strict",
          "coloraxis": {
           "colorbar": {
            "outlinewidth": 0,
            "ticks": ""
           }
          },
          "colorscale": {
           "diverging": [
            [
             0,
             "#8e0152"
            ],
            [
             0.1,
             "#c51b7d"
            ],
            [
             0.2,
             "#de77ae"
            ],
            [
             0.3,
             "#f1b6da"
            ],
            [
             0.4,
             "#fde0ef"
            ],
            [
             0.5,
             "#f7f7f7"
            ],
            [
             0.6,
             "#e6f5d0"
            ],
            [
             0.7,
             "#b8e186"
            ],
            [
             0.8,
             "#7fbc41"
            ],
            [
             0.9,
             "#4d9221"
            ],
            [
             1,
             "#276419"
            ]
           ],
           "sequential": [
            [
             0,
             "#0d0887"
            ],
            [
             0.1111111111111111,
             "#46039f"
            ],
            [
             0.2222222222222222,
             "#7201a8"
            ],
            [
             0.3333333333333333,
             "#9c179e"
            ],
            [
             0.4444444444444444,
             "#bd3786"
            ],
            [
             0.5555555555555556,
             "#d8576b"
            ],
            [
             0.6666666666666666,
             "#ed7953"
            ],
            [
             0.7777777777777778,
             "#fb9f3a"
            ],
            [
             0.8888888888888888,
             "#fdca26"
            ],
            [
             1,
             "#f0f921"
            ]
           ],
           "sequentialminus": [
            [
             0,
             "#0d0887"
            ],
            [
             0.1111111111111111,
             "#46039f"
            ],
            [
             0.2222222222222222,
             "#7201a8"
            ],
            [
             0.3333333333333333,
             "#9c179e"
            ],
            [
             0.4444444444444444,
             "#bd3786"
            ],
            [
             0.5555555555555556,
             "#d8576b"
            ],
            [
             0.6666666666666666,
             "#ed7953"
            ],
            [
             0.7777777777777778,
             "#fb9f3a"
            ],
            [
             0.8888888888888888,
             "#fdca26"
            ],
            [
             1,
             "#f0f921"
            ]
           ]
          },
          "colorway": [
           "#636efa",
           "#EF553B",
           "#00cc96",
           "#ab63fa",
           "#FFA15A",
           "#19d3f3",
           "#FF6692",
           "#B6E880",
           "#FF97FF",
           "#FECB52"
          ],
          "font": {
           "color": "#2a3f5f"
          },
          "geo": {
           "bgcolor": "white",
           "lakecolor": "white",
           "landcolor": "#E5ECF6",
           "showlakes": true,
           "showland": true,
           "subunitcolor": "white"
          },
          "hoverlabel": {
           "align": "left"
          },
          "hovermode": "closest",
          "mapbox": {
           "style": "light"
          },
          "paper_bgcolor": "white",
          "plot_bgcolor": "#E5ECF6",
          "polar": {
           "angularaxis": {
            "gridcolor": "white",
            "linecolor": "white",
            "ticks": ""
           },
           "bgcolor": "#E5ECF6",
           "radialaxis": {
            "gridcolor": "white",
            "linecolor": "white",
            "ticks": ""
           }
          },
          "scene": {
           "xaxis": {
            "backgroundcolor": "#E5ECF6",
            "gridcolor": "white",
            "gridwidth": 2,
            "linecolor": "white",
            "showbackground": true,
            "ticks": "",
            "zerolinecolor": "white"
           },
           "yaxis": {
            "backgroundcolor": "#E5ECF6",
            "gridcolor": "white",
            "gridwidth": 2,
            "linecolor": "white",
            "showbackground": true,
            "ticks": "",
            "zerolinecolor": "white"
           },
           "zaxis": {
            "backgroundcolor": "#E5ECF6",
            "gridcolor": "white",
            "gridwidth": 2,
            "linecolor": "white",
            "showbackground": true,
            "ticks": "",
            "zerolinecolor": "white"
           }
          },
          "shapedefaults": {
           "line": {
            "color": "#2a3f5f"
           }
          },
          "ternary": {
           "aaxis": {
            "gridcolor": "white",
            "linecolor": "white",
            "ticks": ""
           },
           "baxis": {
            "gridcolor": "white",
            "linecolor": "white",
            "ticks": ""
           },
           "bgcolor": "#E5ECF6",
           "caxis": {
            "gridcolor": "white",
            "linecolor": "white",
            "ticks": ""
           }
          },
          "title": {
           "x": 0.05
          },
          "xaxis": {
           "automargin": true,
           "gridcolor": "white",
           "linecolor": "white",
           "ticks": "",
           "title": {
            "standoff": 15
           },
           "zerolinecolor": "white",
           "zerolinewidth": 2
          },
          "yaxis": {
           "automargin": true,
           "gridcolor": "white",
           "linecolor": "white",
           "ticks": "",
           "title": {
            "standoff": 15
           },
           "zerolinecolor": "white",
           "zerolinewidth": 2
          }
         }
        },
        "title": {
         "text": "Distribution du score : climat_de_confiance"
        },
        "xaxis": {
         "anchor": "y",
         "domain": [
          0,
          1
         ],
         "title": {
          "text": "climat_de_confiance"
         }
        },
        "yaxis": {
         "anchor": "x",
         "domain": [
          0,
          1
         ],
         "title": {
          "text": "count"
         }
        }
       }
      }
     },
     "metadata": {},
     "output_type": "display_data"
    },
    {
     "data": {
      "application/vnd.plotly.v1+json": {
       "config": {
        "plotlyServerURL": "https://plot.ly"
       },
       "data": [
        {
         "bingroup": "x",
         "hovertemplate": "genre=Garçon<br>bien_etre=%{x}<br>count=%{y}<extra></extra>",
         "legendgroup": "Garçon",
         "marker": {
          "color": "#636efa",
          "pattern": {
           "shape": ""
          }
         },
         "name": "Garçon",
         "nbinsx": 6,
         "orientation": "v",
         "showlegend": true,
         "type": "histogram",
         "x": {
          "bdata": "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",
          "dtype": "f8"
         },
         "xaxis": "x",
         "yaxis": "y"
        },
        {
         "bingroup": "x",
         "hovertemplate": "genre=Fille<br>bien_etre=%{x}<br>count=%{y}<extra></extra>",
         "legendgroup": "Fille",
         "marker": {
          "color": "#EF553B",
          "pattern": {
           "shape": ""
          }
         },
         "name": "Fille",
         "nbinsx": 6,
         "orientation": "v",
         "showlegend": true,
         "type": "histogram",
         "x": {
          "bdata": "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",
          "dtype": "f8"
         },
         "xaxis": "x",
         "yaxis": "y"
        }
       ],
       "layout": {
        "bargap": 0.1,
        "barmode": "relative",
        "legend": {
         "title": {
          "text": "genre"
         },
         "tracegroupgap": 0
        },
        "template": {
         "data": {
          "bar": [
           {
            "error_x": {
             "color": "#2a3f5f"
            },
            "error_y": {
             "color": "#2a3f5f"
            },
            "marker": {
             "line": {
              "color": "#E5ECF6",
              "width": 0.5
             },
             "pattern": {
              "fillmode": "overlay",
              "size": 10,
              "solidity": 0.2
             }
            },
            "type": "bar"
           }
          ],
          "barpolar": [
           {
            "marker": {
             "line": {
              "color": "#E5ECF6",
              "width": 0.5
             },
             "pattern": {
              "fillmode": "overlay",
              "size": 10,
              "solidity": 0.2
             }
            },
            "type": "barpolar"
           }
          ],
          "carpet": [
           {
            "aaxis": {
             "endlinecolor": "#2a3f5f",
             "gridcolor": "white",
             "linecolor": "white",
             "minorgridcolor": "white",
             "startlinecolor": "#2a3f5f"
            },
            "baxis": {
             "endlinecolor": "#2a3f5f",
             "gridcolor": "white",
             "linecolor": "white",
             "minorgridcolor": "white",
             "startlinecolor": "#2a3f5f"
            },
            "type": "carpet"
           }
          ],
          "choropleth": [
           {
            "colorbar": {
             "outlinewidth": 0,
             "ticks": ""
            },
            "type": "choropleth"
           }
          ],
          "contour": [
           {
            "colorbar": {
             "outlinewidth": 0,
             "ticks": ""
            },
            "colorscale": [
             [
              0,
              "#0d0887"
             ],
             [
              0.1111111111111111,
              "#46039f"
             ],
             [
              0.2222222222222222,
              "#7201a8"
             ],
             [
              0.3333333333333333,
              "#9c179e"
             ],
             [
              0.4444444444444444,
              "#bd3786"
             ],
             [
              0.5555555555555556,
              "#d8576b"
             ],
             [
              0.6666666666666666,
              "#ed7953"
             ],
             [
              0.7777777777777778,
              "#fb9f3a"
             ],
             [
              0.8888888888888888,
              "#fdca26"
             ],
             [
              1,
              "#f0f921"
             ]
            ],
            "type": "contour"
           }
          ],
          "contourcarpet": [
           {
            "colorbar": {
             "outlinewidth": 0,
             "ticks": ""
            },
            "type": "contourcarpet"
           }
          ],
          "heatmap": [
           {
            "colorbar": {
             "outlinewidth": 0,
             "ticks": ""
            },
            "colorscale": [
             [
              0,
              "#0d0887"
             ],
             [
              0.1111111111111111,
              "#46039f"
             ],
             [
              0.2222222222222222,
              "#7201a8"
             ],
             [
              0.3333333333333333,
              "#9c179e"
             ],
             [
              0.4444444444444444,
              "#bd3786"
             ],
             [
              0.5555555555555556,
              "#d8576b"
             ],
             [
              0.6666666666666666,
              "#ed7953"
             ],
             [
              0.7777777777777778,
              "#fb9f3a"
             ],
             [
              0.8888888888888888,
              "#fdca26"
             ],
             [
              1,
              "#f0f921"
             ]
            ],
            "type": "heatmap"
           }
          ],
          "histogram": [
           {
            "marker": {
             "pattern": {
              "fillmode": "overlay",
              "size": 10,
              "solidity": 0.2
             }
            },
            "type": "histogram"
           }
          ],
          "histogram2d": [
           {
            "colorbar": {
             "outlinewidth": 0,
             "ticks": ""
            },
            "colorscale": [
             [
              0,
              "#0d0887"
             ],
             [
              0.1111111111111111,
              "#46039f"
             ],
             [
              0.2222222222222222,
              "#7201a8"
             ],
             [
              0.3333333333333333,
              "#9c179e"
             ],
             [
              0.4444444444444444,
              "#bd3786"
             ],
             [
              0.5555555555555556,
              "#d8576b"
             ],
             [
              0.6666666666666666,
              "#ed7953"
             ],
             [
              0.7777777777777778,
              "#fb9f3a"
             ],
             [
              0.8888888888888888,
              "#fdca26"
             ],
             [
              1,
              "#f0f921"
             ]
            ],
            "type": "histogram2d"
           }
          ],
          "histogram2dcontour": [
           {
            "colorbar": {
             "outlinewidth": 0,
             "ticks": ""
            },
            "colorscale": [
             [
              0,
              "#0d0887"
             ],
             [
              0.1111111111111111,
              "#46039f"
             ],
             [
              0.2222222222222222,
              "#7201a8"
             ],
             [
              0.3333333333333333,
              "#9c179e"
             ],
             [
              0.4444444444444444,
              "#bd3786"
             ],
             [
              0.5555555555555556,
              "#d8576b"
             ],
             [
              0.6666666666666666,
              "#ed7953"
             ],
             [
              0.7777777777777778,
              "#fb9f3a"
             ],
             [
              0.8888888888888888,
              "#fdca26"
             ],
             [
              1,
              "#f0f921"
             ]
            ],
            "type": "histogram2dcontour"
           }
          ],
          "mesh3d": [
           {
            "colorbar": {
             "outlinewidth": 0,
             "ticks": ""
            },
            "type": "mesh3d"
           }
          ],
          "parcoords": [
           {
            "line": {
             "colorbar": {
              "outlinewidth": 0,
              "ticks": ""
             }
            },
            "type": "parcoords"
           }
          ],
          "pie": [
           {
            "automargin": true,
            "type": "pie"
           }
          ],
          "scatter": [
           {
            "fillpattern": {
             "fillmode": "overlay",
             "size": 10,
             "solidity": 0.2
            },
            "type": "scatter"
           }
          ],
          "scatter3d": [
           {
            "line": {
             "colorbar": {
              "outlinewidth": 0,
              "ticks": ""
             }
            },
            "marker": {
             "colorbar": {
              "outlinewidth": 0,
              "ticks": ""
             }
            },
            "type": "scatter3d"
           }
          ],
          "scattercarpet": [
           {
            "marker": {
             "colorbar": {
              "outlinewidth": 0,
              "ticks": ""
             }
            },
            "type": "scattercarpet"
           }
          ],
          "scattergeo": [
           {
            "marker": {
             "colorbar": {
              "outlinewidth": 0,
              "ticks": ""
             }
            },
            "type": "scattergeo"
           }
          ],
          "scattergl": [
           {
            "marker": {
             "colorbar": {
              "outlinewidth": 0,
              "ticks": ""
             }
            },
            "type": "scattergl"
           }
          ],
          "scattermap": [
           {
            "marker": {
             "colorbar": {
              "outlinewidth": 0,
              "ticks": ""
             }
            },
            "type": "scattermap"
           }
          ],
          "scattermapbox": [
           {
            "marker": {
             "colorbar": {
              "outlinewidth": 0,
              "ticks": ""
             }
            },
            "type": "scattermapbox"
           }
          ],
          "scatterpolar": [
           {
            "marker": {
             "colorbar": {
              "outlinewidth": 0,
              "ticks": ""
             }
            },
            "type": "scatterpolar"
           }
          ],
          "scatterpolargl": [
           {
            "marker": {
             "colorbar": {
              "outlinewidth": 0,
              "ticks": ""
             }
            },
            "type": "scatterpolargl"
           }
          ],
          "scatterternary": [
           {
            "marker": {
             "colorbar": {
              "outlinewidth": 0,
              "ticks": ""
             }
            },
            "type": "scatterternary"
           }
          ],
          "surface": [
           {
            "colorbar": {
             "outlinewidth": 0,
             "ticks": ""
            },
            "colorscale": [
             [
              0,
              "#0d0887"
             ],
             [
              0.1111111111111111,
              "#46039f"
             ],
             [
              0.2222222222222222,
              "#7201a8"
             ],
             [
              0.3333333333333333,
              "#9c179e"
             ],
             [
              0.4444444444444444,
              "#bd3786"
             ],
             [
              0.5555555555555556,
              "#d8576b"
             ],
             [
              0.6666666666666666,
              "#ed7953"
             ],
             [
              0.7777777777777778,
              "#fb9f3a"
             ],
             [
              0.8888888888888888,
              "#fdca26"
             ],
             [
              1,
              "#f0f921"
             ]
            ],
            "type": "surface"
           }
          ],
          "table": [
           {
            "cells": {
             "fill": {
              "color": "#EBF0F8"
             },
             "line": {
              "color": "white"
             }
            },
            "header": {
             "fill": {
              "color": "#C8D4E3"
             },
             "line": {
              "color": "white"
             }
            },
            "type": "table"
           }
          ]
         },
         "layout": {
          "annotationdefaults": {
           "arrowcolor": "#2a3f5f",
           "arrowhead": 0,
           "arrowwidth": 1
          },
          "autotypenumbers": "strict",
          "coloraxis": {
           "colorbar": {
            "outlinewidth": 0,
            "ticks": ""
           }
          },
          "colorscale": {
           "diverging": [
            [
             0,
             "#8e0152"
            ],
            [
             0.1,
             "#c51b7d"
            ],
            [
             0.2,
             "#de77ae"
            ],
            [
             0.3,
             "#f1b6da"
            ],
            [
             0.4,
             "#fde0ef"
            ],
            [
             0.5,
             "#f7f7f7"
            ],
            [
             0.6,
             "#e6f5d0"
            ],
            [
             0.7,
             "#b8e186"
            ],
            [
             0.8,
             "#7fbc41"
            ],
            [
             0.9,
             "#4d9221"
            ],
            [
             1,
             "#276419"
            ]
           ],
           "sequential": [
            [
             0,
             "#0d0887"
            ],
            [
             0.1111111111111111,
             "#46039f"
            ],
            [
             0.2222222222222222,
             "#7201a8"
            ],
            [
             0.3333333333333333,
             "#9c179e"
            ],
            [
             0.4444444444444444,
             "#bd3786"
            ],
            [
             0.5555555555555556,
             "#d8576b"
            ],
            [
             0.6666666666666666,
             "#ed7953"
            ],
            [
             0.7777777777777778,
             "#fb9f3a"
            ],
            [
             0.8888888888888888,
             "#fdca26"
            ],
            [
             1,
             "#f0f921"
            ]
           ],
           "sequentialminus": [
            [
             0,
             "#0d0887"
            ],
            [
             0.1111111111111111,
             "#46039f"
            ],
            [
             0.2222222222222222,
             "#7201a8"
            ],
            [
             0.3333333333333333,
             "#9c179e"
            ],
            [
             0.4444444444444444,
             "#bd3786"
            ],
            [
             0.5555555555555556,
             "#d8576b"
            ],
            [
             0.6666666666666666,
             "#ed7953"
            ],
            [
             0.7777777777777778,
             "#fb9f3a"
            ],
            [
             0.8888888888888888,
             "#fdca26"
            ],
            [
             1,
             "#f0f921"
            ]
           ]
          },
          "colorway": [
           "#636efa",
           "#EF553B",
           "#00cc96",
           "#ab63fa",
           "#FFA15A",
           "#19d3f3",
           "#FF6692",
           "#B6E880",
           "#FF97FF",
           "#FECB52"
          ],
          "font": {
           "color": "#2a3f5f"
          },
          "geo": {
           "bgcolor": "white",
           "lakecolor": "white",
           "landcolor": "#E5ECF6",
           "showlakes": true,
           "showland": true,
           "subunitcolor": "white"
          },
          "hoverlabel": {
           "align": "left"
          },
          "hovermode": "closest",
          "mapbox": {
           "style": "light"
          },
          "paper_bgcolor": "white",
          "plot_bgcolor": "#E5ECF6",
          "polar": {
           "angularaxis": {
            "gridcolor": "white",
            "linecolor": "white",
            "ticks": ""
           },
           "bgcolor": "#E5ECF6",
           "radialaxis": {
            "gridcolor": "white",
            "linecolor": "white",
            "ticks": ""
           }
          },
          "scene": {
           "xaxis": {
            "backgroundcolor": "#E5ECF6",
            "gridcolor": "white",
            "gridwidth": 2,
            "linecolor": "white",
            "showbackground": true,
            "ticks": "",
            "zerolinecolor": "white"
           },
           "yaxis": {
            "backgroundcolor": "#E5ECF6",
            "gridcolor": "white",
            "gridwidth": 2,
            "linecolor": "white",
            "showbackground": true,
            "ticks": "",
            "zerolinecolor": "white"
           },
           "zaxis": {
            "backgroundcolor": "#E5ECF6",
            "gridcolor": "white",
            "gridwidth": 2,
            "linecolor": "white",
            "showbackground": true,
            "ticks": "",
            "zerolinecolor": "white"
           }
          },
          "shapedefaults": {
           "line": {
            "color": "#2a3f5f"
           }
          },
          "ternary": {
           "aaxis": {
            "gridcolor": "white",
            "linecolor": "white",
            "ticks": ""
           },
           "baxis": {
            "gridcolor": "white",
            "linecolor": "white",
            "ticks": ""
           },
           "bgcolor": "#E5ECF6",
           "caxis": {
            "gridcolor": "white",
            "linecolor": "white",
            "ticks": ""
           }
          },
          "title": {
           "x": 0.05
          },
          "xaxis": {
           "automargin": true,
           "gridcolor": "white",
           "linecolor": "white",
           "ticks": "",
           "title": {
            "standoff": 15
           },
           "zerolinecolor": "white",
           "zerolinewidth": 2
          },
          "yaxis": {
           "automargin": true,
           "gridcolor": "white",
           "linecolor": "white",
           "ticks": "",
           "title": {
            "standoff": 15
           },
           "zerolinecolor": "white",
           "zerolinewidth": 2
          }
         }
        },
        "title": {
         "text": "Distribution du score : bien_etre"
        },
        "xaxis": {
         "anchor": "y",
         "domain": [
          0,
          1
         ],
         "title": {
          "text": "bien_etre"
         }
        },
        "yaxis": {
         "anchor": "x",
         "domain": [
          0,
          1
         ],
         "title": {
          "text": "count"
         }
        }
       }
      }
     },
     "metadata": {},
     "output_type": "display_data"
    },
    {
     "data": {
      "application/vnd.plotly.v1+json": {
       "config": {
        "plotlyServerURL": "https://plot.ly"
       },
       "data": [
        {
         "bingroup": "x",
         "hovertemplate": "genre=Garçon<br>expression_et_ecoute=%{x}<br>count=%{y}<extra></extra>",
         "legendgroup": "Garçon",
         "marker": {
          "color": "#636efa",
          "pattern": {
           "shape": ""
          }
         },
         "name": "Garçon",
         "nbinsx": 6,
         "orientation": "v",
         "showlegend": true,
         "type": "histogram",
         "x": {
          "bdata": "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",
          "dtype": "f8"
         },
         "xaxis": "x",
         "yaxis": "y"
        },
        {
         "bingroup": "x",
         "hovertemplate": "genre=Fille<br>expression_et_ecoute=%{x}<br>count=%{y}<extra></extra>",
         "legendgroup": "Fille",
         "marker": {
          "color": "#EF553B",
          "pattern": {
           "shape": ""
          }
         },
         "name": "Fille",
         "nbinsx": 6,
         "orientation": "v",
         "showlegend": true,
         "type": "histogram",
         "x": {
          "bdata": "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",
          "dtype": "f8"
         },
         "xaxis": "x",
         "yaxis": "y"
        }
       ],
       "layout": {
        "bargap": 0.1,
        "barmode": "relative",
        "legend": {
         "title": {
          "text": "genre"
         },
         "tracegroupgap": 0
        },
        "template": {
         "data": {
          "bar": [
           {
            "error_x": {
             "color": "#2a3f5f"
            },
            "error_y": {
             "color": "#2a3f5f"
            },
            "marker": {
             "line": {
              "color": "#E5ECF6",
              "width": 0.5
             },
             "pattern": {
              "fillmode": "overlay",
              "size": 10,
              "solidity": 0.2
             }
            },
            "type": "bar"
           }
          ],
          "barpolar": [
           {
            "marker": {
             "line": {
              "color": "#E5ECF6",
              "width": 0.5
             },
             "pattern": {
              "fillmode": "overlay",
              "size": 10,
              "solidity": 0.2
             }
            },
            "type": "barpolar"
           }
          ],
          "carpet": [
           {
            "aaxis": {
             "endlinecolor": "#2a3f5f",
             "gridcolor": "white",
             "linecolor": "white",
             "minorgridcolor": "white",
             "startlinecolor": "#2a3f5f"
            },
            "baxis": {
             "endlinecolor": "#2a3f5f",
             "gridcolor": "white",
             "linecolor": "white",
             "minorgridcolor": "white",
             "startlinecolor": "#2a3f5f"
            },
            "type": "carpet"
           }
          ],
          "choropleth": [
           {
            "colorbar": {
             "outlinewidth": 0,
             "ticks": ""
            },
            "type": "choropleth"
           }
          ],
          "contour": [
           {
            "colorbar": {
             "outlinewidth": 0,
             "ticks": ""
            },
            "colorscale": [
             [
              0,
              "#0d0887"
             ],
             [
              0.1111111111111111,
              "#46039f"
             ],
             [
              0.2222222222222222,
              "#7201a8"
             ],
             [
              0.3333333333333333,
              "#9c179e"
             ],
             [
              0.4444444444444444,
              "#bd3786"
             ],
             [
              0.5555555555555556,
              "#d8576b"
             ],
             [
              0.6666666666666666,
              "#ed7953"
             ],
             [
              0.7777777777777778,
              "#fb9f3a"
             ],
             [
              0.8888888888888888,
              "#fdca26"
             ],
             [
              1,
              "#f0f921"
             ]
            ],
            "type": "contour"
           }
          ],
          "contourcarpet": [
           {
            "colorbar": {
             "outlinewidth": 0,
             "ticks": ""
            },
            "type": "contourcarpet"
           }
          ],
          "heatmap": [
           {
            "colorbar": {
             "outlinewidth": 0,
             "ticks": ""
            },
            "colorscale": [
             [
              0,
              "#0d0887"
             ],
             [
              0.1111111111111111,
              "#46039f"
             ],
             [
              0.2222222222222222,
              "#7201a8"
             ],
             [
              0.3333333333333333,
              "#9c179e"
             ],
             [
              0.4444444444444444,
              "#bd3786"
             ],
             [
              0.5555555555555556,
              "#d8576b"
             ],
             [
              0.6666666666666666,
              "#ed7953"
             ],
             [
              0.7777777777777778,
              "#fb9f3a"
             ],
             [
              0.8888888888888888,
              "#fdca26"
             ],
             [
              1,
              "#f0f921"
             ]
            ],
            "type": "heatmap"
           }
          ],
          "histogram": [
           {
            "marker": {
             "pattern": {
              "fillmode": "overlay",
              "size": 10,
              "solidity": 0.2
             }
            },
            "type": "histogram"
           }
          ],
          "histogram2d": [
           {
            "colorbar": {
             "outlinewidth": 0,
             "ticks": ""
            },
            "colorscale": [
             [
              0,
              "#0d0887"
             ],
             [
              0.1111111111111111,
              "#46039f"
             ],
             [
              0.2222222222222222,
              "#7201a8"
             ],
             [
              0.3333333333333333,
              "#9c179e"
             ],
             [
              0.4444444444444444,
              "#bd3786"
             ],
             [
              0.5555555555555556,
              "#d8576b"
             ],
             [
              0.6666666666666666,
              "#ed7953"
             ],
             [
              0.7777777777777778,
              "#fb9f3a"
             ],
             [
              0.8888888888888888,
              "#fdca26"
             ],
             [
              1,
              "#f0f921"
             ]
            ],
            "type": "histogram2d"
           }
          ],
          "histogram2dcontour": [
           {
            "colorbar": {
             "outlinewidth": 0,
             "ticks": ""
            },
            "colorscale": [
             [
              0,
              "#0d0887"
             ],
             [
              0.1111111111111111,
              "#46039f"
             ],
             [
              0.2222222222222222,
              "#7201a8"
             ],
             [
              0.3333333333333333,
              "#9c179e"
             ],
             [
              0.4444444444444444,
              "#bd3786"
             ],
             [
              0.5555555555555556,
              "#d8576b"
             ],
             [
              0.6666666666666666,
              "#ed7953"
             ],
             [
              0.7777777777777778,
              "#fb9f3a"
             ],
             [
              0.8888888888888888,
              "#fdca26"
             ],
             [
              1,
              "#f0f921"
             ]
            ],
            "type": "histogram2dcontour"
           }
          ],
          "mesh3d": [
           {
            "colorbar": {
             "outlinewidth": 0,
             "ticks": ""
            },
            "type": "mesh3d"
           }
          ],
          "parcoords": [
           {
            "line": {
             "colorbar": {
              "outlinewidth": 0,
              "ticks": ""
             }
            },
            "type": "parcoords"
           }
          ],
          "pie": [
           {
            "automargin": true,
            "type": "pie"
           }
          ],
          "scatter": [
           {
            "fillpattern": {
             "fillmode": "overlay",
             "size": 10,
             "solidity": 0.2
            },
            "type": "scatter"
           }
          ],
          "scatter3d": [
           {
            "line": {
             "colorbar": {
              "outlinewidth": 0,
              "ticks": ""
             }
            },
            "marker": {
             "colorbar": {
              "outlinewidth": 0,
              "ticks": ""
             }
            },
            "type": "scatter3d"
           }
          ],
          "scattercarpet": [
           {
            "marker": {
             "colorbar": {
              "outlinewidth": 0,
              "ticks": ""
             }
            },
            "type": "scattercarpet"
           }
          ],
          "scattergeo": [
           {
            "marker": {
             "colorbar": {
              "outlinewidth": 0,
              "ticks": ""
             }
            },
            "type": "scattergeo"
           }
          ],
          "scattergl": [
           {
            "marker": {
             "colorbar": {
              "outlinewidth": 0,
              "ticks": ""
             }
            },
            "type": "scattergl"
           }
          ],
          "scattermap": [
           {
            "marker": {
             "colorbar": {
              "outlinewidth": 0,
              "ticks": ""
             }
            },
            "type": "scattermap"
           }
          ],
          "scattermapbox": [
           {
            "marker": {
             "colorbar": {
              "outlinewidth": 0,
              "ticks": ""
             }
            },
            "type": "scattermapbox"
           }
          ],
          "scatterpolar": [
           {
            "marker": {
             "colorbar": {
              "outlinewidth": 0,
              "ticks": ""
             }
            },
            "type": "scatterpolar"
           }
          ],
          "scatterpolargl": [
           {
            "marker": {
             "colorbar": {
              "outlinewidth": 0,
              "ticks": ""
             }
            },
            "type": "scatterpolargl"
           }
          ],
          "scatterternary": [
           {
            "marker": {
             "colorbar": {
              "outlinewidth": 0,
              "ticks": ""
             }
            },
            "type": "scatterternary"
           }
          ],
          "surface": [
           {
            "colorbar": {
             "outlinewidth": 0,
             "ticks": ""
            },
            "colorscale": [
             [
              0,
              "#0d0887"
             ],
             [
              0.1111111111111111,
              "#46039f"
             ],
             [
              0.2222222222222222,
              "#7201a8"
             ],
             [
              0.3333333333333333,
              "#9c179e"
             ],
             [
              0.4444444444444444,
              "#bd3786"
             ],
             [
              0.5555555555555556,
              "#d8576b"
             ],
             [
              0.6666666666666666,
              "#ed7953"
             ],
             [
              0.7777777777777778,
              "#fb9f3a"
             ],
             [
              0.8888888888888888,
              "#fdca26"
             ],
             [
              1,
              "#f0f921"
             ]
            ],
            "type": "surface"
           }
          ],
          "table": [
           {
            "cells": {
             "fill": {
              "color": "#EBF0F8"
             },
             "line": {
              "color": "white"
             }
            },
            "header": {
             "fill": {
              "color": "#C8D4E3"
             },
             "line": {
              "color": "white"
             }
            },
            "type": "table"
           }
          ]
         },
         "layout": {
          "annotationdefaults": {
           "arrowcolor": "#2a3f5f",
           "arrowhead": 0,
           "arrowwidth": 1
          },
          "autotypenumbers": "strict",
          "coloraxis": {
           "colorbar": {
            "outlinewidth": 0,
            "ticks": ""
           }
          },
          "colorscale": {
           "diverging": [
            [
             0,
             "#8e0152"
            ],
            [
             0.1,
             "#c51b7d"
            ],
            [
             0.2,
             "#de77ae"
            ],
            [
             0.3,
             "#f1b6da"
            ],
            [
             0.4,
             "#fde0ef"
            ],
            [
             0.5,
             "#f7f7f7"
            ],
            [
             0.6,
             "#e6f5d0"
            ],
            [
             0.7,
             "#b8e186"
            ],
            [
             0.8,
             "#7fbc41"
            ],
            [
             0.9,
             "#4d9221"
            ],
            [
             1,
             "#276419"
            ]
           ],
           "sequential": [
            [
             0,
             "#0d0887"
            ],
            [
             0.1111111111111111,
             "#46039f"
            ],
            [
             0.2222222222222222,
             "#7201a8"
            ],
            [
             0.3333333333333333,
             "#9c179e"
            ],
            [
             0.4444444444444444,
             "#bd3786"
            ],
            [
             0.5555555555555556,
             "#d8576b"
            ],
            [
             0.6666666666666666,
             "#ed7953"
            ],
            [
             0.7777777777777778,
             "#fb9f3a"
            ],
            [
             0.8888888888888888,
             "#fdca26"
            ],
            [
             1,
             "#f0f921"
            ]
           ],
           "sequentialminus": [
            [
             0,
             "#0d0887"
            ],
            [
             0.1111111111111111,
             "#46039f"
            ],
            [
             0.2222222222222222,
             "#7201a8"
            ],
            [
             0.3333333333333333,
             "#9c179e"
            ],
            [
             0.4444444444444444,
             "#bd3786"
            ],
            [
             0.5555555555555556,
             "#d8576b"
            ],
            [
             0.6666666666666666,
             "#ed7953"
            ],
            [
             0.7777777777777778,
             "#fb9f3a"
            ],
            [
             0.8888888888888888,
             "#fdca26"
            ],
            [
             1,
             "#f0f921"
            ]
           ]
          },
          "colorway": [
           "#636efa",
           "#EF553B",
           "#00cc96",
           "#ab63fa",
           "#FFA15A",
           "#19d3f3",
           "#FF6692",
           "#B6E880",
           "#FF97FF",
           "#FECB52"
          ],
          "font": {
           "color": "#2a3f5f"
          },
          "geo": {
           "bgcolor": "white",
           "lakecolor": "white",
           "landcolor": "#E5ECF6",
           "showlakes": true,
           "showland": true,
           "subunitcolor": "white"
          },
          "hoverlabel": {
           "align": "left"
          },
          "hovermode": "closest",
          "mapbox": {
           "style": "light"
          },
          "paper_bgcolor": "white",
          "plot_bgcolor": "#E5ECF6",
          "polar": {
           "angularaxis": {
            "gridcolor": "white",
            "linecolor": "white",
            "ticks": ""
           },
           "bgcolor": "#E5ECF6",
           "radialaxis": {
            "gridcolor": "white",
            "linecolor": "white",
            "ticks": ""
           }
          },
          "scene": {
           "xaxis": {
            "backgroundcolor": "#E5ECF6",
            "gridcolor": "white",
            "gridwidth": 2,
            "linecolor": "white",
            "showbackground": true,
            "ticks": "",
            "zerolinecolor": "white"
           },
           "yaxis": {
            "backgroundcolor": "#E5ECF6",
            "gridcolor": "white",
            "gridwidth": 2,
            "linecolor": "white",
            "showbackground": true,
            "ticks": "",
            "zerolinecolor": "white"
           },
           "zaxis": {
            "backgroundcolor": "#E5ECF6",
            "gridcolor": "white",
            "gridwidth": 2,
            "linecolor": "white",
            "showbackground": true,
            "ticks": "",
            "zerolinecolor": "white"
           }
          },
          "shapedefaults": {
           "line": {
            "color": "#2a3f5f"
           }
          },
          "ternary": {
           "aaxis": {
            "gridcolor": "white",
            "linecolor": "white",
            "ticks": ""
           },
           "baxis": {
            "gridcolor": "white",
            "linecolor": "white",
            "ticks": ""
           },
           "bgcolor": "#E5ECF6",
           "caxis": {
            "gridcolor": "white",
            "linecolor": "white",
            "ticks": ""
           }
          },
          "title": {
           "x": 0.05
          },
          "xaxis": {
           "automargin": true,
           "gridcolor": "white",
           "linecolor": "white",
           "ticks": "",
           "title": {
            "standoff": 15
           },
           "zerolinecolor": "white",
           "zerolinewidth": 2
          },
          "yaxis": {
           "automargin": true,
           "gridcolor": "white",
           "linecolor": "white",
           "ticks": "",
           "title": {
            "standoff": 15
           },
           "zerolinecolor": "white",
           "zerolinewidth": 2
          }
         }
        },
        "title": {
         "text": "Distribution du score : expression_et_ecoute"
        },
        "xaxis": {
         "anchor": "y",
         "domain": [
          0,
          1
         ],
         "title": {
          "text": "expression_et_ecoute"
         }
        },
        "yaxis": {
         "anchor": "x",
         "domain": [
          0,
          1
         ],
         "title": {
          "text": "count"
         }
        }
       }
      }
     },
     "metadata": {},
     "output_type": "display_data"
    },
    {
     "data": {
      "application/vnd.plotly.v1+json": {
       "config": {
        "plotlyServerURL": "https://plot.ly"
       },
       "data": [
        {
         "bingroup": "x",
         "hovertemplate": "genre=Garçon<br>engagement=%{x}<br>count=%{y}<extra></extra>",
         "legendgroup": "Garçon",
         "marker": {
          "color": "#636efa",
          "pattern": {
           "shape": ""
          }
         },
         "name": "Garçon",
         "nbinsx": 6,
         "orientation": "v",
         "showlegend": true,
         "type": "histogram",
         "x": {
          "bdata": "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",
          "dtype": "f8"
         },
         "xaxis": "x",
         "yaxis": "y"
        },
        {
         "bingroup": "x",
         "hovertemplate": "genre=Fille<br>engagement=%{x}<br>count=%{y}<extra></extra>",
         "legendgroup": "Fille",
         "marker": {
          "color": "#EF553B",
          "pattern": {
           "shape": ""
          }
         },
         "name": "Fille",
         "nbinsx": 6,
         "orientation": "v",
         "showlegend": true,
         "type": "histogram",
         "x": {
          "bdata": "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",
          "dtype": "f8"
         },
         "xaxis": "x",
         "yaxis": "y"
        }
       ],
       "layout": {
        "bargap": 0.1,
        "barmode": "relative",
        "legend": {
         "title": {
          "text": "genre"
         },
         "tracegroupgap": 0
        },
        "template": {
         "data": {
          "bar": [
           {
            "error_x": {
             "color": "#2a3f5f"
            },
            "error_y": {
             "color": "#2a3f5f"
            },
            "marker": {
             "line": {
              "color": "#E5ECF6",
              "width": 0.5
             },
             "pattern": {
              "fillmode": "overlay",
              "size": 10,
              "solidity": 0.2
             }
            },
            "type": "bar"
           }
          ],
          "barpolar": [
           {
            "marker": {
             "line": {
              "color": "#E5ECF6",
              "width": 0.5
             },
             "pattern": {
              "fillmode": "overlay",
              "size": 10,
              "solidity": 0.2
             }
            },
            "type": "barpolar"
           }
          ],
          "carpet": [
           {
            "aaxis": {
             "endlinecolor": "#2a3f5f",
             "gridcolor": "white",
             "linecolor": "white",
             "minorgridcolor": "white",
             "startlinecolor": "#2a3f5f"
            },
            "baxis": {
             "endlinecolor": "#2a3f5f",
             "gridcolor": "white",
             "linecolor": "white",
             "minorgridcolor": "white",
             "startlinecolor": "#2a3f5f"
            },
            "type": "carpet"
           }
          ],
          "choropleth": [
           {
            "colorbar": {
             "outlinewidth": 0,
             "ticks": ""
            },
            "type": "choropleth"
           }
          ],
          "contour": [
           {
            "colorbar": {
             "outlinewidth": 0,
             "ticks": ""
            },
            "colorscale": [
             [
              0,
              "#0d0887"
             ],
             [
              0.1111111111111111,
              "#46039f"
             ],
             [
              0.2222222222222222,
              "#7201a8"
             ],
             [
              0.3333333333333333,
              "#9c179e"
             ],
             [
              0.4444444444444444,
              "#bd3786"
             ],
             [
              0.5555555555555556,
              "#d8576b"
             ],
             [
              0.6666666666666666,
              "#ed7953"
             ],
             [
              0.7777777777777778,
              "#fb9f3a"
             ],
             [
              0.8888888888888888,
              "#fdca26"
             ],
             [
              1,
              "#f0f921"
             ]
            ],
            "type": "contour"
           }
          ],
          "contourcarpet": [
           {
            "colorbar": {
             "outlinewidth": 0,
             "ticks": ""
            },
            "type": "contourcarpet"
           }
          ],
          "heatmap": [
           {
            "colorbar": {
             "outlinewidth": 0,
             "ticks": ""
            },
            "colorscale": [
             [
              0,
              "#0d0887"
             ],
             [
              0.1111111111111111,
              "#46039f"
             ],
             [
              0.2222222222222222,
              "#7201a8"
             ],
             [
              0.3333333333333333,
              "#9c179e"
             ],
             [
              0.4444444444444444,
              "#bd3786"
             ],
             [
              0.5555555555555556,
              "#d8576b"
             ],
             [
              0.6666666666666666,
              "#ed7953"
             ],
             [
              0.7777777777777778,
              "#fb9f3a"
             ],
             [
              0.8888888888888888,
              "#fdca26"
             ],
             [
              1,
              "#f0f921"
             ]
            ],
            "type": "heatmap"
           }
          ],
          "histogram": [
           {
            "marker": {
             "pattern": {
              "fillmode": "overlay",
              "size": 10,
              "solidity": 0.2
             }
            },
            "type": "histogram"
           }
          ],
          "histogram2d": [
           {
            "colorbar": {
             "outlinewidth": 0,
             "ticks": ""
            },
            "colorscale": [
             [
              0,
              "#0d0887"
             ],
             [
              0.1111111111111111,
              "#46039f"
             ],
             [
              0.2222222222222222,
              "#7201a8"
             ],
             [
              0.3333333333333333,
              "#9c179e"
             ],
             [
              0.4444444444444444,
              "#bd3786"
             ],
             [
              0.5555555555555556,
              "#d8576b"
             ],
             [
              0.6666666666666666,
              "#ed7953"
             ],
             [
              0.7777777777777778,
              "#fb9f3a"
             ],
             [
              0.8888888888888888,
              "#fdca26"
             ],
             [
              1,
              "#f0f921"
             ]
            ],
            "type": "histogram2d"
           }
          ],
          "histogram2dcontour": [
           {
            "colorbar": {
             "outlinewidth": 0,
             "ticks": ""
            },
            "colorscale": [
             [
              0,
              "#0d0887"
             ],
             [
              0.1111111111111111,
              "#46039f"
             ],
             [
              0.2222222222222222,
              "#7201a8"
             ],
             [
              0.3333333333333333,
              "#9c179e"
             ],
             [
              0.4444444444444444,
              "#bd3786"
             ],
             [
              0.5555555555555556,
              "#d8576b"
             ],
             [
              0.6666666666666666,
              "#ed7953"
             ],
             [
              0.7777777777777778,
              "#fb9f3a"
             ],
             [
              0.8888888888888888,
              "#fdca26"
             ],
             [
              1,
              "#f0f921"
             ]
            ],
            "type": "histogram2dcontour"
           }
          ],
          "mesh3d": [
           {
            "colorbar": {
             "outlinewidth": 0,
             "ticks": ""
            },
            "type": "mesh3d"
           }
          ],
          "parcoords": [
           {
            "line": {
             "colorbar": {
              "outlinewidth": 0,
              "ticks": ""
             }
            },
            "type": "parcoords"
           }
          ],
          "pie": [
           {
            "automargin": true,
            "type": "pie"
           }
          ],
          "scatter": [
           {
            "fillpattern": {
             "fillmode": "overlay",
             "size": 10,
             "solidity": 0.2
            },
            "type": "scatter"
           }
          ],
          "scatter3d": [
           {
            "line": {
             "colorbar": {
              "outlinewidth": 0,
              "ticks": ""
             }
            },
            "marker": {
             "colorbar": {
              "outlinewidth": 0,
              "ticks": ""
             }
            },
            "type": "scatter3d"
           }
          ],
          "scattercarpet": [
           {
            "marker": {
             "colorbar": {
              "outlinewidth": 0,
              "ticks": ""
             }
            },
            "type": "scattercarpet"
           }
          ],
          "scattergeo": [
           {
            "marker": {
             "colorbar": {
              "outlinewidth": 0,
              "ticks": ""
             }
            },
            "type": "scattergeo"
           }
          ],
          "scattergl": [
           {
            "marker": {
             "colorbar": {
              "outlinewidth": 0,
              "ticks": ""
             }
            },
            "type": "scattergl"
           }
          ],
          "scattermap": [
           {
            "marker": {
             "colorbar": {
              "outlinewidth": 0,
              "ticks": ""
             }
            },
            "type": "scattermap"
           }
          ],
          "scattermapbox": [
           {
            "marker": {
             "colorbar": {
              "outlinewidth": 0,
              "ticks": ""
             }
            },
            "type": "scattermapbox"
           }
          ],
          "scatterpolar": [
           {
            "marker": {
             "colorbar": {
              "outlinewidth": 0,
              "ticks": ""
             }
            },
            "type": "scatterpolar"
           }
          ],
          "scatterpolargl": [
           {
            "marker": {
             "colorbar": {
              "outlinewidth": 0,
              "ticks": ""
             }
            },
            "type": "scatterpolargl"
           }
          ],
          "scatterternary": [
           {
            "marker": {
             "colorbar": {
              "outlinewidth": 0,
              "ticks": ""
             }
            },
            "type": "scatterternary"
           }
          ],
          "surface": [
           {
            "colorbar": {
             "outlinewidth": 0,
             "ticks": ""
            },
            "colorscale": [
             [
              0,
              "#0d0887"
             ],
             [
              0.1111111111111111,
              "#46039f"
             ],
             [
              0.2222222222222222,
              "#7201a8"
             ],
             [
              0.3333333333333333,
              "#9c179e"
             ],
             [
              0.4444444444444444,
              "#bd3786"
             ],
             [
              0.5555555555555556,
              "#d8576b"
             ],
             [
              0.6666666666666666,
              "#ed7953"
             ],
             [
              0.7777777777777778,
              "#fb9f3a"
             ],
             [
              0.8888888888888888,
              "#fdca26"
             ],
             [
              1,
              "#f0f921"
             ]
            ],
            "type": "surface"
           }
          ],
          "table": [
           {
            "cells": {
             "fill": {
              "color": "#EBF0F8"
             },
             "line": {
              "color": "white"
             }
            },
            "header": {
             "fill": {
              "color": "#C8D4E3"
             },
             "line": {
              "color": "white"
             }
            },
            "type": "table"
           }
          ]
         },
         "layout": {
          "annotationdefaults": {
           "arrowcolor": "#2a3f5f",
           "arrowhead": 0,
           "arrowwidth": 1
          },
          "autotypenumbers": "strict",
          "coloraxis": {
           "colorbar": {
            "outlinewidth": 0,
            "ticks": ""
           }
          },
          "colorscale": {
           "diverging": [
            [
             0,
             "#8e0152"
            ],
            [
             0.1,
             "#c51b7d"
            ],
            [
             0.2,
             "#de77ae"
            ],
            [
             0.3,
             "#f1b6da"
            ],
            [
             0.4,
             "#fde0ef"
            ],
            [
             0.5,
             "#f7f7f7"
            ],
            [
             0.6,
             "#e6f5d0"
            ],
            [
             0.7,
             "#b8e186"
            ],
            [
             0.8,
             "#7fbc41"
            ],
            [
             0.9,
             "#4d9221"
            ],
            [
             1,
             "#276419"
            ]
           ],
           "sequential": [
            [
             0,
             "#0d0887"
            ],
            [
             0.1111111111111111,
             "#46039f"
            ],
            [
             0.2222222222222222,
             "#7201a8"
            ],
            [
             0.3333333333333333,
             "#9c179e"
            ],
            [
             0.4444444444444444,
             "#bd3786"
            ],
            [
             0.5555555555555556,
             "#d8576b"
            ],
            [
             0.6666666666666666,
             "#ed7953"
            ],
            [
             0.7777777777777778,
             "#fb9f3a"
            ],
            [
             0.8888888888888888,
             "#fdca26"
            ],
            [
             1,
             "#f0f921"
            ]
           ],
           "sequentialminus": [
            [
             0,
             "#0d0887"
            ],
            [
             0.1111111111111111,
             "#46039f"
            ],
            [
             0.2222222222222222,
             "#7201a8"
            ],
            [
             0.3333333333333333,
             "#9c179e"
            ],
            [
             0.4444444444444444,
             "#bd3786"
            ],
            [
             0.5555555555555556,
             "#d8576b"
            ],
            [
             0.6666666666666666,
             "#ed7953"
            ],
            [
             0.7777777777777778,
             "#fb9f3a"
            ],
            [
             0.8888888888888888,
             "#fdca26"
            ],
            [
             1,
             "#f0f921"
            ]
           ]
          },
          "colorway": [
           "#636efa",
           "#EF553B",
           "#00cc96",
           "#ab63fa",
           "#FFA15A",
           "#19d3f3",
           "#FF6692",
           "#B6E880",
           "#FF97FF",
           "#FECB52"
          ],
          "font": {
           "color": "#2a3f5f"
          },
          "geo": {
           "bgcolor": "white",
           "lakecolor": "white",
           "landcolor": "#E5ECF6",
           "showlakes": true,
           "showland": true,
           "subunitcolor": "white"
          },
          "hoverlabel": {
           "align": "left"
          },
          "hovermode": "closest",
          "mapbox": {
           "style": "light"
          },
          "paper_bgcolor": "white",
          "plot_bgcolor": "#E5ECF6",
          "polar": {
           "angularaxis": {
            "gridcolor": "white",
            "linecolor": "white",
            "ticks": ""
           },
           "bgcolor": "#E5ECF6",
           "radialaxis": {
            "gridcolor": "white",
            "linecolor": "white",
            "ticks": ""
           }
          },
          "scene": {
           "xaxis": {
            "backgroundcolor": "#E5ECF6",
            "gridcolor": "white",
            "gridwidth": 2,
            "linecolor": "white",
            "showbackground": true,
            "ticks": "",
            "zerolinecolor": "white"
           },
           "yaxis": {
            "backgroundcolor": "#E5ECF6",
            "gridcolor": "white",
            "gridwidth": 2,
            "linecolor": "white",
            "showbackground": true,
            "ticks": "",
            "zerolinecolor": "white"
           },
           "zaxis": {
            "backgroundcolor": "#E5ECF6",
            "gridcolor": "white",
            "gridwidth": 2,
            "linecolor": "white",
            "showbackground": true,
            "ticks": "",
            "zerolinecolor": "white"
           }
          },
          "shapedefaults": {
           "line": {
            "color": "#2a3f5f"
           }
          },
          "ternary": {
           "aaxis": {
            "gridcolor": "white",
            "linecolor": "white",
            "ticks": ""
           },
           "baxis": {
            "gridcolor": "white",
            "linecolor": "white",
            "ticks": ""
           },
           "bgcolor": "#E5ECF6",
           "caxis": {
            "gridcolor": "white",
            "linecolor": "white",
            "ticks": ""
           }
          },
          "title": {
           "x": 0.05
          },
          "xaxis": {
           "automargin": true,
           "gridcolor": "white",
           "linecolor": "white",
           "ticks": "",
           "title": {
            "standoff": 15
           },
           "zerolinecolor": "white",
           "zerolinewidth": 2
          },
          "yaxis": {
           "automargin": true,
           "gridcolor": "white",
           "linecolor": "white",
           "ticks": "",
           "title": {
            "standoff": 15
           },
           "zerolinecolor": "white",
           "zerolinewidth": 2
          }
         }
        },
        "title": {
         "text": "Distribution du score : engagement"
        },
        "xaxis": {
         "anchor": "y",
         "domain": [
          0,
          1
         ],
         "title": {
          "text": "engagement"
         }
        },
        "yaxis": {
         "anchor": "x",
         "domain": [
          0,
          1
         ],
         "title": {
          "text": "count"
         }
        }
       }
      }
     },
     "metadata": {},
     "output_type": "display_data"
    }
   ],
   "source": [
    "def plot_score_distributions(df, score_columns):\n",
    "    for score in score_columns:\n",
    "        fig = px.histogram(df, x=score, nbins=6, title=f\"Distribution du score : {score}\",color=\"genre\")\n",
    "        fig.update_layout(bargap=0.1)\n",
    "        fig.show()\n",
    "\n",
    "\n",
    "plot_score_distributions(df_scores, score_axes.keys())\n"
   ]
  },
  {
   "cell_type": "code",
   "execution_count": 11,
   "id": "d8a742c2",
   "metadata": {},
   "outputs": [
    {
     "data": {
      "application/vnd.plotly.v1+json": {
       "config": {
        "plotlyServerURL": "https://plot.ly"
       },
       "data": [
        {
         "alignmentgroup": "True",
         "boxpoints": "all",
         "hovertemplate": "climat de confiance=%{x}<br>bien etre=%{y}<extra></extra>",
         "legendgroup": "",
         "marker": {
          "color": "steelblue"
         },
         "name": "",
         "notched": false,
         "offsetgroup": "",
         "orientation": "v",
         "showlegend": false,
         "type": "box",
         "x": {
          "bdata": "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",
          "dtype": "f8"
         },
         "x0": " ",
         "xaxis": "x",
         "y": {
          "bdata": "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",
          "dtype": "f8"
         },
         "y0": " ",
         "yaxis": "y"
        },
        {
         "colorbar": {
          "title": {
           "text": "Nombre d'élèves"
          }
         },
         "colorscale": [
          [
           0,
           "rgb(247,251,255)"
          ],
          [
           0.125,
           "rgb(222,235,247)"
          ],
          [
           0.25,
           "rgb(198,219,239)"
          ],
          [
           0.375,
           "rgb(158,202,225)"
          ],
          [
           0.5,
           "rgb(107,174,214)"
          ],
          [
           0.625,
           "rgb(66,146,198)"
          ],
          [
           0.75,
           "rgb(33,113,181)"
          ],
          [
           0.875,
           "rgb(8,81,156)"
          ],
          [
           1,
           "rgb(8,48,107)"
          ]
         ],
         "hovertemplate": "climat de confiance: %{x}<br>bien etre: %{y}<br>n: %{z}<extra></extra>",
         "text": {
          "bdata": "AAAAAAYAEgAVABAAAQACAEUAZABSABAAAgAJAJUAiQAVAAQAEgATAGUAKgALAAEA",
          "dtype": "i2",
          "shape": "4, 6"
         },
         "texttemplate": "%{text}",
         "type": "heatmap",
         "x": {
          "bdata": "AAAAAAAAAAAAAAAAAADwPwAAAAAAAABAAAAAAAAACEAAAAAAAAAQQAAAAAAAABRA",
          "dtype": "f8"
         },
         "xaxis": "x2",
         "y": {
          "bdata": "AAAAAAAAFEAAAAAAAAAIQAAAAAAAAABAAAAAAAAAAAA=",
          "dtype": "f8"
         },
         "yaxis": "y2",
         "z": {
          "bdata": "AAAAAAYAEgAVABAAAQACAEUAZABSABAAAgAJAJUAiQAVAAQAEgATAGUAKgALAAEA",
          "dtype": "i2",
          "shape": "4, 6"
         },
         "zmax": 149,
         "zmin": 0
        }
       ],
       "layout": {
        "height": 500,
        "showlegend": false,
        "template": {
         "data": {
          "bar": [
           {
            "error_x": {
             "color": "#2a3f5f"
            },
            "error_y": {
             "color": "#2a3f5f"
            },
            "marker": {
             "line": {
              "color": "#E5ECF6",
              "width": 0.5
             },
             "pattern": {
              "fillmode": "overlay",
              "size": 10,
              "solidity": 0.2
             }
            },
            "type": "bar"
           }
          ],
          "barpolar": [
           {
            "marker": {
             "line": {
              "color": "#E5ECF6",
              "width": 0.5
             },
             "pattern": {
              "fillmode": "overlay",
              "size": 10,
              "solidity": 0.2
             }
            },
            "type": "barpolar"
           }
          ],
          "carpet": [
           {
            "aaxis": {
             "endlinecolor": "#2a3f5f",
             "gridcolor": "white",
             "linecolor": "white",
             "minorgridcolor": "white",
             "startlinecolor": "#2a3f5f"
            },
            "baxis": {
             "endlinecolor": "#2a3f5f",
             "gridcolor": "white",
             "linecolor": "white",
             "minorgridcolor": "white",
             "startlinecolor": "#2a3f5f"
            },
            "type": "carpet"
           }
          ],
          "choropleth": [
           {
            "colorbar": {
             "outlinewidth": 0,
             "ticks": ""
            },
            "type": "choropleth"
           }
          ],
          "contour": [
           {
            "colorbar": {
             "outlinewidth": 0,
             "ticks": ""
            },
            "colorscale": [
             [
              0,
              "#0d0887"
             ],
             [
              0.1111111111111111,
              "#46039f"
             ],
             [
              0.2222222222222222,
              "#7201a8"
             ],
             [
              0.3333333333333333,
              "#9c179e"
             ],
             [
              0.4444444444444444,
              "#bd3786"
             ],
             [
              0.5555555555555556,
              "#d8576b"
             ],
             [
              0.6666666666666666,
              "#ed7953"
             ],
             [
              0.7777777777777778,
              "#fb9f3a"
             ],
             [
              0.8888888888888888,
              "#fdca26"
             ],
             [
              1,
              "#f0f921"
             ]
            ],
            "type": "contour"
           }
          ],
          "contourcarpet": [
           {
            "colorbar": {
             "outlinewidth": 0,
             "ticks": ""
            },
            "type": "contourcarpet"
           }
          ],
          "heatmap": [
           {
            "colorbar": {
             "outlinewidth": 0,
             "ticks": ""
            },
            "colorscale": [
             [
              0,
              "#0d0887"
             ],
             [
              0.1111111111111111,
              "#46039f"
             ],
             [
              0.2222222222222222,
              "#7201a8"
             ],
             [
              0.3333333333333333,
              "#9c179e"
             ],
             [
              0.4444444444444444,
              "#bd3786"
             ],
             [
              0.5555555555555556,
              "#d8576b"
             ],
             [
              0.6666666666666666,
              "#ed7953"
             ],
             [
              0.7777777777777778,
              "#fb9f3a"
             ],
             [
              0.8888888888888888,
              "#fdca26"
             ],
             [
              1,
              "#f0f921"
             ]
            ],
            "type": "heatmap"
           }
          ],
          "histogram": [
           {
            "marker": {
             "pattern": {
              "fillmode": "overlay",
              "size": 10,
              "solidity": 0.2
             }
            },
            "type": "histogram"
           }
          ],
          "histogram2d": [
           {
            "colorbar": {
             "outlinewidth": 0,
             "ticks": ""
            },
            "colorscale": [
             [
              0,
              "#0d0887"
             ],
             [
              0.1111111111111111,
              "#46039f"
             ],
             [
              0.2222222222222222,
              "#7201a8"
             ],
             [
              0.3333333333333333,
              "#9c179e"
             ],
             [
              0.4444444444444444,
              "#bd3786"
             ],
             [
              0.5555555555555556,
              "#d8576b"
             ],
             [
              0.6666666666666666,
              "#ed7953"
             ],
             [
              0.7777777777777778,
              "#fb9f3a"
             ],
             [
              0.8888888888888888,
              "#fdca26"
             ],
             [
              1,
              "#f0f921"
             ]
            ],
            "type": "histogram2d"
           }
          ],
          "histogram2dcontour": [
           {
            "colorbar": {
             "outlinewidth": 0,
             "ticks": ""
            },
            "colorscale": [
             [
              0,
              "#0d0887"
             ],
             [
              0.1111111111111111,
              "#46039f"
             ],
             [
              0.2222222222222222,
              "#7201a8"
             ],
             [
              0.3333333333333333,
              "#9c179e"
             ],
             [
              0.4444444444444444,
              "#bd3786"
             ],
             [
              0.5555555555555556,
              "#d8576b"
             ],
             [
              0.6666666666666666,
              "#ed7953"
             ],
             [
              0.7777777777777778,
              "#fb9f3a"
             ],
             [
              0.8888888888888888,
              "#fdca26"
             ],
             [
              1,
              "#f0f921"
             ]
            ],
            "type": "histogram2dcontour"
           }
          ],
          "mesh3d": [
           {
            "colorbar": {
             "outlinewidth": 0,
             "ticks": ""
            },
            "type": "mesh3d"
           }
          ],
          "parcoords": [
           {
            "line": {
             "colorbar": {
              "outlinewidth": 0,
              "ticks": ""
             }
            },
            "type": "parcoords"
           }
          ],
          "pie": [
           {
            "automargin": true,
            "type": "pie"
           }
          ],
          "scatter": [
           {
            "fillpattern": {
             "fillmode": "overlay",
             "size": 10,
             "solidity": 0.2
            },
            "type": "scatter"
           }
          ],
          "scatter3d": [
           {
            "line": {
             "colorbar": {
              "outlinewidth": 0,
              "ticks": ""
             }
            },
            "marker": {
             "colorbar": {
              "outlinewidth": 0,
              "ticks": ""
             }
            },
            "type": "scatter3d"
           }
          ],
          "scattercarpet": [
           {
            "marker": {
             "colorbar": {
              "outlinewidth": 0,
              "ticks": ""
             }
            },
            "type": "scattercarpet"
           }
          ],
          "scattergeo": [
           {
            "marker": {
             "colorbar": {
              "outlinewidth": 0,
              "ticks": ""
             }
            },
            "type": "scattergeo"
           }
          ],
          "scattergl": [
           {
            "marker": {
             "colorbar": {
              "outlinewidth": 0,
              "ticks": ""
             }
            },
            "type": "scattergl"
           }
          ],
          "scattermap": [
           {
            "marker": {
             "colorbar": {
              "outlinewidth": 0,
              "ticks": ""
             }
            },
            "type": "scattermap"
           }
          ],
          "scattermapbox": [
           {
            "marker": {
             "colorbar": {
              "outlinewidth": 0,
              "ticks": ""
             }
            },
            "type": "scattermapbox"
           }
          ],
          "scatterpolar": [
           {
            "marker": {
             "colorbar": {
              "outlinewidth": 0,
              "ticks": ""
             }
            },
            "type": "scatterpolar"
           }
          ],
          "scatterpolargl": [
           {
            "marker": {
             "colorbar": {
              "outlinewidth": 0,
              "ticks": ""
             }
            },
            "type": "scatterpolargl"
           }
          ],
          "scatterternary": [
           {
            "marker": {
             "colorbar": {
              "outlinewidth": 0,
              "ticks": ""
             }
            },
            "type": "scatterternary"
           }
          ],
          "surface": [
           {
            "colorbar": {
             "outlinewidth": 0,
             "ticks": ""
            },
            "colorscale": [
             [
              0,
              "#0d0887"
             ],
             [
              0.1111111111111111,
              "#46039f"
             ],
             [
              0.2222222222222222,
              "#7201a8"
             ],
             [
              0.3333333333333333,
              "#9c179e"
             ],
             [
              0.4444444444444444,
              "#bd3786"
             ],
             [
              0.5555555555555556,
              "#d8576b"
             ],
             [
              0.6666666666666666,
              "#ed7953"
             ],
             [
              0.7777777777777778,
              "#fb9f3a"
             ],
             [
              0.8888888888888888,
              "#fdca26"
             ],
             [
              1,
              "#f0f921"
             ]
            ],
            "type": "surface"
           }
          ],
          "table": [
           {
            "cells": {
             "fill": {
              "color": "#EBF0F8"
             },
             "line": {
              "color": "white"
             }
            },
            "header": {
             "fill": {
              "color": "#C8D4E3"
             },
             "line": {
              "color": "white"
             }
            },
            "type": "table"
           }
          ]
         },
         "layout": {
          "annotationdefaults": {
           "arrowcolor": "#2a3f5f",
           "arrowhead": 0,
           "arrowwidth": 1
          },
          "autotypenumbers": "strict",
          "coloraxis": {
           "colorbar": {
            "outlinewidth": 0,
            "ticks": ""
           }
          },
          "colorscale": {
           "diverging": [
            [
             0,
             "#8e0152"
            ],
            [
             0.1,
             "#c51b7d"
            ],
            [
             0.2,
             "#de77ae"
            ],
            [
             0.3,
             "#f1b6da"
            ],
            [
             0.4,
             "#fde0ef"
            ],
            [
             0.5,
             "#f7f7f7"
            ],
            [
             0.6,
             "#e6f5d0"
            ],
            [
             0.7,
             "#b8e186"
            ],
            [
             0.8,
             "#7fbc41"
            ],
            [
             0.9,
             "#4d9221"
            ],
            [
             1,
             "#276419"
            ]
           ],
           "sequential": [
            [
             0,
             "#0d0887"
            ],
            [
             0.1111111111111111,
             "#46039f"
            ],
            [
             0.2222222222222222,
             "#7201a8"
            ],
            [
             0.3333333333333333,
             "#9c179e"
            ],
            [
             0.4444444444444444,
             "#bd3786"
            ],
            [
             0.5555555555555556,
             "#d8576b"
            ],
            [
             0.6666666666666666,
             "#ed7953"
            ],
            [
             0.7777777777777778,
             "#fb9f3a"
            ],
            [
             0.8888888888888888,
             "#fdca26"
            ],
            [
             1,
             "#f0f921"
            ]
           ],
           "sequentialminus": [
            [
             0,
             "#0d0887"
            ],
            [
             0.1111111111111111,
             "#46039f"
            ],
            [
             0.2222222222222222,
             "#7201a8"
            ],
            [
             0.3333333333333333,
             "#9c179e"
            ],
            [
             0.4444444444444444,
             "#bd3786"
            ],
            [
             0.5555555555555556,
             "#d8576b"
            ],
            [
             0.6666666666666666,
             "#ed7953"
            ],
            [
             0.7777777777777778,
             "#fb9f3a"
            ],
            [
             0.8888888888888888,
             "#fdca26"
            ],
            [
             1,
             "#f0f921"
            ]
           ]
          },
          "colorway": [
           "#636efa",
           "#EF553B",
           "#00cc96",
           "#ab63fa",
           "#FFA15A",
           "#19d3f3",
           "#FF6692",
           "#B6E880",
           "#FF97FF",
           "#FECB52"
          ],
          "font": {
           "color": "#2a3f5f"
          },
          "geo": {
           "bgcolor": "white",
           "lakecolor": "white",
           "landcolor": "#E5ECF6",
           "showlakes": true,
           "showland": true,
           "subunitcolor": "white"
          },
          "hoverlabel": {
           "align": "left"
          },
          "hovermode": "closest",
          "mapbox": {
           "style": "light"
          },
          "paper_bgcolor": "white",
          "plot_bgcolor": "#E5ECF6",
          "polar": {
           "angularaxis": {
            "gridcolor": "white",
            "linecolor": "white",
            "ticks": ""
           },
           "bgcolor": "#E5ECF6",
           "radialaxis": {
            "gridcolor": "white",
            "linecolor": "white",
            "ticks": ""
           }
          },
          "scene": {
           "xaxis": {
            "backgroundcolor": "#E5ECF6",
            "gridcolor": "white",
            "gridwidth": 2,
            "linecolor": "white",
            "showbackground": true,
            "ticks": "",
            "zerolinecolor": "white"
           },
           "yaxis": {
            "backgroundcolor": "#E5ECF6",
            "gridcolor": "white",
            "gridwidth": 2,
            "linecolor": "white",
            "showbackground": true,
            "ticks": "",
            "zerolinecolor": "white"
           },
           "zaxis": {
            "backgroundcolor": "#E5ECF6",
            "gridcolor": "white",
            "gridwidth": 2,
            "linecolor": "white",
            "showbackground": true,
            "ticks": "",
            "zerolinecolor": "white"
           }
          },
          "shapedefaults": {
           "line": {
            "color": "#2a3f5f"
           }
          },
          "ternary": {
           "aaxis": {
            "gridcolor": "white",
            "linecolor": "white",
            "ticks": ""
           },
           "baxis": {
            "gridcolor": "white",
            "linecolor": "white",
            "ticks": ""
           },
           "bgcolor": "#E5ECF6",
           "caxis": {
            "gridcolor": "white",
            "linecolor": "white",
            "ticks": ""
           }
          },
          "title": {
           "x": 0.05
          },
          "xaxis": {
           "automargin": true,
           "gridcolor": "white",
           "linecolor": "white",
           "ticks": "",
           "title": {
            "standoff": 15
           },
           "zerolinecolor": "white",
           "zerolinewidth": 2
          },
          "yaxis": {
           "automargin": true,
           "gridcolor": "white",
           "linecolor": "white",
           "ticks": "",
           "title": {
            "standoff": 15
           },
           "zerolinecolor": "white",
           "zerolinewidth": 2
          }
         }
        },
        "width": 1000,
        "xaxis": {
         "anchor": "y",
         "domain": [
          0,
          0.44
         ],
         "title": {
          "text": "climat de confiance"
         }
        },
        "xaxis2": {
         "anchor": "y2",
         "domain": [
          0.56,
          1
         ],
         "title": {
          "text": "climat de confiance"
         }
        },
        "yaxis": {
         "anchor": "x",
         "domain": [
          0,
          1
         ],
         "title": {
          "text": "bien etre"
         }
        },
        "yaxis2": {
         "anchor": "x2",
         "domain": [
          0,
          1
         ],
         "title": {
          "text": "bien etre"
         }
        }
       }
      }
     },
     "metadata": {},
     "output_type": "display_data"
    },
    {
     "data": {
      "application/vnd.plotly.v1+json": {
       "config": {
        "plotlyServerURL": "https://plot.ly"
       },
       "data": [
        {
         "alignmentgroup": "True",
         "boxpoints": "all",
         "hovertemplate": "climat de confiance=%{x}<br>expression et ecoute=%{y}<extra></extra>",
         "legendgroup": "",
         "marker": {
          "color": "steelblue"
         },
         "name": "",
         "notched": false,
         "offsetgroup": "",
         "orientation": "v",
         "showlegend": false,
         "type": "box",
         "x": {
          "bdata": "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",
          "dtype": "f8"
         },
         "x0": " ",
         "xaxis": "x",
         "y": {
          "bdata": "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",
          "dtype": "f8"
         },
         "y0": " ",
         "yaxis": "y"
        },
        {
         "colorbar": {
          "title": {
           "text": "Nombre d'élèves"
          }
         },
         "colorscale": [
          [
           0,
           "rgb(247,251,255)"
          ],
          [
           0.125,
           "rgb(222,235,247)"
          ],
          [
           0.25,
           "rgb(198,219,239)"
          ],
          [
           0.375,
           "rgb(158,202,225)"
          ],
          [
           0.5,
           "rgb(107,174,214)"
          ],
          [
           0.625,
           "rgb(66,146,198)"
          ],
          [
           0.75,
           "rgb(33,113,181)"
          ],
          [
           0.875,
           "rgb(8,81,156)"
          ],
          [
           1,
           "rgb(8,48,107)"
          ]
         ],
         "hovertemplate": "climat de confiance: %{x}<br>expression et ecoute: %{y}<br>n: %{z}<extra></extra>",
         "text": {
          "bdata": "AAAAAA0AIgAWABAAAQABAFEAgQBJABAABAAOALQAbQAfAAMAEAAPADMAGQAJAAIA",
          "dtype": "i2",
          "shape": "4, 6"
         },
         "texttemplate": "%{text}",
         "type": "heatmap",
         "x": {
          "bdata": "AAAAAAAAAAAAAAAAAADwPwAAAAAAAABAAAAAAAAACEAAAAAAAAAQQAAAAAAAABRA",
          "dtype": "f8"
         },
         "xaxis": "x2",
         "y": {
          "bdata": "AAAAAAAAFEAAAAAAAAAIQAAAAAAAAABAAAAAAAAAAAA=",
          "dtype": "f8"
         },
         "yaxis": "y2",
         "z": {
          "bdata": "AAAAAA0AIgAWABAAAQABAFEAgQBJABAABAAOALQAbQAfAAMAEAAPADMAGQAJAAIA",
          "dtype": "i2",
          "shape": "4, 6"
         },
         "zmax": 180,
         "zmin": 0
        }
       ],
       "layout": {
        "height": 500,
        "showlegend": false,
        "template": {
         "data": {
          "bar": [
           {
            "error_x": {
             "color": "#2a3f5f"
            },
            "error_y": {
             "color": "#2a3f5f"
            },
            "marker": {
             "line": {
              "color": "#E5ECF6",
              "width": 0.5
             },
             "pattern": {
              "fillmode": "overlay",
              "size": 10,
              "solidity": 0.2
             }
            },
            "type": "bar"
           }
          ],
          "barpolar": [
           {
            "marker": {
             "line": {
              "color": "#E5ECF6",
              "width": 0.5
             },
             "pattern": {
              "fillmode": "overlay",
              "size": 10,
              "solidity": 0.2
             }
            },
            "type": "barpolar"
           }
          ],
          "carpet": [
           {
            "aaxis": {
             "endlinecolor": "#2a3f5f",
             "gridcolor": "white",
             "linecolor": "white",
             "minorgridcolor": "white",
             "startlinecolor": "#2a3f5f"
            },
            "baxis": {
             "endlinecolor": "#2a3f5f",
             "gridcolor": "white",
             "linecolor": "white",
             "minorgridcolor": "white",
             "startlinecolor": "#2a3f5f"
            },
            "type": "carpet"
           }
          ],
          "choropleth": [
           {
            "colorbar": {
             "outlinewidth": 0,
             "ticks": ""
            },
            "type": "choropleth"
           }
          ],
          "contour": [
           {
            "colorbar": {
             "outlinewidth": 0,
             "ticks": ""
            },
            "colorscale": [
             [
              0,
              "#0d0887"
             ],
             [
              0.1111111111111111,
              "#46039f"
             ],
             [
              0.2222222222222222,
              "#7201a8"
             ],
             [
              0.3333333333333333,
              "#9c179e"
             ],
             [
              0.4444444444444444,
              "#bd3786"
             ],
             [
              0.5555555555555556,
              "#d8576b"
             ],
             [
              0.6666666666666666,
              "#ed7953"
             ],
             [
              0.7777777777777778,
              "#fb9f3a"
             ],
             [
              0.8888888888888888,
              "#fdca26"
             ],
             [
              1,
              "#f0f921"
             ]
            ],
            "type": "contour"
           }
          ],
          "contourcarpet": [
           {
            "colorbar": {
             "outlinewidth": 0,
             "ticks": ""
            },
            "type": "contourcarpet"
           }
          ],
          "heatmap": [
           {
            "colorbar": {
             "outlinewidth": 0,
             "ticks": ""
            },
            "colorscale": [
             [
              0,
              "#0d0887"
             ],
             [
              0.1111111111111111,
              "#46039f"
             ],
             [
              0.2222222222222222,
              "#7201a8"
             ],
             [
              0.3333333333333333,
              "#9c179e"
             ],
             [
              0.4444444444444444,
              "#bd3786"
             ],
             [
              0.5555555555555556,
              "#d8576b"
             ],
             [
              0.6666666666666666,
              "#ed7953"
             ],
             [
              0.7777777777777778,
              "#fb9f3a"
             ],
             [
              0.8888888888888888,
              "#fdca26"
             ],
             [
              1,
              "#f0f921"
             ]
            ],
            "type": "heatmap"
           }
          ],
          "histogram": [
           {
            "marker": {
             "pattern": {
              "fillmode": "overlay",
              "size": 10,
              "solidity": 0.2
             }
            },
            "type": "histogram"
           }
          ],
          "histogram2d": [
           {
            "colorbar": {
             "outlinewidth": 0,
             "ticks": ""
            },
            "colorscale": [
             [
              0,
              "#0d0887"
             ],
             [
              0.1111111111111111,
              "#46039f"
             ],
             [
              0.2222222222222222,
              "#7201a8"
             ],
             [
              0.3333333333333333,
              "#9c179e"
             ],
             [
              0.4444444444444444,
              "#bd3786"
             ],
             [
              0.5555555555555556,
              "#d8576b"
             ],
             [
              0.6666666666666666,
              "#ed7953"
             ],
             [
              0.7777777777777778,
              "#fb9f3a"
             ],
             [
              0.8888888888888888,
              "#fdca26"
             ],
             [
              1,
              "#f0f921"
             ]
            ],
            "type": "histogram2d"
           }
          ],
          "histogram2dcontour": [
           {
            "colorbar": {
             "outlinewidth": 0,
             "ticks": ""
            },
            "colorscale": [
             [
              0,
              "#0d0887"
             ],
             [
              0.1111111111111111,
              "#46039f"
             ],
             [
              0.2222222222222222,
              "#7201a8"
             ],
             [
              0.3333333333333333,
              "#9c179e"
             ],
             [
              0.4444444444444444,
              "#bd3786"
             ],
             [
              0.5555555555555556,
              "#d8576b"
             ],
             [
              0.6666666666666666,
              "#ed7953"
             ],
             [
              0.7777777777777778,
              "#fb9f3a"
             ],
             [
              0.8888888888888888,
              "#fdca26"
             ],
             [
              1,
              "#f0f921"
             ]
            ],
            "type": "histogram2dcontour"
           }
          ],
          "mesh3d": [
           {
            "colorbar": {
             "outlinewidth": 0,
             "ticks": ""
            },
            "type": "mesh3d"
           }
          ],
          "parcoords": [
           {
            "line": {
             "colorbar": {
              "outlinewidth": 0,
              "ticks": ""
             }
            },
            "type": "parcoords"
           }
          ],
          "pie": [
           {
            "automargin": true,
            "type": "pie"
           }
          ],
          "scatter": [
           {
            "fillpattern": {
             "fillmode": "overlay",
             "size": 10,
             "solidity": 0.2
            },
            "type": "scatter"
           }
          ],
          "scatter3d": [
           {
            "line": {
             "colorbar": {
              "outlinewidth": 0,
              "ticks": ""
             }
            },
            "marker": {
             "colorbar": {
              "outlinewidth": 0,
              "ticks": ""
             }
            },
            "type": "scatter3d"
           }
          ],
          "scattercarpet": [
           {
            "marker": {
             "colorbar": {
              "outlinewidth": 0,
              "ticks": ""
             }
            },
            "type": "scattercarpet"
           }
          ],
          "scattergeo": [
           {
            "marker": {
             "colorbar": {
              "outlinewidth": 0,
              "ticks": ""
             }
            },
            "type": "scattergeo"
           }
          ],
          "scattergl": [
           {
            "marker": {
             "colorbar": {
              "outlinewidth": 0,
              "ticks": ""
             }
            },
            "type": "scattergl"
           }
          ],
          "scattermap": [
           {
            "marker": {
             "colorbar": {
              "outlinewidth": 0,
              "ticks": ""
             }
            },
            "type": "scattermap"
           }
          ],
          "scattermapbox": [
           {
            "marker": {
             "colorbar": {
              "outlinewidth": 0,
              "ticks": ""
             }
            },
            "type": "scattermapbox"
           }
          ],
          "scatterpolar": [
           {
            "marker": {
             "colorbar": {
              "outlinewidth": 0,
              "ticks": ""
             }
            },
            "type": "scatterpolar"
           }
          ],
          "scatterpolargl": [
           {
            "marker": {
             "colorbar": {
              "outlinewidth": 0,
              "ticks": ""
             }
            },
            "type": "scatterpolargl"
           }
          ],
          "scatterternary": [
           {
            "marker": {
             "colorbar": {
              "outlinewidth": 0,
              "ticks": ""
             }
            },
            "type": "scatterternary"
           }
          ],
          "surface": [
           {
            "colorbar": {
             "outlinewidth": 0,
             "ticks": ""
            },
            "colorscale": [
             [
              0,
              "#0d0887"
             ],
             [
              0.1111111111111111,
              "#46039f"
             ],
             [
              0.2222222222222222,
              "#7201a8"
             ],
             [
              0.3333333333333333,
              "#9c179e"
             ],
             [
              0.4444444444444444,
              "#bd3786"
             ],
             [
              0.5555555555555556,
              "#d8576b"
             ],
             [
              0.6666666666666666,
              "#ed7953"
             ],
             [
              0.7777777777777778,
              "#fb9f3a"
             ],
             [
              0.8888888888888888,
              "#fdca26"
             ],
             [
              1,
              "#f0f921"
             ]
            ],
            "type": "surface"
           }
          ],
          "table": [
           {
            "cells": {
             "fill": {
              "color": "#EBF0F8"
             },
             "line": {
              "color": "white"
             }
            },
            "header": {
             "fill": {
              "color": "#C8D4E3"
             },
             "line": {
              "color": "white"
             }
            },
            "type": "table"
           }
          ]
         },
         "layout": {
          "annotationdefaults": {
           "arrowcolor": "#2a3f5f",
           "arrowhead": 0,
           "arrowwidth": 1
          },
          "autotypenumbers": "strict",
          "coloraxis": {
           "colorbar": {
            "outlinewidth": 0,
            "ticks": ""
           }
          },
          "colorscale": {
           "diverging": [
            [
             0,
             "#8e0152"
            ],
            [
             0.1,
             "#c51b7d"
            ],
            [
             0.2,
             "#de77ae"
            ],
            [
             0.3,
             "#f1b6da"
            ],
            [
             0.4,
             "#fde0ef"
            ],
            [
             0.5,
             "#f7f7f7"
            ],
            [
             0.6,
             "#e6f5d0"
            ],
            [
             0.7,
             "#b8e186"
            ],
            [
             0.8,
             "#7fbc41"
            ],
            [
             0.9,
             "#4d9221"
            ],
            [
             1,
             "#276419"
            ]
           ],
           "sequential": [
            [
             0,
             "#0d0887"
            ],
            [
             0.1111111111111111,
             "#46039f"
            ],
            [
             0.2222222222222222,
             "#7201a8"
            ],
            [
             0.3333333333333333,
             "#9c179e"
            ],
            [
             0.4444444444444444,
             "#bd3786"
            ],
            [
             0.5555555555555556,
             "#d8576b"
            ],
            [
             0.6666666666666666,
             "#ed7953"
            ],
            [
             0.7777777777777778,
             "#fb9f3a"
            ],
            [
             0.8888888888888888,
             "#fdca26"
            ],
            [
             1,
             "#f0f921"
            ]
           ],
           "sequentialminus": [
            [
             0,
             "#0d0887"
            ],
            [
             0.1111111111111111,
             "#46039f"
            ],
            [
             0.2222222222222222,
             "#7201a8"
            ],
            [
             0.3333333333333333,
             "#9c179e"
            ],
            [
             0.4444444444444444,
             "#bd3786"
            ],
            [
             0.5555555555555556,
             "#d8576b"
            ],
            [
             0.6666666666666666,
             "#ed7953"
            ],
            [
             0.7777777777777778,
             "#fb9f3a"
            ],
            [
             0.8888888888888888,
             "#fdca26"
            ],
            [
             1,
             "#f0f921"
            ]
           ]
          },
          "colorway": [
           "#636efa",
           "#EF553B",
           "#00cc96",
           "#ab63fa",
           "#FFA15A",
           "#19d3f3",
           "#FF6692",
           "#B6E880",
           "#FF97FF",
           "#FECB52"
          ],
          "font": {
           "color": "#2a3f5f"
          },
          "geo": {
           "bgcolor": "white",
           "lakecolor": "white",
           "landcolor": "#E5ECF6",
           "showlakes": true,
           "showland": true,
           "subunitcolor": "white"
          },
          "hoverlabel": {
           "align": "left"
          },
          "hovermode": "closest",
          "mapbox": {
           "style": "light"
          },
          "paper_bgcolor": "white",
          "plot_bgcolor": "#E5ECF6",
          "polar": {
           "angularaxis": {
            "gridcolor": "white",
            "linecolor": "white",
            "ticks": ""
           },
           "bgcolor": "#E5ECF6",
           "radialaxis": {
            "gridcolor": "white",
            "linecolor": "white",
            "ticks": ""
           }
          },
          "scene": {
           "xaxis": {
            "backgroundcolor": "#E5ECF6",
            "gridcolor": "white",
            "gridwidth": 2,
            "linecolor": "white",
            "showbackground": true,
            "ticks": "",
            "zerolinecolor": "white"
           },
           "yaxis": {
            "backgroundcolor": "#E5ECF6",
            "gridcolor": "white",
            "gridwidth": 2,
            "linecolor": "white",
            "showbackground": true,
            "ticks": "",
            "zerolinecolor": "white"
           },
           "zaxis": {
            "backgroundcolor": "#E5ECF6",
            "gridcolor": "white",
            "gridwidth": 2,
            "linecolor": "white",
            "showbackground": true,
            "ticks": "",
            "zerolinecolor": "white"
           }
          },
          "shapedefaults": {
           "line": {
            "color": "#2a3f5f"
           }
          },
          "ternary": {
           "aaxis": {
            "gridcolor": "white",
            "linecolor": "white",
            "ticks": ""
           },
           "baxis": {
            "gridcolor": "white",
            "linecolor": "white",
            "ticks": ""
           },
           "bgcolor": "#E5ECF6",
           "caxis": {
            "gridcolor": "white",
            "linecolor": "white",
            "ticks": ""
           }
          },
          "title": {
           "x": 0.05
          },
          "xaxis": {
           "automargin": true,
           "gridcolor": "white",
           "linecolor": "white",
           "ticks": "",
           "title": {
            "standoff": 15
           },
           "zerolinecolor": "white",
           "zerolinewidth": 2
          },
          "yaxis": {
           "automargin": true,
           "gridcolor": "white",
           "linecolor": "white",
           "ticks": "",
           "title": {
            "standoff": 15
           },
           "zerolinecolor": "white",
           "zerolinewidth": 2
          }
         }
        },
        "width": 1000,
        "xaxis": {
         "anchor": "y",
         "domain": [
          0,
          0.44
         ],
         "title": {
          "text": "climat de confiance"
         }
        },
        "xaxis2": {
         "anchor": "y2",
         "domain": [
          0.56,
          1
         ],
         "title": {
          "text": "climat de confiance"
         }
        },
        "yaxis": {
         "anchor": "x",
         "domain": [
          0,
          1
         ],
         "title": {
          "text": "expression et ecoute"
         }
        },
        "yaxis2": {
         "anchor": "x2",
         "domain": [
          0,
          1
         ],
         "title": {
          "text": "expression et ecoute"
         }
        }
       }
      }
     },
     "metadata": {},
     "output_type": "display_data"
    },
    {
     "data": {
      "application/vnd.plotly.v1+json": {
       "config": {
        "plotlyServerURL": "https://plot.ly"
       },
       "data": [
        {
         "alignmentgroup": "True",
         "boxpoints": "all",
         "hovertemplate": "climat de confiance=%{x}<br>engagement=%{y}<extra></extra>",
         "legendgroup": "",
         "marker": {
          "color": "steelblue"
         },
         "name": "",
         "notched": false,
         "offsetgroup": "",
         "orientation": "v",
         "showlegend": false,
         "type": "box",
         "x": {
          "bdata": "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",
          "dtype": "f8"
         },
         "x0": " ",
         "xaxis": "x",
         "y": {
          "bdata": "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",
          "dtype": "f8"
         },
         "y0": " ",
         "yaxis": "y"
        },
        {
         "colorbar": {
          "title": {
           "text": "Nombre d'élèves"
          }
         },
         "colorscale": [
          [
           0,
           "rgb(247,251,255)"
          ],
          [
           0.125,
           "rgb(222,235,247)"
          ],
          [
           0.25,
           "rgb(198,219,239)"
          ],
          [
           0.375,
           "rgb(158,202,225)"
          ],
          [
           0.5,
           "rgb(107,174,214)"
          ],
          [
           0.625,
           "rgb(66,146,198)"
          ],
          [
           0.75,
           "rgb(33,113,181)"
          ],
          [
           0.875,
           "rgb(8,81,156)"
          ],
          [
           1,
           "rgb(8,48,107)"
          ]
         ],
         "hovertemplate": "climat de confiance: %{x}<br>engagement: %{y}<br>n: %{z}<extra></extra>",
         "text": {
          "bdata": "AAAAAQAAAAADBQEBAQMoLBQHBQ51djwLBQVFMxgICghgTh4K",
          "dtype": "i1",
          "shape": "6, 6"
         },
         "texttemplate": "%{text}",
         "type": "heatmap",
         "x": {
          "bdata": "AAAAAAAAAAAAAAAAAADwPwAAAAAAAABAAAAAAAAACEAAAAAAAAAQQAAAAAAAABRA",
          "dtype": "f8"
         },
         "xaxis": "x2",
         "y": {
          "bdata": "AAAAAAAAFEAAAAAAAAAQQAAAAAAAAAhAAAAAAAAAAEAAAAAAAADwPwAAAAAAAAAA",
          "dtype": "f8"
         },
         "yaxis": "y2",
         "z": {
          "bdata": "AAAAAQAAAAADBQEBAQMoLBQHBQ51djwLBQVFMxgICghgTh4K",
          "dtype": "i1",
          "shape": "6, 6"
         },
         "zmax": 118,
         "zmin": 0
        }
       ],
       "layout": {
        "height": 500,
        "showlegend": false,
        "template": {
         "data": {
          "bar": [
           {
            "error_x": {
             "color": "#2a3f5f"
            },
            "error_y": {
             "color": "#2a3f5f"
            },
            "marker": {
             "line": {
              "color": "#E5ECF6",
              "width": 0.5
             },
             "pattern": {
              "fillmode": "overlay",
              "size": 10,
              "solidity": 0.2
             }
            },
            "type": "bar"
           }
          ],
          "barpolar": [
           {
            "marker": {
             "line": {
              "color": "#E5ECF6",
              "width": 0.5
             },
             "pattern": {
              "fillmode": "overlay",
              "size": 10,
              "solidity": 0.2
             }
            },
            "type": "barpolar"
           }
          ],
          "carpet": [
           {
            "aaxis": {
             "endlinecolor": "#2a3f5f",
             "gridcolor": "white",
             "linecolor": "white",
             "minorgridcolor": "white",
             "startlinecolor": "#2a3f5f"
            },
            "baxis": {
             "endlinecolor": "#2a3f5f",
             "gridcolor": "white",
             "linecolor": "white",
             "minorgridcolor": "white",
             "startlinecolor": "#2a3f5f"
            },
            "type": "carpet"
           }
          ],
          "choropleth": [
           {
            "colorbar": {
             "outlinewidth": 0,
             "ticks": ""
            },
            "type": "choropleth"
           }
          ],
          "contour": [
           {
            "colorbar": {
             "outlinewidth": 0,
             "ticks": ""
            },
            "colorscale": [
             [
              0,
              "#0d0887"
             ],
             [
              0.1111111111111111,
              "#46039f"
             ],
             [
              0.2222222222222222,
              "#7201a8"
             ],
             [
              0.3333333333333333,
              "#9c179e"
             ],
             [
              0.4444444444444444,
              "#bd3786"
             ],
             [
              0.5555555555555556,
              "#d8576b"
             ],
             [
              0.6666666666666666,
              "#ed7953"
             ],
             [
              0.7777777777777778,
              "#fb9f3a"
             ],
             [
              0.8888888888888888,
              "#fdca26"
             ],
             [
              1,
              "#f0f921"
             ]
            ],
            "type": "contour"
           }
          ],
          "contourcarpet": [
           {
            "colorbar": {
             "outlinewidth": 0,
             "ticks": ""
            },
            "type": "contourcarpet"
           }
          ],
          "heatmap": [
           {
            "colorbar": {
             "outlinewidth": 0,
             "ticks": ""
            },
            "colorscale": [
             [
              0,
              "#0d0887"
             ],
             [
              0.1111111111111111,
              "#46039f"
             ],
             [
              0.2222222222222222,
              "#7201a8"
             ],
             [
              0.3333333333333333,
              "#9c179e"
             ],
             [
              0.4444444444444444,
              "#bd3786"
             ],
             [
              0.5555555555555556,
              "#d8576b"
             ],
             [
              0.6666666666666666,
              "#ed7953"
             ],
             [
              0.7777777777777778,
              "#fb9f3a"
             ],
             [
              0.8888888888888888,
              "#fdca26"
             ],
             [
              1,
              "#f0f921"
             ]
            ],
            "type": "heatmap"
           }
          ],
          "histogram": [
           {
            "marker": {
             "pattern": {
              "fillmode": "overlay",
              "size": 10,
              "solidity": 0.2
             }
            },
            "type": "histogram"
           }
          ],
          "histogram2d": [
           {
            "colorbar": {
             "outlinewidth": 0,
             "ticks": ""
            },
            "colorscale": [
             [
              0,
              "#0d0887"
             ],
             [
              0.1111111111111111,
              "#46039f"
             ],
             [
              0.2222222222222222,
              "#7201a8"
             ],
             [
              0.3333333333333333,
              "#9c179e"
             ],
             [
              0.4444444444444444,
              "#bd3786"
             ],
             [
              0.5555555555555556,
              "#d8576b"
             ],
             [
              0.6666666666666666,
              "#ed7953"
             ],
             [
              0.7777777777777778,
              "#fb9f3a"
             ],
             [
              0.8888888888888888,
              "#fdca26"
             ],
             [
              1,
              "#f0f921"
             ]
            ],
            "type": "histogram2d"
           }
          ],
          "histogram2dcontour": [
           {
            "colorbar": {
             "outlinewidth": 0,
             "ticks": ""
            },
            "colorscale": [
             [
              0,
              "#0d0887"
             ],
             [
              0.1111111111111111,
              "#46039f"
             ],
             [
              0.2222222222222222,
              "#7201a8"
             ],
             [
              0.3333333333333333,
              "#9c179e"
             ],
             [
              0.4444444444444444,
              "#bd3786"
             ],
             [
              0.5555555555555556,
              "#d8576b"
             ],
             [
              0.6666666666666666,
              "#ed7953"
             ],
             [
              0.7777777777777778,
              "#fb9f3a"
             ],
             [
              0.8888888888888888,
              "#fdca26"
             ],
             [
              1,
              "#f0f921"
             ]
            ],
            "type": "histogram2dcontour"
           }
          ],
          "mesh3d": [
           {
            "colorbar": {
             "outlinewidth": 0,
             "ticks": ""
            },
            "type": "mesh3d"
           }
          ],
          "parcoords": [
           {
            "line": {
             "colorbar": {
              "outlinewidth": 0,
              "ticks": ""
             }
            },
            "type": "parcoords"
           }
          ],
          "pie": [
           {
            "automargin": true,
            "type": "pie"
           }
          ],
          "scatter": [
           {
            "fillpattern": {
             "fillmode": "overlay",
             "size": 10,
             "solidity": 0.2
            },
            "type": "scatter"
           }
          ],
          "scatter3d": [
           {
            "line": {
             "colorbar": {
              "outlinewidth": 0,
              "ticks": ""
             }
            },
            "marker": {
             "colorbar": {
              "outlinewidth": 0,
              "ticks": ""
             }
            },
            "type": "scatter3d"
           }
          ],
          "scattercarpet": [
           {
            "marker": {
             "colorbar": {
              "outlinewidth": 0,
              "ticks": ""
             }
            },
            "type": "scattercarpet"
           }
          ],
          "scattergeo": [
           {
            "marker": {
             "colorbar": {
              "outlinewidth": 0,
              "ticks": ""
             }
            },
            "type": "scattergeo"
           }
          ],
          "scattergl": [
           {
            "marker": {
             "colorbar": {
              "outlinewidth": 0,
              "ticks": ""
             }
            },
            "type": "scattergl"
           }
          ],
          "scattermap": [
           {
            "marker": {
             "colorbar": {
              "outlinewidth": 0,
              "ticks": ""
             }
            },
            "type": "scattermap"
           }
          ],
          "scattermapbox": [
           {
            "marker": {
             "colorbar": {
              "outlinewidth": 0,
              "ticks": ""
             }
            },
            "type": "scattermapbox"
           }
          ],
          "scatterpolar": [
           {
            "marker": {
             "colorbar": {
              "outlinewidth": 0,
              "ticks": ""
             }
            },
            "type": "scatterpolar"
           }
          ],
          "scatterpolargl": [
           {
            "marker": {
             "colorbar": {
              "outlinewidth": 0,
              "ticks": ""
             }
            },
            "type": "scatterpolargl"
           }
          ],
          "scatterternary": [
           {
            "marker": {
             "colorbar": {
              "outlinewidth": 0,
              "ticks": ""
             }
            },
            "type": "scatterternary"
           }
          ],
          "surface": [
           {
            "colorbar": {
             "outlinewidth": 0,
             "ticks": ""
            },
            "colorscale": [
             [
              0,
              "#0d0887"
             ],
             [
              0.1111111111111111,
              "#46039f"
             ],
             [
              0.2222222222222222,
              "#7201a8"
             ],
             [
              0.3333333333333333,
              "#9c179e"
             ],
             [
              0.4444444444444444,
              "#bd3786"
             ],
             [
              0.5555555555555556,
              "#d8576b"
             ],
             [
              0.6666666666666666,
              "#ed7953"
             ],
             [
              0.7777777777777778,
              "#fb9f3a"
             ],
             [
              0.8888888888888888,
              "#fdca26"
             ],
             [
              1,
              "#f0f921"
             ]
            ],
            "type": "surface"
           }
          ],
          "table": [
           {
            "cells": {
             "fill": {
              "color": "#EBF0F8"
             },
             "line": {
              "color": "white"
             }
            },
            "header": {
             "fill": {
              "color": "#C8D4E3"
             },
             "line": {
              "color": "white"
             }
            },
            "type": "table"
           }
          ]
         },
         "layout": {
          "annotationdefaults": {
           "arrowcolor": "#2a3f5f",
           "arrowhead": 0,
           "arrowwidth": 1
          },
          "autotypenumbers": "strict",
          "coloraxis": {
           "colorbar": {
            "outlinewidth": 0,
            "ticks": ""
           }
          },
          "colorscale": {
           "diverging": [
            [
             0,
             "#8e0152"
            ],
            [
             0.1,
             "#c51b7d"
            ],
            [
             0.2,
             "#de77ae"
            ],
            [
             0.3,
             "#f1b6da"
            ],
            [
             0.4,
             "#fde0ef"
            ],
            [
             0.5,
             "#f7f7f7"
            ],
            [
             0.6,
             "#e6f5d0"
            ],
            [
             0.7,
             "#b8e186"
            ],
            [
             0.8,
             "#7fbc41"
            ],
            [
             0.9,
             "#4d9221"
            ],
            [
             1,
             "#276419"
            ]
           ],
           "sequential": [
            [
             0,
             "#0d0887"
            ],
            [
             0.1111111111111111,
             "#46039f"
            ],
            [
             0.2222222222222222,
             "#7201a8"
            ],
            [
             0.3333333333333333,
             "#9c179e"
            ],
            [
             0.4444444444444444,
             "#bd3786"
            ],
            [
             0.5555555555555556,
             "#d8576b"
            ],
            [
             0.6666666666666666,
             "#ed7953"
            ],
            [
             0.7777777777777778,
             "#fb9f3a"
            ],
            [
             0.8888888888888888,
             "#fdca26"
            ],
            [
             1,
             "#f0f921"
            ]
           ],
           "sequentialminus": [
            [
             0,
             "#0d0887"
            ],
            [
             0.1111111111111111,
             "#46039f"
            ],
            [
             0.2222222222222222,
             "#7201a8"
            ],
            [
             0.3333333333333333,
             "#9c179e"
            ],
            [
             0.4444444444444444,
             "#bd3786"
            ],
            [
             0.5555555555555556,
             "#d8576b"
            ],
            [
             0.6666666666666666,
             "#ed7953"
            ],
            [
             0.7777777777777778,
             "#fb9f3a"
            ],
            [
             0.8888888888888888,
             "#fdca26"
            ],
            [
             1,
             "#f0f921"
            ]
           ]
          },
          "colorway": [
           "#636efa",
           "#EF553B",
           "#00cc96",
           "#ab63fa",
           "#FFA15A",
           "#19d3f3",
           "#FF6692",
           "#B6E880",
           "#FF97FF",
           "#FECB52"
          ],
          "font": {
           "color": "#2a3f5f"
          },
          "geo": {
           "bgcolor": "white",
           "lakecolor": "white",
           "landcolor": "#E5ECF6",
           "showlakes": true,
           "showland": true,
           "subunitcolor": "white"
          },
          "hoverlabel": {
           "align": "left"
          },
          "hovermode": "closest",
          "mapbox": {
           "style": "light"
          },
          "paper_bgcolor": "white",
          "plot_bgcolor": "#E5ECF6",
          "polar": {
           "angularaxis": {
            "gridcolor": "white",
            "linecolor": "white",
            "ticks": ""
           },
           "bgcolor": "#E5ECF6",
           "radialaxis": {
            "gridcolor": "white",
            "linecolor": "white",
            "ticks": ""
           }
          },
          "scene": {
           "xaxis": {
            "backgroundcolor": "#E5ECF6",
            "gridcolor": "white",
            "gridwidth": 2,
            "linecolor": "white",
            "showbackground": true,
            "ticks": "",
            "zerolinecolor": "white"
           },
           "yaxis": {
            "backgroundcolor": "#E5ECF6",
            "gridcolor": "white",
            "gridwidth": 2,
            "linecolor": "white",
            "showbackground": true,
            "ticks": "",
            "zerolinecolor": "white"
           },
           "zaxis": {
            "backgroundcolor": "#E5ECF6",
            "gridcolor": "white",
            "gridwidth": 2,
            "linecolor": "white",
            "showbackground": true,
            "ticks": "",
            "zerolinecolor": "white"
           }
          },
          "shapedefaults": {
           "line": {
            "color": "#2a3f5f"
           }
          },
          "ternary": {
           "aaxis": {
            "gridcolor": "white",
            "linecolor": "white",
            "ticks": ""
           },
           "baxis": {
            "gridcolor": "white",
            "linecolor": "white",
            "ticks": ""
           },
           "bgcolor": "#E5ECF6",
           "caxis": {
            "gridcolor": "white",
            "linecolor": "white",
            "ticks": ""
           }
          },
          "title": {
           "x": 0.05
          },
          "xaxis": {
           "automargin": true,
           "gridcolor": "white",
           "linecolor": "white",
           "ticks": "",
           "title": {
            "standoff": 15
           },
           "zerolinecolor": "white",
           "zerolinewidth": 2
          },
          "yaxis": {
           "automargin": true,
           "gridcolor": "white",
           "linecolor": "white",
           "ticks": "",
           "title": {
            "standoff": 15
           },
           "zerolinecolor": "white",
           "zerolinewidth": 2
          }
         }
        },
        "width": 1000,
        "xaxis": {
         "anchor": "y",
         "domain": [
          0,
          0.44
         ],
         "title": {
          "text": "climat de confiance"
         }
        },
        "xaxis2": {
         "anchor": "y2",
         "domain": [
          0.56,
          1
         ],
         "title": {
          "text": "climat de confiance"
         }
        },
        "yaxis": {
         "anchor": "x",
         "domain": [
          0,
          1
         ],
         "title": {
          "text": "engagement"
         }
        },
        "yaxis2": {
         "anchor": "x2",
         "domain": [
          0,
          1
         ],
         "title": {
          "text": "engagement"
         }
        }
       }
      }
     },
     "metadata": {},
     "output_type": "display_data"
    },
    {
     "data": {
      "application/vnd.plotly.v1+json": {
       "config": {
        "plotlyServerURL": "https://plot.ly"
       },
       "data": [
        {
         "alignmentgroup": "True",
         "boxpoints": "all",
         "hovertemplate": "bien etre=%{x}<br>expression et ecoute=%{y}<extra></extra>",
         "legendgroup": "",
         "marker": {
          "color": "steelblue"
         },
         "name": "",
         "notched": false,
         "offsetgroup": "",
         "orientation": "v",
         "showlegend": false,
         "type": "box",
         "x": {
          "bdata": "AAAAAAAAAEAAAAAAAAAAQAAAAAAAAABAAAAAAAAACEAAAAAAAAAAAAAAAAAAABRAAAAAAAAAAAAAAAAAAAAUQAAAAAAAAAAAAAAAAAAAAAAAAAAAAAAIQAAAAAAAABRAAAAAAAAAAEAAAAAAAAAAAAAAAAAAAAAAAAAAAAAACEAAAAAAAAAIQAAAAAAAAAAAAAAAAAAAAEAAAAAAAAAAAAAAAAAAAAhAAAAAAAAAAAAAAAAAAAAAAAAAAAAAAAAAAAAAAAAAFEAAAAAAAAAAQAAAAAAAAAAAAAAAAAAAAEAAAAAAAAAIQAAAAAAAABRAAAAAAAAAAAAAAAAAAAAAAAAAAAAAAAAAAAAAAAAAAEAAAAAAAAAAAAAAAAAAAAhAAAAAAAAACEAAAAAAAAAAAAAAAAAAAABAAAAAAAAACEAAAAAAAAAAAAAAAAAAAAhAAAAAAAAAAEAAAAAAAAAIQAAAAAAAAABAAAAAAAAACEAAAAAAAAAIQAAAAAAAAAAAAAAAAAAAAEAAAAAAAAAAQAAAAAAAAAhAAAAAAAAACEAAAAAAAAAAQAAAAAAAAAhAAAAAAAAAAAAAAAAAAAAAQAAAAAAAAABAAAAAAAAAAAAAAAAAAAAAQAAAAAAAAAAAAAAAAAAAAAAAAAAAAAAIQAAAAAAAAABAAAAAAAAACEAAAAAAAAAAQAAAAAAAAABAAAAAAAAAAAAAAAAAAAAAQAAAAAAAAABAAAAAAAAAAEAAAAAAAAAAQAAAAAAAAABAAAAAAAAACEAAAAAAAAAIQAAAAAAAABRAAAAAAAAAAAAAAAAAAAAAAAAAAAAAAAhAAAAAAAAAFEAAAAAAAAAAQAAAAAAAAAhAAAAAAAAAAEAAAAAAAAAAQAAAAAAAAABAAAAAAAAACEAAAAAAAAAIQAAAAAAAAAhAAAAAAAAACEAAAAAAAAAAAAAAAAAAABRAAAAAAAAAAEAAAAAAAAAAQAAAAAAAAABAAAAAAAAAFEAAAAAAAAAIQAAAAAAAABRAAAAAAAAAAEAAAAAAAAAAQAAAAAAAAABAAAAAAAAACEAAAAAAAAAAQAAAAAAAAAhAAAAAAAAAAAAAAAAAAAAIQAAAAAAAAAhAAAAAAAAAAEAAAAAAAAAAQAAAAAAAAABAAAAAAAAAFEAAAAAAAAAIQAAAAAAAAABAAAAAAAAAAEAAAAAAAAAAAAAAAAAAAABAAAAAAAAACEAAAAAAAAAUQAAAAAAAAAAAAAAAAAAAAAAAAAAAAAAIQAAAAAAAAAAAAAAAAAAAFEAAAAAAAAAIQAAAAAAAAAAAAAAAAAAACEAAAAAAAAAAAAAAAAAAAAhAAAAAAAAACEAAAAAAAAAAAAAAAAAAABRAAAAAAAAAAEAAAAAAAAAAAAAAAAAAAABAAAAAAAAAAEAAAAAAAAAAQAAAAAAAAAAAAAAAAAAAAEAAAAAAAAAAQAAAAAAAAABAAAAAAAAAAEAAAAAAAAAIQAAAAAAAAAhAAAAAAAAAFEAAAAAAAAAIQAAAAAAAABRAAAAAAAAAAAAAAAAAAAAAAAAAAAAAAAhAAAAAAAAACEAAAAAAAAAAAAAAAAAAAABAAAAAAAAACEAAAAAAAAAIQAAAAAAAAAhAAAAAAAAACEAAAAAAAAAAAAAAAAAAAAhAAAAAAAAAAAAAAAAAAAAAAAAAAAAAAABAAAAAAAAAAEAAAAAAAAAAAAAAAAAAAAhAAAAAAAAAAEAAAAAAAAAIQAAAAAAAAABAAAAAAAAAAEAAAAAAAAAAAAAAAAAAAABAAAAAAAAACEAAAAAAAAAAQAAAAAAAAAhAAAAAAAAAAAAAAAAAAAAAAAAAAAAAAAhAAAAAAAAACEAAAAAAAAAAQAAAAAAAAAAAAAAAAAAACEAAAAAAAAAIQAAAAAAAAABAAAAAAAAACEAAAAAAAAAIQAAAAAAAAAAAAAAAAAAACEAAAAAAAAAAQAAAAAAAAABAAAAAAAAAFEAAAAAAAAAIQAAAAAAAAAAAAAAAAAAACEAAAAAAAAAAQAAAAAAAAAAAAAAAAAAACEAAAAAAAAAAAAAAAAAAAAAAAAAAAAAAAEAAAAAAAAAIQAAAAAAAAAAAAAAAAAAAAEAAAAAAAAAIQAAAAAAAAAhAAAAAAAAAAEAAAAAAAAAAQAAAAAAAAAAAAAAAAAAAAAAAAAAAAAAAQAAAAAAAAAhAAAAAAAAAAEAAAAAAAAAIQAAAAAAAAABAAAAAAAAAAAAAAAAAAAAIQAAAAAAAAAhAAAAAAAAAAAAAAAAAAAAAQAAAAAAAAAAAAAAAAAAACEAAAAAAAAAIQAAAAAAAAAhAAAAAAAAAFEAAAAAAAAAIQAAAAAAAAAhAAAAAAAAAAEAAAAAAAAAAQAAAAAAAAAAAAAAAAAAAAAAAAAAAAAAIQAAAAAAAAAAAAAAAAAAAAEAAAAAAAAAIQAAAAAAAABRAAAAAAAAAAEAAAAAAAAAIQAAAAAAAAAAAAAAAAAAAAAAAAAAAAAAAQAAAAAAAAAhAAAAAAAAACEAAAAAAAAAIQAAAAAAAAAAAAAAAAAAACEAAAAAAAAAAQAAAAAAAAABAAAAAAAAACEAAAAAAAAAAQAAAAAAAAABAAAAAAAAAAAAAAAAAAAAAQAAAAAAAAAhAAAAAAAAAAEAAAAAAAAAAQAAAAAAAAAAAAAAAAAAAAEAAAAAAAAAAQAAAAAAAABRAAAAAAAAAFEAAAAAAAAAAQAAAAAAAAABAAAAAAAAACEAAAAAAAAAIQAAAAAAAAAhAAAAAAAAAAAAAAAAAAAAIQAAAAAAAAABAAAAAAAAAAEAAAAAAAAAIQAAAAAAAAABAAAAAAAAAAEAAAAAAAAAAAAAAAAAAAABAAAAAAAAAAEAAAAAAAAAAAAAAAAAAAABAAAAAAAAACEAAAAAAAAAAAAAAAAAAAABAAAAAAAAAAEAAAAAAAAAAAAAAAAAAAAhAAAAAAAAAAEAAAAAAAAAAQAAAAAAAAAhAAAAAAAAAAAAAAAAAAAAAAAAAAAAAAABAAAAAAAAAAEAAAAAAAAAAQAAAAAAAAAhAAAAAAAAAAEAAAAAAAAAAAAAAAAAAAABAAAAAAAAAAAAAAAAAAAAAQAAAAAAAAAAAAAAAAAAAAAAAAAAAAAAAAAAAAAAAAABAAAAAAAAACEAAAAAAAAAAQAAAAAAAAAAAAAAAAAAAAAAAAAAAAAAUQAAAAAAAAAhAAAAAAAAAAEAAAAAAAAAAQAAAAAAAAAhAAAAAAAAAAAAAAAAAAAAAQAAAAAAAAAAAAAAAAAAAFEAAAAAAAAAAQAAAAAAAAAhAAAAAAAAACEAAAAAAAAAAAAAAAAAAAABAAAAAAAAAAAAAAAAAAAAIQAAAAAAAAABAAAAAAAAAAEAAAAAAAAAIQAAAAAAAAABAAAAAAAAACEAAAAAAAAAAQAAAAAAAAAhAAAAAAAAACEAAAAAAAAAUQAAAAAAAAAhAAAAAAAAAAAAAAAAAAAAAQAAAAAAAAAAAAAAAAAAAFEAAAAAAAAAAQAAAAAAAAAhAAAAAAAAAAAAAAAAAAAAAQAAAAAAAAAAAAAAAAAAAFEAAAAAAAAAAQAAAAAAAAABAAAAAAAAACEAAAAAAAAAIQAAAAAAAAABAAAAAAAAAAEAAAAAAAAAIQAAAAAAAAAhAAAAAAAAAAEAAAAAAAAAAQAAAAAAAAABAAAAAAAAACEAAAAAAAAAIQAAAAAAAAAhAAAAAAAAAAEAAAAAAAAAAQAAAAAAAAABAAAAAAAAACEAAAAAAAAAAAAAAAAAAAABAAAAAAAAAAAAAAAAAAAAIQAAAAAAAAAhAAAAAAAAAAEAAAAAAAAAAQAAAAAAAAAAAAAAAAAAAAEAAAAAAAAAAAAAAAAAAAAAAAAAAAAAACEAAAAAAAAAIQAAAAAAAAAAAAAAAAAAAFEAAAAAAAAAAAAAAAAAAABRAAAAAAAAAAEAAAAAAAAAAQAAAAAAAAABAAAAAAAAAAAAAAAAAAAAUQAAAAAAAAABAAAAAAAAAAEAAAAAAAAAAAAAAAAAAAABAAAAAAAAAAEAAAAAAAAAIQAAAAAAAAAAAAAAAAAAAAEAAAAAAAAAAQAAAAAAAABRAAAAAAAAAAAAAAAAAAAAUQAAAAAAAABRAAAAAAAAAAEAAAAAAAAAAAAAAAAAAAAhAAAAAAAAAAEAAAAAAAAAAQAAAAAAAAAAAAAAAAAAAAEAAAAAAAAAIQAAAAAAAAAhAAAAAAAAACEAAAAAAAAAAQAAAAAAAAABAAAAAAAAAAEAAAAAAAAAIQAAAAAAAAAhAAAAAAAAACEAAAAAAAAAIQAAAAAAAAABAAAAAAAAAAAAAAAAAAAAAQAAAAAAAAAAAAAAAAAAAAEAAAAAAAAAAQAAAAAAAAAhAAAAAAAAAAEAAAAAAAAAAQAAAAAAAAABAAAAAAAAACEAAAAAAAAAAAAAAAAAAAAhAAAAAAAAAAAAAAAAAAAAAQAAAAAAAAAhAAAAAAAAAAEAAAAAAAAAAQAAAAAAAAAhAAAAAAAAAAEAAAAAAAAAUQAAAAAAAAAhAAAAAAAAACEAAAAAAAAAAAAAAAAAAAABAAAAAAAAAAEAAAAAAAAAIQAAAAAAAABRAAAAAAAAAAAAAAAAAAAAIQAAAAAAAAAAAAAAAAAAAAEAAAAAAAAAUQAAAAAAAAABAAAAAAAAACEAAAAAAAAAUQAAAAAAAAAhAAAAAAAAAAAAAAAAAAAAIQAAAAAAAAABAAAAAAAAAAAAAAAAAAAAUQAAAAAAAAABAAAAAAAAAAEAAAAAAAAAUQAAAAAAAAABAAAAAAAAAAEAAAAAAAAAIQAAAAAAAAABAAAAAAAAAAAAAAAAAAAAAQAAAAAAAAABAAAAAAAAAAEAAAAAAAAAAQAAAAAAAAAhAAAAAAAAAFEAAAAAAAAAIQAAAAAAAAAAAAAAAAAAAFEAAAAAAAAAIQAAAAAAAAABAAAAAAAAACEAAAAAAAAAUQAAAAAAAAABAAAAAAAAAFEAAAAAAAAAIQAAAAAAAAAhAAAAAAAAAAAAAAAAAAAAIQAAAAAAAAAhAAAAAAAAAAAAAAAAAAAAAQAAAAAAAAABAAAAAAAAACEAAAAAAAAAAQAAAAAAAAABAAAAAAAAAAEAAAAAAAAAAQAAAAAAAAAhAAAAAAAAAAEAAAAAAAAAIQAAAAAAAAAhAAAAAAAAAAAAAAAAAAAAIQAAAAAAAAABAAAAAAAAAAEAAAAAAAAAAQAAAAAAAAABAAAAAAAAAAEAAAAAAAAAIQAAAAAAAAABAAAAAAAAACEAAAAAAAAAAQAAAAAAAAAhAAAAAAAAAAEAAAAAAAAAAQAAAAAAAAABAAAAAAAAAAEAAAAAAAAAIQAAAAAAAAABAAAAAAAAACEAAAAAAAAAIQAAAAAAAAAAAAAAAAAAAAEAAAAAAAAAAQAAAAAAAAAhAAAAAAAAACEAAAAAAAAAIQAAAAAAAAAhAAAAAAAAAAAAAAAAAAAAAQAAAAAAAAABAAAAAAAAACEAAAAAAAAAIQAAAAAAAAABAAAAAAAAACEAAAAAAAAAIQAAAAAAAAAhAAAAAAAAAAEAAAAAAAAAAQAAAAAAAAAhAAAAAAAAAAEAAAAAAAAAAQAAAAAAAAAhAAAAAAAAACEAAAAAAAAAAQAAAAAAAAAhAAAAAAAAACEAAAAAAAAAAQAAAAAAAAAhAAAAAAAAACEAAAAAAAAAIQAAAAAAAAABAAAAAAAAAAAAAAAAAAAAAQAAAAAAAAABAAAAAAAAACEAAAAAAAAAUQAAAAAAAAAAAAAAAAAAAAAAAAAAAAAAAQAAAAAAAAAhAAAAAAAAAAEAAAAAAAAAAAAAAAAAAAABAAAAAAAAAAEAAAAAAAAAAQAAAAAAAAAAAAAAAAAAACEAAAAAAAAAIQAAAAAAAAABAAAAAAAAACEAAAAAAAAAIQAAAAAAAABRAAAAAAAAAAAAAAAAAAAAAAAAAAAAAAABAAAAAAAAACEAAAAAAAAAAAAAAAAAAAAhAAAAAAAAAAAAAAAAAAAAIQAAAAAAAAAhAAAAAAAAAFEAAAAAAAAAAAAAAAAAAAABAAAAAAAAAAAAAAAAAAAAAAAAAAAAAABRAAAAAAAAACEAAAAAAAAAIQAAAAAAAAAhAAAAAAAAAAEAAAAAAAAAIQAAAAAAAAABAAAAAAAAAAAAAAAAAAAAAQAAAAAAAABRAAAAAAAAAFEAAAAAAAAAAAAAAAAAAAAAAAAAAAAAAAAAAAAAAAAAAAAAAAAAAAAhAAAAAAAAACEAAAAAAAAAIQAAAAAAAAABAAAAAAAAACEAAAAAAAAAIQAAAAAAAAAhAAAAAAAAACEAAAAAAAAAIQAAAAAAAAAhAAAAAAAAAAEAAAAAAAAAIQAAAAAAAAAhAAAAAAAAACEAAAAAAAAAUQAAAAAAAAABAAAAAAAAAAEAAAAAAAAAIQAAAAAAAAAhAAAAAAAAAAEAAAAAAAAAAQAAAAAAAAABAAAAAAAAACEAAAAAAAAAAQAAAAAAAAAAAAAAAAAAACEAAAAAAAAAIQAAAAAAAAABAAAAAAAAAAEAAAAAAAAAUQAAAAAAAAAAAAAAAAAAAAAAAAAAAAAAAQAAAAAAAAABAAAAAAAAACEAAAAAAAAAAQAAAAAAAAAhAAAAAAAAAAEAAAAAAAAAIQAAAAAAAAABAAAAAAAAAAEAAAAAAAAAAQAAAAAAAAAAAAAAAAAAACEAAAAAAAAAAAAAAAAAAAABAAAAAAAAAAEAAAAAAAAAAAAAAAAAAAABAAAAAAAAAFEAAAAAAAAAAQAAAAAAAAABAAAAAAAAAFEAAAAAAAAAIQAAAAAAAAABAAAAAAAAAAAAAAAAAAAAAQAAAAAAAAAhAAAAAAAAACEAAAAAAAAAAQAAAAAAAABRAAAAAAAAAFEAAAAAAAAAAQAAAAAAAAABAAAAAAAAAAEAAAAAAAAAAQAAAAAAAAAAAAAAAAAAAAAAAAAAAAAAIQAAAAAAAAAAAAAAAAAAAAEAAAAAAAAAIQAAAAAAAAAhAAAAAAAAAAAAAAAAAAAAAQAAAAAAAAAAAAAAAAAAAAAAAAAAAAAAAQAAAAAAAABRAAAAAAAAAAEAAAAAAAAAIQAAAAAAAAABAAAAAAAAAAEAAAAAAAAAAQAAAAAAAAABAAAAAAAAAAEAAAAAAAAAAAAAAAAAAAABAAAAAAAAAAAAAAAAAAAAAQAAAAAAAAAAAAAAAAAAAAEAAAAAAAAAAQAAAAAAAAABAAAAAAAAAAAAAAAAAAAAAQAAAAAAAAABAAAAAAAAAAAAAAAAAAAAIQAAAAAAAAABAAAAAAAAACEAAAAAAAAAUQAAAAAAAAAhAAAAAAAAAAEAAAAAAAAAIQAAAAAAAAAhAAAAAAAAAAAAAAAAAAAAAQAAAAAAAAABAAAAAAAAACEAAAAAAAAAAQAAAAAAAAAhAAAAAAAAAAAAAAAAAAAAAAAAAAAAAAABAAAAAAAAAAEAAAAAAAAAAQAAAAAAAABRAAAAAAAAACEAAAAAAAAAAAAAAAAAAAAAAAAAAAAAAAEAAAAAAAAAAQAAAAAAAAABAAAAAAAAACEAAAAAAAAAAQAAAAAAAAABAAAAAAAAAAEAAAAAAAAAIQAAAAAAAAABAAAAAAAAAAEAAAAAAAAAIQAAAAAAAAAhAAAAAAAAAAEAAAAAAAAAAQAAAAAAAAAAAAAAAAAAAAEAAAAAAAAAIQAAAAAAAAAhAAAAAAAAAAAAAAAAAAAAIQAAAAAAAAAAAAAAAAAAACEAAAAAAAAAIQAAAAAAAAABAAAAAAAAACEAAAAAAAAAAQAAAAAAAAAAAAAAAAAAAAEAAAAAAAAAAAAAAAAAAAAAAAAAAAAAACEAAAAAAAAAIQAAAAAAAAAhAAAAAAAAAAEAAAAAAAAAAQAAAAAAAAAhAAAAAAAAACEAAAAAAAAAAAAAAAAAAAAAAAAAAAAAAAEAAAAAAAAAAQAAAAAAAAABAAAAAAAAACEAAAAAAAAAIQAAAAAAAAABAAAAAAAAACEAAAAAAAAAAQAAAAAAAAABAAAAAAAAAAEAAAAAAAAAAQAAAAAAAAAhAAAAAAAAAAAAAAAAAAAAAQAAAAAAAAAAAAAAAAAAAAAAAAAAAAAAIQAAAAAAAAAhAAAAAAAAACEAAAAAAAAAAQAAAAAAAAAhAAAAAAAAAAEAAAAAAAAAIQAAAAAAAAABAAAAAAAAAAEAAAAAAAAAAAAAAAAAAAABAAAAAAAAAAAAAAAAAAAAAAAAAAAAAABRAAAAAAAAAAAAAAAAAAAAIQAAAAAAAAABAAAAAAAAAAAAAAAAAAAAAQAAAAAAAAAAAAAAAAAAAAEAAAAAAAAAIQAAAAAAAAABAAAAAAAAAAEAAAAAAAAAAQAAAAAAAAAAAAAAAAAAACEAAAAAAAAAAQAAAAAAAAAAAAAAAAAAAAAAAAAAAAAAAQAAAAAAAAAAAAAAAAAAAFEAAAAAAAAAIQAAAAAAAAABAAAAAAAAACEAAAAAAAAAAAAAAAAAAAABAAAAAAAAACEAAAAAAAAAIQAAAAAAAAAAAAAAAAAAAAAAAAAAAAAAIQAAAAAAAAAhAAAAAAAAAAEAAAAAAAAAIQAAAAAAAAABAAAAAAAAAAAAAAAAAAAAAQAAAAAAAAABAAAAAAAAACEAAAAAAAAAAAAAAAAAAAABAAAAAAAAACEAAAAAAAAAIQAAAAAAAAAhAAAAAAAAACEAAAAAAAAAAAAAAAAAAAABAAAAAAAAAAAAAAAAAAAAIQAAAAAAAAAhAAAAAAAAAAEAAAAAAAAAUQAAAAAAAABRAAAAAAAAAAAAAAAAAAAAAQAAAAAAAAAAAAAAAAAAACEAAAAAAAAAIQAAAAAAAAABAAAAAAAAACEAAAAAAAAAIQAAAAAAAAAAAAAAAAAAAAAAAAAAAAAAIQAAAAAAAAABAAAAAAAAAAAAAAAAAAAAAAA==",
          "dtype": "f8"
         },
         "x0": " ",
         "xaxis": "x",
         "y": {
          "bdata": "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",
          "dtype": "f8"
         },
         "y0": " ",
         "yaxis": "y"
        },
        {
         "colorbar": {
          "title": {
           "text": "Nombre d'élèves"
          }
         },
         "colorscale": [
          [
           0,
           "rgb(247,251,255)"
          ],
          [
           0.125,
           "rgb(222,235,247)"
          ],
          [
           0.25,
           "rgb(198,219,239)"
          ],
          [
           0.375,
           "rgb(158,202,225)"
          ],
          [
           0.5,
           "rgb(107,174,214)"
          ],
          [
           0.625,
           "rgb(66,146,198)"
          ],
          [
           0.75,
           "rgb(33,113,181)"
          ],
          [
           0.875,
           "rgb(8,81,156)"
          ],
          [
           1,
           "rgb(8,48,107)"
          ]
         ],
         "hovertemplate": "bien etre: %{x}<br>expression et ecoute: %{y}<br>n: %{z}<extra></extra>",
         "text": {
          "bdata": "CgAWACQAEQAnAGkAgAAdAFYAmgBYAA0AOQApABIAAgA=",
          "dtype": "i2",
          "shape": "4, 4"
         },
         "texttemplate": "%{text}",
         "type": "heatmap",
         "x": {
          "bdata": "AAAAAAAAAAAAAAAAAAAAQAAAAAAAAAhAAAAAAAAAFEA=",
          "dtype": "f8"
         },
         "xaxis": "x2",
         "y": {
          "bdata": "AAAAAAAAFEAAAAAAAAAIQAAAAAAAAABAAAAAAAAAAAA=",
          "dtype": "f8"
         },
         "yaxis": "y2",
         "z": {
          "bdata": "CgAWACQAEQAnAGkAgAAdAFYAmgBYAA0AOQApABIAAgA=",
          "dtype": "i2",
          "shape": "4, 4"
         },
         "zmax": 154,
         "zmin": 0
        }
       ],
       "layout": {
        "height": 500,
        "showlegend": false,
        "template": {
         "data": {
          "bar": [
           {
            "error_x": {
             "color": "#2a3f5f"
            },
            "error_y": {
             "color": "#2a3f5f"
            },
            "marker": {
             "line": {
              "color": "#E5ECF6",
              "width": 0.5
             },
             "pattern": {
              "fillmode": "overlay",
              "size": 10,
              "solidity": 0.2
             }
            },
            "type": "bar"
           }
          ],
          "barpolar": [
           {
            "marker": {
             "line": {
              "color": "#E5ECF6",
              "width": 0.5
             },
             "pattern": {
              "fillmode": "overlay",
              "size": 10,
              "solidity": 0.2
             }
            },
            "type": "barpolar"
           }
          ],
          "carpet": [
           {
            "aaxis": {
             "endlinecolor": "#2a3f5f",
             "gridcolor": "white",
             "linecolor": "white",
             "minorgridcolor": "white",
             "startlinecolor": "#2a3f5f"
            },
            "baxis": {
             "endlinecolor": "#2a3f5f",
             "gridcolor": "white",
             "linecolor": "white",
             "minorgridcolor": "white",
             "startlinecolor": "#2a3f5f"
            },
            "type": "carpet"
           }
          ],
          "choropleth": [
           {
            "colorbar": {
             "outlinewidth": 0,
             "ticks": ""
            },
            "type": "choropleth"
           }
          ],
          "contour": [
           {
            "colorbar": {
             "outlinewidth": 0,
             "ticks": ""
            },
            "colorscale": [
             [
              0,
              "#0d0887"
             ],
             [
              0.1111111111111111,
              "#46039f"
             ],
             [
              0.2222222222222222,
              "#7201a8"
             ],
             [
              0.3333333333333333,
              "#9c179e"
             ],
             [
              0.4444444444444444,
              "#bd3786"
             ],
             [
              0.5555555555555556,
              "#d8576b"
             ],
             [
              0.6666666666666666,
              "#ed7953"
             ],
             [
              0.7777777777777778,
              "#fb9f3a"
             ],
             [
              0.8888888888888888,
              "#fdca26"
             ],
             [
              1,
              "#f0f921"
             ]
            ],
            "type": "contour"
           }
          ],
          "contourcarpet": [
           {
            "colorbar": {
             "outlinewidth": 0,
             "ticks": ""
            },
            "type": "contourcarpet"
           }
          ],
          "heatmap": [
           {
            "colorbar": {
             "outlinewidth": 0,
             "ticks": ""
            },
            "colorscale": [
             [
              0,
              "#0d0887"
             ],
             [
              0.1111111111111111,
              "#46039f"
             ],
             [
              0.2222222222222222,
              "#7201a8"
             ],
             [
              0.3333333333333333,
              "#9c179e"
             ],
             [
              0.4444444444444444,
              "#bd3786"
             ],
             [
              0.5555555555555556,
              "#d8576b"
             ],
             [
              0.6666666666666666,
              "#ed7953"
             ],
             [
              0.7777777777777778,
              "#fb9f3a"
             ],
             [
              0.8888888888888888,
              "#fdca26"
             ],
             [
              1,
              "#f0f921"
             ]
            ],
            "type": "heatmap"
           }
          ],
          "histogram": [
           {
            "marker": {
             "pattern": {
              "fillmode": "overlay",
              "size": 10,
              "solidity": 0.2
             }
            },
            "type": "histogram"
           }
          ],
          "histogram2d": [
           {
            "colorbar": {
             "outlinewidth": 0,
             "ticks": ""
            },
            "colorscale": [
             [
              0,
              "#0d0887"
             ],
             [
              0.1111111111111111,
              "#46039f"
             ],
             [
              0.2222222222222222,
              "#7201a8"
             ],
             [
              0.3333333333333333,
              "#9c179e"
             ],
             [
              0.4444444444444444,
              "#bd3786"
             ],
             [
              0.5555555555555556,
              "#d8576b"
             ],
             [
              0.6666666666666666,
              "#ed7953"
             ],
             [
              0.7777777777777778,
              "#fb9f3a"
             ],
             [
              0.8888888888888888,
              "#fdca26"
             ],
             [
              1,
              "#f0f921"
             ]
            ],
            "type": "histogram2d"
           }
          ],
          "histogram2dcontour": [
           {
            "colorbar": {
             "outlinewidth": 0,
             "ticks": ""
            },
            "colorscale": [
             [
              0,
              "#0d0887"
             ],
             [
              0.1111111111111111,
              "#46039f"
             ],
             [
              0.2222222222222222,
              "#7201a8"
             ],
             [
              0.3333333333333333,
              "#9c179e"
             ],
             [
              0.4444444444444444,
              "#bd3786"
             ],
             [
              0.5555555555555556,
              "#d8576b"
             ],
             [
              0.6666666666666666,
              "#ed7953"
             ],
             [
              0.7777777777777778,
              "#fb9f3a"
             ],
             [
              0.8888888888888888,
              "#fdca26"
             ],
             [
              1,
              "#f0f921"
             ]
            ],
            "type": "histogram2dcontour"
           }
          ],
          "mesh3d": [
           {
            "colorbar": {
             "outlinewidth": 0,
             "ticks": ""
            },
            "type": "mesh3d"
           }
          ],
          "parcoords": [
           {
            "line": {
             "colorbar": {
              "outlinewidth": 0,
              "ticks": ""
             }
            },
            "type": "parcoords"
           }
          ],
          "pie": [
           {
            "automargin": true,
            "type": "pie"
           }
          ],
          "scatter": [
           {
            "fillpattern": {
             "fillmode": "overlay",
             "size": 10,
             "solidity": 0.2
            },
            "type": "scatter"
           }
          ],
          "scatter3d": [
           {
            "line": {
             "colorbar": {
              "outlinewidth": 0,
              "ticks": ""
             }
            },
            "marker": {
             "colorbar": {
              "outlinewidth": 0,
              "ticks": ""
             }
            },
            "type": "scatter3d"
           }
          ],
          "scattercarpet": [
           {
            "marker": {
             "colorbar": {
              "outlinewidth": 0,
              "ticks": ""
             }
            },
            "type": "scattercarpet"
           }
          ],
          "scattergeo": [
           {
            "marker": {
             "colorbar": {
              "outlinewidth": 0,
              "ticks": ""
             }
            },
            "type": "scattergeo"
           }
          ],
          "scattergl": [
           {
            "marker": {
             "colorbar": {
              "outlinewidth": 0,
              "ticks": ""
             }
            },
            "type": "scattergl"
           }
          ],
          "scattermap": [
           {
            "marker": {
             "colorbar": {
              "outlinewidth": 0,
              "ticks": ""
             }
            },
            "type": "scattermap"
           }
          ],
          "scattermapbox": [
           {
            "marker": {
             "colorbar": {
              "outlinewidth": 0,
              "ticks": ""
             }
            },
            "type": "scattermapbox"
           }
          ],
          "scatterpolar": [
           {
            "marker": {
             "colorbar": {
              "outlinewidth": 0,
              "ticks": ""
             }
            },
            "type": "scatterpolar"
           }
          ],
          "scatterpolargl": [
           {
            "marker": {
             "colorbar": {
              "outlinewidth": 0,
              "ticks": ""
             }
            },
            "type": "scatterpolargl"
           }
          ],
          "scatterternary": [
           {
            "marker": {
             "colorbar": {
              "outlinewidth": 0,
              "ticks": ""
             }
            },
            "type": "scatterternary"
           }
          ],
          "surface": [
           {
            "colorbar": {
             "outlinewidth": 0,
             "ticks": ""
            },
            "colorscale": [
             [
              0,
              "#0d0887"
             ],
             [
              0.1111111111111111,
              "#46039f"
             ],
             [
              0.2222222222222222,
              "#7201a8"
             ],
             [
              0.3333333333333333,
              "#9c179e"
             ],
             [
              0.4444444444444444,
              "#bd3786"
             ],
             [
              0.5555555555555556,
              "#d8576b"
             ],
             [
              0.6666666666666666,
              "#ed7953"
             ],
             [
              0.7777777777777778,
              "#fb9f3a"
             ],
             [
              0.8888888888888888,
              "#fdca26"
             ],
             [
              1,
              "#f0f921"
             ]
            ],
            "type": "surface"
           }
          ],
          "table": [
           {
            "cells": {
             "fill": {
              "color": "#EBF0F8"
             },
             "line": {
              "color": "white"
             }
            },
            "header": {
             "fill": {
              "color": "#C8D4E3"
             },
             "line": {
              "color": "white"
             }
            },
            "type": "table"
           }
          ]
         },
         "layout": {
          "annotationdefaults": {
           "arrowcolor": "#2a3f5f",
           "arrowhead": 0,
           "arrowwidth": 1
          },
          "autotypenumbers": "strict",
          "coloraxis": {
           "colorbar": {
            "outlinewidth": 0,
            "ticks": ""
           }
          },
          "colorscale": {
           "diverging": [
            [
             0,
             "#8e0152"
            ],
            [
             0.1,
             "#c51b7d"
            ],
            [
             0.2,
             "#de77ae"
            ],
            [
             0.3,
             "#f1b6da"
            ],
            [
             0.4,
             "#fde0ef"
            ],
            [
             0.5,
             "#f7f7f7"
            ],
            [
             0.6,
             "#e6f5d0"
            ],
            [
             0.7,
             "#b8e186"
            ],
            [
             0.8,
             "#7fbc41"
            ],
            [
             0.9,
             "#4d9221"
            ],
            [
             1,
             "#276419"
            ]
           ],
           "sequential": [
            [
             0,
             "#0d0887"
            ],
            [
             0.1111111111111111,
             "#46039f"
            ],
            [
             0.2222222222222222,
             "#7201a8"
            ],
            [
             0.3333333333333333,
             "#9c179e"
            ],
            [
             0.4444444444444444,
             "#bd3786"
            ],
            [
             0.5555555555555556,
             "#d8576b"
            ],
            [
             0.6666666666666666,
             "#ed7953"
            ],
            [
             0.7777777777777778,
             "#fb9f3a"
            ],
            [
             0.8888888888888888,
             "#fdca26"
            ],
            [
             1,
             "#f0f921"
            ]
           ],
           "sequentialminus": [
            [
             0,
             "#0d0887"
            ],
            [
             0.1111111111111111,
             "#46039f"
            ],
            [
             0.2222222222222222,
             "#7201a8"
            ],
            [
             0.3333333333333333,
             "#9c179e"
            ],
            [
             0.4444444444444444,
             "#bd3786"
            ],
            [
             0.5555555555555556,
             "#d8576b"
            ],
            [
             0.6666666666666666,
             "#ed7953"
            ],
            [
             0.7777777777777778,
             "#fb9f3a"
            ],
            [
             0.8888888888888888,
             "#fdca26"
            ],
            [
             1,
             "#f0f921"
            ]
           ]
          },
          "colorway": [
           "#636efa",
           "#EF553B",
           "#00cc96",
           "#ab63fa",
           "#FFA15A",
           "#19d3f3",
           "#FF6692",
           "#B6E880",
           "#FF97FF",
           "#FECB52"
          ],
          "font": {
           "color": "#2a3f5f"
          },
          "geo": {
           "bgcolor": "white",
           "lakecolor": "white",
           "landcolor": "#E5ECF6",
           "showlakes": true,
           "showland": true,
           "subunitcolor": "white"
          },
          "hoverlabel": {
           "align": "left"
          },
          "hovermode": "closest",
          "mapbox": {
           "style": "light"
          },
          "paper_bgcolor": "white",
          "plot_bgcolor": "#E5ECF6",
          "polar": {
           "angularaxis": {
            "gridcolor": "white",
            "linecolor": "white",
            "ticks": ""
           },
           "bgcolor": "#E5ECF6",
           "radialaxis": {
            "gridcolor": "white",
            "linecolor": "white",
            "ticks": ""
           }
          },
          "scene": {
           "xaxis": {
            "backgroundcolor": "#E5ECF6",
            "gridcolor": "white",
            "gridwidth": 2,
            "linecolor": "white",
            "showbackground": true,
            "ticks": "",
            "zerolinecolor": "white"
           },
           "yaxis": {
            "backgroundcolor": "#E5ECF6",
            "gridcolor": "white",
            "gridwidth": 2,
            "linecolor": "white",
            "showbackground": true,
            "ticks": "",
            "zerolinecolor": "white"
           },
           "zaxis": {
            "backgroundcolor": "#E5ECF6",
            "gridcolor": "white",
            "gridwidth": 2,
            "linecolor": "white",
            "showbackground": true,
            "ticks": "",
            "zerolinecolor": "white"
           }
          },
          "shapedefaults": {
           "line": {
            "color": "#2a3f5f"
           }
          },
          "ternary": {
           "aaxis": {
            "gridcolor": "white",
            "linecolor": "white",
            "ticks": ""
           },
           "baxis": {
            "gridcolor": "white",
            "linecolor": "white",
            "ticks": ""
           },
           "bgcolor": "#E5ECF6",
           "caxis": {
            "gridcolor": "white",
            "linecolor": "white",
            "ticks": ""
           }
          },
          "title": {
           "x": 0.05
          },
          "xaxis": {
           "automargin": true,
           "gridcolor": "white",
           "linecolor": "white",
           "ticks": "",
           "title": {
            "standoff": 15
           },
           "zerolinecolor": "white",
           "zerolinewidth": 2
          },
          "yaxis": {
           "automargin": true,
           "gridcolor": "white",
           "linecolor": "white",
           "ticks": "",
           "title": {
            "standoff": 15
           },
           "zerolinecolor": "white",
           "zerolinewidth": 2
          }
         }
        },
        "width": 1000,
        "xaxis": {
         "anchor": "y",
         "domain": [
          0,
          0.44
         ],
         "title": {
          "text": "bien etre"
         }
        },
        "xaxis2": {
         "anchor": "y2",
         "domain": [
          0.56,
          1
         ],
         "title": {
          "text": "bien etre"
         }
        },
        "yaxis": {
         "anchor": "x",
         "domain": [
          0,
          1
         ],
         "title": {
          "text": "expression et ecoute"
         }
        },
        "yaxis2": {
         "anchor": "x2",
         "domain": [
          0,
          1
         ],
         "title": {
          "text": "expression et ecoute"
         }
        }
       }
      }
     },
     "metadata": {},
     "output_type": "display_data"
    },
    {
     "data": {
      "application/vnd.plotly.v1+json": {
       "config": {
        "plotlyServerURL": "https://plot.ly"
       },
       "data": [
        {
         "alignmentgroup": "True",
         "boxpoints": "all",
         "hovertemplate": "bien etre=%{x}<br>engagement=%{y}<extra></extra>",
         "legendgroup": "",
         "marker": {
          "color": "steelblue"
         },
         "name": "",
         "notched": false,
         "offsetgroup": "",
         "orientation": "v",
         "showlegend": false,
         "type": "box",
         "x": {
          "bdata": "AAAAAAAAAEAAAAAAAAAAQAAAAAAAAABAAAAAAAAACEAAAAAAAAAAAAAAAAAAABRAAAAAAAAAAAAAAAAAAAAUQAAAAAAAAAAAAAAAAAAAAAAAAAAAAAAIQAAAAAAAABRAAAAAAAAAAEAAAAAAAAAAAAAAAAAAAAAAAAAAAAAACEAAAAAAAAAIQAAAAAAAAAAAAAAAAAAAAEAAAAAAAAAAAAAAAAAAAAhAAAAAAAAAAAAAAAAAAAAAAAAAAAAAAAAAAAAAAAAAFEAAAAAAAAAAQAAAAAAAAAAAAAAAAAAAAEAAAAAAAAAIQAAAAAAAABRAAAAAAAAAAAAAAAAAAAAAAAAAAAAAAAAAAAAAAAAAAEAAAAAAAAAAAAAAAAAAAAhAAAAAAAAACEAAAAAAAAAAAAAAAAAAAABAAAAAAAAACEAAAAAAAAAAAAAAAAAAAAhAAAAAAAAAAEAAAAAAAAAIQAAAAAAAAABAAAAAAAAACEAAAAAAAAAIQAAAAAAAAAAAAAAAAAAAAEAAAAAAAAAAQAAAAAAAAAhAAAAAAAAACEAAAAAAAAAAQAAAAAAAAAhAAAAAAAAAAAAAAAAAAAAAQAAAAAAAAABAAAAAAAAAAAAAAAAAAAAAQAAAAAAAAAAAAAAAAAAAAAAAAAAAAAAIQAAAAAAAAABAAAAAAAAACEAAAAAAAAAAQAAAAAAAAABAAAAAAAAAAAAAAAAAAAAAQAAAAAAAAABAAAAAAAAAAEAAAAAAAAAAQAAAAAAAAABAAAAAAAAACEAAAAAAAAAIQAAAAAAAABRAAAAAAAAAAAAAAAAAAAAAAAAAAAAAAAhAAAAAAAAAFEAAAAAAAAAAQAAAAAAAAAhAAAAAAAAAAEAAAAAAAAAAQAAAAAAAAABAAAAAAAAACEAAAAAAAAAIQAAAAAAAAAhAAAAAAAAACEAAAAAAAAAAAAAAAAAAABRAAAAAAAAAAEAAAAAAAAAAQAAAAAAAAABAAAAAAAAAFEAAAAAAAAAIQAAAAAAAABRAAAAAAAAAAEAAAAAAAAAAQAAAAAAAAABAAAAAAAAACEAAAAAAAAAAQAAAAAAAAAhAAAAAAAAAAAAAAAAAAAAIQAAAAAAAAAhAAAAAAAAAAEAAAAAAAAAAQAAAAAAAAABAAAAAAAAAFEAAAAAAAAAIQAAAAAAAAABAAAAAAAAAAEAAAAAAAAAAAAAAAAAAAABAAAAAAAAACEAAAAAAAAAUQAAAAAAAAAAAAAAAAAAAAAAAAAAAAAAIQAAAAAAAAAAAAAAAAAAAFEAAAAAAAAAIQAAAAAAAAAAAAAAAAAAACEAAAAAAAAAAAAAAAAAAAAhAAAAAAAAACEAAAAAAAAAAAAAAAAAAABRAAAAAAAAAAEAAAAAAAAAAAAAAAAAAAABAAAAAAAAAAEAAAAAAAAAAQAAAAAAAAAAAAAAAAAAAAEAAAAAAAAAAQAAAAAAAAABAAAAAAAAAAEAAAAAAAAAIQAAAAAAAAAhAAAAAAAAAFEAAAAAAAAAIQAAAAAAAABRAAAAAAAAAAAAAAAAAAAAAAAAAAAAAAAhAAAAAAAAACEAAAAAAAAAAAAAAAAAAAABAAAAAAAAACEAAAAAAAAAIQAAAAAAAAAhAAAAAAAAACEAAAAAAAAAAAAAAAAAAAAhAAAAAAAAAAAAAAAAAAAAAAAAAAAAAAABAAAAAAAAAAEAAAAAAAAAAAAAAAAAAAAhAAAAAAAAAAEAAAAAAAAAIQAAAAAAAAABAAAAAAAAAAEAAAAAAAAAAAAAAAAAAAABAAAAAAAAACEAAAAAAAAAAQAAAAAAAAAhAAAAAAAAAAAAAAAAAAAAAAAAAAAAAAAhAAAAAAAAACEAAAAAAAAAAQAAAAAAAAAAAAAAAAAAACEAAAAAAAAAIQAAAAAAAAABAAAAAAAAACEAAAAAAAAAIQAAAAAAAAAAAAAAAAAAACEAAAAAAAAAAQAAAAAAAAABAAAAAAAAAFEAAAAAAAAAIQAAAAAAAAAAAAAAAAAAACEAAAAAAAAAAQAAAAAAAAAAAAAAAAAAACEAAAAAAAAAAAAAAAAAAAAAAAAAAAAAAAEAAAAAAAAAIQAAAAAAAAAAAAAAAAAAAAEAAAAAAAAAIQAAAAAAAAAhAAAAAAAAAAEAAAAAAAAAAQAAAAAAAAAAAAAAAAAAAAAAAAAAAAAAAQAAAAAAAAAhAAAAAAAAAAEAAAAAAAAAIQAAAAAAAAABAAAAAAAAAAAAAAAAAAAAIQAAAAAAAAAhAAAAAAAAAAAAAAAAAAAAAQAAAAAAAAAAAAAAAAAAACEAAAAAAAAAIQAAAAAAAAAhAAAAAAAAAFEAAAAAAAAAIQAAAAAAAAAhAAAAAAAAAAEAAAAAAAAAAQAAAAAAAAAAAAAAAAAAAAAAAAAAAAAAIQAAAAAAAAAAAAAAAAAAAAEAAAAAAAAAIQAAAAAAAABRAAAAAAAAAAEAAAAAAAAAIQAAAAAAAAAAAAAAAAAAAAAAAAAAAAAAAQAAAAAAAAAhAAAAAAAAACEAAAAAAAAAIQAAAAAAAAAAAAAAAAAAACEAAAAAAAAAAQAAAAAAAAABAAAAAAAAACEAAAAAAAAAAQAAAAAAAAABAAAAAAAAAAAAAAAAAAAAAQAAAAAAAAAhAAAAAAAAAAEAAAAAAAAAAQAAAAAAAAAAAAAAAAAAAAEAAAAAAAAAAQAAAAAAAABRAAAAAAAAAFEAAAAAAAAAAQAAAAAAAAABAAAAAAAAACEAAAAAAAAAIQAAAAAAAAAhAAAAAAAAAAAAAAAAAAAAIQAAAAAAAAABAAAAAAAAAAEAAAAAAAAAIQAAAAAAAAABAAAAAAAAAAEAAAAAAAAAAAAAAAAAAAABAAAAAAAAAAEAAAAAAAAAAAAAAAAAAAABAAAAAAAAACEAAAAAAAAAAAAAAAAAAAABAAAAAAAAAAEAAAAAAAAAAAAAAAAAAAAhAAAAAAAAAAEAAAAAAAAAAQAAAAAAAAAhAAAAAAAAAAAAAAAAAAAAAAAAAAAAAAABAAAAAAAAAAEAAAAAAAAAAQAAAAAAAAAhAAAAAAAAAAEAAAAAAAAAAAAAAAAAAAABAAAAAAAAAAAAAAAAAAAAAQAAAAAAAAAAAAAAAAAAAAAAAAAAAAAAAAAAAAAAAAABAAAAAAAAACEAAAAAAAAAAQAAAAAAAAAAAAAAAAAAAAAAAAAAAAAAUQAAAAAAAAAhAAAAAAAAAAEAAAAAAAAAAQAAAAAAAAAhAAAAAAAAAAAAAAAAAAAAAQAAAAAAAAAAAAAAAAAAAFEAAAAAAAAAAQAAAAAAAAAhAAAAAAAAACEAAAAAAAAAAAAAAAAAAAABAAAAAAAAAAAAAAAAAAAAIQAAAAAAAAABAAAAAAAAAAEAAAAAAAAAIQAAAAAAAAABAAAAAAAAACEAAAAAAAAAAQAAAAAAAAAhAAAAAAAAACEAAAAAAAAAUQAAAAAAAAAhAAAAAAAAAAAAAAAAAAAAAQAAAAAAAAAAAAAAAAAAAFEAAAAAAAAAAQAAAAAAAAAhAAAAAAAAAAAAAAAAAAAAAQAAAAAAAAAAAAAAAAAAAFEAAAAAAAAAAQAAAAAAAAABAAAAAAAAACEAAAAAAAAAIQAAAAAAAAABAAAAAAAAAAEAAAAAAAAAIQAAAAAAAAAhAAAAAAAAAAEAAAAAAAAAAQAAAAAAAAABAAAAAAAAACEAAAAAAAAAIQAAAAAAAAAhAAAAAAAAAAEAAAAAAAAAAQAAAAAAAAABAAAAAAAAACEAAAAAAAAAAAAAAAAAAAABAAAAAAAAAAAAAAAAAAAAIQAAAAAAAAAhAAAAAAAAAAEAAAAAAAAAAQAAAAAAAAAAAAAAAAAAAAEAAAAAAAAAAAAAAAAAAAAAAAAAAAAAACEAAAAAAAAAIQAAAAAAAAAAAAAAAAAAAFEAAAAAAAAAAAAAAAAAAABRAAAAAAAAAAEAAAAAAAAAAQAAAAAAAAABAAAAAAAAAAAAAAAAAAAAUQAAAAAAAAABAAAAAAAAAAEAAAAAAAAAAAAAAAAAAAABAAAAAAAAAAEAAAAAAAAAIQAAAAAAAAAAAAAAAAAAAAEAAAAAAAAAAQAAAAAAAABRAAAAAAAAAAAAAAAAAAAAUQAAAAAAAABRAAAAAAAAAAEAAAAAAAAAAAAAAAAAAAAhAAAAAAAAAAEAAAAAAAAAAQAAAAAAAAAAAAAAAAAAAAEAAAAAAAAAIQAAAAAAAAAhAAAAAAAAACEAAAAAAAAAAQAAAAAAAAABAAAAAAAAAAEAAAAAAAAAIQAAAAAAAAAhAAAAAAAAACEAAAAAAAAAIQAAAAAAAAABAAAAAAAAAAAAAAAAAAAAAQAAAAAAAAAAAAAAAAAAAAEAAAAAAAAAAQAAAAAAAAAhAAAAAAAAAAEAAAAAAAAAAQAAAAAAAAABAAAAAAAAACEAAAAAAAAAAAAAAAAAAAAhAAAAAAAAAAAAAAAAAAAAAQAAAAAAAAAhAAAAAAAAAAEAAAAAAAAAAQAAAAAAAAAhAAAAAAAAAAEAAAAAAAAAUQAAAAAAAAAhAAAAAAAAACEAAAAAAAAAAAAAAAAAAAABAAAAAAAAAAEAAAAAAAAAIQAAAAAAAABRAAAAAAAAAAAAAAAAAAAAIQAAAAAAAAAAAAAAAAAAAAEAAAAAAAAAUQAAAAAAAAABAAAAAAAAACEAAAAAAAAAUQAAAAAAAAAhAAAAAAAAAAAAAAAAAAAAIQAAAAAAAAABAAAAAAAAAAAAAAAAAAAAUQAAAAAAAAABAAAAAAAAAAEAAAAAAAAAUQAAAAAAAAABAAAAAAAAAAEAAAAAAAAAIQAAAAAAAAABAAAAAAAAAAAAAAAAAAAAAQAAAAAAAAABAAAAAAAAAAEAAAAAAAAAAQAAAAAAAAAhAAAAAAAAAFEAAAAAAAAAIQAAAAAAAAAAAAAAAAAAAFEAAAAAAAAAIQAAAAAAAAABAAAAAAAAACEAAAAAAAAAUQAAAAAAAAABAAAAAAAAAFEAAAAAAAAAIQAAAAAAAAAhAAAAAAAAAAAAAAAAAAAAIQAAAAAAAAAhAAAAAAAAAAAAAAAAAAAAAQAAAAAAAAABAAAAAAAAACEAAAAAAAAAAQAAAAAAAAABAAAAAAAAAAEAAAAAAAAAAQAAAAAAAAAhAAAAAAAAAAEAAAAAAAAAIQAAAAAAAAAhAAAAAAAAAAAAAAAAAAAAIQAAAAAAAAABAAAAAAAAAAEAAAAAAAAAAQAAAAAAAAABAAAAAAAAAAEAAAAAAAAAIQAAAAAAAAABAAAAAAAAACEAAAAAAAAAAQAAAAAAAAAhAAAAAAAAAAEAAAAAAAAAAQAAAAAAAAABAAAAAAAAAAEAAAAAAAAAIQAAAAAAAAABAAAAAAAAACEAAAAAAAAAIQAAAAAAAAAAAAAAAAAAAAEAAAAAAAAAAQAAAAAAAAAhAAAAAAAAACEAAAAAAAAAIQAAAAAAAAAhAAAAAAAAAAAAAAAAAAAAAQAAAAAAAAABAAAAAAAAACEAAAAAAAAAIQAAAAAAAAABAAAAAAAAACEAAAAAAAAAIQAAAAAAAAAhAAAAAAAAAAEAAAAAAAAAAQAAAAAAAAAhAAAAAAAAAAEAAAAAAAAAAQAAAAAAAAAhAAAAAAAAACEAAAAAAAAAAQAAAAAAAAAhAAAAAAAAACEAAAAAAAAAAQAAAAAAAAAhAAAAAAAAACEAAAAAAAAAIQAAAAAAAAABAAAAAAAAAAAAAAAAAAAAAQAAAAAAAAABAAAAAAAAACEAAAAAAAAAUQAAAAAAAAAAAAAAAAAAAAAAAAAAAAAAAQAAAAAAAAAhAAAAAAAAAAEAAAAAAAAAAAAAAAAAAAABAAAAAAAAAAEAAAAAAAAAAQAAAAAAAAAAAAAAAAAAACEAAAAAAAAAIQAAAAAAAAABAAAAAAAAACEAAAAAAAAAIQAAAAAAAABRAAAAAAAAAAAAAAAAAAAAAAAAAAAAAAABAAAAAAAAACEAAAAAAAAAAAAAAAAAAAAhAAAAAAAAAAAAAAAAAAAAIQAAAAAAAAAhAAAAAAAAAFEAAAAAAAAAAAAAAAAAAAABAAAAAAAAAAAAAAAAAAAAAAAAAAAAAABRAAAAAAAAACEAAAAAAAAAIQAAAAAAAAAhAAAAAAAAAAEAAAAAAAAAIQAAAAAAAAABAAAAAAAAAAAAAAAAAAAAAQAAAAAAAABRAAAAAAAAAFEAAAAAAAAAAAAAAAAAAAAAAAAAAAAAAAAAAAAAAAAAAAAAAAAAAAAhAAAAAAAAACEAAAAAAAAAIQAAAAAAAAABAAAAAAAAACEAAAAAAAAAIQAAAAAAAAAhAAAAAAAAACEAAAAAAAAAIQAAAAAAAAAhAAAAAAAAAAEAAAAAAAAAIQAAAAAAAAAhAAAAAAAAACEAAAAAAAAAUQAAAAAAAAABAAAAAAAAAAEAAAAAAAAAIQAAAAAAAAAhAAAAAAAAAAEAAAAAAAAAAQAAAAAAAAABAAAAAAAAACEAAAAAAAAAAQAAAAAAAAAAAAAAAAAAACEAAAAAAAAAIQAAAAAAAAABAAAAAAAAAAEAAAAAAAAAUQAAAAAAAAAAAAAAAAAAAAAAAAAAAAAAAQAAAAAAAAABAAAAAAAAACEAAAAAAAAAAQAAAAAAAAAhAAAAAAAAAAEAAAAAAAAAIQAAAAAAAAABAAAAAAAAAAEAAAAAAAAAAQAAAAAAAAAAAAAAAAAAACEAAAAAAAAAAAAAAAAAAAABAAAAAAAAAAEAAAAAAAAAAAAAAAAAAAABAAAAAAAAAFEAAAAAAAAAAQAAAAAAAAABAAAAAAAAAFEAAAAAAAAAIQAAAAAAAAABAAAAAAAAAAAAAAAAAAAAAQAAAAAAAAAhAAAAAAAAACEAAAAAAAAAAQAAAAAAAABRAAAAAAAAAFEAAAAAAAAAAQAAAAAAAAABAAAAAAAAAAEAAAAAAAAAAQAAAAAAAAAAAAAAAAAAAAAAAAAAAAAAIQAAAAAAAAAAAAAAAAAAAAEAAAAAAAAAIQAAAAAAAAAhAAAAAAAAAAAAAAAAAAAAAQAAAAAAAAAAAAAAAAAAAAAAAAAAAAAAAQAAAAAAAABRAAAAAAAAAAEAAAAAAAAAIQAAAAAAAAABAAAAAAAAAAEAAAAAAAAAAQAAAAAAAAABAAAAAAAAAAEAAAAAAAAAAAAAAAAAAAABAAAAAAAAAAAAAAAAAAAAAQAAAAAAAAAAAAAAAAAAAAEAAAAAAAAAAQAAAAAAAAABAAAAAAAAAAAAAAAAAAAAAQAAAAAAAAABAAAAAAAAAAAAAAAAAAAAIQAAAAAAAAABAAAAAAAAACEAAAAAAAAAUQAAAAAAAAAhAAAAAAAAAAEAAAAAAAAAIQAAAAAAAAAhAAAAAAAAAAAAAAAAAAAAAQAAAAAAAAABAAAAAAAAACEAAAAAAAAAAQAAAAAAAAAhAAAAAAAAAAAAAAAAAAAAAAAAAAAAAAABAAAAAAAAAAEAAAAAAAAAAQAAAAAAAABRAAAAAAAAACEAAAAAAAAAAAAAAAAAAAAAAAAAAAAAAAEAAAAAAAAAAQAAAAAAAAABAAAAAAAAACEAAAAAAAAAAQAAAAAAAAABAAAAAAAAAAEAAAAAAAAAIQAAAAAAAAABAAAAAAAAAAEAAAAAAAAAIQAAAAAAAAAhAAAAAAAAAAEAAAAAAAAAAQAAAAAAAAAAAAAAAAAAAAEAAAAAAAAAIQAAAAAAAAAhAAAAAAAAAAAAAAAAAAAAIQAAAAAAAAAAAAAAAAAAACEAAAAAAAAAIQAAAAAAAAABAAAAAAAAACEAAAAAAAAAAQAAAAAAAAAAAAAAAAAAAAEAAAAAAAAAAAAAAAAAAAAAAAAAAAAAACEAAAAAAAAAIQAAAAAAAAAhAAAAAAAAAAEAAAAAAAAAAQAAAAAAAAAhAAAAAAAAACEAAAAAAAAAAAAAAAAAAAAAAAAAAAAAAAEAAAAAAAAAAQAAAAAAAAABAAAAAAAAACEAAAAAAAAAIQAAAAAAAAABAAAAAAAAACEAAAAAAAAAAQAAAAAAAAABAAAAAAAAAAEAAAAAAAAAAQAAAAAAAAAhAAAAAAAAAAAAAAAAAAAAAQAAAAAAAAAAAAAAAAAAAAAAAAAAAAAAIQAAAAAAAAAhAAAAAAAAACEAAAAAAAAAAQAAAAAAAAAhAAAAAAAAAAEAAAAAAAAAIQAAAAAAAAABAAAAAAAAAAEAAAAAAAAAAAAAAAAAAAABAAAAAAAAAAAAAAAAAAAAAAAAAAAAAABRAAAAAAAAAAAAAAAAAAAAIQAAAAAAAAABAAAAAAAAAAAAAAAAAAAAAQAAAAAAAAAAAAAAAAAAAAEAAAAAAAAAIQAAAAAAAAABAAAAAAAAAAEAAAAAAAAAAQAAAAAAAAAAAAAAAAAAACEAAAAAAAAAAQAAAAAAAAAAAAAAAAAAAAAAAAAAAAAAAQAAAAAAAAAAAAAAAAAAAFEAAAAAAAAAIQAAAAAAAAABAAAAAAAAACEAAAAAAAAAAAAAAAAAAAABAAAAAAAAACEAAAAAAAAAIQAAAAAAAAAAAAAAAAAAAAAAAAAAAAAAIQAAAAAAAAAhAAAAAAAAAAEAAAAAAAAAIQAAAAAAAAABAAAAAAAAAAAAAAAAAAAAAQAAAAAAAAABAAAAAAAAACEAAAAAAAAAAAAAAAAAAAABAAAAAAAAACEAAAAAAAAAIQAAAAAAAAAhAAAAAAAAACEAAAAAAAAAAAAAAAAAAAABAAAAAAAAAAAAAAAAAAAAIQAAAAAAAAAhAAAAAAAAAAEAAAAAAAAAUQAAAAAAAABRAAAAAAAAAAAAAAAAAAAAAQAAAAAAAAAAAAAAAAAAACEAAAAAAAAAIQAAAAAAAAABAAAAAAAAACEAAAAAAAAAIQAAAAAAAAAAAAAAAAAAAAAAAAAAAAAAIQAAAAAAAAABAAAAAAAAAAAAAAAAAAAAAAA==",
          "dtype": "f8"
         },
         "x0": " ",
         "xaxis": "x",
         "y": {
          "bdata": "q6qqqqqq6j/IcRzHcRz/PwAAAAAAAAAAq6qqqqqq+j8AAAAAAAAAAAAAAAAAAAAAyHEcx3Ec/z8AAAAAAAAAAAAAAAAAAAAAAAAAAAAAAAAAAAAAAAAAAHEcx3Ecx/E/yHEcx3Ec/z8AAAAAAAAAAAAAAAAAAAAAq6qqqqqq+j8cx3Ecx3EIQAAAAAAAAAAAyHEcx3Ec/z8AAAAAAAAAAHEcx3Ecx/E/AAAAAAAAAAAAAAAAAAAAAHEcx3Ecx/E/AAAAAAAAAABxHMdxHMfxPwAAAAAAAAAAcRzHcRzH8T8AAAAAAAAAAAAAAAAAAAAAAAAAAAAAAACP4ziO4zgGQAAAAAAAAAAAcRzHcRzH8T8AAAAAAAAAAMhxHMdxHP8/cRzHcRzH8T8AAAAAAAAAAKuqqqqqqvo/yHEcx3Ec/z8AAAAAAAAAAHEcx3EcxwFAcRzHcRzH8T+rqqqqqqr6P3Ecx3Ecx/E/AAAAAAAAAABxHMdxHMcBQHEcx3Ecx/E/AAAAAAAAAAAAAAAAAAAAAKuqqqqqqvo/AAAAAAAAAAAAAAAAAAAAAKuqqqqqqgpAj+M4juM4BkCrqqqqqqoKQHEcx3Ecx/E/yHEcx3Ec/z8AAAAAAAAAAMhxHMdxHP8/yHEcx3Ec/z/IcRzHcRz/PwAAAAAAAAAAAAAAAAAAAACP4ziO4zgGQAAAAAAAAAAAyHEcx3Ec/z/IcRzHcRz/P6uqqqqqqvo/j+M4juM4BkDIcRzHcRz/P8hxHMdxHP8/AAAAAAAAAAAAAAAAAAAEQMhxHMdxHP8/cRzHcRzHAUAAAAAAAAAAAMhxHMdxHP8/HMdxHMdxCEBxHMdxHMcBQAAAAAAAAAAAAAAAAAAAAAAAAAAAAAAAAHEcx3EcxwFAyHEcx3Ec/z9xHMdxHMfxP3Ecx3Ecx/E/cRzHcRzH8T8AAAAAAAAAAKuqqqqqqhBAyHEcx3Ec/z/IcRzHcRz/P8hxHMdxHP8/HMdxHMdxCEAcx3Ecx3EIQAAAAAAAAARAAAAAAAAAAAAAAAAAAAAAAAAAAAAAAAAAAAAAAAAAAAAAAAAAAAAAAHEcx3Ecx/E/AAAAAAAAAAAAAAAAAAAAAAAAAAAAAAAAcRzHcRzH8T+rqqqqqqoKQMhxHMdxHP8/AAAAAAAAAACP4ziO4zgGQHEcx3Ecx/E/AAAAAAAAAAAAAAAAAAAAAAAAAAAAAAAAj+M4juM4BkAAAAAAAAAAAAAAAAAAAAAAcRzHcRzH8T/IcRzHcRz/P8hxHMdxHP8/cRzHcRzH8T9xHMdxHMfxP3Ecx3Ecx/E/yHEcx3Ec/z9xHMdxHMfxPwAAAAAAAAAAyHEcx3Ec/z9xHMdxHMcBQHEcx3Ecx/E/AAAAAAAAAABxHMdxHMfxPwAAAAAAAAAAq6qqqqqq6j9xHMdxHMfxP3Ecx3Ecx/E/yHEcx3Ec/z+rqqqqqqoKQAAAAAAAAARAcRzHcRzH8T9xHMdxHMfxP3Ecx3Ecx/E/q6qqqqqq+j9xHMdxHMfxPwAAAAAAAAAAcRzHcRzH8T/IcRzHcRz/P8hxHMdxHP8/yHEcx3Ec/z9xHMdxHMfxP6uqqqqqquo/cRzHcRzH8T/IcRzHcRz/P43jOI7jOPY/yHEcx3Ec/z8AAAAAAAAAAHEcx3EcxwFAyHEcx3Ec/z9xHMdxHMfxP6uqqqqqqvo/yHEcx3Ec/z8AAAAAAAAEQAAAAAAAAARAAAAAAAAAAABxHMdxHMcBQKuqqqqqqgpAAAAAAAAAAAAAAAAAAAAAAHEcx3Ecx9E/HcdxHMdxCEDIcRzHcRz/P8hxHMdxHP8/AAAAAAAAAACrqqqqqqr6P3Ecx3Ecx/E/AAAAAAAAAAAAAAAAAAAAAAAAAAAAAAAAAAAAAAAAAAAcx3Ecx3EIQMhxHMdxHP8/q6qqqqqq6j/IcRzHcRz/PwAAAAAAAARAHMdxHMdxCEBxHMdxHMfxPwAAAAAAAAAAcRzHcRzH8T8AAAAAAAAAAI/jOI7jOAZAAAAAAAAAAADIcRzHcRz/P3Ecx3Ecx/E/AAAAAAAAAAAAAAAAAAAAAKuqqqqqqvo/q6qqqqqq6j/IcRzHcRz/PwAAAAAAAAAAcRzHcRzH8T9xHMdxHMcBQI3jOI7jOPY/q6qqqqqqEEAAAAAAAAAAAAAAAAAAAAAAcRzHcRzH8T+P4ziO4zgGQI/jOI7jOAZAyHEcx3Ec/z+P4ziO4zgGQMhxHMdxHP8/yHEcx3Ec/z9xHMdxHMfxP8hxHMdxHP8/AAAAAAAAAABxHMdxHMcBQAAAAAAAAAAAcRzHcRzH8T9xHMdxHMfxP3Ecx3EcxwFAcRzHcRzH8T+P4ziO4zgGQAAAAAAAAAAAAAAAAAAAAADIcRzHcRz/P8hxHMdxHP8/AAAAAAAAAABxHMdxHMcBQAAAAAAAAAAAcRzHcRzH8T+rqqqqqqrqPwAAAAAAAAAAcRzHcRzH8T+P4ziO4zgGQMhxHMdxHP8/cRzHcRzHAUBxHMdxHMfxP8hxHMdxHP8/cRzHcRzHAUDIcRzHcRz/P3Ecx3EcxwFAHMdxHMdxCECrqqqqqqoKQMhxHMdxHP8/AAAAAAAAAABxHMdxHMcBQMhxHMdxHP8/yHEcx3Ec/z8AAAAAAAAAAAAAAAAAAAAAcRzHcRzHAUAAAAAAAAAAAAAAAAAAAAAAAAAAAAAAAADIcRzHcRz/P3Ecx3Ecx/E/HMdxHMdxCECrqqqqqqoKQHEcx3Ecx/E/OI7jOI7jEkBxHMdxHMfxP8hxHMdxHP8/yHEcx3Ec/z+rqqqqqqrqP8hxHMdxHP8/cRzHcRzHAUAAAAAAAAAAAI/jOI7jOAZAAAAAAAAAAACP4ziO4zgGQHEcx3Ecx/E/AAAAAAAAAADIcRzHcRz/P8hxHMdxHA9Aj+M4juM4BkAcx3Ecx3EIQMhxHMdxHP8/cRzHcRzH8T8AAAAAAAAAAKuqqqqqqvo/yHEcx3Ec/z+rqqqqqqr6P6uqqqqqqvo/AAAAAAAABECrqqqqqqr6P8hxHMdxHP8/AAAAAAAAAABxHMdxHMfxP6uqqqqqqvo/HMdxHMdxCEBxHMdxHMfxPwAAAAAAAAAAq6qqqqqq6j/IcRzHcRz/PwAAAAAAAAAAAAAAAAAAAAAAAAAAAAAAAKuqqqqqquo/cRzHcRzH8T8AAAAAAAAAAMhxHMdxHP8/j+M4juM4BkAcx3Ecx3EIQI/jOI7jOAZAcRzHcRzH8T9xHMdxHMcBQAAAAAAAAARAAAAAAAAAAABxHMdxHMcBQMhxHMdxHP8/AAAAAAAAAAAAAAAAAAAAAHEcx3EcxwFAAAAAAAAAAABxHMdxHMcBQI/jOI7jOAZAcRzHcRzHAUCP4ziO4zgGQI/jOI7jOAZAyHEcx3Ec/z9xHMdxHMcBQI/jOI7jOAZAcRzHcRzH8T9xHMdxHMcBQMhxHMdxHP8/yHEcx3Ec/z8AAAAAAAAAAHEcx3Ecx/E/cRzHcRzHAUBxHMdxHMcBQAAAAAAAAARAAAAAAAAAAAAAAAAAAAAAAI/jOI7jOAZAAAAAAAAAAABxHMdxHMfxP3Ecx3Ecx/E/cRzHcRzH8T/IcRzHcRz/P8hxHMdxHP8/cRzHcRzHAUCP4ziO4zgGQMhxHMdxHP8/yHEcx3Ec/z8AAAAAAAAEQAAAAAAAAARAyHEcx3Ec/z9xHMdxHMcBQI/jOI7jOAZAAAAAAAAAAAAAAAAAAAAAAHEcx3Ecx/E/cRzHcRzH8T84juM4juMMQKuqqqqqquo/AAAAAAAAAADIcRzHcRz/P3Ecx3Ecx/E/yHEcx3Ec/z/IcRzHcRz/P3Ecx3Ecx/E/cRzHcRzH8T9xHMdxHMcBQHEcx3Ecx/E/cRzHcRzHAUBxHMdxHMfRP4/jOI7jOAZAcRzHcRzHAUAAAAAAAAAAAMhxHMdxHP8/AAAAAAAAAAA4juM4juMMQI/jOI7jOAZAAAAAAAAAAAAAAAAAAAAAAHEcx3Ecx/E/HMdxHMdxCEDIcRzHcRz/PwAAAAAAAAAAcRzHcRzH8T/IcRzHcRz/P6uqqqqqqvo/cRzHcRzH8T9xHMdxHMcBQAAAAAAAAAAAAAAAAAAAAAAcx3Ecx3EIQKuqqqqqqgpAHMdxHMdxCECrqqqqqqoKQHEcx3Ecx/E/cRzHcRzHAUAAAAAAAAAEQI/jOI7jOAZAyHEcx3Ec/z8AAAAAAAAAAMhxHMdxHP8/yHEcx3Ec/z8AAAAAAAAAAMhxHMdxHP8/AAAAAAAAAADIcRzHcRz/P43jOI7jOAZAAAAAAAAAAABxHMdxHMcBQAAAAAAAAAAAHMdxHMdxCEBxHMdxHMcBQI/jOI7jOAZAcRzHcRzHAUAAAAAAAAAAAHEcx3EcxwFAyHEcx3Ec/z/IcRzHcRz/PwAAAAAAAAAAcRzHcRzH8T+rqqqqqqr6P3Ecx3Ecx/E/q6qqqqqq6j8AAAAAAAAAAHEcx3EcxwFAcRzHcRzHAUBxHMdxHMcBQHEcx3Ecx/E/AAAAAAAAAACrqqqqqqoKQMhxHMdxHP8/yHEcx3Ec/z+rqqqqqqoKQHEcx3EcxwFAAAAAAAAAAABxHMdxHMfxP3Ecx3Ecx/E/AAAAAAAABEBxHMdxHMcBQMhxHMdxHP8/cRzHcRzHAUCrqqqqqqr6P6uqqqqqquo/q6qqqqqq6j8AAAAAAAAAAKuqqqqqqvo/AAAAAAAAAAAcx3Ecx3EIQHEcx3Ecx/E/yHEcx3EcD0AAAAAAAAAEQAAAAAAAAAAAcRzHcRzHAUAAAAAAAAAAAHEcx3Ecx/E/cRzHcRzHAUCP4ziO4zgGQI/jOI7jOAZAj+M4juM4BkAAAAAAAAAAAI3jOI7jOAZAj+M4juM4BkAcx3Ecx3EIQHEcx3Ecx/E/AAAAAAAAAAAAAAAAAAAEQI/jOI7jOAZAAAAAAAAAAADIcRzHcRz/PxzHcRzHcQhAAAAAAAAAAAAAAAAAAAAAAI/jOI7jOAZAAAAAAAAAAACrqqqqqqoKQKuqqqqqqgpAq6qqqqqq+j8cx3Ecx3EIQHEcx3EcxwFAAAAAAAAAAADIcRzHcRz/P4/jOI7jOAZAyHEcx3Ec/z+rqqqqqqoKQAAAAAAAAAAAj+M4juM4BkDIcRzHcRwPQHEcx3Ecx/E/HMdxHMdxCEAcx3Ecx3EIQHEcx3EcxwFAyHEcx3Ec/z9xHMdxHMfxPwAAAAAAAAAAcRzHcRzHAUAcx3Ecx3EIQHEcx3EcxwFAcRzHcRzH8T/IcRzHcRz/P3Ecx3Ecx/E/HMdxHMdxCECN4ziO4zj2P43jOI7jOPY/HMdxHMdxCEAAAAAAAAAAAI/jOI7jOAZAAAAAAAAAAADIcRzHcRz/PwAAAAAAAAAAq6qqqqqq+j8AAAAAAAAEQMhxHMdxHP8/cRzHcRzH8T+rqqqqqqoKQHEcx3Ecx/E/yHEcx3Ec/z8cx3Ecx3EIQAAAAAAAAAAAj+M4juM4BkDIcRzHcRz/P3Ecx3EcxwFAcRzHcRzHAUAAAAAAAAAAAMhxHMdxHP8/yHEcx3Ec/z9xHMdxHMfxPwAAAAAAAAAAyHEcx3Ec/z84juM4juMMQKuqqqqqqgpAAAAAAAAABECN4ziO4zj2PwAAAAAAAARAyHEcx3Ec/z+rqqqqqqoKQAAAAAAAAAAAHMdxHMdxCECP4ziO4zgGQAAAAAAAAAAAjeM4juM4BkDIcRzHcRz/PwAAAAAAAAAAyHEcx3Ec/z8AAAAAAAAAAAAAAAAAAAAAcRzHcRzHAUAAAAAAAAAEQMhxHMdxHP8/yHEcx3Ec/z9xHMdxHMfxP8hxHMdxHP8/AAAAAAAAAACrqqqqqqr6PwAAAAAAAARAcRzHcRzH8T+P4ziO4zgGQHEcx3EcxwFAcRzHcRzHAUDIcRzHcRz/PwAAAAAAAAAAcRzHcRzHAUAAAAAAAAAAAKuqqqqqqvo/AAAAAAAAAABxHMdxHMcBQMhxHMdxHP8/AAAAAAAAAAAAAAAAAAAAAAAAAAAAAAAAyHEcx3Ec/z/IcRzHcRz/PwAAAAAAAAAAAAAAAAAAAAAAAAAAAAAAAMhxHMdxHP8/AAAAAAAABEAAAAAAAAAAAAAAAAAAAAAAyHEcx3Ec/z+P4ziO4zgGQAAAAAAAAARAj+M4juM4BkAcx3Ecx3EIQBzHcRzHcQhAAAAAAAAAAAAAAAAAAAAAAHEcx3Ecx/E/AAAAAAAAAABxHMdxHMcBQKuqqqqqquo/AAAAAAAAAADIcRzHcRz/P3Ecx3EcxwFAAAAAAAAAAAAcx3Ecx3EIQHEcx3Ecx/E/yHEcx3Ec/z8AAAAAAAAAAHEcx3Ecx/E/cRzHcRzH8T/IcRzHcRz/P6uqqqqqquo/j+M4juM4BkCP4ziO4zgGQHEcx3EcxwFAcRzHcRzH8T8AAAAAAAAAAKuqqqqqqhBAyHEcx3Ec/z8cx3Ecx3EIQHEcx3Ecx/E/yHEcx3Ec/z8AAAAAAAAAAAAAAAAAAAAAyHEcx3Ec/z/IcRzHcRz/P3Ecx3EcxwFAcRzHcRzHAUAAAAAAAAAAAMhxHMdxHP8/q6qqqqqq6j+N4ziO4zj2P8hxHMdxHP8/cRzHcRzHAUDIcRzHcRz/PwAAAAAAAAAAAAAAAAAAAABxHMdxHMfxPwAAAAAAAAAAcRzHcRzH8T+P4ziO4zgGQMhxHMdxHP8/AAAAAAAAAABxHMdxHMfxP8hxHMdxHP8/AAAAAAAAAABxHMdxHMfRP3Ecx3Ecx/E/yHEcx3Ec/z/IcRzHcRz/PwAAAAAAAAAAAAAAAAAAAABxHMdxHMfxPwAAAAAAAAAAcRzHcRzHAUBxHMdxHMfxPwAAAAAAAAAAHMdxHMdxCEBxHMdxHMfxP8hxHMdxHP8/q6qqqqqq+j+rqqqqqqr6P8hxHMdxHP8/cRzHcRzHAUAAAAAAAAAAAMhxHMdxHP8/AAAAAAAABEDIcRzHcRz/P6uqqqqqqvo/cRzHcRzH8T8AAAAAAAAAAKuqqqqqquo/j+M4juM4BkDIcRzHcRz/P4/jOI7jOAZAj+M4juM4BkAAAAAAAAAAAI3jOI7jOPY/AAAAAAAAAABxHMdxHMfxPwAAAAAAAAAAAAAAAAAAAAAAAAAAAAAAAHEcx3Ecx/E/AAAAAAAAAABxHMdxHMfxPwAAAAAAAAAAj+M4juM4BkCrqqqqqqrqP8hxHMdxHP8/cRzHcRzH0T8AAAAAAAAAAKuqqqqqqvo/cRzHcRzH8T9xHMdxHMfRPwAAAAAAAAAAAAAAAAAAAAAAAAAAAAAEQHEcx3Ecx+E/AAAAAAAAAACrqqqqqqrqP3Ecx3Ecx9E/yHEcx3Ec/z/IcRzHcRz/P8hxHMdxHP8/cRzHcRzH0T8AAAAAAAAEQKuqqqqqqvo/q6qqqqqq+j8AAAAAAAAAAAAAAAAAAARAHMdxHMdxCECrqqqqqqoKQMhxHMdxHP8/q6qqqqqq+j8AAAAAAAAEQHEcx3Ecx9E/q6qqqqqq6j9xHMdxHMfxP6uqqqqqquo/cRzHcRzH0T+rqqqqqqrqP8hxHMdxHP8/q6qqqqqq6j+N4ziO4zj2P4/jOI7jOAZAjeM4juM49j/IcRzHcRz/PxzHcRzHcQhAyHEcx3Ec/z+N4ziO4zj2P4/jOI7jOAZAyHEcx3Ec/z/IcRzHcRz/P3Ecx3Ecx/E/AAAAAAAAAABxHMdxHMcBQMhxHMdxHP8/AAAAAAAABECrqqqqqqr6P6uqqqqqquo/cRzHcRzH0T8AAAAAAAAEQKuqqqqqqvo/cRzHcRzH0T+rqqqqqqr6P6uqqqqqquo/cRzHcRzH0T+rqqqqqqr6PwAAAAAAAARAjeM4juM4BkAAAAAAAAAAAHEcx3Ecx+E/q6qqqqqq+j8AAAAAAAAAAMhxHMdxHP8/AAAAAAAABEDIcRzHcRz/P6uqqqqqqgpAyHEcx3Ec/z9xHMdxHMfhP3Ecx3Ecx/E/AAAAAAAAAACrqqqqqqrqPwAAAAAAAAAAcRzHcRzH0T8AAAAAAAAEQKuqqqqqqvo/AAAAAAAABEBxHMdxHMcBQHEcx3Ecx9E/q6qqqqqq+j8AAAAAAAAAAMhxHMdxHP8/q6qqqqqq+j9xHMdxHMfxP8hxHMdxHP8/cRzHcRzH0T9xHMdxHMfRPwAAAAAAAARAq6qqqqqq+j9xHMdxHMcBQHEcx3Ecx9E/HMdxHMdxCEAAAAAAAAAEQMhxHMdxHP8/cRzHcRzH8T8cx3Ecx3EIQMhxHMdxHP8/AAAAAAAABEDIcRzHcRz/P3Ecx3Ecx9E/q6qqqqqq6j8AAAAAAAAAAHEcx3Ecx/E/q6qqqqqq+j9xHMdxHMfRP3Ecx3Ecx9E/AAAAAAAAAACrqqqqqqrqP6uqqqqqqvo/AAAAAAAAAADIcRzHcRz/P6uqqqqqqvo/q6qqqqqqCkBxHMdxHMfRPwAAAAAAAARAq6qqqqqq+j+P4ziO4zgGQMhxHMdxHP8/jeM4juM49j9xHMdxHMcBQMhxHMdxHP8/yHEcx3Ec/z9xHMdxHMcBQMhxHMdxHP8/cRzHcRzHAUBxHMdxHMcBQMhxHMdxHP8/yHEcx3Ec/z8AAAAAAAAEQHEcx3EcxwFAcRzHcRzHAUCN4ziO4zj2P6uqqqqqqvo/cRzHcRzH4T/IcRzHcRz/PwAAAAAAAAAAcRzHcRzH8T8AAAAAAAAAAAAAAAAAAAAAq6qqqqqq+j8AAAAAAAAAAMhxHMdxHP8/AAAAAAAABECrqqqqqqr6P3Ecx3EcxwFAOI7jOI7jDECP4ziO4zgGQHEcx3Ecx/E/cRzHcRzHAUAAAAAAAAAAAHEcx3Ecx/E/AAAAAAAABEAAAAAAAAAEQI/jOI7jOAZAj+M4juM4BkBxHMdxHMfRP6uqqqqqqvo/q6qqqqqq+j8AAAAAAAAAAHEcx3Ecx9E/cRzHcRzH8T8AAAAAAAAEQAAAAAAAAAAAyHEcx3Ec/z/IcRzHcRz/P6uqqqqqquo/cRzHcRzH4T9xHMdxHMfRPw==",
          "dtype": "f8"
         },
         "y0": " ",
         "yaxis": "y"
        },
        {
         "colorbar": {
          "title": {
           "text": "Nombre d'élèves"
          }
         },
         "colorscale": [
          [
           0,
           "rgb(247,251,255)"
          ],
          [
           0.125,
           "rgb(222,235,247)"
          ],
          [
           0.25,
           "rgb(198,219,239)"
          ],
          [
           0.375,
           "rgb(158,202,225)"
          ],
          [
           0.5,
           "rgb(107,174,214)"
          ],
          [
           0.625,
           "rgb(66,146,198)"
          ],
          [
           0.75,
           "rgb(33,113,181)"
          ],
          [
           0.875,
           "rgb(8,81,156)"
          ],
          [
           1,
           "rgb(8,48,107)"
          ]
         ],
         "hovertemplate": "bien etre: %{x}<br>engagement: %{y}<br>n: %{z}<extra></extra>",
         "text": {
          "bdata": "AAABAAIEAwEUKCkORXl2ESJEMAxDWTsR",
          "dtype": "i1",
          "shape": "6, 4"
         },
         "texttemplate": "%{text}",
         "type": "heatmap",
         "x": {
          "bdata": "AAAAAAAAAAAAAAAAAAAAQAAAAAAAAAhAAAAAAAAAFEA=",
          "dtype": "f8"
         },
         "xaxis": "x2",
         "y": {
          "bdata": "AAAAAAAAFEAAAAAAAAAQQAAAAAAAAAhAAAAAAAAAAEAAAAAAAADwPwAAAAAAAAAA",
          "dtype": "f8"
         },
         "yaxis": "y2",
         "z": {
          "bdata": "AAABAAIEAwEUKCkORXl2ESJEMAxDWTsR",
          "dtype": "i1",
          "shape": "6, 4"
         },
         "zmax": 121,
         "zmin": 0
        }
       ],
       "layout": {
        "height": 500,
        "showlegend": false,
        "template": {
         "data": {
          "bar": [
           {
            "error_x": {
             "color": "#2a3f5f"
            },
            "error_y": {
             "color": "#2a3f5f"
            },
            "marker": {
             "line": {
              "color": "#E5ECF6",
              "width": 0.5
             },
             "pattern": {
              "fillmode": "overlay",
              "size": 10,
              "solidity": 0.2
             }
            },
            "type": "bar"
           }
          ],
          "barpolar": [
           {
            "marker": {
             "line": {
              "color": "#E5ECF6",
              "width": 0.5
             },
             "pattern": {
              "fillmode": "overlay",
              "size": 10,
              "solidity": 0.2
             }
            },
            "type": "barpolar"
           }
          ],
          "carpet": [
           {
            "aaxis": {
             "endlinecolor": "#2a3f5f",
             "gridcolor": "white",
             "linecolor": "white",
             "minorgridcolor": "white",
             "startlinecolor": "#2a3f5f"
            },
            "baxis": {
             "endlinecolor": "#2a3f5f",
             "gridcolor": "white",
             "linecolor": "white",
             "minorgridcolor": "white",
             "startlinecolor": "#2a3f5f"
            },
            "type": "carpet"
           }
          ],
          "choropleth": [
           {
            "colorbar": {
             "outlinewidth": 0,
             "ticks": ""
            },
            "type": "choropleth"
           }
          ],
          "contour": [
           {
            "colorbar": {
             "outlinewidth": 0,
             "ticks": ""
            },
            "colorscale": [
             [
              0,
              "#0d0887"
             ],
             [
              0.1111111111111111,
              "#46039f"
             ],
             [
              0.2222222222222222,
              "#7201a8"
             ],
             [
              0.3333333333333333,
              "#9c179e"
             ],
             [
              0.4444444444444444,
              "#bd3786"
             ],
             [
              0.5555555555555556,
              "#d8576b"
             ],
             [
              0.6666666666666666,
              "#ed7953"
             ],
             [
              0.7777777777777778,
              "#fb9f3a"
             ],
             [
              0.8888888888888888,
              "#fdca26"
             ],
             [
              1,
              "#f0f921"
             ]
            ],
            "type": "contour"
           }
          ],
          "contourcarpet": [
           {
            "colorbar": {
             "outlinewidth": 0,
             "ticks": ""
            },
            "type": "contourcarpet"
           }
          ],
          "heatmap": [
           {
            "colorbar": {
             "outlinewidth": 0,
             "ticks": ""
            },
            "colorscale": [
             [
              0,
              "#0d0887"
             ],
             [
              0.1111111111111111,
              "#46039f"
             ],
             [
              0.2222222222222222,
              "#7201a8"
             ],
             [
              0.3333333333333333,
              "#9c179e"
             ],
             [
              0.4444444444444444,
              "#bd3786"
             ],
             [
              0.5555555555555556,
              "#d8576b"
             ],
             [
              0.6666666666666666,
              "#ed7953"
             ],
             [
              0.7777777777777778,
              "#fb9f3a"
             ],
             [
              0.8888888888888888,
              "#fdca26"
             ],
             [
              1,
              "#f0f921"
             ]
            ],
            "type": "heatmap"
           }
          ],
          "histogram": [
           {
            "marker": {
             "pattern": {
              "fillmode": "overlay",
              "size": 10,
              "solidity": 0.2
             }
            },
            "type": "histogram"
           }
          ],
          "histogram2d": [
           {
            "colorbar": {
             "outlinewidth": 0,
             "ticks": ""
            },
            "colorscale": [
             [
              0,
              "#0d0887"
             ],
             [
              0.1111111111111111,
              "#46039f"
             ],
             [
              0.2222222222222222,
              "#7201a8"
             ],
             [
              0.3333333333333333,
              "#9c179e"
             ],
             [
              0.4444444444444444,
              "#bd3786"
             ],
             [
              0.5555555555555556,
              "#d8576b"
             ],
             [
              0.6666666666666666,
              "#ed7953"
             ],
             [
              0.7777777777777778,
              "#fb9f3a"
             ],
             [
              0.8888888888888888,
              "#fdca26"
             ],
             [
              1,
              "#f0f921"
             ]
            ],
            "type": "histogram2d"
           }
          ],
          "histogram2dcontour": [
           {
            "colorbar": {
             "outlinewidth": 0,
             "ticks": ""
            },
            "colorscale": [
             [
              0,
              "#0d0887"
             ],
             [
              0.1111111111111111,
              "#46039f"
             ],
             [
              0.2222222222222222,
              "#7201a8"
             ],
             [
              0.3333333333333333,
              "#9c179e"
             ],
             [
              0.4444444444444444,
              "#bd3786"
             ],
             [
              0.5555555555555556,
              "#d8576b"
             ],
             [
              0.6666666666666666,
              "#ed7953"
             ],
             [
              0.7777777777777778,
              "#fb9f3a"
             ],
             [
              0.8888888888888888,
              "#fdca26"
             ],
             [
              1,
              "#f0f921"
             ]
            ],
            "type": "histogram2dcontour"
           }
          ],
          "mesh3d": [
           {
            "colorbar": {
             "outlinewidth": 0,
             "ticks": ""
            },
            "type": "mesh3d"
           }
          ],
          "parcoords": [
           {
            "line": {
             "colorbar": {
              "outlinewidth": 0,
              "ticks": ""
             }
            },
            "type": "parcoords"
           }
          ],
          "pie": [
           {
            "automargin": true,
            "type": "pie"
           }
          ],
          "scatter": [
           {
            "fillpattern": {
             "fillmode": "overlay",
             "size": 10,
             "solidity": 0.2
            },
            "type": "scatter"
           }
          ],
          "scatter3d": [
           {
            "line": {
             "colorbar": {
              "outlinewidth": 0,
              "ticks": ""
             }
            },
            "marker": {
             "colorbar": {
              "outlinewidth": 0,
              "ticks": ""
             }
            },
            "type": "scatter3d"
           }
          ],
          "scattercarpet": [
           {
            "marker": {
             "colorbar": {
              "outlinewidth": 0,
              "ticks": ""
             }
            },
            "type": "scattercarpet"
           }
          ],
          "scattergeo": [
           {
            "marker": {
             "colorbar": {
              "outlinewidth": 0,
              "ticks": ""
             }
            },
            "type": "scattergeo"
           }
          ],
          "scattergl": [
           {
            "marker": {
             "colorbar": {
              "outlinewidth": 0,
              "ticks": ""
             }
            },
            "type": "scattergl"
           }
          ],
          "scattermap": [
           {
            "marker": {
             "colorbar": {
              "outlinewidth": 0,
              "ticks": ""
             }
            },
            "type": "scattermap"
           }
          ],
          "scattermapbox": [
           {
            "marker": {
             "colorbar": {
              "outlinewidth": 0,
              "ticks": ""
             }
            },
            "type": "scattermapbox"
           }
          ],
          "scatterpolar": [
           {
            "marker": {
             "colorbar": {
              "outlinewidth": 0,
              "ticks": ""
             }
            },
            "type": "scatterpolar"
           }
          ],
          "scatterpolargl": [
           {
            "marker": {
             "colorbar": {
              "outlinewidth": 0,
              "ticks": ""
             }
            },
            "type": "scatterpolargl"
           }
          ],
          "scatterternary": [
           {
            "marker": {
             "colorbar": {
              "outlinewidth": 0,
              "ticks": ""
             }
            },
            "type": "scatterternary"
           }
          ],
          "surface": [
           {
            "colorbar": {
             "outlinewidth": 0,
             "ticks": ""
            },
            "colorscale": [
             [
              0,
              "#0d0887"
             ],
             [
              0.1111111111111111,
              "#46039f"
             ],
             [
              0.2222222222222222,
              "#7201a8"
             ],
             [
              0.3333333333333333,
              "#9c179e"
             ],
             [
              0.4444444444444444,
              "#bd3786"
             ],
             [
              0.5555555555555556,
              "#d8576b"
             ],
             [
              0.6666666666666666,
              "#ed7953"
             ],
             [
              0.7777777777777778,
              "#fb9f3a"
             ],
             [
              0.8888888888888888,
              "#fdca26"
             ],
             [
              1,
              "#f0f921"
             ]
            ],
            "type": "surface"
           }
          ],
          "table": [
           {
            "cells": {
             "fill": {
              "color": "#EBF0F8"
             },
             "line": {
              "color": "white"
             }
            },
            "header": {
             "fill": {
              "color": "#C8D4E3"
             },
             "line": {
              "color": "white"
             }
            },
            "type": "table"
           }
          ]
         },
         "layout": {
          "annotationdefaults": {
           "arrowcolor": "#2a3f5f",
           "arrowhead": 0,
           "arrowwidth": 1
          },
          "autotypenumbers": "strict",
          "coloraxis": {
           "colorbar": {
            "outlinewidth": 0,
            "ticks": ""
           }
          },
          "colorscale": {
           "diverging": [
            [
             0,
             "#8e0152"
            ],
            [
             0.1,
             "#c51b7d"
            ],
            [
             0.2,
             "#de77ae"
            ],
            [
             0.3,
             "#f1b6da"
            ],
            [
             0.4,
             "#fde0ef"
            ],
            [
             0.5,
             "#f7f7f7"
            ],
            [
             0.6,
             "#e6f5d0"
            ],
            [
             0.7,
             "#b8e186"
            ],
            [
             0.8,
             "#7fbc41"
            ],
            [
             0.9,
             "#4d9221"
            ],
            [
             1,
             "#276419"
            ]
           ],
           "sequential": [
            [
             0,
             "#0d0887"
            ],
            [
             0.1111111111111111,
             "#46039f"
            ],
            [
             0.2222222222222222,
             "#7201a8"
            ],
            [
             0.3333333333333333,
             "#9c179e"
            ],
            [
             0.4444444444444444,
             "#bd3786"
            ],
            [
             0.5555555555555556,
             "#d8576b"
            ],
            [
             0.6666666666666666,
             "#ed7953"
            ],
            [
             0.7777777777777778,
             "#fb9f3a"
            ],
            [
             0.8888888888888888,
             "#fdca26"
            ],
            [
             1,
             "#f0f921"
            ]
           ],
           "sequentialminus": [
            [
             0,
             "#0d0887"
            ],
            [
             0.1111111111111111,
             "#46039f"
            ],
            [
             0.2222222222222222,
             "#7201a8"
            ],
            [
             0.3333333333333333,
             "#9c179e"
            ],
            [
             0.4444444444444444,
             "#bd3786"
            ],
            [
             0.5555555555555556,
             "#d8576b"
            ],
            [
             0.6666666666666666,
             "#ed7953"
            ],
            [
             0.7777777777777778,
             "#fb9f3a"
            ],
            [
             0.8888888888888888,
             "#fdca26"
            ],
            [
             1,
             "#f0f921"
            ]
           ]
          },
          "colorway": [
           "#636efa",
           "#EF553B",
           "#00cc96",
           "#ab63fa",
           "#FFA15A",
           "#19d3f3",
           "#FF6692",
           "#B6E880",
           "#FF97FF",
           "#FECB52"
          ],
          "font": {
           "color": "#2a3f5f"
          },
          "geo": {
           "bgcolor": "white",
           "lakecolor": "white",
           "landcolor": "#E5ECF6",
           "showlakes": true,
           "showland": true,
           "subunitcolor": "white"
          },
          "hoverlabel": {
           "align": "left"
          },
          "hovermode": "closest",
          "mapbox": {
           "style": "light"
          },
          "paper_bgcolor": "white",
          "plot_bgcolor": "#E5ECF6",
          "polar": {
           "angularaxis": {
            "gridcolor": "white",
            "linecolor": "white",
            "ticks": ""
           },
           "bgcolor": "#E5ECF6",
           "radialaxis": {
            "gridcolor": "white",
            "linecolor": "white",
            "ticks": ""
           }
          },
          "scene": {
           "xaxis": {
            "backgroundcolor": "#E5ECF6",
            "gridcolor": "white",
            "gridwidth": 2,
            "linecolor": "white",
            "showbackground": true,
            "ticks": "",
            "zerolinecolor": "white"
           },
           "yaxis": {
            "backgroundcolor": "#E5ECF6",
            "gridcolor": "white",
            "gridwidth": 2,
            "linecolor": "white",
            "showbackground": true,
            "ticks": "",
            "zerolinecolor": "white"
           },
           "zaxis": {
            "backgroundcolor": "#E5ECF6",
            "gridcolor": "white",
            "gridwidth": 2,
            "linecolor": "white",
            "showbackground": true,
            "ticks": "",
            "zerolinecolor": "white"
           }
          },
          "shapedefaults": {
           "line": {
            "color": "#2a3f5f"
           }
          },
          "ternary": {
           "aaxis": {
            "gridcolor": "white",
            "linecolor": "white",
            "ticks": ""
           },
           "baxis": {
            "gridcolor": "white",
            "linecolor": "white",
            "ticks": ""
           },
           "bgcolor": "#E5ECF6",
           "caxis": {
            "gridcolor": "white",
            "linecolor": "white",
            "ticks": ""
           }
          },
          "title": {
           "x": 0.05
          },
          "xaxis": {
           "automargin": true,
           "gridcolor": "white",
           "linecolor": "white",
           "ticks": "",
           "title": {
            "standoff": 15
           },
           "zerolinecolor": "white",
           "zerolinewidth": 2
          },
          "yaxis": {
           "automargin": true,
           "gridcolor": "white",
           "linecolor": "white",
           "ticks": "",
           "title": {
            "standoff": 15
           },
           "zerolinecolor": "white",
           "zerolinewidth": 2
          }
         }
        },
        "width": 1000,
        "xaxis": {
         "anchor": "y",
         "domain": [
          0,
          0.44
         ],
         "title": {
          "text": "bien etre"
         }
        },
        "xaxis2": {
         "anchor": "y2",
         "domain": [
          0.56,
          1
         ],
         "title": {
          "text": "bien etre"
         }
        },
        "yaxis": {
         "anchor": "x",
         "domain": [
          0,
          1
         ],
         "title": {
          "text": "engagement"
         }
        },
        "yaxis2": {
         "anchor": "x2",
         "domain": [
          0,
          1
         ],
         "title": {
          "text": "engagement"
         }
        }
       }
      }
     },
     "metadata": {},
     "output_type": "display_data"
    },
    {
     "data": {
      "application/vnd.plotly.v1+json": {
       "config": {
        "plotlyServerURL": "https://plot.ly"
       },
       "data": [
        {
         "alignmentgroup": "True",
         "boxpoints": "all",
         "hovertemplate": "expression et ecoute=%{x}<br>engagement=%{y}<extra></extra>",
         "legendgroup": "",
         "marker": {
          "color": "steelblue"
         },
         "name": "",
         "notched": false,
         "offsetgroup": "",
         "orientation": "v",
         "showlegend": false,
         "type": "box",
         "x": {
          "bdata": "AAAAAAAACEAAAAAAAAAAQAAAAAAAAAAAAAAAAAAACEAAAAAAAAAUQAAAAAAAAAhAAAAAAAAAAAAAAAAAAAAIQAAAAAAAAAhAAAAAAAAAAAAAAAAAAAAUQAAAAAAAAAhAAAAAAAAACEAAAAAAAAAAQAAAAAAAAAhAAAAAAAAAFEAAAAAAAAAAQAAAAAAAAAhAAAAAAAAAAEAAAAAAAAAIQAAAAAAAAAhAAAAAAAAAFEAAAAAAAAAIQAAAAAAAAABAAAAAAAAAFEAAAAAAAAAIQAAAAAAAAAAAAAAAAAAAAEAAAAAAAAAIQAAAAAAAAABAAAAAAAAAFEAAAAAAAAAAAAAAAAAAAABAAAAAAAAAFEAAAAAAAAAAQAAAAAAAAAhAAAAAAAAACEAAAAAAAAAIQAAAAAAAABRAAAAAAAAACEAAAAAAAAAAQAAAAAAAAABAAAAAAAAAAEAAAAAAAAAAQAAAAAAAAABAAAAAAAAACEAAAAAAAAAIQAAAAAAAABRAAAAAAAAACEAAAAAAAAAAAAAAAAAAAAhAAAAAAAAACEAAAAAAAAAAQAAAAAAAAAhAAAAAAAAAAEAAAAAAAAAAAAAAAAAAAABAAAAAAAAAAEAAAAAAAAAAQAAAAAAAAAhAAAAAAAAAFEAAAAAAAAAIQAAAAAAAAAhAAAAAAAAAAEAAAAAAAAAAAAAAAAAAAABAAAAAAAAAAEAAAAAAAAAAQAAAAAAAAABAAAAAAAAAAEAAAAAAAAAAQAAAAAAAAAhAAAAAAAAAFEAAAAAAAAAAQAAAAAAAAAhAAAAAAAAAAEAAAAAAAAAAQAAAAAAAAAhAAAAAAAAAAEAAAAAAAAAIQAAAAAAAAAhAAAAAAAAACEAAAAAAAAAIQAAAAAAAAAhAAAAAAAAACEAAAAAAAAAIQAAAAAAAAAhAAAAAAAAAFEAAAAAAAAAAAAAAAAAAAAhAAAAAAAAAAAAAAAAAAAAIQAAAAAAAAAhAAAAAAAAACEAAAAAAAAAAQAAAAAAAABRAAAAAAAAAAEAAAAAAAAAAQAAAAAAAAAhAAAAAAAAAAEAAAAAAAAAAQAAAAAAAABRAAAAAAAAAFEAAAAAAAAAAQAAAAAAAAABAAAAAAAAACEAAAAAAAAAIQAAAAAAAABRAAAAAAAAAAEAAAAAAAAAIQAAAAAAAAAhAAAAAAAAAAEAAAAAAAAAAAAAAAAAAAAhAAAAAAAAACEAAAAAAAAAIQAAAAAAAAAhAAAAAAAAAAEAAAAAAAAAIQAAAAAAAAABAAAAAAAAACEAAAAAAAAAAQAAAAAAAAAAAAAAAAAAAFEAAAAAAAAAAQAAAAAAAAABAAAAAAAAACEAAAAAAAAAAQAAAAAAAAABAAAAAAAAAFEAAAAAAAAAAQAAAAAAAAABAAAAAAAAAAEAAAAAAAAAAQAAAAAAAAABAAAAAAAAAAEAAAAAAAAAAQAAAAAAAAAhAAAAAAAAAAEAAAAAAAAAIQAAAAAAAAABAAAAAAAAACEAAAAAAAAAAQAAAAAAAAAhAAAAAAAAAAEAAAAAAAAAIQAAAAAAAAAhAAAAAAAAAFEAAAAAAAAAAAAAAAAAAAAhAAAAAAAAACEAAAAAAAAAIQAAAAAAAAAhAAAAAAAAACEAAAAAAAAAAAAAAAAAAAAAAAAAAAAAAAEAAAAAAAAAAAAAAAAAAAABAAAAAAAAACEAAAAAAAAAAAAAAAAAAABRAAAAAAAAACEAAAAAAAAAAQAAAAAAAAABAAAAAAAAAAEAAAAAAAAAIQAAAAAAAAABAAAAAAAAACEAAAAAAAAAAQAAAAAAAAABAAAAAAAAAFEAAAAAAAAAAQAAAAAAAAAhAAAAAAAAACEAAAAAAAAAIQAAAAAAAAAhAAAAAAAAAAEAAAAAAAAAUQAAAAAAAABRAAAAAAAAACEAAAAAAAAAIQAAAAAAAAABAAAAAAAAAAEAAAAAAAAAIQAAAAAAAAAhAAAAAAAAAFEAAAAAAAAAIQAAAAAAAAABAAAAAAAAACEAAAAAAAAAAQAAAAAAAAAAAAAAAAAAAAEAAAAAAAAAAQAAAAAAAAABAAAAAAAAACEAAAAAAAAAIQAAAAAAAAAAAAAAAAAAAAEAAAAAAAAAAQAAAAAAAAABAAAAAAAAACEAAAAAAAAAAQAAAAAAAAAAAAAAAAAAAAEAAAAAAAAAIQAAAAAAAAABAAAAAAAAAAAAAAAAAAAAAQAAAAAAAAAhAAAAAAAAAAEAAAAAAAAAAQAAAAAAAAABAAAAAAAAAFEAAAAAAAAAUQAAAAAAAAABAAAAAAAAAFEAAAAAAAAAAQAAAAAAAAAhAAAAAAAAAFEAAAAAAAAAIQAAAAAAAAAhAAAAAAAAAAEAAAAAAAAAAQAAAAAAAAAAAAAAAAAAAAEAAAAAAAAAIQAAAAAAAAABAAAAAAAAACEAAAAAAAAAIQAAAAAAAAABAAAAAAAAAAEAAAAAAAAAAQAAAAAAAAAhAAAAAAAAAAEAAAAAAAAAIQAAAAAAAAAhAAAAAAAAAAAAAAAAAAAAAQAAAAAAAAABAAAAAAAAAAEAAAAAAAAAIQAAAAAAAAABAAAAAAAAACEAAAAAAAAAIQAAAAAAAABRAAAAAAAAAAAAAAAAAAAAIQAAAAAAAAAhAAAAAAAAACEAAAAAAAAAAQAAAAAAAAABAAAAAAAAACEAAAAAAAAAIQAAAAAAAAAhAAAAAAAAAAEAAAAAAAAAAAAAAAAAAAABAAAAAAAAAAEAAAAAAAAAIQAAAAAAAAAhAAAAAAAAACEAAAAAAAAAUQAAAAAAAAABAAAAAAAAAAEAAAAAAAAAUQAAAAAAAAABAAAAAAAAAAEAAAAAAAAAAAAAAAAAAAAAAAAAAAAAAAEAAAAAAAAAAQAAAAAAAAABAAAAAAAAAFEAAAAAAAAAAAAAAAAAAAABAAAAAAAAAAEAAAAAAAAAAQAAAAAAAAAhAAAAAAAAAAEAAAAAAAAAAQAAAAAAAAAhAAAAAAAAACEAAAAAAAAAAQAAAAAAAAAhAAAAAAAAAAAAAAAAAAAAIQAAAAAAAAAhAAAAAAAAAAAAAAAAAAAAAQAAAAAAAAABAAAAAAAAAAEAAAAAAAAAIQAAAAAAAAABAAAAAAAAAAEAAAAAAAAAAQAAAAAAAAABAAAAAAAAAAEAAAAAAAAAAQAAAAAAAAAAAAAAAAAAACEAAAAAAAAAUQAAAAAAAAAhAAAAAAAAAAEAAAAAAAAAAQAAAAAAAAABAAAAAAAAAAAAAAAAAAAAAQAAAAAAAAAhAAAAAAAAAAAAAAAAAAAAAQAAAAAAAAAhAAAAAAAAACEAAAAAAAAAAQAAAAAAAAAhAAAAAAAAAAAAAAAAAAAAIQAAAAAAAAABAAAAAAAAAAEAAAAAAAAAIQAAAAAAAABRAAAAAAAAAAEAAAAAAAAAUQAAAAAAAAAAAAAAAAAAAAEAAAAAAAAAAQAAAAAAAAABAAAAAAAAAAEAAAAAAAAAIQAAAAAAAAAAAAAAAAAAACEAAAAAAAAAAAAAAAAAAAABAAAAAAAAAAAAAAAAAAAAAQAAAAAAAAAhAAAAAAAAAAAAAAAAAAAAAQAAAAAAAAAAAAAAAAAAAAEAAAAAAAAAIQAAAAAAAABRAAAAAAAAACEAAAAAAAAAAQAAAAAAAAAhAAAAAAAAAAAAAAAAAAAAIQAAAAAAAAAAAAAAAAAAAAEAAAAAAAAAAQAAAAAAAAAhAAAAAAAAAAEAAAAAAAAAAQAAAAAAAAABAAAAAAAAAAEAAAAAAAAAAAAAAAAAAAABAAAAAAAAACEAAAAAAAAAIQAAAAAAAABRAAAAAAAAACEAAAAAAAAAAQAAAAAAAAAhAAAAAAAAAAAAAAAAAAAAAAAAAAAAAAABAAAAAAAAAFEAAAAAAAAAUQAAAAAAAAAhAAAAAAAAAFEAAAAAAAAAAAAAAAAAAAABAAAAAAAAACEAAAAAAAAAAQAAAAAAAAABAAAAAAAAAAAAAAAAAAAAAQAAAAAAAAAhAAAAAAAAAAEAAAAAAAAAAQAAAAAAAAAAAAAAAAAAAAEAAAAAAAAAAQAAAAAAAAAAAAAAAAAAACEAAAAAAAAAAQAAAAAAAAAhAAAAAAAAAAAAAAAAAAAAUQAAAAAAAAABAAAAAAAAAAEAAAAAAAAAIQAAAAAAAAAAAAAAAAAAAAEAAAAAAAAAUQAAAAAAAAABAAAAAAAAACEAAAAAAAAAIQAAAAAAAAABAAAAAAAAACEAAAAAAAAAAQAAAAAAAAAhAAAAAAAAAAEAAAAAAAAAIQAAAAAAAABRAAAAAAAAAAEAAAAAAAAAAQAAAAAAAABRAAAAAAAAACEAAAAAAAAAIQAAAAAAAAAAAAAAAAAAAAEAAAAAAAAAAQAAAAAAAAAhAAAAAAAAACEAAAAAAAAAAQAAAAAAAAABAAAAAAAAAAEAAAAAAAAAAQAAAAAAAAAhAAAAAAAAAFEAAAAAAAAAIQAAAAAAAAABAAAAAAAAAAEAAAAAAAAAAQAAAAAAAAAhAAAAAAAAACEAAAAAAAAAUQAAAAAAAAAAAAAAAAAAAFEAAAAAAAAAUQAAAAAAAAABAAAAAAAAAAEAAAAAAAAAIQAAAAAAAAAhAAAAAAAAAAEAAAAAAAAAAQAAAAAAAAAAAAAAAAAAAAEAAAAAAAAAIQAAAAAAAAABAAAAAAAAACEAAAAAAAAAAQAAAAAAAAAhAAAAAAAAACEAAAAAAAAAAAAAAAAAAAAhAAAAAAAAAAEAAAAAAAAAIQAAAAAAAAABAAAAAAAAAAAAAAAAAAAAIQAAAAAAAAAhAAAAAAAAAAEAAAAAAAAAUQAAAAAAAAABAAAAAAAAAAAAAAAAAAAAIQAAAAAAAAABAAAAAAAAAFEAAAAAAAAAUQAAAAAAAAAhAAAAAAAAAAEAAAAAAAAAIQAAAAAAAAAAAAAAAAAAAFEAAAAAAAAAAQAAAAAAAAAhAAAAAAAAAAAAAAAAAAAAIQAAAAAAAAAhAAAAAAAAACEAAAAAAAAAIQAAAAAAAAABAAAAAAAAACEAAAAAAAAAIQAAAAAAAAABAAAAAAAAACEAAAAAAAAAIQAAAAAAAAAhAAAAAAAAAFEAAAAAAAAAAQAAAAAAAAABAAAAAAAAAAEAAAAAAAAAAQAAAAAAAAAhAAAAAAAAAAEAAAAAAAAAIQAAAAAAAAAhAAAAAAAAAAEAAAAAAAAAIQAAAAAAAABRAAAAAAAAAFEAAAAAAAAAAQAAAAAAAAAAAAAAAAAAACEAAAAAAAAAAQAAAAAAAAAhAAAAAAAAAFEAAAAAAAAAAAAAAAAAAAABAAAAAAAAAAEAAAAAAAAAIQAAAAAAAAAhAAAAAAAAAAEAAAAAAAAAIQAAAAAAAAAhAAAAAAAAAFEAAAAAAAAAIQAAAAAAAAAAAAAAAAAAAAEAAAAAAAAAAQAAAAAAAAAAAAAAAAAAACEAAAAAAAAAAQAAAAAAAAAhAAAAAAAAACEAAAAAAAAAAQAAAAAAAAABAAAAAAAAAAEAAAAAAAAAIQAAAAAAAAAhAAAAAAAAACEAAAAAAAAAAAAAAAAAAAAhAAAAAAAAAAEAAAAAAAAAIQAAAAAAAAABAAAAAAAAACEAAAAAAAAAIQAAAAAAAAAhAAAAAAAAAAAAAAAAAAAAUQAAAAAAAAABAAAAAAAAACEAAAAAAAAAAAAAAAAAAAAhAAAAAAAAACEAAAAAAAAAIQAAAAAAAAAhAAAAAAAAAAEAAAAAAAAAAQAAAAAAAAAAAAAAAAAAACEAAAAAAAAAUQAAAAAAAAAhAAAAAAAAAAEAAAAAAAAAAQAAAAAAAABRAAAAAAAAACEAAAAAAAAAIQAAAAAAAAABAAAAAAAAAAEAAAAAAAAAIQAAAAAAAAAAAAAAAAAAAAAAAAAAAAAAIQAAAAAAAAABAAAAAAAAACEAAAAAAAAAAQAAAAAAAAAhAAAAAAAAAAAAAAAAAAAAAAAAAAAAAAAhAAAAAAAAAAEAAAAAAAAAAQAAAAAAAAAAAAAAAAAAAAAAAAAAAAAAIQAAAAAAAAABAAAAAAAAAFEAAAAAAAAAAAAAAAAAAAAhAAAAAAAAAAEAAAAAAAAAAQAAAAAAAABRAAAAAAAAAAEAAAAAAAAAIQAAAAAAAABRAAAAAAAAAAEAAAAAAAAAIQAAAAAAAAABAAAAAAAAAAEAAAAAAAAAIQAAAAAAAAAhAAAAAAAAACEAAAAAAAAAAQAAAAAAAAABAAAAAAAAAAEAAAAAAAAAAQAAAAAAAABRAAAAAAAAAAEAAAAAAAAAUQAAAAAAAAAAAAAAAAAAAAAAAAAAAAAAIQAAAAAAAAAhAAAAAAAAACEAAAAAAAAAIQAAAAAAAAAhAAAAAAAAAAEAAAAAAAAAIQAAAAAAAAABAAAAAAAAAAEAAAAAAAAAIQAAAAAAAAABAAAAAAAAAAEAAAAAAAAAUQAAAAAAAABRAAAAAAAAAAEAAAAAAAAAAQAAAAAAAAAAAAAAAAAAACEAAAAAAAAAIQAAAAAAAAAhAAAAAAAAAAEAAAAAAAAAIQAAAAAAAAABAAAAAAAAAAEAAAAAAAAAUQAAAAAAAAABAAAAAAAAAAAAAAAAAAAAAQAAAAAAAAABAAAAAAAAACEAAAAAAAAAAQAAAAAAAAAhAAAAAAAAACEAAAAAAAAAAQAAAAAAAAAAAAAAAAAAACEAAAAAAAAAAQAAAAAAAAAAAAAAAAAAACEAAAAAAAAAIQAAAAAAAAABAAAAAAAAAAEAAAAAAAAAIQAAAAAAAAABAAAAAAAAAFEAAAAAAAAAAQAAAAAAAAABAAAAAAAAACEAAAAAAAAAAQAAAAAAAAAAAAAAAAAAAAEAAAAAAAAAAAAAAAAAAABRAAAAAAAAAFEAAAAAAAAAAQAAAAAAAAAhAAAAAAAAAFEAAAAAAAAAAQAAAAAAAAAhAAAAAAAAAAEAAAAAAAAAAAAAAAAAAAABAAAAAAAAAAAAAAAAAAAAUQAAAAAAAAAhAAAAAAAAACEAAAAAAAAAIQAAAAAAAAAhAAAAAAAAAAAAAAAAAAAAAAAAAAAAAAABAAAAAAAAAAEAAAAAAAAAAAAAAAAAAABRAAAAAAAAAAEAAAAAAAAAIQAAAAAAAAAhAAAAAAAAAFEAAAAAAAAAAQAAAAAAAAABAAAAAAAAAAEAAAAAAAAAAQAAAAAAAAABAAAAAAAAAAAAAAAAAAAAIQAAAAAAAAAhAAAAAAAAACEAAAAAAAAAAQAAAAAAAAABAAAAAAAAAAEAAAAAAAAAIQAAAAAAAAAhAAAAAAAAAAEAAAAAAAAAAQAAAAAAAAAhAAAAAAAAAAEAAAAAAAAAIQAAAAAAAAABAAAAAAAAAAEAAAAAAAAAUQAAAAAAAAABAAAAAAAAAAAAAAAAAAAAIQAAAAAAAAAhAAAAAAAAAFEAAAAAAAAAUQAAAAAAAAAhAAAAAAAAAAAAAAAAAAAAAQAAAAAAAAABAAAAAAAAACEAAAAAAAAAUQAAAAAAAAABAAAAAAAAACEAAAAAAAAAAQAAAAAAAAABAAAAAAAAAAEAAAAAAAAAIQAAAAAAAAAhAAAAAAAAAAEAAAAAAAAAAAAAAAAAAAAhAAAAAAAAAAEAAAAAAAAAAQAAAAAAAAABAAAAAAAAACEAAAAAAAAAAAAAAAAAAAABAAAAAAAAACEAAAAAAAAAAQAAAAAAAAABAAAAAAAAACEAAAAAAAAAIQAAAAAAAAAhAAAAAAAAAAEAAAAAAAAAIQAAAAAAAAABAAAAAAAAACEAAAAAAAAAIQAAAAAAAAABAAAAAAAAACEAAAAAAAAAIQAAAAAAAAABAAAAAAAAAAEAAAAAAAAAAAAAAAAAAAABAAAAAAAAAAAAAAAAAAAAAQAAAAAAAAAhAAAAAAAAACEAAAAAAAAAAQAAAAAAAAAhAAAAAAAAACEAAAAAAAAAIQAAAAAAAAABAAAAAAAAAAEAAAAAAAAAAAAAAAAAAAABAAAAAAAAAAEAAAAAAAAAIQAAAAAAAAAhAAAAAAAAAAEAAAAAAAAAUQAAAAAAAAAhAAAAAAAAAAEAAAAAAAAAAQAAAAAAAAABAAAAAAAAAAEAAAAAAAAAUQAAAAAAAAAAAAAAAAAAAAAAAAAAAAAAIQAAAAAAAAABAAAAAAAAAAEAAAAAAAAAAAAAAAAAAAAAAAAAAAAAACEAAAAAAAAAIQAAAAAAAAABAAAAAAAAACEAAAAAAAAAIQAAAAAAAAABAAAAAAAAACEAAAAAAAAAAQAAAAAAAAAhAAAAAAAAACEAAAAAAAAAAQAAAAAAAAAAAAAAAAAAAAAAAAAAAAAAAAAAAAAAAAAhAAAAAAAAACEAAAAAAAAAAAAAAAAAAAAAAAAAAAAAAAEAAAAAAAAAAQAAAAAAAAABAAAAAAAAAAEAAAAAAAAAAQAAAAAAAAABAAAAAAAAAAAAAAAAAAAAIQAAAAAAAAAhAAAAAAAAACEAAAAAAAAAAQAAAAAAAAABAAAAAAAAACEAAAAAAAAAAQAAAAAAAAABAAAAAAAAAAEAAAAAAAAAAAAAAAAAAAABAAAAAAAAAAEAAAAAAAAAIQAAAAAAAAAhAAAAAAAAAAEAAAAAAAAAIQAAAAAAAAAhAAAAAAAAAAAAAAAAAAAAAAAAAAAAAAAAAAAAAAAAACEAAAAAAAAAAQAAAAAAAAAAAAAAAAAAAAEAAAAAAAAAIQAAAAAAAAABAAAAAAAAACEAAAAAAAAAAQAAAAAAAAAAAAAAAAAAAAEAAAAAAAAAAQAAAAAAAAABAAAAAAAAAAAAAAAAAAAAUQAAAAAAAAAhAAAAAAAAAAAAAAAAAAAAAQAAAAAAAAAAAAAAAAAAACEAAAAAAAAAUQAAAAAAAAAhAAAAAAAAAAEAAAAAAAAAUQAAAAAAAAAAAAAAAAAAAAEAAAAAAAAAUQAAAAAAAAAAAAAAAAAAAAAAAAAAAAAAAAA==",
          "dtype": "f8"
         },
         "x0": " ",
         "xaxis": "x",
         "y": {
          "bdata": "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",
          "dtype": "f8"
         },
         "y0": " ",
         "yaxis": "y"
        },
        {
         "colorbar": {
          "title": {
           "text": "Nombre d'élèves"
          }
         },
         "colorscale": [
          [
           0,
           "rgb(247,251,255)"
          ],
          [
           0.125,
           "rgb(222,235,247)"
          ],
          [
           0.25,
           "rgb(198,219,239)"
          ],
          [
           0.375,
           "rgb(158,202,225)"
          ],
          [
           0.5,
           "rgb(107,174,214)"
          ],
          [
           0.625,
           "rgb(66,146,198)"
          ],
          [
           0.75,
           "rgb(33,113,181)"
          ],
          [
           0.875,
           "rgb(8,81,156)"
          ],
          [
           1,
           "rgb(8,48,107)"
          ]
         ],
         "hovertemplate": "expression et ecoute: %{x}<br>engagement: %{y}<br>n: %{z}<extra></extra>",
         "text": {
          "bdata": "AAABAAAAAAACAAQABAAAABEAJwAvAAwAKQCJAHQAHwAWAEoAMgAQACQAVgBUABoA",
          "dtype": "i2",
          "shape": "6, 4"
         },
         "texttemplate": "%{text}",
         "type": "heatmap",
         "x": {
          "bdata": "AAAAAAAAAAAAAAAAAAAAQAAAAAAAAAhAAAAAAAAAFEA=",
          "dtype": "f8"
         },
         "xaxis": "x2",
         "y": {
          "bdata": "AAAAAAAAFEAAAAAAAAAQQAAAAAAAAAhAAAAAAAAAAEAAAAAAAADwPwAAAAAAAAAA",
          "dtype": "f8"
         },
         "yaxis": "y2",
         "z": {
          "bdata": "AAABAAAAAAACAAQABAAAABEAJwAvAAwAKQCJAHQAHwAWAEoAMgAQACQAVgBUABoA",
          "dtype": "i2",
          "shape": "6, 4"
         },
         "zmax": 137,
         "zmin": 0
        }
       ],
       "layout": {
        "height": 500,
        "showlegend": false,
        "template": {
         "data": {
          "bar": [
           {
            "error_x": {
             "color": "#2a3f5f"
            },
            "error_y": {
             "color": "#2a3f5f"
            },
            "marker": {
             "line": {
              "color": "#E5ECF6",
              "width": 0.5
             },
             "pattern": {
              "fillmode": "overlay",
              "size": 10,
              "solidity": 0.2
             }
            },
            "type": "bar"
           }
          ],
          "barpolar": [
           {
            "marker": {
             "line": {
              "color": "#E5ECF6",
              "width": 0.5
             },
             "pattern": {
              "fillmode": "overlay",
              "size": 10,
              "solidity": 0.2
             }
            },
            "type": "barpolar"
           }
          ],
          "carpet": [
           {
            "aaxis": {
             "endlinecolor": "#2a3f5f",
             "gridcolor": "white",
             "linecolor": "white",
             "minorgridcolor": "white",
             "startlinecolor": "#2a3f5f"
            },
            "baxis": {
             "endlinecolor": "#2a3f5f",
             "gridcolor": "white",
             "linecolor": "white",
             "minorgridcolor": "white",
             "startlinecolor": "#2a3f5f"
            },
            "type": "carpet"
           }
          ],
          "choropleth": [
           {
            "colorbar": {
             "outlinewidth": 0,
             "ticks": ""
            },
            "type": "choropleth"
           }
          ],
          "contour": [
           {
            "colorbar": {
             "outlinewidth": 0,
             "ticks": ""
            },
            "colorscale": [
             [
              0,
              "#0d0887"
             ],
             [
              0.1111111111111111,
              "#46039f"
             ],
             [
              0.2222222222222222,
              "#7201a8"
             ],
             [
              0.3333333333333333,
              "#9c179e"
             ],
             [
              0.4444444444444444,
              "#bd3786"
             ],
             [
              0.5555555555555556,
              "#d8576b"
             ],
             [
              0.6666666666666666,
              "#ed7953"
             ],
             [
              0.7777777777777778,
              "#fb9f3a"
             ],
             [
              0.8888888888888888,
              "#fdca26"
             ],
             [
              1,
              "#f0f921"
             ]
            ],
            "type": "contour"
           }
          ],
          "contourcarpet": [
           {
            "colorbar": {
             "outlinewidth": 0,
             "ticks": ""
            },
            "type": "contourcarpet"
           }
          ],
          "heatmap": [
           {
            "colorbar": {
             "outlinewidth": 0,
             "ticks": ""
            },
            "colorscale": [
             [
              0,
              "#0d0887"
             ],
             [
              0.1111111111111111,
              "#46039f"
             ],
             [
              0.2222222222222222,
              "#7201a8"
             ],
             [
              0.3333333333333333,
              "#9c179e"
             ],
             [
              0.4444444444444444,
              "#bd3786"
             ],
             [
              0.5555555555555556,
              "#d8576b"
             ],
             [
              0.6666666666666666,
              "#ed7953"
             ],
             [
              0.7777777777777778,
              "#fb9f3a"
             ],
             [
              0.8888888888888888,
              "#fdca26"
             ],
             [
              1,
              "#f0f921"
             ]
            ],
            "type": "heatmap"
           }
          ],
          "histogram": [
           {
            "marker": {
             "pattern": {
              "fillmode": "overlay",
              "size": 10,
              "solidity": 0.2
             }
            },
            "type": "histogram"
           }
          ],
          "histogram2d": [
           {
            "colorbar": {
             "outlinewidth": 0,
             "ticks": ""
            },
            "colorscale": [
             [
              0,
              "#0d0887"
             ],
             [
              0.1111111111111111,
              "#46039f"
             ],
             [
              0.2222222222222222,
              "#7201a8"
             ],
             [
              0.3333333333333333,
              "#9c179e"
             ],
             [
              0.4444444444444444,
              "#bd3786"
             ],
             [
              0.5555555555555556,
              "#d8576b"
             ],
             [
              0.6666666666666666,
              "#ed7953"
             ],
             [
              0.7777777777777778,
              "#fb9f3a"
             ],
             [
              0.8888888888888888,
              "#fdca26"
             ],
             [
              1,
              "#f0f921"
             ]
            ],
            "type": "histogram2d"
           }
          ],
          "histogram2dcontour": [
           {
            "colorbar": {
             "outlinewidth": 0,
             "ticks": ""
            },
            "colorscale": [
             [
              0,
              "#0d0887"
             ],
             [
              0.1111111111111111,
              "#46039f"
             ],
             [
              0.2222222222222222,
              "#7201a8"
             ],
             [
              0.3333333333333333,
              "#9c179e"
             ],
             [
              0.4444444444444444,
              "#bd3786"
             ],
             [
              0.5555555555555556,
              "#d8576b"
             ],
             [
              0.6666666666666666,
              "#ed7953"
             ],
             [
              0.7777777777777778,
              "#fb9f3a"
             ],
             [
              0.8888888888888888,
              "#fdca26"
             ],
             [
              1,
              "#f0f921"
             ]
            ],
            "type": "histogram2dcontour"
           }
          ],
          "mesh3d": [
           {
            "colorbar": {
             "outlinewidth": 0,
             "ticks": ""
            },
            "type": "mesh3d"
           }
          ],
          "parcoords": [
           {
            "line": {
             "colorbar": {
              "outlinewidth": 0,
              "ticks": ""
             }
            },
            "type": "parcoords"
           }
          ],
          "pie": [
           {
            "automargin": true,
            "type": "pie"
           }
          ],
          "scatter": [
           {
            "fillpattern": {
             "fillmode": "overlay",
             "size": 10,
             "solidity": 0.2
            },
            "type": "scatter"
           }
          ],
          "scatter3d": [
           {
            "line": {
             "colorbar": {
              "outlinewidth": 0,
              "ticks": ""
             }
            },
            "marker": {
             "colorbar": {
              "outlinewidth": 0,
              "ticks": ""
             }
            },
            "type": "scatter3d"
           }
          ],
          "scattercarpet": [
           {
            "marker": {
             "colorbar": {
              "outlinewidth": 0,
              "ticks": ""
             }
            },
            "type": "scattercarpet"
           }
          ],
          "scattergeo": [
           {
            "marker": {
             "colorbar": {
              "outlinewidth": 0,
              "ticks": ""
             }
            },
            "type": "scattergeo"
           }
          ],
          "scattergl": [
           {
            "marker": {
             "colorbar": {
              "outlinewidth": 0,
              "ticks": ""
             }
            },
            "type": "scattergl"
           }
          ],
          "scattermap": [
           {
            "marker": {
             "colorbar": {
              "outlinewidth": 0,
              "ticks": ""
             }
            },
            "type": "scattermap"
           }
          ],
          "scattermapbox": [
           {
            "marker": {
             "colorbar": {
              "outlinewidth": 0,
              "ticks": ""
             }
            },
            "type": "scattermapbox"
           }
          ],
          "scatterpolar": [
           {
            "marker": {
             "colorbar": {
              "outlinewidth": 0,
              "ticks": ""
             }
            },
            "type": "scatterpolar"
           }
          ],
          "scatterpolargl": [
           {
            "marker": {
             "colorbar": {
              "outlinewidth": 0,
              "ticks": ""
             }
            },
            "type": "scatterpolargl"
           }
          ],
          "scatterternary": [
           {
            "marker": {
             "colorbar": {
              "outlinewidth": 0,
              "ticks": ""
             }
            },
            "type": "scatterternary"
           }
          ],
          "surface": [
           {
            "colorbar": {
             "outlinewidth": 0,
             "ticks": ""
            },
            "colorscale": [
             [
              0,
              "#0d0887"
             ],
             [
              0.1111111111111111,
              "#46039f"
             ],
             [
              0.2222222222222222,
              "#7201a8"
             ],
             [
              0.3333333333333333,
              "#9c179e"
             ],
             [
              0.4444444444444444,
              "#bd3786"
             ],
             [
              0.5555555555555556,
              "#d8576b"
             ],
             [
              0.6666666666666666,
              "#ed7953"
             ],
             [
              0.7777777777777778,
              "#fb9f3a"
             ],
             [
              0.8888888888888888,
              "#fdca26"
             ],
             [
              1,
              "#f0f921"
             ]
            ],
            "type": "surface"
           }
          ],
          "table": [
           {
            "cells": {
             "fill": {
              "color": "#EBF0F8"
             },
             "line": {
              "color": "white"
             }
            },
            "header": {
             "fill": {
              "color": "#C8D4E3"
             },
             "line": {
              "color": "white"
             }
            },
            "type": "table"
           }
          ]
         },
         "layout": {
          "annotationdefaults": {
           "arrowcolor": "#2a3f5f",
           "arrowhead": 0,
           "arrowwidth": 1
          },
          "autotypenumbers": "strict",
          "coloraxis": {
           "colorbar": {
            "outlinewidth": 0,
            "ticks": ""
           }
          },
          "colorscale": {
           "diverging": [
            [
             0,
             "#8e0152"
            ],
            [
             0.1,
             "#c51b7d"
            ],
            [
             0.2,
             "#de77ae"
            ],
            [
             0.3,
             "#f1b6da"
            ],
            [
             0.4,
             "#fde0ef"
            ],
            [
             0.5,
             "#f7f7f7"
            ],
            [
             0.6,
             "#e6f5d0"
            ],
            [
             0.7,
             "#b8e186"
            ],
            [
             0.8,
             "#7fbc41"
            ],
            [
             0.9,
             "#4d9221"
            ],
            [
             1,
             "#276419"
            ]
           ],
           "sequential": [
            [
             0,
             "#0d0887"
            ],
            [
             0.1111111111111111,
             "#46039f"
            ],
            [
             0.2222222222222222,
             "#7201a8"
            ],
            [
             0.3333333333333333,
             "#9c179e"
            ],
            [
             0.4444444444444444,
             "#bd3786"
            ],
            [
             0.5555555555555556,
             "#d8576b"
            ],
            [
             0.6666666666666666,
             "#ed7953"
            ],
            [
             0.7777777777777778,
             "#fb9f3a"
            ],
            [
             0.8888888888888888,
             "#fdca26"
            ],
            [
             1,
             "#f0f921"
            ]
           ],
           "sequentialminus": [
            [
             0,
             "#0d0887"
            ],
            [
             0.1111111111111111,
             "#46039f"
            ],
            [
             0.2222222222222222,
             "#7201a8"
            ],
            [
             0.3333333333333333,
             "#9c179e"
            ],
            [
             0.4444444444444444,
             "#bd3786"
            ],
            [
             0.5555555555555556,
             "#d8576b"
            ],
            [
             0.6666666666666666,
             "#ed7953"
            ],
            [
             0.7777777777777778,
             "#fb9f3a"
            ],
            [
             0.8888888888888888,
             "#fdca26"
            ],
            [
             1,
             "#f0f921"
            ]
           ]
          },
          "colorway": [
           "#636efa",
           "#EF553B",
           "#00cc96",
           "#ab63fa",
           "#FFA15A",
           "#19d3f3",
           "#FF6692",
           "#B6E880",
           "#FF97FF",
           "#FECB52"
          ],
          "font": {
           "color": "#2a3f5f"
          },
          "geo": {
           "bgcolor": "white",
           "lakecolor": "white",
           "landcolor": "#E5ECF6",
           "showlakes": true,
           "showland": true,
           "subunitcolor": "white"
          },
          "hoverlabel": {
           "align": "left"
          },
          "hovermode": "closest",
          "mapbox": {
           "style": "light"
          },
          "paper_bgcolor": "white",
          "plot_bgcolor": "#E5ECF6",
          "polar": {
           "angularaxis": {
            "gridcolor": "white",
            "linecolor": "white",
            "ticks": ""
           },
           "bgcolor": "#E5ECF6",
           "radialaxis": {
            "gridcolor": "white",
            "linecolor": "white",
            "ticks": ""
           }
          },
          "scene": {
           "xaxis": {
            "backgroundcolor": "#E5ECF6",
            "gridcolor": "white",
            "gridwidth": 2,
            "linecolor": "white",
            "showbackground": true,
            "ticks": "",
            "zerolinecolor": "white"
           },
           "yaxis": {
            "backgroundcolor": "#E5ECF6",
            "gridcolor": "white",
            "gridwidth": 2,
            "linecolor": "white",
            "showbackground": true,
            "ticks": "",
            "zerolinecolor": "white"
           },
           "zaxis": {
            "backgroundcolor": "#E5ECF6",
            "gridcolor": "white",
            "gridwidth": 2,
            "linecolor": "white",
            "showbackground": true,
            "ticks": "",
            "zerolinecolor": "white"
           }
          },
          "shapedefaults": {
           "line": {
            "color": "#2a3f5f"
           }
          },
          "ternary": {
           "aaxis": {
            "gridcolor": "white",
            "linecolor": "white",
            "ticks": ""
           },
           "baxis": {
            "gridcolor": "white",
            "linecolor": "white",
            "ticks": ""
           },
           "bgcolor": "#E5ECF6",
           "caxis": {
            "gridcolor": "white",
            "linecolor": "white",
            "ticks": ""
           }
          },
          "title": {
           "x": 0.05
          },
          "xaxis": {
           "automargin": true,
           "gridcolor": "white",
           "linecolor": "white",
           "ticks": "",
           "title": {
            "standoff": 15
           },
           "zerolinecolor": "white",
           "zerolinewidth": 2
          },
          "yaxis": {
           "automargin": true,
           "gridcolor": "white",
           "linecolor": "white",
           "ticks": "",
           "title": {
            "standoff": 15
           },
           "zerolinecolor": "white",
           "zerolinewidth": 2
          }
         }
        },
        "width": 1000,
        "xaxis": {
         "anchor": "y",
         "domain": [
          0,
          0.44
         ],
         "title": {
          "text": "expression et ecoute"
         }
        },
        "xaxis2": {
         "anchor": "y2",
         "domain": [
          0.56,
          1
         ],
         "title": {
          "text": "expression et ecoute"
         }
        },
        "yaxis": {
         "anchor": "x",
         "domain": [
          0,
          1
         ],
         "title": {
          "text": "engagement"
         }
        },
        "yaxis2": {
         "anchor": "x2",
         "domain": [
          0,
          1
         ],
         "title": {
          "text": "engagement"
         }
        }
       }
      }
     },
     "metadata": {},
     "output_type": "display_data"
    }
   ],
   "source": [
    "from plotly.subplots import make_subplots\n",
    "import plotly.graph_objects as go\n",
    "import pandas as pd\n",
    "import plotly.express as px\n",
    "\n",
    "\n",
    "def plot_combined_relation(df, x_col, y_col):\n",
    "    df_plot = df[[x_col, y_col]].dropna().copy()\n",
    "    df_plot[f\"{x_col}_round\"] = df_plot[x_col].round(0)\n",
    "    df_plot[f\"{y_col}_round\"] = df_plot[y_col].round(0)\n",
    "\n",
    "    # 📦 Boxplot : y_col en fonction de x_col\n",
    "    fig_box = px.box(\n",
    "        df_plot,\n",
    "        x=f\"{x_col}_round\",\n",
    "        y=y_col,\n",
    "        points=\"all\",\n",
    "        color_discrete_sequence=[\"steelblue\"],\n",
    "        labels={f\"{x_col}_round\": x_col.replace(\"_\", \" \"), y_col: y_col.replace(\"_\", \" \")}\n",
    "    )\n",
    "\n",
    "    # 🔥 Heatmap : lignes = y_col, colonnes = x_col\n",
    "    heatmap_data = pd.crosstab(df_plot[f\"{y_col}_round\"], df_plot[f\"{x_col}_round\"])\n",
    "    heatmap_trace = go.Heatmap(\n",
    "        z=heatmap_data.values[::-1],\n",
    "        x=heatmap_data.columns,\n",
    "        y=heatmap_data.index[::-1],\n",
    "        text=heatmap_data.values[::-1],\n",
    "        texttemplate=\"%{text}\",\n",
    "        colorscale=\"Blues\",\n",
    "        zmin=0,  # 👈 Échelle minimum imposée\n",
    "        zmax=heatmap_data.values.max(),  # 👈 Échelle max dynamique basée sur les données\n",
    "        colorbar=dict(title=\"Nombre d'élèves\"),\n",
    "        hovertemplate=f\"{x_col.replace('_', ' ')}: %{{x}}<br>{y_col.replace('_', ' ')}: %{{y}}<br>n: %{{z}}<extra></extra>\"\n",
    "    )\n",
    "\n",
    "\n",
    "    # 🎛️ Subplots\n",
    "    fig = make_subplots(\n",
    "        rows=1, cols=2,\n",
    "        column_widths=[0.5, 0.5],\n",
    "        horizontal_spacing=0.12\n",
    "    )\n",
    "\n",
    "    for trace in fig_box.data:\n",
    "        fig.add_trace(trace, row=1, col=1)\n",
    "\n",
    "    fig.add_trace(heatmap_trace, row=1, col=2)\n",
    "\n",
    "    fig.update_layout(\n",
    "        height=500,\n",
    "        width=1000,\n",
    "        # title_text=f\"{y_col.replace('_', ' ')} en fonction de {x_col.replace('_', ' ')}\",\n",
    "        showlegend=False\n",
    "    )\n",
    "\n",
    "    # 🔁 Axes correctement étiquetés\n",
    "    fig.update_xaxes(title_text=x_col.replace(\"_\", \" \"), row=1, col=1)\n",
    "    fig.update_yaxes(title_text=y_col.replace(\"_\", \" \"), row=1, col=1)\n",
    "    fig.update_xaxes(title_text=x_col.replace(\"_\", \" \"), row=1, col=2)\n",
    "    fig.update_yaxes(title_text=y_col.replace(\"_\", \" \"), row=1, col=2)\n",
    "\n",
    "    fig.show()\n",
    "\n",
    "\n",
    "\n",
    "score_columns = [\n",
    "    \"climat_de_confiance\", \"bien_etre\",\n",
    "    \"expression_et_ecoute\", \"engagement\"\n",
    "]\n",
    "\n",
    "\n",
    "from itertools import combinations\n",
    "\n",
    "def plot_all_score_combinations(df, score_cols):\n",
    "    \"\"\"\n",
    "    Affiche tous les couples possibles de scores avec boxplot + heatmap.\n",
    "    \"\"\"\n",
    "    for x_col, y_col in combinations(score_cols, 2):\n",
    "        plot_combined_relation(df, x_col, y_col)\n",
    "\n",
    "score_cols = [\n",
    "    \"climat_de_confiance\", \"bien_etre\",\n",
    "    \"expression_et_ecoute\", \"engagement\"\n",
    "]\n",
    "\n",
    "plot_all_score_combinations(df_scores, score_cols)"
   ]
  },
  {
   "cell_type": "code",
   "execution_count": 20,
   "id": "23bbac9f",
   "metadata": {},
   "outputs": [
    {
     "data": {
      "text/html": [
       "<div>\n",
       "<style scoped>\n",
       "    .dataframe tbody tr th:only-of-type {\n",
       "        vertical-align: middle;\n",
       "    }\n",
       "\n",
       "    .dataframe tbody tr th {\n",
       "        vertical-align: top;\n",
       "    }\n",
       "\n",
       "    .dataframe thead th {\n",
       "        text-align: right;\n",
       "    }\n",
       "</style>\n",
       "<table border=\"1\" class=\"dataframe\">\n",
       "  <thead>\n",
       "    <tr style=\"text-align: right;\">\n",
       "      <th></th>\n",
       "      <th>genre</th>\n",
       "      <th>niveau</th>\n",
       "      <th>climat_de_confiance</th>\n",
       "      <th>bien_etre</th>\n",
       "      <th>expression_et_ecoute</th>\n",
       "      <th>engagement</th>\n",
       "    </tr>\n",
       "  </thead>\n",
       "  <tbody>\n",
       "    <tr>\n",
       "      <th>0</th>\n",
       "      <td>Garçon</td>\n",
       "      <td>4e</td>\n",
       "      <td>1.666667</td>\n",
       "      <td>1.666667</td>\n",
       "      <td>3.333333</td>\n",
       "      <td>0.833333</td>\n",
       "    </tr>\n",
       "    <tr>\n",
       "      <th>1</th>\n",
       "      <td>Garçon</td>\n",
       "      <td>5e</td>\n",
       "      <td>0.000000</td>\n",
       "      <td>1.666667</td>\n",
       "      <td>1.666667</td>\n",
       "      <td>1.944444</td>\n",
       "    </tr>\n",
       "    <tr>\n",
       "      <th>2</th>\n",
       "      <td>Fille</td>\n",
       "      <td>5e</td>\n",
       "      <td>2.500000</td>\n",
       "      <td>1.666667</td>\n",
       "      <td>0.000000</td>\n",
       "      <td>0.000000</td>\n",
       "    </tr>\n",
       "    <tr>\n",
       "      <th>3</th>\n",
       "      <td>Fille</td>\n",
       "      <td>4e</td>\n",
       "      <td>4.166667</td>\n",
       "      <td>3.333333</td>\n",
       "      <td>3.333333</td>\n",
       "      <td>1.666667</td>\n",
       "    </tr>\n",
       "    <tr>\n",
       "      <th>4</th>\n",
       "      <td>Garçon</td>\n",
       "      <td>5e</td>\n",
       "      <td>2.500000</td>\n",
       "      <td>0.000000</td>\n",
       "      <td>5.000000</td>\n",
       "      <td>0.000000</td>\n",
       "    </tr>\n",
       "    <tr>\n",
       "      <th>5</th>\n",
       "      <td>Garçon</td>\n",
       "      <td>6e</td>\n",
       "      <td>1.666667</td>\n",
       "      <td>5.000000</td>\n",
       "      <td>3.333333</td>\n",
       "      <td>0.000000</td>\n",
       "    </tr>\n",
       "    <tr>\n",
       "      <th>6</th>\n",
       "      <td>Garçon</td>\n",
       "      <td>5e</td>\n",
       "      <td>1.666667</td>\n",
       "      <td>0.000000</td>\n",
       "      <td>0.000000</td>\n",
       "      <td>1.944444</td>\n",
       "    </tr>\n",
       "    <tr>\n",
       "      <th>7</th>\n",
       "      <td>Fille</td>\n",
       "      <td>4e</td>\n",
       "      <td>4.166667</td>\n",
       "      <td>5.000000</td>\n",
       "      <td>3.333333</td>\n",
       "      <td>0.000000</td>\n",
       "    </tr>\n",
       "    <tr>\n",
       "      <th>8</th>\n",
       "      <td>Garçon</td>\n",
       "      <td>4e</td>\n",
       "      <td>2.500000</td>\n",
       "      <td>0.000000</td>\n",
       "      <td>3.333333</td>\n",
       "      <td>0.000000</td>\n",
       "    </tr>\n",
       "    <tr>\n",
       "      <th>9</th>\n",
       "      <td>Garçon</td>\n",
       "      <td>5e</td>\n",
       "      <td>0.000000</td>\n",
       "      <td>0.000000</td>\n",
       "      <td>0.000000</td>\n",
       "      <td>0.000000</td>\n",
       "    </tr>\n",
       "  </tbody>\n",
       "</table>\n",
       "</div>"
      ],
      "text/plain": [
       "    genre niveau  climat_de_confiance  bien_etre  expression_et_ecoute  \\\n",
       "0  Garçon     4e             1.666667   1.666667              3.333333   \n",
       "1  Garçon     5e             0.000000   1.666667              1.666667   \n",
       "2   Fille     5e             2.500000   1.666667              0.000000   \n",
       "3   Fille     4e             4.166667   3.333333              3.333333   \n",
       "4  Garçon     5e             2.500000   0.000000              5.000000   \n",
       "5  Garçon     6e             1.666667   5.000000              3.333333   \n",
       "6  Garçon     5e             1.666667   0.000000              0.000000   \n",
       "7   Fille     4e             4.166667   5.000000              3.333333   \n",
       "8  Garçon     4e             2.500000   0.000000              3.333333   \n",
       "9  Garçon     5e             0.000000   0.000000              0.000000   \n",
       "\n",
       "   engagement  \n",
       "0    0.833333  \n",
       "1    1.944444  \n",
       "2    0.000000  \n",
       "3    1.666667  \n",
       "4    0.000000  \n",
       "5    0.000000  \n",
       "6    1.944444  \n",
       "7    0.000000  \n",
       "8    0.000000  \n",
       "9    0.000000  "
      ]
     },
     "execution_count": 20,
     "metadata": {},
     "output_type": "execute_result"
    }
   ],
   "source": [
    "df_scores.head(10)"
   ]
  },
  {
   "cell_type": "code",
   "execution_count": 21,
   "id": "bb333c97",
   "metadata": {},
   "outputs": [
    {
     "data": {
      "application/vnd.plotly.v1+json": {
       "config": {
        "plotlyServerURL": "https://plot.ly"
       },
       "data": [
        {
         "coloraxis": "coloraxis",
         "hovertemplate": "x: %{x}<br>y: %{y}<br>color: %{z}<extra></extra>",
         "name": "0",
         "texttemplate": "%{z}",
         "type": "heatmap",
         "x": [
          "climat_de_confiance",
          "bien_etre",
          "expression_et_ecoute",
          "engagement"
         ],
         "xaxis": "x",
         "y": [
          "climat_de_confiance",
          "bien_etre",
          "expression_et_ecoute",
          "engagement"
         ],
         "yaxis": "y",
         "z": {
          "bdata": "AAAAAAAA8D9SuB6F61HgP83MzMzMzNw/CtejcD0Ktz9SuB6F61HgPwAAAAAAAPA/w/UoXI/C1T+4HoXrUbi+P83MzMzMzNw/w/UoXI/C1T8AAAAAAADwP3sUrkfheoQ/CtejcD0Ktz+4HoXrUbi+P3sUrkfheoQ/AAAAAAAA8D8=",
          "dtype": "f8",
          "shape": "4, 4"
         }
        }
       ],
       "layout": {
        "coloraxis": {
         "cmax": 1,
         "cmin": -1,
         "colorscale": [
          [
           0,
           "rgb(103,0,31)"
          ],
          [
           0.1,
           "rgb(178,24,43)"
          ],
          [
           0.2,
           "rgb(214,96,77)"
          ],
          [
           0.3,
           "rgb(244,165,130)"
          ],
          [
           0.4,
           "rgb(253,219,199)"
          ],
          [
           0.5,
           "rgb(247,247,247)"
          ],
          [
           0.6,
           "rgb(209,229,240)"
          ],
          [
           0.7,
           "rgb(146,197,222)"
          ],
          [
           0.8,
           "rgb(67,147,195)"
          ],
          [
           0.9,
           "rgb(33,102,172)"
          ],
          [
           1,
           "rgb(5,48,97)"
          ]
         ]
        },
        "height": 600,
        "template": {
         "data": {
          "bar": [
           {
            "error_x": {
             "color": "#2a3f5f"
            },
            "error_y": {
             "color": "#2a3f5f"
            },
            "marker": {
             "line": {
              "color": "#E5ECF6",
              "width": 0.5
             },
             "pattern": {
              "fillmode": "overlay",
              "size": 10,
              "solidity": 0.2
             }
            },
            "type": "bar"
           }
          ],
          "barpolar": [
           {
            "marker": {
             "line": {
              "color": "#E5ECF6",
              "width": 0.5
             },
             "pattern": {
              "fillmode": "overlay",
              "size": 10,
              "solidity": 0.2
             }
            },
            "type": "barpolar"
           }
          ],
          "carpet": [
           {
            "aaxis": {
             "endlinecolor": "#2a3f5f",
             "gridcolor": "white",
             "linecolor": "white",
             "minorgridcolor": "white",
             "startlinecolor": "#2a3f5f"
            },
            "baxis": {
             "endlinecolor": "#2a3f5f",
             "gridcolor": "white",
             "linecolor": "white",
             "minorgridcolor": "white",
             "startlinecolor": "#2a3f5f"
            },
            "type": "carpet"
           }
          ],
          "choropleth": [
           {
            "colorbar": {
             "outlinewidth": 0,
             "ticks": ""
            },
            "type": "choropleth"
           }
          ],
          "contour": [
           {
            "colorbar": {
             "outlinewidth": 0,
             "ticks": ""
            },
            "colorscale": [
             [
              0,
              "#0d0887"
             ],
             [
              0.1111111111111111,
              "#46039f"
             ],
             [
              0.2222222222222222,
              "#7201a8"
             ],
             [
              0.3333333333333333,
              "#9c179e"
             ],
             [
              0.4444444444444444,
              "#bd3786"
             ],
             [
              0.5555555555555556,
              "#d8576b"
             ],
             [
              0.6666666666666666,
              "#ed7953"
             ],
             [
              0.7777777777777778,
              "#fb9f3a"
             ],
             [
              0.8888888888888888,
              "#fdca26"
             ],
             [
              1,
              "#f0f921"
             ]
            ],
            "type": "contour"
           }
          ],
          "contourcarpet": [
           {
            "colorbar": {
             "outlinewidth": 0,
             "ticks": ""
            },
            "type": "contourcarpet"
           }
          ],
          "heatmap": [
           {
            "colorbar": {
             "outlinewidth": 0,
             "ticks": ""
            },
            "colorscale": [
             [
              0,
              "#0d0887"
             ],
             [
              0.1111111111111111,
              "#46039f"
             ],
             [
              0.2222222222222222,
              "#7201a8"
             ],
             [
              0.3333333333333333,
              "#9c179e"
             ],
             [
              0.4444444444444444,
              "#bd3786"
             ],
             [
              0.5555555555555556,
              "#d8576b"
             ],
             [
              0.6666666666666666,
              "#ed7953"
             ],
             [
              0.7777777777777778,
              "#fb9f3a"
             ],
             [
              0.8888888888888888,
              "#fdca26"
             ],
             [
              1,
              "#f0f921"
             ]
            ],
            "type": "heatmap"
           }
          ],
          "histogram": [
           {
            "marker": {
             "pattern": {
              "fillmode": "overlay",
              "size": 10,
              "solidity": 0.2
             }
            },
            "type": "histogram"
           }
          ],
          "histogram2d": [
           {
            "colorbar": {
             "outlinewidth": 0,
             "ticks": ""
            },
            "colorscale": [
             [
              0,
              "#0d0887"
             ],
             [
              0.1111111111111111,
              "#46039f"
             ],
             [
              0.2222222222222222,
              "#7201a8"
             ],
             [
              0.3333333333333333,
              "#9c179e"
             ],
             [
              0.4444444444444444,
              "#bd3786"
             ],
             [
              0.5555555555555556,
              "#d8576b"
             ],
             [
              0.6666666666666666,
              "#ed7953"
             ],
             [
              0.7777777777777778,
              "#fb9f3a"
             ],
             [
              0.8888888888888888,
              "#fdca26"
             ],
             [
              1,
              "#f0f921"
             ]
            ],
            "type": "histogram2d"
           }
          ],
          "histogram2dcontour": [
           {
            "colorbar": {
             "outlinewidth": 0,
             "ticks": ""
            },
            "colorscale": [
             [
              0,
              "#0d0887"
             ],
             [
              0.1111111111111111,
              "#46039f"
             ],
             [
              0.2222222222222222,
              "#7201a8"
             ],
             [
              0.3333333333333333,
              "#9c179e"
             ],
             [
              0.4444444444444444,
              "#bd3786"
             ],
             [
              0.5555555555555556,
              "#d8576b"
             ],
             [
              0.6666666666666666,
              "#ed7953"
             ],
             [
              0.7777777777777778,
              "#fb9f3a"
             ],
             [
              0.8888888888888888,
              "#fdca26"
             ],
             [
              1,
              "#f0f921"
             ]
            ],
            "type": "histogram2dcontour"
           }
          ],
          "mesh3d": [
           {
            "colorbar": {
             "outlinewidth": 0,
             "ticks": ""
            },
            "type": "mesh3d"
           }
          ],
          "parcoords": [
           {
            "line": {
             "colorbar": {
              "outlinewidth": 0,
              "ticks": ""
             }
            },
            "type": "parcoords"
           }
          ],
          "pie": [
           {
            "automargin": true,
            "type": "pie"
           }
          ],
          "scatter": [
           {
            "fillpattern": {
             "fillmode": "overlay",
             "size": 10,
             "solidity": 0.2
            },
            "type": "scatter"
           }
          ],
          "scatter3d": [
           {
            "line": {
             "colorbar": {
              "outlinewidth": 0,
              "ticks": ""
             }
            },
            "marker": {
             "colorbar": {
              "outlinewidth": 0,
              "ticks": ""
             }
            },
            "type": "scatter3d"
           }
          ],
          "scattercarpet": [
           {
            "marker": {
             "colorbar": {
              "outlinewidth": 0,
              "ticks": ""
             }
            },
            "type": "scattercarpet"
           }
          ],
          "scattergeo": [
           {
            "marker": {
             "colorbar": {
              "outlinewidth": 0,
              "ticks": ""
             }
            },
            "type": "scattergeo"
           }
          ],
          "scattergl": [
           {
            "marker": {
             "colorbar": {
              "outlinewidth": 0,
              "ticks": ""
             }
            },
            "type": "scattergl"
           }
          ],
          "scattermap": [
           {
            "marker": {
             "colorbar": {
              "outlinewidth": 0,
              "ticks": ""
             }
            },
            "type": "scattermap"
           }
          ],
          "scattermapbox": [
           {
            "marker": {
             "colorbar": {
              "outlinewidth": 0,
              "ticks": ""
             }
            },
            "type": "scattermapbox"
           }
          ],
          "scatterpolar": [
           {
            "marker": {
             "colorbar": {
              "outlinewidth": 0,
              "ticks": ""
             }
            },
            "type": "scatterpolar"
           }
          ],
          "scatterpolargl": [
           {
            "marker": {
             "colorbar": {
              "outlinewidth": 0,
              "ticks": ""
             }
            },
            "type": "scatterpolargl"
           }
          ],
          "scatterternary": [
           {
            "marker": {
             "colorbar": {
              "outlinewidth": 0,
              "ticks": ""
             }
            },
            "type": "scatterternary"
           }
          ],
          "surface": [
           {
            "colorbar": {
             "outlinewidth": 0,
             "ticks": ""
            },
            "colorscale": [
             [
              0,
              "#0d0887"
             ],
             [
              0.1111111111111111,
              "#46039f"
             ],
             [
              0.2222222222222222,
              "#7201a8"
             ],
             [
              0.3333333333333333,
              "#9c179e"
             ],
             [
              0.4444444444444444,
              "#bd3786"
             ],
             [
              0.5555555555555556,
              "#d8576b"
             ],
             [
              0.6666666666666666,
              "#ed7953"
             ],
             [
              0.7777777777777778,
              "#fb9f3a"
             ],
             [
              0.8888888888888888,
              "#fdca26"
             ],
             [
              1,
              "#f0f921"
             ]
            ],
            "type": "surface"
           }
          ],
          "table": [
           {
            "cells": {
             "fill": {
              "color": "#EBF0F8"
             },
             "line": {
              "color": "white"
             }
            },
            "header": {
             "fill": {
              "color": "#C8D4E3"
             },
             "line": {
              "color": "white"
             }
            },
            "type": "table"
           }
          ]
         },
         "layout": {
          "annotationdefaults": {
           "arrowcolor": "#2a3f5f",
           "arrowhead": 0,
           "arrowwidth": 1
          },
          "autotypenumbers": "strict",
          "coloraxis": {
           "colorbar": {
            "outlinewidth": 0,
            "ticks": ""
           }
          },
          "colorscale": {
           "diverging": [
            [
             0,
             "#8e0152"
            ],
            [
             0.1,
             "#c51b7d"
            ],
            [
             0.2,
             "#de77ae"
            ],
            [
             0.3,
             "#f1b6da"
            ],
            [
             0.4,
             "#fde0ef"
            ],
            [
             0.5,
             "#f7f7f7"
            ],
            [
             0.6,
             "#e6f5d0"
            ],
            [
             0.7,
             "#b8e186"
            ],
            [
             0.8,
             "#7fbc41"
            ],
            [
             0.9,
             "#4d9221"
            ],
            [
             1,
             "#276419"
            ]
           ],
           "sequential": [
            [
             0,
             "#0d0887"
            ],
            [
             0.1111111111111111,
             "#46039f"
            ],
            [
             0.2222222222222222,
             "#7201a8"
            ],
            [
             0.3333333333333333,
             "#9c179e"
            ],
            [
             0.4444444444444444,
             "#bd3786"
            ],
            [
             0.5555555555555556,
             "#d8576b"
            ],
            [
             0.6666666666666666,
             "#ed7953"
            ],
            [
             0.7777777777777778,
             "#fb9f3a"
            ],
            [
             0.8888888888888888,
             "#fdca26"
            ],
            [
             1,
             "#f0f921"
            ]
           ],
           "sequentialminus": [
            [
             0,
             "#0d0887"
            ],
            [
             0.1111111111111111,
             "#46039f"
            ],
            [
             0.2222222222222222,
             "#7201a8"
            ],
            [
             0.3333333333333333,
             "#9c179e"
            ],
            [
             0.4444444444444444,
             "#bd3786"
            ],
            [
             0.5555555555555556,
             "#d8576b"
            ],
            [
             0.6666666666666666,
             "#ed7953"
            ],
            [
             0.7777777777777778,
             "#fb9f3a"
            ],
            [
             0.8888888888888888,
             "#fdca26"
            ],
            [
             1,
             "#f0f921"
            ]
           ]
          },
          "colorway": [
           "#636efa",
           "#EF553B",
           "#00cc96",
           "#ab63fa",
           "#FFA15A",
           "#19d3f3",
           "#FF6692",
           "#B6E880",
           "#FF97FF",
           "#FECB52"
          ],
          "font": {
           "color": "#2a3f5f"
          },
          "geo": {
           "bgcolor": "white",
           "lakecolor": "white",
           "landcolor": "#E5ECF6",
           "showlakes": true,
           "showland": true,
           "subunitcolor": "white"
          },
          "hoverlabel": {
           "align": "left"
          },
          "hovermode": "closest",
          "mapbox": {
           "style": "light"
          },
          "paper_bgcolor": "white",
          "plot_bgcolor": "#E5ECF6",
          "polar": {
           "angularaxis": {
            "gridcolor": "white",
            "linecolor": "white",
            "ticks": ""
           },
           "bgcolor": "#E5ECF6",
           "radialaxis": {
            "gridcolor": "white",
            "linecolor": "white",
            "ticks": ""
           }
          },
          "scene": {
           "xaxis": {
            "backgroundcolor": "#E5ECF6",
            "gridcolor": "white",
            "gridwidth": 2,
            "linecolor": "white",
            "showbackground": true,
            "ticks": "",
            "zerolinecolor": "white"
           },
           "yaxis": {
            "backgroundcolor": "#E5ECF6",
            "gridcolor": "white",
            "gridwidth": 2,
            "linecolor": "white",
            "showbackground": true,
            "ticks": "",
            "zerolinecolor": "white"
           },
           "zaxis": {
            "backgroundcolor": "#E5ECF6",
            "gridcolor": "white",
            "gridwidth": 2,
            "linecolor": "white",
            "showbackground": true,
            "ticks": "",
            "zerolinecolor": "white"
           }
          },
          "shapedefaults": {
           "line": {
            "color": "#2a3f5f"
           }
          },
          "ternary": {
           "aaxis": {
            "gridcolor": "white",
            "linecolor": "white",
            "ticks": ""
           },
           "baxis": {
            "gridcolor": "white",
            "linecolor": "white",
            "ticks": ""
           },
           "bgcolor": "#E5ECF6",
           "caxis": {
            "gridcolor": "white",
            "linecolor": "white",
            "ticks": ""
           }
          },
          "title": {
           "x": 0.05
          },
          "xaxis": {
           "automargin": true,
           "gridcolor": "white",
           "linecolor": "white",
           "ticks": "",
           "title": {
            "standoff": 15
           },
           "zerolinecolor": "white",
           "zerolinewidth": 2
          },
          "yaxis": {
           "automargin": true,
           "gridcolor": "white",
           "linecolor": "white",
           "ticks": "",
           "title": {
            "standoff": 15
           },
           "zerolinecolor": "white",
           "zerolinewidth": 2
          }
         }
        },
        "title": {
         "text": "📊 Corrélations entre les scores composites"
        },
        "width": 600,
        "xaxis": {
         "anchor": "y",
         "constrain": "domain",
         "domain": [
          0,
          1
         ],
         "scaleanchor": "y"
        },
        "yaxis": {
         "anchor": "x",
         "autorange": "reversed",
         "constrain": "domain",
         "domain": [
          0,
          1
         ]
        }
       }
      }
     },
     "metadata": {},
     "output_type": "display_data"
    }
   ],
   "source": [
    "import plotly.express as px\n",
    "\n",
    "# Sous-ensemble\n",
    "score_cols = [\n",
    "    \"climat_de_confiance\", \"bien_etre\",\n",
    "    \"expression_et_ecoute\", \"engagement\"\n",
    "]\n",
    "\n",
    "corr_matrix = df_scores[score_cols].corr(method=\"pearson\").round(2)\n",
    "\n",
    "# Heatmap avec Plotly\n",
    "fig = px.imshow(\n",
    "    corr_matrix,\n",
    "    text_auto=True,\n",
    "    color_continuous_scale=\"RdBu\",\n",
    "    zmin=-1, zmax=1,\n",
    "    title=\"📊 Corrélations entre les scores composites\"\n",
    ")\n",
    "fig.update_layout(height=600, width=600)\n",
    "fig.show()\n"
   ]
  },
  {
   "cell_type": "markdown",
   "id": "0e58275d",
   "metadata": {},
   "source": [
    "## Analyse statistique de base"
   ]
  },
  {
   "cell_type": "code",
   "execution_count": 54,
   "id": "7d36110e",
   "metadata": {},
   "outputs": [
    {
     "data": {
      "application/vnd.plotly.v1+json": {
       "config": {
        "plotlyServerURL": "https://plot.ly"
       },
       "data": [
        {
         "alignmentgroup": "True",
         "hovertemplate": "genre=Fille<br>question=%{x}<br>score=%{y}<extra></extra>",
         "legendgroup": "Fille",
         "marker": {
          "color": "#636efa",
          "pattern": {
           "shape": ""
          }
         },
         "name": "Fille",
         "offsetgroup": "Fille",
         "orientation": "v",
         "showlegend": true,
         "textposition": "auto",
         "type": "bar",
         "x": [
          "Q10",
          "Q12",
          "Q13",
          "Q3",
          "Q4",
          "Q6",
          "Q7",
          "Q9"
         ],
         "xaxis": "x",
         "y": {
          "bdata": "+khsmI/E9j/Cck8jLPf0P+cthnTeYgBAgUyKF8ikAEDAXqX961X6P6gRlnsaYQFAXiCT4gUy+T8SlnsaYbn3Pw==",
          "dtype": "f8"
         },
         "yaxis": "y"
        },
        {
         "alignmentgroup": "True",
         "hovertemplate": "genre=Garçon<br>question=%{x}<br>score=%{y}<extra></extra>",
         "legendgroup": "Garçon",
         "marker": {
          "color": "#EF553B",
          "pattern": {
           "shape": ""
          }
         },
         "name": "Garçon",
         "offsetgroup": "Garçon",
         "orientation": "v",
         "showlegend": true,
         "textposition": "auto",
         "type": "bar",
         "x": [
          "Q10",
          "Q12",
          "Q13",
          "Q3",
          "Q4",
          "Q6",
          "Q7",
          "Q9"
         ],
         "xaxis": "x",
         "y": {
          "bdata": "D8TvQPwO9D+J2pWoXYnyP3A+BudjcP4/1K5E7UrU/j9C9yJ0L0L3PzwQvwPxOwBAvwPxOxC/8z+VrUnZmpT1Pw==",
          "dtype": "f8"
         },
         "yaxis": "y"
        }
       ],
       "layout": {
        "barmode": "group",
        "height": 600,
        "legend": {
         "title": {
          "text": "genre"
         },
         "tracegroupgap": 0
        },
        "template": {
         "data": {
          "bar": [
           {
            "error_x": {
             "color": "#2a3f5f"
            },
            "error_y": {
             "color": "#2a3f5f"
            },
            "marker": {
             "line": {
              "color": "#E5ECF6",
              "width": 0.5
             },
             "pattern": {
              "fillmode": "overlay",
              "size": 10,
              "solidity": 0.2
             }
            },
            "type": "bar"
           }
          ],
          "barpolar": [
           {
            "marker": {
             "line": {
              "color": "#E5ECF6",
              "width": 0.5
             },
             "pattern": {
              "fillmode": "overlay",
              "size": 10,
              "solidity": 0.2
             }
            },
            "type": "barpolar"
           }
          ],
          "carpet": [
           {
            "aaxis": {
             "endlinecolor": "#2a3f5f",
             "gridcolor": "white",
             "linecolor": "white",
             "minorgridcolor": "white",
             "startlinecolor": "#2a3f5f"
            },
            "baxis": {
             "endlinecolor": "#2a3f5f",
             "gridcolor": "white",
             "linecolor": "white",
             "minorgridcolor": "white",
             "startlinecolor": "#2a3f5f"
            },
            "type": "carpet"
           }
          ],
          "choropleth": [
           {
            "colorbar": {
             "outlinewidth": 0,
             "ticks": ""
            },
            "type": "choropleth"
           }
          ],
          "contour": [
           {
            "colorbar": {
             "outlinewidth": 0,
             "ticks": ""
            },
            "colorscale": [
             [
              0,
              "#0d0887"
             ],
             [
              0.1111111111111111,
              "#46039f"
             ],
             [
              0.2222222222222222,
              "#7201a8"
             ],
             [
              0.3333333333333333,
              "#9c179e"
             ],
             [
              0.4444444444444444,
              "#bd3786"
             ],
             [
              0.5555555555555556,
              "#d8576b"
             ],
             [
              0.6666666666666666,
              "#ed7953"
             ],
             [
              0.7777777777777778,
              "#fb9f3a"
             ],
             [
              0.8888888888888888,
              "#fdca26"
             ],
             [
              1,
              "#f0f921"
             ]
            ],
            "type": "contour"
           }
          ],
          "contourcarpet": [
           {
            "colorbar": {
             "outlinewidth": 0,
             "ticks": ""
            },
            "type": "contourcarpet"
           }
          ],
          "heatmap": [
           {
            "colorbar": {
             "outlinewidth": 0,
             "ticks": ""
            },
            "colorscale": [
             [
              0,
              "#0d0887"
             ],
             [
              0.1111111111111111,
              "#46039f"
             ],
             [
              0.2222222222222222,
              "#7201a8"
             ],
             [
              0.3333333333333333,
              "#9c179e"
             ],
             [
              0.4444444444444444,
              "#bd3786"
             ],
             [
              0.5555555555555556,
              "#d8576b"
             ],
             [
              0.6666666666666666,
              "#ed7953"
             ],
             [
              0.7777777777777778,
              "#fb9f3a"
             ],
             [
              0.8888888888888888,
              "#fdca26"
             ],
             [
              1,
              "#f0f921"
             ]
            ],
            "type": "heatmap"
           }
          ],
          "histogram": [
           {
            "marker": {
             "pattern": {
              "fillmode": "overlay",
              "size": 10,
              "solidity": 0.2
             }
            },
            "type": "histogram"
           }
          ],
          "histogram2d": [
           {
            "colorbar": {
             "outlinewidth": 0,
             "ticks": ""
            },
            "colorscale": [
             [
              0,
              "#0d0887"
             ],
             [
              0.1111111111111111,
              "#46039f"
             ],
             [
              0.2222222222222222,
              "#7201a8"
             ],
             [
              0.3333333333333333,
              "#9c179e"
             ],
             [
              0.4444444444444444,
              "#bd3786"
             ],
             [
              0.5555555555555556,
              "#d8576b"
             ],
             [
              0.6666666666666666,
              "#ed7953"
             ],
             [
              0.7777777777777778,
              "#fb9f3a"
             ],
             [
              0.8888888888888888,
              "#fdca26"
             ],
             [
              1,
              "#f0f921"
             ]
            ],
            "type": "histogram2d"
           }
          ],
          "histogram2dcontour": [
           {
            "colorbar": {
             "outlinewidth": 0,
             "ticks": ""
            },
            "colorscale": [
             [
              0,
              "#0d0887"
             ],
             [
              0.1111111111111111,
              "#46039f"
             ],
             [
              0.2222222222222222,
              "#7201a8"
             ],
             [
              0.3333333333333333,
              "#9c179e"
             ],
             [
              0.4444444444444444,
              "#bd3786"
             ],
             [
              0.5555555555555556,
              "#d8576b"
             ],
             [
              0.6666666666666666,
              "#ed7953"
             ],
             [
              0.7777777777777778,
              "#fb9f3a"
             ],
             [
              0.8888888888888888,
              "#fdca26"
             ],
             [
              1,
              "#f0f921"
             ]
            ],
            "type": "histogram2dcontour"
           }
          ],
          "mesh3d": [
           {
            "colorbar": {
             "outlinewidth": 0,
             "ticks": ""
            },
            "type": "mesh3d"
           }
          ],
          "parcoords": [
           {
            "line": {
             "colorbar": {
              "outlinewidth": 0,
              "ticks": ""
             }
            },
            "type": "parcoords"
           }
          ],
          "pie": [
           {
            "automargin": true,
            "type": "pie"
           }
          ],
          "scatter": [
           {
            "fillpattern": {
             "fillmode": "overlay",
             "size": 10,
             "solidity": 0.2
            },
            "type": "scatter"
           }
          ],
          "scatter3d": [
           {
            "line": {
             "colorbar": {
              "outlinewidth": 0,
              "ticks": ""
             }
            },
            "marker": {
             "colorbar": {
              "outlinewidth": 0,
              "ticks": ""
             }
            },
            "type": "scatter3d"
           }
          ],
          "scattercarpet": [
           {
            "marker": {
             "colorbar": {
              "outlinewidth": 0,
              "ticks": ""
             }
            },
            "type": "scattercarpet"
           }
          ],
          "scattergeo": [
           {
            "marker": {
             "colorbar": {
              "outlinewidth": 0,
              "ticks": ""
             }
            },
            "type": "scattergeo"
           }
          ],
          "scattergl": [
           {
            "marker": {
             "colorbar": {
              "outlinewidth": 0,
              "ticks": ""
             }
            },
            "type": "scattergl"
           }
          ],
          "scattermap": [
           {
            "marker": {
             "colorbar": {
              "outlinewidth": 0,
              "ticks": ""
             }
            },
            "type": "scattermap"
           }
          ],
          "scattermapbox": [
           {
            "marker": {
             "colorbar": {
              "outlinewidth": 0,
              "ticks": ""
             }
            },
            "type": "scattermapbox"
           }
          ],
          "scatterpolar": [
           {
            "marker": {
             "colorbar": {
              "outlinewidth": 0,
              "ticks": ""
             }
            },
            "type": "scatterpolar"
           }
          ],
          "scatterpolargl": [
           {
            "marker": {
             "colorbar": {
              "outlinewidth": 0,
              "ticks": ""
             }
            },
            "type": "scatterpolargl"
           }
          ],
          "scatterternary": [
           {
            "marker": {
             "colorbar": {
              "outlinewidth": 0,
              "ticks": ""
             }
            },
            "type": "scatterternary"
           }
          ],
          "surface": [
           {
            "colorbar": {
             "outlinewidth": 0,
             "ticks": ""
            },
            "colorscale": [
             [
              0,
              "#0d0887"
             ],
             [
              0.1111111111111111,
              "#46039f"
             ],
             [
              0.2222222222222222,
              "#7201a8"
             ],
             [
              0.3333333333333333,
              "#9c179e"
             ],
             [
              0.4444444444444444,
              "#bd3786"
             ],
             [
              0.5555555555555556,
              "#d8576b"
             ],
             [
              0.6666666666666666,
              "#ed7953"
             ],
             [
              0.7777777777777778,
              "#fb9f3a"
             ],
             [
              0.8888888888888888,
              "#fdca26"
             ],
             [
              1,
              "#f0f921"
             ]
            ],
            "type": "surface"
           }
          ],
          "table": [
           {
            "cells": {
             "fill": {
              "color": "#EBF0F8"
             },
             "line": {
              "color": "white"
             }
            },
            "header": {
             "fill": {
              "color": "#C8D4E3"
             },
             "line": {
              "color": "white"
             }
            },
            "type": "table"
           }
          ]
         },
         "layout": {
          "annotationdefaults": {
           "arrowcolor": "#2a3f5f",
           "arrowhead": 0,
           "arrowwidth": 1
          },
          "autotypenumbers": "strict",
          "coloraxis": {
           "colorbar": {
            "outlinewidth": 0,
            "ticks": ""
           }
          },
          "colorscale": {
           "diverging": [
            [
             0,
             "#8e0152"
            ],
            [
             0.1,
             "#c51b7d"
            ],
            [
             0.2,
             "#de77ae"
            ],
            [
             0.3,
             "#f1b6da"
            ],
            [
             0.4,
             "#fde0ef"
            ],
            [
             0.5,
             "#f7f7f7"
            ],
            [
             0.6,
             "#e6f5d0"
            ],
            [
             0.7,
             "#b8e186"
            ],
            [
             0.8,
             "#7fbc41"
            ],
            [
             0.9,
             "#4d9221"
            ],
            [
             1,
             "#276419"
            ]
           ],
           "sequential": [
            [
             0,
             "#0d0887"
            ],
            [
             0.1111111111111111,
             "#46039f"
            ],
            [
             0.2222222222222222,
             "#7201a8"
            ],
            [
             0.3333333333333333,
             "#9c179e"
            ],
            [
             0.4444444444444444,
             "#bd3786"
            ],
            [
             0.5555555555555556,
             "#d8576b"
            ],
            [
             0.6666666666666666,
             "#ed7953"
            ],
            [
             0.7777777777777778,
             "#fb9f3a"
            ],
            [
             0.8888888888888888,
             "#fdca26"
            ],
            [
             1,
             "#f0f921"
            ]
           ],
           "sequentialminus": [
            [
             0,
             "#0d0887"
            ],
            [
             0.1111111111111111,
             "#46039f"
            ],
            [
             0.2222222222222222,
             "#7201a8"
            ],
            [
             0.3333333333333333,
             "#9c179e"
            ],
            [
             0.4444444444444444,
             "#bd3786"
            ],
            [
             0.5555555555555556,
             "#d8576b"
            ],
            [
             0.6666666666666666,
             "#ed7953"
            ],
            [
             0.7777777777777778,
             "#fb9f3a"
            ],
            [
             0.8888888888888888,
             "#fdca26"
            ],
            [
             1,
             "#f0f921"
            ]
           ]
          },
          "colorway": [
           "#636efa",
           "#EF553B",
           "#00cc96",
           "#ab63fa",
           "#FFA15A",
           "#19d3f3",
           "#FF6692",
           "#B6E880",
           "#FF97FF",
           "#FECB52"
          ],
          "font": {
           "color": "#2a3f5f"
          },
          "geo": {
           "bgcolor": "white",
           "lakecolor": "white",
           "landcolor": "#E5ECF6",
           "showlakes": true,
           "showland": true,
           "subunitcolor": "white"
          },
          "hoverlabel": {
           "align": "left"
          },
          "hovermode": "closest",
          "mapbox": {
           "style": "light"
          },
          "paper_bgcolor": "white",
          "plot_bgcolor": "#E5ECF6",
          "polar": {
           "angularaxis": {
            "gridcolor": "white",
            "linecolor": "white",
            "ticks": ""
           },
           "bgcolor": "#E5ECF6",
           "radialaxis": {
            "gridcolor": "white",
            "linecolor": "white",
            "ticks": ""
           }
          },
          "scene": {
           "xaxis": {
            "backgroundcolor": "#E5ECF6",
            "gridcolor": "white",
            "gridwidth": 2,
            "linecolor": "white",
            "showbackground": true,
            "ticks": "",
            "zerolinecolor": "white"
           },
           "yaxis": {
            "backgroundcolor": "#E5ECF6",
            "gridcolor": "white",
            "gridwidth": 2,
            "linecolor": "white",
            "showbackground": true,
            "ticks": "",
            "zerolinecolor": "white"
           },
           "zaxis": {
            "backgroundcolor": "#E5ECF6",
            "gridcolor": "white",
            "gridwidth": 2,
            "linecolor": "white",
            "showbackground": true,
            "ticks": "",
            "zerolinecolor": "white"
           }
          },
          "shapedefaults": {
           "line": {
            "color": "#2a3f5f"
           }
          },
          "ternary": {
           "aaxis": {
            "gridcolor": "white",
            "linecolor": "white",
            "ticks": ""
           },
           "baxis": {
            "gridcolor": "white",
            "linecolor": "white",
            "ticks": ""
           },
           "bgcolor": "#E5ECF6",
           "caxis": {
            "gridcolor": "white",
            "linecolor": "white",
            "ticks": ""
           }
          },
          "title": {
           "x": 0.05
          },
          "xaxis": {
           "automargin": true,
           "gridcolor": "white",
           "linecolor": "white",
           "ticks": "",
           "title": {
            "standoff": 15
           },
           "zerolinecolor": "white",
           "zerolinewidth": 2
          },
          "yaxis": {
           "automargin": true,
           "gridcolor": "white",
           "linecolor": "white",
           "ticks": "",
           "title": {
            "standoff": 15
           },
           "zerolinecolor": "white",
           "zerolinewidth": 2
          }
         }
        },
        "title": {
         "text": "Scores moyens par question fermée selon le genre"
        },
        "xaxis": {
         "anchor": "y",
         "categoryarray": [
          "Q3",
          "Q4",
          "Q6",
          "Q7",
          "Q9",
          "Q10",
          "Q12",
          "Q13"
         ],
         "categoryorder": "array",
         "domain": [
          0,
          1
         ],
         "title": {}
        },
        "yaxis": {
         "anchor": "x",
         "domain": [
          0,
          1
         ],
         "range": [
          0,
          3
         ],
         "title": {
          "text": "Score moyen (0–3)"
         }
        }
       }
      }
     },
     "metadata": {},
     "output_type": "display_data"
    }
   ],
   "source": [
    "def plot_scores_by_gender(df):\n",
    "    score_columns = [\n",
    "        \"sentiment_global\", \"confiance_adultes\", \"sentiment_securite\",\n",
    "        \"participation_projets\", \"liberte_expression\", \"ecoute_et_soutien\",\n",
    "        \"envie_venir\", \"relation_famille_etab\"\n",
    "    ]\n",
    "\n",
    "    df_plot = df[[\"genre\"] + score_columns].copy()\n",
    "\n",
    "\n",
    "\n",
    "    # Transformation longue\n",
    "    df_melted = df_plot.melt(\n",
    "        id_vars=[\"genre\"],\n",
    "        value_vars=score_columns,\n",
    "        var_name=\"question\",\n",
    "        value_name=\"score\"\n",
    "    )\n",
    "\n",
    "\n",
    "\n",
    "    # Moyennes par question et genre\n",
    "    df_grouped = df_melted.groupby([\"question\", \"genre\"], as_index=False).mean()\n",
    "    df_grouped[\"question\"] = df_grouped[\"question\"].str.extract(r\"(Q\\d+)\")\n",
    "\n",
    "    # Mapping manuel\n",
    "    mapping_q = {\n",
    "        \"sentiment_global\": \"Q3\",\n",
    "        \"confiance_adultes\": \"Q4\",\n",
    "        \"sentiment_securite\": \"Q6\",\n",
    "        \"participation_projets\": \"Q7\",\n",
    "        \"liberte_expression\": \"Q9\",\n",
    "        \"ecoute_et_soutien\": \"Q10\",\n",
    "        \"envie_venir\": \"Q12\",\n",
    "        \"relation_famille_etab\": \"Q13\"\n",
    "    }\n",
    "\n",
    "    ordre_questions = [\"Q3\", \"Q4\", \"Q6\", \"Q7\", \"Q9\", \"Q10\", \"Q12\", \"Q13\"]\n",
    "\n",
    "    # Remplacer les noms de variables par leur code Qx\n",
    "    df_melted[\"question\"] = df_melted[\"question\"].map(mapping_q)\n",
    "\n",
    "    # Moyennes par question et genre\n",
    "    df_grouped = df_melted.groupby([\"question\", \"genre\"], as_index=False)[\"score\"].mean()\n",
    "\n",
    "    # Forcer l’ordre\n",
    "    df_grouped[\"question\"] = pd.Categorical(df_grouped[\"question\"], categories=ordre_questions, ordered=True)\n",
    "\n",
    "\n",
    "    # Graphe\n",
    "    fig = px.bar(\n",
    "        df_grouped,\n",
    "        x=\"question\",\n",
    "        y=\"score\",\n",
    "        color=\"genre\",\n",
    "        barmode=\"group\",\n",
    "        category_orders={\"question\": ordre_questions},\n",
    "        height=600,\n",
    "        title=\"Scores moyens par question fermée selon le genre\"\n",
    "    )\n",
    "\n",
    "    fig.update_layout(\n",
    "        xaxis_title=None,\n",
    "        yaxis_title=\"Score moyen (0–3)\",\n",
    "        yaxis_range=[0, 3]\n",
    "    )\n",
    "\n",
    "    return fig\n",
    "\n",
    "plot_scores_by_gender(df)\n"
   ]
  },
  {
   "cell_type": "code",
   "execution_count": null,
   "id": "cedc7be4",
   "metadata": {},
   "outputs": [
    {
     "data": {
      "application/vnd.plotly.v1+json": {
       "config": {
        "plotlyServerURL": "https://plot.ly"
       },
       "data": [
        {
         "alignmentgroup": "True",
         "hovertemplate": "Genre=Fille<br>Niveau_label=niveau 6e<br>Question=%{x}<br>score=%{y}<extra></extra>",
         "legendgroup": "Fille",
         "marker": {
          "color": "#636efa",
          "pattern": {
           "shape": ""
          }
         },
         "name": "Fille",
         "offsetgroup": "Fille",
         "orientation": "v",
         "showlegend": true,
         "textposition": "auto",
         "type": "bar",
         "x": [
          "Q10",
          "Q12",
          "Q13",
          "Q3",
          "Q4",
          "Q6",
          "Q7",
          "Q9"
         ],
         "xaxis": "x",
         "y": {
          "bdata": "AAAAAABA+D8AAAAAAID1PwAAAAAA4ABAAAAAAADAAEAAAAAAACD8PwAAAAAAYAFAAAAAAACA9z8AAAAAAGD3Pw==",
          "dtype": "f8"
         },
         "yaxis": "y"
        },
        {
         "alignmentgroup": "True",
         "hovertemplate": "Genre=Garçon<br>Niveau_label=niveau 6e<br>Question=%{x}<br>score=%{y}<extra></extra>",
         "legendgroup": "Garçon",
         "marker": {
          "color": "#EF553B",
          "pattern": {
           "shape": ""
          }
         },
         "name": "Garçon",
         "offsetgroup": "Garçon",
         "orientation": "v",
         "showlegend": true,
         "textposition": "auto",
         "type": "bar",
         "x": [
          "Q10",
          "Q12",
          "Q13",
          "Q3",
          "Q4",
          "Q6",
          "Q7",
          "Q9"
         ],
         "xaxis": "x",
         "y": {
          "bdata": "7MRO7MRO+D8UO7ETO7H1P57YiZ3YiQBAntiJndiJ/z8AAAAAAAD6P+zETuzETgBAYid2Yid28j/sxE7sxE74Pw==",
          "dtype": "f8"
         },
         "yaxis": "y"
        },
        {
         "alignmentgroup": "True",
         "hovertemplate": "Genre=Fille<br>Niveau_label=niveau 5e<br>Question=%{x}<br>score=%{y}<extra></extra>",
         "legendgroup": "Fille",
         "marker": {
          "color": "#636efa",
          "pattern": {
           "shape": ""
          }
         },
         "name": "Fille",
         "offsetgroup": "Fille",
         "orientation": "v",
         "showlegend": false,
         "textposition": "auto",
         "type": "bar",
         "x": [
          "Q10",
          "Q12",
          "Q13",
          "Q3",
          "Q4",
          "Q6",
          "Q7",
          "Q9"
         ],
         "xaxis": "x2",
         "y": {
          "bdata": "X+iFXuiF9j9DL/RCL/TyP+AHfuAHfgBA5EZu5EZuAEA7sRM7sRP7P8mN3MiN3ABAN3IjN3Ij9z8g+IEf+IH3Pw==",
          "dtype": "f8"
         },
         "yaxis": "y2"
        },
        {
         "alignmentgroup": "True",
         "hovertemplate": "Genre=Garçon<br>Niveau_label=niveau 5e<br>Question=%{x}<br>score=%{y}<extra></extra>",
         "legendgroup": "Garçon",
         "marker": {
          "color": "#EF553B",
          "pattern": {
           "shape": ""
          }
         },
         "name": "Garçon",
         "offsetgroup": "Garçon",
         "orientation": "v",
         "showlegend": false,
         "textposition": "auto",
         "type": "bar",
         "x": [
          "Q10",
          "Q12",
          "Q13",
          "Q3",
          "Q4",
          "Q6",
          "Q7",
          "Q9"
         ],
         "xaxis": "x2",
         "y": {
          "bdata": "4SB6fBcO8j+E6PFdOIjuP/vJEti0n/w/xdzqjFTM/T9LYNN+sgT2P+nxXTiIHv8/tzojFXOr8z8FNu0nS2DzPw==",
          "dtype": "f8"
         },
         "yaxis": "y2"
        },
        {
         "alignmentgroup": "True",
         "hovertemplate": "Genre=Fille<br>Niveau_label=niveau 4e<br>Question=%{x}<br>score=%{y}<extra></extra>",
         "legendgroup": "Fille",
         "marker": {
          "color": "#636efa",
          "pattern": {
           "shape": ""
          }
         },
         "name": "Fille",
         "offsetgroup": "Fille",
         "orientation": "v",
         "showlegend": false,
         "textposition": "auto",
         "type": "bar",
         "x": [
          "Q10",
          "Q12",
          "Q13",
          "Q3",
          "Q4",
          "Q6",
          "Q7",
          "Q9"
         ],
         "xaxis": "x3",
         "y": {
          "bdata": "VVVVVVXV9j9VVVVVVdX2P1VVVVVVlQBAVVVVVVVVAUAAAAAAAID6P1VVVVVVFQJAq6qqqqqq/D9VVVVVVdX4Pw==",
          "dtype": "f8"
         },
         "yaxis": "y3"
        },
        {
         "alignmentgroup": "True",
         "hovertemplate": "Genre=Garçon<br>Niveau_label=niveau 4e<br>Question=%{x}<br>score=%{y}<extra></extra>",
         "legendgroup": "Garçon",
         "marker": {
          "color": "#EF553B",
          "pattern": {
           "shape": ""
          }
         },
         "name": "Garçon",
         "offsetgroup": "Garçon",
         "orientation": "v",
         "showlegend": false,
         "textposition": "auto",
         "type": "bar",
         "x": [
          "Q10",
          "Q12",
          "Q13",
          "Q3",
          "Q4",
          "Q6",
          "Q7",
          "Q9"
         ],
         "xaxis": "x3",
         "y": {
          "bdata": "hOWeRlju8T/LPY2w3NPwP59GWO5phP0/hOWeRlju/T+Wexphuaf1PwnLPY2w3P8/1AjLPY2w8D+x3NMIyz31Pw==",
          "dtype": "f8"
         },
         "yaxis": "y3"
        },
        {
         "alignmentgroup": "True",
         "hovertemplate": "Genre=Fille<br>Niveau_label=niveau 3e<br>Question=%{x}<br>score=%{y}<extra></extra>",
         "legendgroup": "Fille",
         "marker": {
          "color": "#636efa",
          "pattern": {
           "shape": ""
          }
         },
         "name": "Fille",
         "offsetgroup": "Fille",
         "orientation": "v",
         "showlegend": false,
         "textposition": "auto",
         "type": "bar",
         "x": [
          "Q10",
          "Q12",
          "Q13",
          "Q3",
          "Q4",
          "Q6",
          "Q7",
          "Q9"
         ],
         "xaxis": "x4",
         "y": {
          "bdata": "2ktoL6G99D+Cp1vzwyL1P2KRMvB0a/4/AAAAAAAAAECkDDzdmh/2P8rA0635YQFAUgaebs0P+z+bHxYpA0/3Pw==",
          "dtype": "f8"
         },
         "yaxis": "y4"
        },
        {
         "alignmentgroup": "True",
         "hovertemplate": "Genre=Garçon<br>Niveau_label=niveau 3e<br>Question=%{x}<br>score=%{y}<extra></extra>",
         "legendgroup": "Garçon",
         "marker": {
          "color": "#EF553B",
          "pattern": {
           "shape": ""
          }
         },
         "name": "Garçon",
         "offsetgroup": "Garçon",
         "orientation": "v",
         "showlegend": false,
         "textposition": "auto",
         "type": "bar",
         "x": [
          "Q10",
          "Q12",
          "Q13",
          "Q3",
          "Q4",
          "Q6",
          "Q7",
          "Q9"
         ],
         "xaxis": "x4",
         "y": {
          "bdata": "M/B0a35Y9D9VVVVVVVX1PwntJbSX0P4/voT2EtpLAEBCewntJbT3P7SX0F5CewFAXPPDImXg+T8pA0+35of1Pw==",
          "dtype": "f8"
         },
         "yaxis": "y4"
        }
       ],
       "layout": {
        "annotations": [
         {
          "font": {},
          "showarrow": false,
          "text": "niveau 6e",
          "x": 0.1175,
          "xanchor": "center",
          "xref": "paper",
          "y": 1,
          "yanchor": "bottom",
          "yref": "paper"
         },
         {
          "font": {},
          "showarrow": false,
          "text": "niveau 5e",
          "x": 0.3725,
          "xanchor": "center",
          "xref": "paper",
          "y": 1,
          "yanchor": "bottom",
          "yref": "paper"
         },
         {
          "font": {},
          "showarrow": false,
          "text": "niveau 4e",
          "x": 0.6275,
          "xanchor": "center",
          "xref": "paper",
          "y": 1,
          "yanchor": "bottom",
          "yref": "paper"
         },
         {
          "font": {},
          "showarrow": false,
          "text": "niveau 3e",
          "x": 0.8824999999999998,
          "xanchor": "center",
          "xref": "paper",
          "y": 1,
          "yanchor": "bottom",
          "yref": "paper"
         }
        ],
        "barmode": "group",
        "height": 600,
        "legend": {
         "title": {
          "text": "Genre"
         },
         "tracegroupgap": 0
        },
        "template": {
         "data": {
          "bar": [
           {
            "error_x": {
             "color": "#2a3f5f"
            },
            "error_y": {
             "color": "#2a3f5f"
            },
            "marker": {
             "line": {
              "color": "#E5ECF6",
              "width": 0.5
             },
             "pattern": {
              "fillmode": "overlay",
              "size": 10,
              "solidity": 0.2
             }
            },
            "type": "bar"
           }
          ],
          "barpolar": [
           {
            "marker": {
             "line": {
              "color": "#E5ECF6",
              "width": 0.5
             },
             "pattern": {
              "fillmode": "overlay",
              "size": 10,
              "solidity": 0.2
             }
            },
            "type": "barpolar"
           }
          ],
          "carpet": [
           {
            "aaxis": {
             "endlinecolor": "#2a3f5f",
             "gridcolor": "white",
             "linecolor": "white",
             "minorgridcolor": "white",
             "startlinecolor": "#2a3f5f"
            },
            "baxis": {
             "endlinecolor": "#2a3f5f",
             "gridcolor": "white",
             "linecolor": "white",
             "minorgridcolor": "white",
             "startlinecolor": "#2a3f5f"
            },
            "type": "carpet"
           }
          ],
          "choropleth": [
           {
            "colorbar": {
             "outlinewidth": 0,
             "ticks": ""
            },
            "type": "choropleth"
           }
          ],
          "contour": [
           {
            "colorbar": {
             "outlinewidth": 0,
             "ticks": ""
            },
            "colorscale": [
             [
              0,
              "#0d0887"
             ],
             [
              0.1111111111111111,
              "#46039f"
             ],
             [
              0.2222222222222222,
              "#7201a8"
             ],
             [
              0.3333333333333333,
              "#9c179e"
             ],
             [
              0.4444444444444444,
              "#bd3786"
             ],
             [
              0.5555555555555556,
              "#d8576b"
             ],
             [
              0.6666666666666666,
              "#ed7953"
             ],
             [
              0.7777777777777778,
              "#fb9f3a"
             ],
             [
              0.8888888888888888,
              "#fdca26"
             ],
             [
              1,
              "#f0f921"
             ]
            ],
            "type": "contour"
           }
          ],
          "contourcarpet": [
           {
            "colorbar": {
             "outlinewidth": 0,
             "ticks": ""
            },
            "type": "contourcarpet"
           }
          ],
          "heatmap": [
           {
            "colorbar": {
             "outlinewidth": 0,
             "ticks": ""
            },
            "colorscale": [
             [
              0,
              "#0d0887"
             ],
             [
              0.1111111111111111,
              "#46039f"
             ],
             [
              0.2222222222222222,
              "#7201a8"
             ],
             [
              0.3333333333333333,
              "#9c179e"
             ],
             [
              0.4444444444444444,
              "#bd3786"
             ],
             [
              0.5555555555555556,
              "#d8576b"
             ],
             [
              0.6666666666666666,
              "#ed7953"
             ],
             [
              0.7777777777777778,
              "#fb9f3a"
             ],
             [
              0.8888888888888888,
              "#fdca26"
             ],
             [
              1,
              "#f0f921"
             ]
            ],
            "type": "heatmap"
           }
          ],
          "histogram": [
           {
            "marker": {
             "pattern": {
              "fillmode": "overlay",
              "size": 10,
              "solidity": 0.2
             }
            },
            "type": "histogram"
           }
          ],
          "histogram2d": [
           {
            "colorbar": {
             "outlinewidth": 0,
             "ticks": ""
            },
            "colorscale": [
             [
              0,
              "#0d0887"
             ],
             [
              0.1111111111111111,
              "#46039f"
             ],
             [
              0.2222222222222222,
              "#7201a8"
             ],
             [
              0.3333333333333333,
              "#9c179e"
             ],
             [
              0.4444444444444444,
              "#bd3786"
             ],
             [
              0.5555555555555556,
              "#d8576b"
             ],
             [
              0.6666666666666666,
              "#ed7953"
             ],
             [
              0.7777777777777778,
              "#fb9f3a"
             ],
             [
              0.8888888888888888,
              "#fdca26"
             ],
             [
              1,
              "#f0f921"
             ]
            ],
            "type": "histogram2d"
           }
          ],
          "histogram2dcontour": [
           {
            "colorbar": {
             "outlinewidth": 0,
             "ticks": ""
            },
            "colorscale": [
             [
              0,
              "#0d0887"
             ],
             [
              0.1111111111111111,
              "#46039f"
             ],
             [
              0.2222222222222222,
              "#7201a8"
             ],
             [
              0.3333333333333333,
              "#9c179e"
             ],
             [
              0.4444444444444444,
              "#bd3786"
             ],
             [
              0.5555555555555556,
              "#d8576b"
             ],
             [
              0.6666666666666666,
              "#ed7953"
             ],
             [
              0.7777777777777778,
              "#fb9f3a"
             ],
             [
              0.8888888888888888,
              "#fdca26"
             ],
             [
              1,
              "#f0f921"
             ]
            ],
            "type": "histogram2dcontour"
           }
          ],
          "mesh3d": [
           {
            "colorbar": {
             "outlinewidth": 0,
             "ticks": ""
            },
            "type": "mesh3d"
           }
          ],
          "parcoords": [
           {
            "line": {
             "colorbar": {
              "outlinewidth": 0,
              "ticks": ""
             }
            },
            "type": "parcoords"
           }
          ],
          "pie": [
           {
            "automargin": true,
            "type": "pie"
           }
          ],
          "scatter": [
           {
            "fillpattern": {
             "fillmode": "overlay",
             "size": 10,
             "solidity": 0.2
            },
            "type": "scatter"
           }
          ],
          "scatter3d": [
           {
            "line": {
             "colorbar": {
              "outlinewidth": 0,
              "ticks": ""
             }
            },
            "marker": {
             "colorbar": {
              "outlinewidth": 0,
              "ticks": ""
             }
            },
            "type": "scatter3d"
           }
          ],
          "scattercarpet": [
           {
            "marker": {
             "colorbar": {
              "outlinewidth": 0,
              "ticks": ""
             }
            },
            "type": "scattercarpet"
           }
          ],
          "scattergeo": [
           {
            "marker": {
             "colorbar": {
              "outlinewidth": 0,
              "ticks": ""
             }
            },
            "type": "scattergeo"
           }
          ],
          "scattergl": [
           {
            "marker": {
             "colorbar": {
              "outlinewidth": 0,
              "ticks": ""
             }
            },
            "type": "scattergl"
           }
          ],
          "scattermap": [
           {
            "marker": {
             "colorbar": {
              "outlinewidth": 0,
              "ticks": ""
             }
            },
            "type": "scattermap"
           }
          ],
          "scattermapbox": [
           {
            "marker": {
             "colorbar": {
              "outlinewidth": 0,
              "ticks": ""
             }
            },
            "type": "scattermapbox"
           }
          ],
          "scatterpolar": [
           {
            "marker": {
             "colorbar": {
              "outlinewidth": 0,
              "ticks": ""
             }
            },
            "type": "scatterpolar"
           }
          ],
          "scatterpolargl": [
           {
            "marker": {
             "colorbar": {
              "outlinewidth": 0,
              "ticks": ""
             }
            },
            "type": "scatterpolargl"
           }
          ],
          "scatterternary": [
           {
            "marker": {
             "colorbar": {
              "outlinewidth": 0,
              "ticks": ""
             }
            },
            "type": "scatterternary"
           }
          ],
          "surface": [
           {
            "colorbar": {
             "outlinewidth": 0,
             "ticks": ""
            },
            "colorscale": [
             [
              0,
              "#0d0887"
             ],
             [
              0.1111111111111111,
              "#46039f"
             ],
             [
              0.2222222222222222,
              "#7201a8"
             ],
             [
              0.3333333333333333,
              "#9c179e"
             ],
             [
              0.4444444444444444,
              "#bd3786"
             ],
             [
              0.5555555555555556,
              "#d8576b"
             ],
             [
              0.6666666666666666,
              "#ed7953"
             ],
             [
              0.7777777777777778,
              "#fb9f3a"
             ],
             [
              0.8888888888888888,
              "#fdca26"
             ],
             [
              1,
              "#f0f921"
             ]
            ],
            "type": "surface"
           }
          ],
          "table": [
           {
            "cells": {
             "fill": {
              "color": "#EBF0F8"
             },
             "line": {
              "color": "white"
             }
            },
            "header": {
             "fill": {
              "color": "#C8D4E3"
             },
             "line": {
              "color": "white"
             }
            },
            "type": "table"
           }
          ]
         },
         "layout": {
          "annotationdefaults": {
           "arrowcolor": "#2a3f5f",
           "arrowhead": 0,
           "arrowwidth": 1
          },
          "autotypenumbers": "strict",
          "coloraxis": {
           "colorbar": {
            "outlinewidth": 0,
            "ticks": ""
           }
          },
          "colorscale": {
           "diverging": [
            [
             0,
             "#8e0152"
            ],
            [
             0.1,
             "#c51b7d"
            ],
            [
             0.2,
             "#de77ae"
            ],
            [
             0.3,
             "#f1b6da"
            ],
            [
             0.4,
             "#fde0ef"
            ],
            [
             0.5,
             "#f7f7f7"
            ],
            [
             0.6,
             "#e6f5d0"
            ],
            [
             0.7,
             "#b8e186"
            ],
            [
             0.8,
             "#7fbc41"
            ],
            [
             0.9,
             "#4d9221"
            ],
            [
             1,
             "#276419"
            ]
           ],
           "sequential": [
            [
             0,
             "#0d0887"
            ],
            [
             0.1111111111111111,
             "#46039f"
            ],
            [
             0.2222222222222222,
             "#7201a8"
            ],
            [
             0.3333333333333333,
             "#9c179e"
            ],
            [
             0.4444444444444444,
             "#bd3786"
            ],
            [
             0.5555555555555556,
             "#d8576b"
            ],
            [
             0.6666666666666666,
             "#ed7953"
            ],
            [
             0.7777777777777778,
             "#fb9f3a"
            ],
            [
             0.8888888888888888,
             "#fdca26"
            ],
            [
             1,
             "#f0f921"
            ]
           ],
           "sequentialminus": [
            [
             0,
             "#0d0887"
            ],
            [
             0.1111111111111111,
             "#46039f"
            ],
            [
             0.2222222222222222,
             "#7201a8"
            ],
            [
             0.3333333333333333,
             "#9c179e"
            ],
            [
             0.4444444444444444,
             "#bd3786"
            ],
            [
             0.5555555555555556,
             "#d8576b"
            ],
            [
             0.6666666666666666,
             "#ed7953"
            ],
            [
             0.7777777777777778,
             "#fb9f3a"
            ],
            [
             0.8888888888888888,
             "#fdca26"
            ],
            [
             1,
             "#f0f921"
            ]
           ]
          },
          "colorway": [
           "#636efa",
           "#EF553B",
           "#00cc96",
           "#ab63fa",
           "#FFA15A",
           "#19d3f3",
           "#FF6692",
           "#B6E880",
           "#FF97FF",
           "#FECB52"
          ],
          "font": {
           "color": "#2a3f5f"
          },
          "geo": {
           "bgcolor": "white",
           "lakecolor": "white",
           "landcolor": "#E5ECF6",
           "showlakes": true,
           "showland": true,
           "subunitcolor": "white"
          },
          "hoverlabel": {
           "align": "left"
          },
          "hovermode": "closest",
          "mapbox": {
           "style": "light"
          },
          "paper_bgcolor": "white",
          "plot_bgcolor": "#E5ECF6",
          "polar": {
           "angularaxis": {
            "gridcolor": "white",
            "linecolor": "white",
            "ticks": ""
           },
           "bgcolor": "#E5ECF6",
           "radialaxis": {
            "gridcolor": "white",
            "linecolor": "white",
            "ticks": ""
           }
          },
          "scene": {
           "xaxis": {
            "backgroundcolor": "#E5ECF6",
            "gridcolor": "white",
            "gridwidth": 2,
            "linecolor": "white",
            "showbackground": true,
            "ticks": "",
            "zerolinecolor": "white"
           },
           "yaxis": {
            "backgroundcolor": "#E5ECF6",
            "gridcolor": "white",
            "gridwidth": 2,
            "linecolor": "white",
            "showbackground": true,
            "ticks": "",
            "zerolinecolor": "white"
           },
           "zaxis": {
            "backgroundcolor": "#E5ECF6",
            "gridcolor": "white",
            "gridwidth": 2,
            "linecolor": "white",
            "showbackground": true,
            "ticks": "",
            "zerolinecolor": "white"
           }
          },
          "shapedefaults": {
           "line": {
            "color": "#2a3f5f"
           }
          },
          "ternary": {
           "aaxis": {
            "gridcolor": "white",
            "linecolor": "white",
            "ticks": ""
           },
           "baxis": {
            "gridcolor": "white",
            "linecolor": "white",
            "ticks": ""
           },
           "bgcolor": "#E5ECF6",
           "caxis": {
            "gridcolor": "white",
            "linecolor": "white",
            "ticks": ""
           }
          },
          "title": {
           "x": 0.05
          },
          "xaxis": {
           "automargin": true,
           "gridcolor": "white",
           "linecolor": "white",
           "ticks": "",
           "title": {
            "standoff": 15
           },
           "zerolinecolor": "white",
           "zerolinewidth": 2
          },
          "yaxis": {
           "automargin": true,
           "gridcolor": "white",
           "linecolor": "white",
           "ticks": "",
           "title": {
            "standoff": 15
           },
           "zerolinecolor": "white",
           "zerolinewidth": 2
          }
         }
        },
        "title": {
         "text": "Scores moyens par question fermée par niveau et genre"
        },
        "xaxis": {
         "anchor": "y",
         "categoryarray": [
          "Q3",
          "Q4",
          "Q6",
          "Q7",
          "Q9",
          "Q10",
          "Q12",
          "Q13"
         ],
         "categoryorder": "array",
         "domain": [
          0,
          0.235
         ],
         "title": {}
        },
        "xaxis2": {
         "anchor": "y2",
         "categoryarray": [
          "Q3",
          "Q4",
          "Q6",
          "Q7",
          "Q9",
          "Q10",
          "Q12",
          "Q13"
         ],
         "categoryorder": "array",
         "domain": [
          0.255,
          0.49
         ],
         "matches": "x",
         "title": {}
        },
        "xaxis3": {
         "anchor": "y3",
         "categoryarray": [
          "Q3",
          "Q4",
          "Q6",
          "Q7",
          "Q9",
          "Q10",
          "Q12",
          "Q13"
         ],
         "categoryorder": "array",
         "domain": [
          0.51,
          0.745
         ],
         "matches": "x",
         "title": {}
        },
        "xaxis4": {
         "anchor": "y4",
         "categoryarray": [
          "Q3",
          "Q4",
          "Q6",
          "Q7",
          "Q9",
          "Q10",
          "Q12",
          "Q13"
         ],
         "categoryorder": "array",
         "domain": [
          0.7649999999999999,
          0.9999999999999999
         ],
         "matches": "x",
         "title": {}
        },
        "yaxis": {
         "anchor": "x",
         "domain": [
          0,
          1
         ],
         "range": [
          0,
          3
         ],
         "title": {
          "text": "Score moyen (0–3)"
         }
        },
        "yaxis2": {
         "anchor": "x2",
         "domain": [
          0,
          1
         ],
         "matches": "y",
         "showticklabels": false
        },
        "yaxis3": {
         "anchor": "x3",
         "domain": [
          0,
          1
         ],
         "matches": "y",
         "showticklabels": false
        },
        "yaxis4": {
         "anchor": "x4",
         "domain": [
          0,
          1
         ],
         "matches": "y",
         "showticklabels": false
        }
       }
      }
     },
     "metadata": {},
     "output_type": "display_data"
    }
   ],
   "source": [
    "def plot_scores_by_level_and_gender(df):\n",
    "\n",
    "    # Colonnes correspondant aux questions fermées notées\n",
    "    score_columns = [\n",
    "        \"sentiment_global\", \"confiance_adultes\", \"sentiment_securite\",\n",
    "        \"participation_projets\", \"liberte_expression\", \"ecoute_et_soutien\",\n",
    "        \"envie_venir\", \"relation_famille_etab\"\n",
    "    ]\n",
    "\n",
    "    # Mapping vers les codes Qx\n",
    "    mapping_q = {\n",
    "        \"sentiment_global\": \"Q3\",\n",
    "        \"confiance_adultes\": \"Q4\",\n",
    "        \"sentiment_securite\": \"Q6\",\n",
    "        \"participation_projets\": \"Q7\",\n",
    "        \"liberte_expression\": \"Q9\",\n",
    "        \"ecoute_et_soutien\": \"Q10\",\n",
    "        \"envie_venir\": \"Q12\",\n",
    "        \"relation_famille_etab\": \"Q13\"\n",
    "    }\n",
    "\n",
    "    ordre_questions = list(mapping_q.values())\n",
    "\n",
    "    # Sous-dataframe avec les bonnes colonnes\n",
    "    df_plot = df[[\"niveau\", \"genre\"] + score_columns].copy()\n",
    "\n",
    "    # Transformation longue\n",
    "    df_melted = df_plot.melt(\n",
    "        id_vars=[\"niveau\", \"genre\"],\n",
    "        value_vars=score_columns,\n",
    "        var_name=\"question\",\n",
    "        value_name=\"score\"\n",
    "    )\n",
    "\n",
    "    # Remplacement par les codes Qx\n",
    "    df_melted[\"Question\"] = df_melted[\"question\"].map(mapping_q)\n",
    "\n",
    "    # Moyennes groupées par niveau et genre\n",
    "    df_grouped = df_melted.groupby([\"Question\", \"niveau\", \"genre\"], as_index=False)[\"score\"].mean()\n",
    "    df_grouped = df_grouped.rename(columns={\"genre\": \"Genre\", \"niveau\": \"Niveau\"})\n",
    "\n",
    "    # Mappage propre des niveaux\n",
    "    niveau_labels = {\n",
    "        \"6e\": \"niveau 6e\",\n",
    "        \"5e\": \"niveau 5e\",\n",
    "        \"4e\": \"niveau 4e\",\n",
    "        \"3e\": \"niveau 3e\"\n",
    "    }\n",
    "    ordre_niveaux = list(niveau_labels.values())\n",
    "    df_grouped[\"Niveau_label\"] = df_grouped[\"Niveau\"].map(niveau_labels)\n",
    "    df_grouped[\"Niveau_label\"] = pd.Categorical(df_grouped[\"Niveau_label\"], categories=ordre_niveaux, ordered=True)\n",
    "\n",
    "    # Ordre des questions\n",
    "    df_grouped[\"Question\"] = pd.Categorical(df_grouped[\"Question\"], categories=ordre_questions, ordered=True)\n",
    "\n",
    "    # Graphe\n",
    "    fig = px.bar(\n",
    "        df_grouped,\n",
    "        x=\"Question\",\n",
    "        y=\"score\",\n",
    "        color=\"Genre\",\n",
    "        barmode=\"group\",\n",
    "        facet_col=\"Niveau_label\",\n",
    "        category_orders={\n",
    "            \"Niveau_label\": ordre_niveaux,\n",
    "            \"Question\": ordre_questions\n",
    "        },\n",
    "        height=600,\n",
    "        title=\"Scores moyens par question fermée par niveau et genre\"\n",
    "    )\n",
    "\n",
    "    fig.update_layout(\n",
    "        xaxis_title=None,\n",
    "        yaxis_title=\"Score moyen (0–3)\",\n",
    "        yaxis_range=[0, 3]\n",
    "    )\n",
    "    fig.for_each_annotation(lambda a: a.update(text=a.text.split(\"=\")[-1]))\n",
    "    fig.for_each_xaxis(lambda axis: axis.update(title=None))\n",
    "\n",
    "    return fig\n",
    "\n",
    "fig = plot_scores_by_level_and_gender(df)\n",
    "fig.show()\n"
   ]
  },
  {
   "cell_type": "code",
   "execution_count": 108,
   "id": "10e621fb",
   "metadata": {},
   "outputs": [
    {
     "data": {
      "text/html": [
       "<div>\n",
       "<style scoped>\n",
       "    .dataframe tbody tr th:only-of-type {\n",
       "        vertical-align: middle;\n",
       "    }\n",
       "\n",
       "    .dataframe tbody tr th {\n",
       "        vertical-align: top;\n",
       "    }\n",
       "\n",
       "    .dataframe thead th {\n",
       "        text-align: right;\n",
       "    }\n",
       "</style>\n",
       "<table border=\"1\" class=\"dataframe\">\n",
       "  <thead>\n",
       "    <tr style=\"text-align: right;\">\n",
       "      <th></th>\n",
       "      <th>niveau</th>\n",
       "      <th>question</th>\n",
       "      <th>intitule_question</th>\n",
       "      <th>Fille</th>\n",
       "      <th>Garçon</th>\n",
       "      <th>ecart</th>\n",
       "      <th>Direction</th>\n",
       "    </tr>\n",
       "  </thead>\n",
       "  <tbody>\n",
       "    <tr>\n",
       "      <th>0</th>\n",
       "      <td>4e</td>\n",
       "      <td>participation_projets</td>\n",
       "      <td>Participation aux projets</td>\n",
       "      <td>1.791667</td>\n",
       "      <td>1.043103</td>\n",
       "      <td>0.748563</td>\n",
       "      <td>Filles &gt; Garçons</td>\n",
       "    </tr>\n",
       "    <tr>\n",
       "      <th>1</th>\n",
       "      <td>4e</td>\n",
       "      <td>envie_venir</td>\n",
       "      <td>Envie de venir chaque jour</td>\n",
       "      <td>1.427083</td>\n",
       "      <td>1.051724</td>\n",
       "      <td>0.375359</td>\n",
       "      <td>Filles &gt; Garçons</td>\n",
       "    </tr>\n",
       "    <tr>\n",
       "      <th>2</th>\n",
       "      <td>5e</td>\n",
       "      <td>confiance_adultes</td>\n",
       "      <td>Confiance dans les décisions des adultes</td>\n",
       "      <td>1.692308</td>\n",
       "      <td>1.376147</td>\n",
       "      <td>0.316161</td>\n",
       "      <td>Filles &gt; Garçons</td>\n",
       "    </tr>\n",
       "    <tr>\n",
       "      <th>3</th>\n",
       "      <td>6e</td>\n",
       "      <td>participation_projets</td>\n",
       "      <td>Participation aux projets</td>\n",
       "      <td>1.468750</td>\n",
       "      <td>1.153846</td>\n",
       "      <td>0.314904</td>\n",
       "      <td>Filles &gt; Garçons</td>\n",
       "    </tr>\n",
       "    <tr>\n",
       "      <th>4</th>\n",
       "      <td>4e</td>\n",
       "      <td>ecoute_et_soutien</td>\n",
       "      <td>Sentiment d'etre écouté(e) et soutenu(e)</td>\n",
       "      <td>1.427083</td>\n",
       "      <td>1.120690</td>\n",
       "      <td>0.306394</td>\n",
       "      <td>Filles &gt; Garçons</td>\n",
       "    </tr>\n",
       "    <tr>\n",
       "      <th>5</th>\n",
       "      <td>4e</td>\n",
       "      <td>confiance_adultes</td>\n",
       "      <td>Confiance dans les décisions des adultes</td>\n",
       "      <td>1.656250</td>\n",
       "      <td>1.353448</td>\n",
       "      <td>0.302802</td>\n",
       "      <td>Filles &gt; Garçons</td>\n",
       "    </tr>\n",
       "    <tr>\n",
       "      <th>6</th>\n",
       "      <td>4e</td>\n",
       "      <td>sentiment_global</td>\n",
       "      <td>Sentiment global dans l’établissement</td>\n",
       "      <td>2.166667</td>\n",
       "      <td>1.870690</td>\n",
       "      <td>0.295977</td>\n",
       "      <td>Filles &gt; Garçons</td>\n",
       "    </tr>\n",
       "    <tr>\n",
       "      <th>7</th>\n",
       "      <td>5e</td>\n",
       "      <td>ecoute_et_soutien</td>\n",
       "      <td>Sentiment d'etre écouté(e) et soutenu(e)</td>\n",
       "      <td>1.407692</td>\n",
       "      <td>1.128440</td>\n",
       "      <td>0.279252</td>\n",
       "      <td>Filles &gt; Garçons</td>\n",
       "    </tr>\n",
       "    <tr>\n",
       "      <th>8</th>\n",
       "      <td>5e</td>\n",
       "      <td>relation_famille_etab</td>\n",
       "      <td>Qualité de la relation famille / établissement ?</td>\n",
       "      <td>2.061538</td>\n",
       "      <td>1.788991</td>\n",
       "      <td>0.272548</td>\n",
       "      <td>Filles &gt; Garçons</td>\n",
       "    </tr>\n",
       "    <tr>\n",
       "      <th>9</th>\n",
       "      <td>4e</td>\n",
       "      <td>sentiment_securite</td>\n",
       "      <td>Sentiment de sécurité dans l’établissement</td>\n",
       "      <td>2.260417</td>\n",
       "      <td>1.991379</td>\n",
       "      <td>0.269037</td>\n",
       "      <td>Filles &gt; Garçons</td>\n",
       "    </tr>\n",
       "  </tbody>\n",
       "</table>\n",
       "</div>"
      ],
      "text/plain": [
       "  niveau               question  \\\n",
       "0     4e  participation_projets   \n",
       "1     4e            envie_venir   \n",
       "2     5e      confiance_adultes   \n",
       "3     6e  participation_projets   \n",
       "4     4e      ecoute_et_soutien   \n",
       "5     4e      confiance_adultes   \n",
       "6     4e       sentiment_global   \n",
       "7     5e      ecoute_et_soutien   \n",
       "8     5e  relation_famille_etab   \n",
       "9     4e     sentiment_securite   \n",
       "\n",
       "                                  intitule_question     Fille    Garçon  \\\n",
       "0                         Participation aux projets  1.791667  1.043103   \n",
       "1                        Envie de venir chaque jour  1.427083  1.051724   \n",
       "2          Confiance dans les décisions des adultes  1.692308  1.376147   \n",
       "3                         Participation aux projets  1.468750  1.153846   \n",
       "4          Sentiment d'etre écouté(e) et soutenu(e)  1.427083  1.120690   \n",
       "5          Confiance dans les décisions des adultes  1.656250  1.353448   \n",
       "6             Sentiment global dans l’établissement  2.166667  1.870690   \n",
       "7          Sentiment d'etre écouté(e) et soutenu(e)  1.407692  1.128440   \n",
       "8  Qualité de la relation famille / établissement ?  2.061538  1.788991   \n",
       "9        Sentiment de sécurité dans l’établissement  2.260417  1.991379   \n",
       "\n",
       "      ecart         Direction  \n",
       "0  0.748563  Filles > Garçons  \n",
       "1  0.375359  Filles > Garçons  \n",
       "2  0.316161  Filles > Garçons  \n",
       "3  0.314904  Filles > Garçons  \n",
       "4  0.306394  Filles > Garçons  \n",
       "5  0.302802  Filles > Garçons  \n",
       "6  0.295977  Filles > Garçons  \n",
       "7  0.279252  Filles > Garçons  \n",
       "8  0.272548  Filles > Garçons  \n",
       "9  0.269037  Filles > Garçons  "
      ]
     },
     "metadata": {},
     "output_type": "display_data"
    }
   ],
   "source": [
    "\n",
    "# top_ecarts.head(10)\n",
    "def prepare_ecarts_par_genre(df):\n",
    "\n",
    "    score_columns = [\n",
    "        \"sentiment_global\", \"confiance_adultes\", \"sentiment_securite\",\n",
    "        \"participation_projets\", \"liberte_expression\", \"ecoute_et_soutien\",\n",
    "        \"envie_venir\", \"relation_famille_etab\"\n",
    "    ]\n",
    "\n",
    "    question_labels = {\n",
    "        \"sentiment_global\": \"Sentiment global dans l’établissement\",\n",
    "        \"confiance_adultes\": \"Confiance dans les décisions des adultes\",\n",
    "        \"sentiment_securite\": \"Sentiment de sécurité dans l’établissement\",\n",
    "        \"participation_projets\": \"Participation aux projets\",\n",
    "        \"liberte_expression\": \"Sentiment d'expression libre\",\n",
    "        \"ecoute_et_soutien\": \"Sentiment d'etre écouté(e) et soutenu(e)\",\n",
    "        \"envie_venir\": \"Envie de venir chaque jour\",\n",
    "        \"relation_famille_etab\": \"Qualité de la relation famille / établissement ?\"\n",
    "    }\n",
    "\n",
    "    # Étape 1 : Sélection des colonnes utiles\n",
    "    df_plot = df[[\"niveau\", \"genre\"] + score_columns].copy()\n",
    "\n",
    "    # Étape 2 : Format long\n",
    "    df_melted = df_plot.melt(\n",
    "        id_vars=[\"niveau\", \"genre\"],\n",
    "        value_vars=score_columns,\n",
    "        var_name=\"question\",\n",
    "        value_name=\"score\"\n",
    "    )\n",
    "\n",
    "    # Étape 3 : Moyennes par niveau, question, genre\n",
    "    df_grouped = df_melted.groupby([\"niveau\", \"question\", \"genre\"], as_index=False)[\"score\"].mean()\n",
    "\n",
    "    # Étape 4 : Pivot propre (niveau/question → Fille/Garçon)\n",
    "    df_pivot = df_grouped.pivot(index=[\"niveau\", \"question\"], columns=\"genre\", values=\"score\")\n",
    "    df_pivot.columns.name = None\n",
    "    df_pivot = df_pivot.reset_index()\n",
    "\n",
    "    # Étape 5 : Sélection explicite\n",
    "    df_pivot = df_pivot.loc[:, [\"niveau\", \"question\", \"Fille\", \"Garçon\"]]\n",
    "\n",
    "    # Étape 6 : Écart et direction\n",
    "    df_pivot[\"ecart\"] = (df_pivot[\"Fille\"] - df_pivot[\"Garçon\"]).abs()\n",
    "    df_pivot[\"Direction\"] = df_pivot.apply(\n",
    "        lambda row: \"Filles > Garçons\" if row[\"Fille\"] > row[\"Garçon\"] else \"Garçons > Filles\",\n",
    "        axis=1\n",
    "    )\n",
    "\n",
    "    # Étape 7 : Intitulé complet\n",
    "    df_pivot[\"intitule_question\"] = df_pivot[\"question\"].map(question_labels)\n",
    "\n",
    "    # Étape 8 : Réorganisation des colonnes + tri + réindexation propre\n",
    "    df_final = df_pivot[[\n",
    "        \"niveau\", \"question\", \"intitule_question\", \"Fille\", \"Garçon\", \"ecart\", \"Direction\"\n",
    "    ]].sort_values(by=\"ecart\", ascending=False).reset_index(drop=True)\n",
    "\n",
    "    return df_final\n",
    "\n",
    "top_ecarts = prepare_ecarts_par_genre(df)\n",
    "display(top_ecarts.head(10))\n"
   ]
  },
  {
   "cell_type": "code",
   "execution_count": 114,
   "id": "0efbcbee",
   "metadata": {},
   "outputs": [
    {
     "data": {
      "application/vnd.plotly.v1+json": {
       "config": {
        "plotlyServerURL": "https://plot.ly"
       },
       "data": [
        {
         "coloraxis": "coloraxis",
         "hovertemplate": "question_code: %{x}<br>niveau: %{y}<br>Écart Fille - Garçon: %{z}<extra></extra>",
         "name": "0",
         "texttemplate": "%{z}",
         "type": "heatmap",
         "x": [
          "Confiance dans les décisions des adultes",
          "Envie de venir chaque jour",
          "Participation aux projets",
          "Qualité de la relation famille / établissement ?",
          "Sentiment d'etre écouté(e) et soutenu(e)",
          "Sentiment d'expression libre",
          "Sentiment de sécurité dans l’établissement",
          "Sentiment global dans l’établissement"
         ],
         "xaxis": "x",
         "y": [
          "3e",
          "4e",
          "5e",
          "6e"
         ],
         "yaxis": "y",
         "z": {
          "bdata": "4OnW/LBIub+A6db8sEiJv2Avob2E9rI/wOnW/LBImb/A6db8sEiZPyDHcRzHcbw/AOrW/LBIib+AL6G9hPaiv6gRlnsaYdM/KF4gk+IF2D+uQ7/ZOvTnP1ggk+IFMs0/RL/ZOvSb0z8gxQtkUrzMP4R+s3XoN9E/mBQvkEnx0j/AQwHx+jvUPwjY2Z+YgM0/ALwBEPm/yz8UF6Wja3HRP/gdL4hD39E/bAhT3rOG0D9ITdnKmtTEPxiIjd/Jgcg/AAAAAAAAwT8Aip3YiZ2Iv3hiJ3ZiJ9Q/gNiJndiJpT8A2Imd2Iltv4Cd2Imd2K2/QLETO7ETwT8gdmIndmK/Pw==",
          "dtype": "f8",
          "shape": "4, 8"
         }
        }
       ],
       "layout": {
        "coloraxis": {
         "cmid": 0,
         "colorbar": {
          "title": {
           "text": "Écart Fille - Garçon"
          }
         },
         "colorscale": [
          [
           0,
           "rgb(103,0,31)"
          ],
          [
           0.1,
           "rgb(178,24,43)"
          ],
          [
           0.2,
           "rgb(214,96,77)"
          ],
          [
           0.3,
           "rgb(244,165,130)"
          ],
          [
           0.4,
           "rgb(253,219,199)"
          ],
          [
           0.5,
           "rgb(247,247,247)"
          ],
          [
           0.6,
           "rgb(209,229,240)"
          ],
          [
           0.7,
           "rgb(146,197,222)"
          ],
          [
           0.8,
           "rgb(67,147,195)"
          ],
          [
           0.9,
           "rgb(33,102,172)"
          ],
          [
           1,
           "rgb(5,48,97)"
          ]
         ]
        },
        "height": 500,
        "template": {
         "data": {
          "bar": [
           {
            "error_x": {
             "color": "#2a3f5f"
            },
            "error_y": {
             "color": "#2a3f5f"
            },
            "marker": {
             "line": {
              "color": "#E5ECF6",
              "width": 0.5
             },
             "pattern": {
              "fillmode": "overlay",
              "size": 10,
              "solidity": 0.2
             }
            },
            "type": "bar"
           }
          ],
          "barpolar": [
           {
            "marker": {
             "line": {
              "color": "#E5ECF6",
              "width": 0.5
             },
             "pattern": {
              "fillmode": "overlay",
              "size": 10,
              "solidity": 0.2
             }
            },
            "type": "barpolar"
           }
          ],
          "carpet": [
           {
            "aaxis": {
             "endlinecolor": "#2a3f5f",
             "gridcolor": "white",
             "linecolor": "white",
             "minorgridcolor": "white",
             "startlinecolor": "#2a3f5f"
            },
            "baxis": {
             "endlinecolor": "#2a3f5f",
             "gridcolor": "white",
             "linecolor": "white",
             "minorgridcolor": "white",
             "startlinecolor": "#2a3f5f"
            },
            "type": "carpet"
           }
          ],
          "choropleth": [
           {
            "colorbar": {
             "outlinewidth": 0,
             "ticks": ""
            },
            "type": "choropleth"
           }
          ],
          "contour": [
           {
            "colorbar": {
             "outlinewidth": 0,
             "ticks": ""
            },
            "colorscale": [
             [
              0,
              "#0d0887"
             ],
             [
              0.1111111111111111,
              "#46039f"
             ],
             [
              0.2222222222222222,
              "#7201a8"
             ],
             [
              0.3333333333333333,
              "#9c179e"
             ],
             [
              0.4444444444444444,
              "#bd3786"
             ],
             [
              0.5555555555555556,
              "#d8576b"
             ],
             [
              0.6666666666666666,
              "#ed7953"
             ],
             [
              0.7777777777777778,
              "#fb9f3a"
             ],
             [
              0.8888888888888888,
              "#fdca26"
             ],
             [
              1,
              "#f0f921"
             ]
            ],
            "type": "contour"
           }
          ],
          "contourcarpet": [
           {
            "colorbar": {
             "outlinewidth": 0,
             "ticks": ""
            },
            "type": "contourcarpet"
           }
          ],
          "heatmap": [
           {
            "colorbar": {
             "outlinewidth": 0,
             "ticks": ""
            },
            "colorscale": [
             [
              0,
              "#0d0887"
             ],
             [
              0.1111111111111111,
              "#46039f"
             ],
             [
              0.2222222222222222,
              "#7201a8"
             ],
             [
              0.3333333333333333,
              "#9c179e"
             ],
             [
              0.4444444444444444,
              "#bd3786"
             ],
             [
              0.5555555555555556,
              "#d8576b"
             ],
             [
              0.6666666666666666,
              "#ed7953"
             ],
             [
              0.7777777777777778,
              "#fb9f3a"
             ],
             [
              0.8888888888888888,
              "#fdca26"
             ],
             [
              1,
              "#f0f921"
             ]
            ],
            "type": "heatmap"
           }
          ],
          "histogram": [
           {
            "marker": {
             "pattern": {
              "fillmode": "overlay",
              "size": 10,
              "solidity": 0.2
             }
            },
            "type": "histogram"
           }
          ],
          "histogram2d": [
           {
            "colorbar": {
             "outlinewidth": 0,
             "ticks": ""
            },
            "colorscale": [
             [
              0,
              "#0d0887"
             ],
             [
              0.1111111111111111,
              "#46039f"
             ],
             [
              0.2222222222222222,
              "#7201a8"
             ],
             [
              0.3333333333333333,
              "#9c179e"
             ],
             [
              0.4444444444444444,
              "#bd3786"
             ],
             [
              0.5555555555555556,
              "#d8576b"
             ],
             [
              0.6666666666666666,
              "#ed7953"
             ],
             [
              0.7777777777777778,
              "#fb9f3a"
             ],
             [
              0.8888888888888888,
              "#fdca26"
             ],
             [
              1,
              "#f0f921"
             ]
            ],
            "type": "histogram2d"
           }
          ],
          "histogram2dcontour": [
           {
            "colorbar": {
             "outlinewidth": 0,
             "ticks": ""
            },
            "colorscale": [
             [
              0,
              "#0d0887"
             ],
             [
              0.1111111111111111,
              "#46039f"
             ],
             [
              0.2222222222222222,
              "#7201a8"
             ],
             [
              0.3333333333333333,
              "#9c179e"
             ],
             [
              0.4444444444444444,
              "#bd3786"
             ],
             [
              0.5555555555555556,
              "#d8576b"
             ],
             [
              0.6666666666666666,
              "#ed7953"
             ],
             [
              0.7777777777777778,
              "#fb9f3a"
             ],
             [
              0.8888888888888888,
              "#fdca26"
             ],
             [
              1,
              "#f0f921"
             ]
            ],
            "type": "histogram2dcontour"
           }
          ],
          "mesh3d": [
           {
            "colorbar": {
             "outlinewidth": 0,
             "ticks": ""
            },
            "type": "mesh3d"
           }
          ],
          "parcoords": [
           {
            "line": {
             "colorbar": {
              "outlinewidth": 0,
              "ticks": ""
             }
            },
            "type": "parcoords"
           }
          ],
          "pie": [
           {
            "automargin": true,
            "type": "pie"
           }
          ],
          "scatter": [
           {
            "fillpattern": {
             "fillmode": "overlay",
             "size": 10,
             "solidity": 0.2
            },
            "type": "scatter"
           }
          ],
          "scatter3d": [
           {
            "line": {
             "colorbar": {
              "outlinewidth": 0,
              "ticks": ""
             }
            },
            "marker": {
             "colorbar": {
              "outlinewidth": 0,
              "ticks": ""
             }
            },
            "type": "scatter3d"
           }
          ],
          "scattercarpet": [
           {
            "marker": {
             "colorbar": {
              "outlinewidth": 0,
              "ticks": ""
             }
            },
            "type": "scattercarpet"
           }
          ],
          "scattergeo": [
           {
            "marker": {
             "colorbar": {
              "outlinewidth": 0,
              "ticks": ""
             }
            },
            "type": "scattergeo"
           }
          ],
          "scattergl": [
           {
            "marker": {
             "colorbar": {
              "outlinewidth": 0,
              "ticks": ""
             }
            },
            "type": "scattergl"
           }
          ],
          "scattermap": [
           {
            "marker": {
             "colorbar": {
              "outlinewidth": 0,
              "ticks": ""
             }
            },
            "type": "scattermap"
           }
          ],
          "scattermapbox": [
           {
            "marker": {
             "colorbar": {
              "outlinewidth": 0,
              "ticks": ""
             }
            },
            "type": "scattermapbox"
           }
          ],
          "scatterpolar": [
           {
            "marker": {
             "colorbar": {
              "outlinewidth": 0,
              "ticks": ""
             }
            },
            "type": "scatterpolar"
           }
          ],
          "scatterpolargl": [
           {
            "marker": {
             "colorbar": {
              "outlinewidth": 0,
              "ticks": ""
             }
            },
            "type": "scatterpolargl"
           }
          ],
          "scatterternary": [
           {
            "marker": {
             "colorbar": {
              "outlinewidth": 0,
              "ticks": ""
             }
            },
            "type": "scatterternary"
           }
          ],
          "surface": [
           {
            "colorbar": {
             "outlinewidth": 0,
             "ticks": ""
            },
            "colorscale": [
             [
              0,
              "#0d0887"
             ],
             [
              0.1111111111111111,
              "#46039f"
             ],
             [
              0.2222222222222222,
              "#7201a8"
             ],
             [
              0.3333333333333333,
              "#9c179e"
             ],
             [
              0.4444444444444444,
              "#bd3786"
             ],
             [
              0.5555555555555556,
              "#d8576b"
             ],
             [
              0.6666666666666666,
              "#ed7953"
             ],
             [
              0.7777777777777778,
              "#fb9f3a"
             ],
             [
              0.8888888888888888,
              "#fdca26"
             ],
             [
              1,
              "#f0f921"
             ]
            ],
            "type": "surface"
           }
          ],
          "table": [
           {
            "cells": {
             "fill": {
              "color": "#EBF0F8"
             },
             "line": {
              "color": "white"
             }
            },
            "header": {
             "fill": {
              "color": "#C8D4E3"
             },
             "line": {
              "color": "white"
             }
            },
            "type": "table"
           }
          ]
         },
         "layout": {
          "annotationdefaults": {
           "arrowcolor": "#2a3f5f",
           "arrowhead": 0,
           "arrowwidth": 1
          },
          "autotypenumbers": "strict",
          "coloraxis": {
           "colorbar": {
            "outlinewidth": 0,
            "ticks": ""
           }
          },
          "colorscale": {
           "diverging": [
            [
             0,
             "#8e0152"
            ],
            [
             0.1,
             "#c51b7d"
            ],
            [
             0.2,
             "#de77ae"
            ],
            [
             0.3,
             "#f1b6da"
            ],
            [
             0.4,
             "#fde0ef"
            ],
            [
             0.5,
             "#f7f7f7"
            ],
            [
             0.6,
             "#e6f5d0"
            ],
            [
             0.7,
             "#b8e186"
            ],
            [
             0.8,
             "#7fbc41"
            ],
            [
             0.9,
             "#4d9221"
            ],
            [
             1,
             "#276419"
            ]
           ],
           "sequential": [
            [
             0,
             "#0d0887"
            ],
            [
             0.1111111111111111,
             "#46039f"
            ],
            [
             0.2222222222222222,
             "#7201a8"
            ],
            [
             0.3333333333333333,
             "#9c179e"
            ],
            [
             0.4444444444444444,
             "#bd3786"
            ],
            [
             0.5555555555555556,
             "#d8576b"
            ],
            [
             0.6666666666666666,
             "#ed7953"
            ],
            [
             0.7777777777777778,
             "#fb9f3a"
            ],
            [
             0.8888888888888888,
             "#fdca26"
            ],
            [
             1,
             "#f0f921"
            ]
           ],
           "sequentialminus": [
            [
             0,
             "#0d0887"
            ],
            [
             0.1111111111111111,
             "#46039f"
            ],
            [
             0.2222222222222222,
             "#7201a8"
            ],
            [
             0.3333333333333333,
             "#9c179e"
            ],
            [
             0.4444444444444444,
             "#bd3786"
            ],
            [
             0.5555555555555556,
             "#d8576b"
            ],
            [
             0.6666666666666666,
             "#ed7953"
            ],
            [
             0.7777777777777778,
             "#fb9f3a"
            ],
            [
             0.8888888888888888,
             "#fdca26"
            ],
            [
             1,
             "#f0f921"
            ]
           ]
          },
          "colorway": [
           "#636efa",
           "#EF553B",
           "#00cc96",
           "#ab63fa",
           "#FFA15A",
           "#19d3f3",
           "#FF6692",
           "#B6E880",
           "#FF97FF",
           "#FECB52"
          ],
          "font": {
           "color": "#2a3f5f"
          },
          "geo": {
           "bgcolor": "white",
           "lakecolor": "white",
           "landcolor": "#E5ECF6",
           "showlakes": true,
           "showland": true,
           "subunitcolor": "white"
          },
          "hoverlabel": {
           "align": "left"
          },
          "hovermode": "closest",
          "mapbox": {
           "style": "light"
          },
          "paper_bgcolor": "white",
          "plot_bgcolor": "#E5ECF6",
          "polar": {
           "angularaxis": {
            "gridcolor": "white",
            "linecolor": "white",
            "ticks": ""
           },
           "bgcolor": "#E5ECF6",
           "radialaxis": {
            "gridcolor": "white",
            "linecolor": "white",
            "ticks": ""
           }
          },
          "scene": {
           "xaxis": {
            "backgroundcolor": "#E5ECF6",
            "gridcolor": "white",
            "gridwidth": 2,
            "linecolor": "white",
            "showbackground": true,
            "ticks": "",
            "zerolinecolor": "white"
           },
           "yaxis": {
            "backgroundcolor": "#E5ECF6",
            "gridcolor": "white",
            "gridwidth": 2,
            "linecolor": "white",
            "showbackground": true,
            "ticks": "",
            "zerolinecolor": "white"
           },
           "zaxis": {
            "backgroundcolor": "#E5ECF6",
            "gridcolor": "white",
            "gridwidth": 2,
            "linecolor": "white",
            "showbackground": true,
            "ticks": "",
            "zerolinecolor": "white"
           }
          },
          "shapedefaults": {
           "line": {
            "color": "#2a3f5f"
           }
          },
          "ternary": {
           "aaxis": {
            "gridcolor": "white",
            "linecolor": "white",
            "ticks": ""
           },
           "baxis": {
            "gridcolor": "white",
            "linecolor": "white",
            "ticks": ""
           },
           "bgcolor": "#E5ECF6",
           "caxis": {
            "gridcolor": "white",
            "linecolor": "white",
            "ticks": ""
           }
          },
          "title": {
           "x": 0.05
          },
          "xaxis": {
           "automargin": true,
           "gridcolor": "white",
           "linecolor": "white",
           "ticks": "",
           "title": {
            "standoff": 15
           },
           "zerolinecolor": "white",
           "zerolinewidth": 2
          },
          "yaxis": {
           "automargin": true,
           "gridcolor": "white",
           "linecolor": "white",
           "ticks": "",
           "title": {
            "standoff": 15
           },
           "zerolinecolor": "white",
           "zerolinewidth": 2
          }
         }
        },
        "title": {
         "text": "Écarts Fille - Garçon par niveau et question"
        },
        "xaxis": {
         "anchor": "y",
         "domain": [
          0,
          1
         ],
         "title": {
          "text": ""
         }
        },
        "yaxis": {
         "anchor": "x",
         "autorange": "reversed",
         "domain": [
          0,
          1
         ],
         "title": {
          "text": ""
         }
        }
       }
      }
     },
     "metadata": {},
     "output_type": "display_data"
    }
   ],
   "source": [
    "import pandas as pd\n",
    "import plotly.express as px\n",
    "\n",
    "def plot_heatmap_ecarts_genre(df):\n",
    "    # Étape 1 : préparation des écarts\n",
    "    score_columns = [\n",
    "        \"sentiment_global\", \"confiance_adultes\", \"sentiment_securite\",\n",
    "        \"participation_projets\", \"liberte_expression\", \"ecoute_et_soutien\",\n",
    "        \"envie_venir\", \"relation_famille_etab\"\n",
    "    ]\n",
    "\n",
    "    question_labels = {\n",
    "        \"sentiment_global\": \"Sentiment global dans l’établissement\",\n",
    "        \"confiance_adultes\": \"Confiance dans les décisions des adultes\",\n",
    "        \"sentiment_securite\": \"Sentiment de sécurité dans l’établissement\",\n",
    "        \"participation_projets\": \"Participation aux projets\",\n",
    "        \"liberte_expression\": \"Sentiment d'expression libre\",\n",
    "        \"ecoute_et_soutien\": \"Sentiment d'etre écouté(e) et soutenu(e)\",\n",
    "        \"envie_venir\": \"Envie de venir chaque jour\",\n",
    "        \"relation_famille_etab\": \"Qualité de la relation famille / établissement ?\"\n",
    "    }\n",
    "\n",
    "    df_plot = df[[\"niveau\", \"genre\"] + score_columns].copy()\n",
    "\n",
    "    df_melted = df_plot.melt(\n",
    "        id_vars=[\"niveau\", \"genre\"],\n",
    "        value_vars=score_columns,\n",
    "        var_name=\"question\",\n",
    "        value_name=\"score\"\n",
    "    )\n",
    "\n",
    "    df_melted[\"question_code\"] = df_melted[\"question\"].map(question_labels)\n",
    "\n",
    "    df_grouped = df_melted.groupby([\"niveau\", \"question_code\", \"genre\"], as_index=False)[\"score\"].mean()\n",
    "\n",
    "    df_pivot = df_grouped.pivot_table(\n",
    "        index=[\"niveau\", \"question_code\"],\n",
    "        columns=\"genre\",\n",
    "        values=\"score\"\n",
    "    ).reset_index()\n",
    "\n",
    "    df_pivot[\"diff\"] = df_pivot[\"Fille\"] - df_pivot[\"Garçon\"]\n",
    "\n",
    "    # Étape 2 : pivot pour heatmap (ligne = niveau, colonne = question)\n",
    "    heatmap_data = df_pivot.pivot(\n",
    "        index=\"niveau\",\n",
    "        columns=\"question_code\",\n",
    "        values=\"diff\"\n",
    "    )\n",
    "\n",
    "    # Étape 3 : visualisation\n",
    "    fig = px.imshow(\n",
    "        heatmap_data,\n",
    "        text_auto=True,\n",
    "        color_continuous_scale=\"RdBu\",\n",
    "        color_continuous_midpoint=0,\n",
    "        labels=dict(color=\"Écart Fille - Garçon\"),\n",
    "        aspect=\"auto\",\n",
    "        title=\"Écarts Fille - Garçon par niveau et question\"\n",
    "    )\n",
    "\n",
    "    fig.update_layout(\n",
    "        xaxis_title=\"\",\n",
    "        yaxis_title=\"\",\n",
    "        height=500\n",
    "    )\n",
    "\n",
    "    fig.show()\n",
    "\n",
    "plot_heatmap_ecarts_genre(df)\n"
   ]
  },
  {
   "cell_type": "code",
   "execution_count": null,
   "id": "5ef28447",
   "metadata": {},
   "outputs": [],
   "source": [
    "# profilage des élèves"
   ]
  },
  {
   "cell_type": "code",
   "execution_count": 139,
   "id": "7ee07335",
   "metadata": {},
   "outputs": [],
   "source": [
    "from sklearn.preprocessing import StandardScaler\n",
    "from sklearn.cluster import KMeans\n",
    "import matplotlib.pyplot as plt\n",
    "\n",
    "# Colonnes à utiliser pour le clustering\n",
    "colonnes = ['climat_de_confiance', 'bien_etre', 'expression_et_ecoute', 'engagement']\n",
    "\n",
    "# Extraction et standardisation\n",
    "X = df_scores[colonnes].dropna()  # optionnel : on enlève les lignes avec NaN\n",
    "scaler = StandardScaler()\n",
    "X_scaled = scaler.fit_transform(X)\n",
    "\n",
    "kmeans = KMeans(n_clusters=4, random_state=42, n_init=10)\n",
    "df_scores[\"cluster_kmeans\"] = kmeans.fit_predict(X_scaled)\n"
   ]
  },
  {
   "cell_type": "code",
   "execution_count": 157,
   "id": "5db7d723",
   "metadata": {},
   "outputs": [
    {
     "data": {
      "application/vnd.plotly.v1+json": {
       "config": {
        "plotlyServerURL": "https://plot.ly"
       },
       "data": [
        {
         "marker": {
          "color": "cornflowerblue"
         },
         "name": "Profil 0",
         "text": [
          "3.91",
          "3.57",
          "3.67",
          "1.94"
         ],
         "textposition": "outside",
         "type": "bar",
         "x": [
          "climat_de_confiance",
          "bien_etre",
          "expression_et_ecoute",
          "engagement"
         ],
         "xaxis": "x",
         "y": {
          "bdata": "Zh1ou7dKD0AcD/lqnpQMQBYEsoSZWA1AiMHCkTkB/z8=",
          "dtype": "f8"
         },
         "yaxis": "y"
        },
        {
         "marker": {
          "color": "cornflowerblue"
         },
         "name": "Profil 1",
         "text": [
          "1.44",
          "0.46",
          "0.95",
          "0.99"
         ],
         "textposition": "outside",
         "type": "bar",
         "x": [
          "climat_de_confiance",
          "bien_etre",
          "expression_et_ecoute",
          "engagement"
         ],
         "xaxis": "x2",
         "y": {
          "bdata": "A3x23xQe9z8TQdbDISndP85yJePOT+4/KnF96TmX7z8=",
          "dtype": "f8"
         },
         "yaxis": "y2"
        },
        {
         "marker": {
          "color": "cornflowerblue"
         },
         "name": "Profil 2",
         "text": [
          "2.90",
          "1.70",
          "1.82",
          "2.17"
         ],
         "textposition": "outside",
         "type": "bar",
         "x": [
          "climat_de_confiance",
          "bien_etre",
          "expression_et_ecoute",
          "engagement"
         ],
         "xaxis": "x3",
         "y": {
          "bdata": "hAlg4ZI6B0BrbdAfmSH7P1LGqYnlLP0/b6NJTyBWAUA=",
          "dtype": "f8"
         },
         "yaxis": "y3"
        },
        {
         "marker": {
          "color": "cornflowerblue"
         },
         "name": "Profil 3",
         "text": [
          "3.12",
          "2.12",
          "2.74",
          "0.29"
         ],
         "textposition": "outside",
         "type": "bar",
         "x": [
          "climat_de_confiance",
          "bien_etre",
          "expression_et_ecoute",
          "engagement"
         ],
         "xaxis": "x4",
         "y": {
          "bdata": "vK7ruq7rCEA9z/M8z/MAQHqe53me5wVADS42uNjg0j8=",
          "dtype": "f8"
         },
         "yaxis": "y4"
        }
       ],
       "layout": {
        "annotations": [
         {
          "font": {
           "size": 16
          },
          "showarrow": false,
          "text": "Profil 1",
          "x": 0.10625,
          "xanchor": "center",
          "xref": "paper",
          "y": 1,
          "yanchor": "bottom",
          "yref": "paper"
         },
         {
          "font": {
           "size": 16
          },
          "showarrow": false,
          "text": "Profil 2",
          "x": 0.36875,
          "xanchor": "center",
          "xref": "paper",
          "y": 1,
          "yanchor": "bottom",
          "yref": "paper"
         },
         {
          "font": {
           "size": 16
          },
          "showarrow": false,
          "text": "Profil 3",
          "x": 0.6312500000000001,
          "xanchor": "center",
          "xref": "paper",
          "y": 1,
          "yanchor": "bottom",
          "yref": "paper"
         },
         {
          "font": {
           "size": 16
          },
          "showarrow": false,
          "text": "Profil 4",
          "x": 0.89375,
          "xanchor": "center",
          "xref": "paper",
          "y": 1,
          "yanchor": "bottom",
          "yref": "paper"
         }
        ],
        "height": 500,
        "showlegend": false,
        "template": {
         "data": {
          "bar": [
           {
            "error_x": {
             "color": "#2a3f5f"
            },
            "error_y": {
             "color": "#2a3f5f"
            },
            "marker": {
             "line": {
              "color": "#E5ECF6",
              "width": 0.5
             },
             "pattern": {
              "fillmode": "overlay",
              "size": 10,
              "solidity": 0.2
             }
            },
            "type": "bar"
           }
          ],
          "barpolar": [
           {
            "marker": {
             "line": {
              "color": "#E5ECF6",
              "width": 0.5
             },
             "pattern": {
              "fillmode": "overlay",
              "size": 10,
              "solidity": 0.2
             }
            },
            "type": "barpolar"
           }
          ],
          "carpet": [
           {
            "aaxis": {
             "endlinecolor": "#2a3f5f",
             "gridcolor": "white",
             "linecolor": "white",
             "minorgridcolor": "white",
             "startlinecolor": "#2a3f5f"
            },
            "baxis": {
             "endlinecolor": "#2a3f5f",
             "gridcolor": "white",
             "linecolor": "white",
             "minorgridcolor": "white",
             "startlinecolor": "#2a3f5f"
            },
            "type": "carpet"
           }
          ],
          "choropleth": [
           {
            "colorbar": {
             "outlinewidth": 0,
             "ticks": ""
            },
            "type": "choropleth"
           }
          ],
          "contour": [
           {
            "colorbar": {
             "outlinewidth": 0,
             "ticks": ""
            },
            "colorscale": [
             [
              0,
              "#0d0887"
             ],
             [
              0.1111111111111111,
              "#46039f"
             ],
             [
              0.2222222222222222,
              "#7201a8"
             ],
             [
              0.3333333333333333,
              "#9c179e"
             ],
             [
              0.4444444444444444,
              "#bd3786"
             ],
             [
              0.5555555555555556,
              "#d8576b"
             ],
             [
              0.6666666666666666,
              "#ed7953"
             ],
             [
              0.7777777777777778,
              "#fb9f3a"
             ],
             [
              0.8888888888888888,
              "#fdca26"
             ],
             [
              1,
              "#f0f921"
             ]
            ],
            "type": "contour"
           }
          ],
          "contourcarpet": [
           {
            "colorbar": {
             "outlinewidth": 0,
             "ticks": ""
            },
            "type": "contourcarpet"
           }
          ],
          "heatmap": [
           {
            "colorbar": {
             "outlinewidth": 0,
             "ticks": ""
            },
            "colorscale": [
             [
              0,
              "#0d0887"
             ],
             [
              0.1111111111111111,
              "#46039f"
             ],
             [
              0.2222222222222222,
              "#7201a8"
             ],
             [
              0.3333333333333333,
              "#9c179e"
             ],
             [
              0.4444444444444444,
              "#bd3786"
             ],
             [
              0.5555555555555556,
              "#d8576b"
             ],
             [
              0.6666666666666666,
              "#ed7953"
             ],
             [
              0.7777777777777778,
              "#fb9f3a"
             ],
             [
              0.8888888888888888,
              "#fdca26"
             ],
             [
              1,
              "#f0f921"
             ]
            ],
            "type": "heatmap"
           }
          ],
          "histogram": [
           {
            "marker": {
             "pattern": {
              "fillmode": "overlay",
              "size": 10,
              "solidity": 0.2
             }
            },
            "type": "histogram"
           }
          ],
          "histogram2d": [
           {
            "colorbar": {
             "outlinewidth": 0,
             "ticks": ""
            },
            "colorscale": [
             [
              0,
              "#0d0887"
             ],
             [
              0.1111111111111111,
              "#46039f"
             ],
             [
              0.2222222222222222,
              "#7201a8"
             ],
             [
              0.3333333333333333,
              "#9c179e"
             ],
             [
              0.4444444444444444,
              "#bd3786"
             ],
             [
              0.5555555555555556,
              "#d8576b"
             ],
             [
              0.6666666666666666,
              "#ed7953"
             ],
             [
              0.7777777777777778,
              "#fb9f3a"
             ],
             [
              0.8888888888888888,
              "#fdca26"
             ],
             [
              1,
              "#f0f921"
             ]
            ],
            "type": "histogram2d"
           }
          ],
          "histogram2dcontour": [
           {
            "colorbar": {
             "outlinewidth": 0,
             "ticks": ""
            },
            "colorscale": [
             [
              0,
              "#0d0887"
             ],
             [
              0.1111111111111111,
              "#46039f"
             ],
             [
              0.2222222222222222,
              "#7201a8"
             ],
             [
              0.3333333333333333,
              "#9c179e"
             ],
             [
              0.4444444444444444,
              "#bd3786"
             ],
             [
              0.5555555555555556,
              "#d8576b"
             ],
             [
              0.6666666666666666,
              "#ed7953"
             ],
             [
              0.7777777777777778,
              "#fb9f3a"
             ],
             [
              0.8888888888888888,
              "#fdca26"
             ],
             [
              1,
              "#f0f921"
             ]
            ],
            "type": "histogram2dcontour"
           }
          ],
          "mesh3d": [
           {
            "colorbar": {
             "outlinewidth": 0,
             "ticks": ""
            },
            "type": "mesh3d"
           }
          ],
          "parcoords": [
           {
            "line": {
             "colorbar": {
              "outlinewidth": 0,
              "ticks": ""
             }
            },
            "type": "parcoords"
           }
          ],
          "pie": [
           {
            "automargin": true,
            "type": "pie"
           }
          ],
          "scatter": [
           {
            "fillpattern": {
             "fillmode": "overlay",
             "size": 10,
             "solidity": 0.2
            },
            "type": "scatter"
           }
          ],
          "scatter3d": [
           {
            "line": {
             "colorbar": {
              "outlinewidth": 0,
              "ticks": ""
             }
            },
            "marker": {
             "colorbar": {
              "outlinewidth": 0,
              "ticks": ""
             }
            },
            "type": "scatter3d"
           }
          ],
          "scattercarpet": [
           {
            "marker": {
             "colorbar": {
              "outlinewidth": 0,
              "ticks": ""
             }
            },
            "type": "scattercarpet"
           }
          ],
          "scattergeo": [
           {
            "marker": {
             "colorbar": {
              "outlinewidth": 0,
              "ticks": ""
             }
            },
            "type": "scattergeo"
           }
          ],
          "scattergl": [
           {
            "marker": {
             "colorbar": {
              "outlinewidth": 0,
              "ticks": ""
             }
            },
            "type": "scattergl"
           }
          ],
          "scattermap": [
           {
            "marker": {
             "colorbar": {
              "outlinewidth": 0,
              "ticks": ""
             }
            },
            "type": "scattermap"
           }
          ],
          "scattermapbox": [
           {
            "marker": {
             "colorbar": {
              "outlinewidth": 0,
              "ticks": ""
             }
            },
            "type": "scattermapbox"
           }
          ],
          "scatterpolar": [
           {
            "marker": {
             "colorbar": {
              "outlinewidth": 0,
              "ticks": ""
             }
            },
            "type": "scatterpolar"
           }
          ],
          "scatterpolargl": [
           {
            "marker": {
             "colorbar": {
              "outlinewidth": 0,
              "ticks": ""
             }
            },
            "type": "scatterpolargl"
           }
          ],
          "scatterternary": [
           {
            "marker": {
             "colorbar": {
              "outlinewidth": 0,
              "ticks": ""
             }
            },
            "type": "scatterternary"
           }
          ],
          "surface": [
           {
            "colorbar": {
             "outlinewidth": 0,
             "ticks": ""
            },
            "colorscale": [
             [
              0,
              "#0d0887"
             ],
             [
              0.1111111111111111,
              "#46039f"
             ],
             [
              0.2222222222222222,
              "#7201a8"
             ],
             [
              0.3333333333333333,
              "#9c179e"
             ],
             [
              0.4444444444444444,
              "#bd3786"
             ],
             [
              0.5555555555555556,
              "#d8576b"
             ],
             [
              0.6666666666666666,
              "#ed7953"
             ],
             [
              0.7777777777777778,
              "#fb9f3a"
             ],
             [
              0.8888888888888888,
              "#fdca26"
             ],
             [
              1,
              "#f0f921"
             ]
            ],
            "type": "surface"
           }
          ],
          "table": [
           {
            "cells": {
             "fill": {
              "color": "#EBF0F8"
             },
             "line": {
              "color": "white"
             }
            },
            "header": {
             "fill": {
              "color": "#C8D4E3"
             },
             "line": {
              "color": "white"
             }
            },
            "type": "table"
           }
          ]
         },
         "layout": {
          "annotationdefaults": {
           "arrowcolor": "#2a3f5f",
           "arrowhead": 0,
           "arrowwidth": 1
          },
          "autotypenumbers": "strict",
          "coloraxis": {
           "colorbar": {
            "outlinewidth": 0,
            "ticks": ""
           }
          },
          "colorscale": {
           "diverging": [
            [
             0,
             "#8e0152"
            ],
            [
             0.1,
             "#c51b7d"
            ],
            [
             0.2,
             "#de77ae"
            ],
            [
             0.3,
             "#f1b6da"
            ],
            [
             0.4,
             "#fde0ef"
            ],
            [
             0.5,
             "#f7f7f7"
            ],
            [
             0.6,
             "#e6f5d0"
            ],
            [
             0.7,
             "#b8e186"
            ],
            [
             0.8,
             "#7fbc41"
            ],
            [
             0.9,
             "#4d9221"
            ],
            [
             1,
             "#276419"
            ]
           ],
           "sequential": [
            [
             0,
             "#0d0887"
            ],
            [
             0.1111111111111111,
             "#46039f"
            ],
            [
             0.2222222222222222,
             "#7201a8"
            ],
            [
             0.3333333333333333,
             "#9c179e"
            ],
            [
             0.4444444444444444,
             "#bd3786"
            ],
            [
             0.5555555555555556,
             "#d8576b"
            ],
            [
             0.6666666666666666,
             "#ed7953"
            ],
            [
             0.7777777777777778,
             "#fb9f3a"
            ],
            [
             0.8888888888888888,
             "#fdca26"
            ],
            [
             1,
             "#f0f921"
            ]
           ],
           "sequentialminus": [
            [
             0,
             "#0d0887"
            ],
            [
             0.1111111111111111,
             "#46039f"
            ],
            [
             0.2222222222222222,
             "#7201a8"
            ],
            [
             0.3333333333333333,
             "#9c179e"
            ],
            [
             0.4444444444444444,
             "#bd3786"
            ],
            [
             0.5555555555555556,
             "#d8576b"
            ],
            [
             0.6666666666666666,
             "#ed7953"
            ],
            [
             0.7777777777777778,
             "#fb9f3a"
            ],
            [
             0.8888888888888888,
             "#fdca26"
            ],
            [
             1,
             "#f0f921"
            ]
           ]
          },
          "colorway": [
           "#636efa",
           "#EF553B",
           "#00cc96",
           "#ab63fa",
           "#FFA15A",
           "#19d3f3",
           "#FF6692",
           "#B6E880",
           "#FF97FF",
           "#FECB52"
          ],
          "font": {
           "color": "#2a3f5f"
          },
          "geo": {
           "bgcolor": "white",
           "lakecolor": "white",
           "landcolor": "#E5ECF6",
           "showlakes": true,
           "showland": true,
           "subunitcolor": "white"
          },
          "hoverlabel": {
           "align": "left"
          },
          "hovermode": "closest",
          "mapbox": {
           "style": "light"
          },
          "paper_bgcolor": "white",
          "plot_bgcolor": "#E5ECF6",
          "polar": {
           "angularaxis": {
            "gridcolor": "white",
            "linecolor": "white",
            "ticks": ""
           },
           "bgcolor": "#E5ECF6",
           "radialaxis": {
            "gridcolor": "white",
            "linecolor": "white",
            "ticks": ""
           }
          },
          "scene": {
           "xaxis": {
            "backgroundcolor": "#E5ECF6",
            "gridcolor": "white",
            "gridwidth": 2,
            "linecolor": "white",
            "showbackground": true,
            "ticks": "",
            "zerolinecolor": "white"
           },
           "yaxis": {
            "backgroundcolor": "#E5ECF6",
            "gridcolor": "white",
            "gridwidth": 2,
            "linecolor": "white",
            "showbackground": true,
            "ticks": "",
            "zerolinecolor": "white"
           },
           "zaxis": {
            "backgroundcolor": "#E5ECF6",
            "gridcolor": "white",
            "gridwidth": 2,
            "linecolor": "white",
            "showbackground": true,
            "ticks": "",
            "zerolinecolor": "white"
           }
          },
          "shapedefaults": {
           "line": {
            "color": "#2a3f5f"
           }
          },
          "ternary": {
           "aaxis": {
            "gridcolor": "white",
            "linecolor": "white",
            "ticks": ""
           },
           "baxis": {
            "gridcolor": "white",
            "linecolor": "white",
            "ticks": ""
           },
           "bgcolor": "#E5ECF6",
           "caxis": {
            "gridcolor": "white",
            "linecolor": "white",
            "ticks": ""
           }
          },
          "title": {
           "x": 0.05
          },
          "xaxis": {
           "automargin": true,
           "gridcolor": "white",
           "linecolor": "white",
           "ticks": "",
           "title": {
            "standoff": 15
           },
           "zerolinecolor": "white",
           "zerolinewidth": 2
          },
          "yaxis": {
           "automargin": true,
           "gridcolor": "white",
           "linecolor": "white",
           "ticks": "",
           "title": {
            "standoff": 15
           },
           "zerolinecolor": "white",
           "zerolinewidth": 2
          }
         }
        },
        "title": {
         "text": "Apperçu moyens des quatre profils"
        },
        "width": 1200,
        "xaxis": {
         "anchor": "y",
         "domain": [
          0,
          0.2125
         ]
        },
        "xaxis2": {
         "anchor": "y2",
         "domain": [
          0.2625,
          0.475
         ]
        },
        "xaxis3": {
         "anchor": "y3",
         "domain": [
          0.525,
          0.7375
         ]
        },
        "xaxis4": {
         "anchor": "y4",
         "domain": [
          0.7875,
          1
         ]
        },
        "yaxis": {
         "anchor": "x",
         "domain": [
          0,
          1
         ],
         "range": [
          0,
          4.5
         ],
         "title": {
          "text": "Score moyen"
         }
        },
        "yaxis2": {
         "anchor": "x2",
         "domain": [
          0,
          1
         ],
         "matches": "y",
         "showticklabels": false
        },
        "yaxis3": {
         "anchor": "x3",
         "domain": [
          0,
          1
         ],
         "matches": "y",
         "showticklabels": false
        },
        "yaxis4": {
         "anchor": "x4",
         "domain": [
          0,
          1
         ],
         "matches": "y",
         "showticklabels": false
        }
       }
      }
     },
     "metadata": {},
     "output_type": "display_data"
    }
   ],
   "source": [
    "from plotly.subplots import make_subplots\n",
    "import plotly.graph_objects as go\n",
    "import pandas as pd\n",
    "\n",
    "# Étape 1 : calcul des moyennes par cluster\n",
    "cluster_means = df_scores.groupby(\"cluster_kmeans\")[[\n",
    "    \"climat_de_confiance\", \"bien_etre\", \"expression_et_ecoute\", \"engagement\"\n",
    "]].mean()\n",
    "\n",
    "question_labels = {\n",
    "        \"climat_de_confiance\": \"Climat de confiance\",\n",
    "        \"bien_etre\": \"Bien-être général\",\n",
    "        \"expression_et_ecoute\": \"Expression et écoute\",\n",
    "        \"engagement\": \"Engagement dans l’établissement\"\n",
    "}\n",
    "\n",
    "cluster_means_renamed = cluster_means.rename(columns=question_labels)\n",
    "\n",
    "\n",
    "\n",
    "# Étape 2 : préparation des subplots\n",
    "fig = make_subplots(\n",
    "    rows=1,\n",
    "    cols=4,\n",
    "    subplot_titles=[f\"Profil {k+1}\" for k in cluster_means.index],\n",
    "    shared_yaxes=True\n",
    ")\n",
    "\n",
    "# Étape 3 : ajout d’un barchart par cluster\n",
    "for i, (k, row) in enumerate(cluster_means.iterrows(), start=1):\n",
    "    fig.add_trace(\n",
    "        go.Bar(\n",
    "            x=row.index,  # ces noms sont maintenant lisibles\n",
    "            y=row.values,\n",
    "            name=f\"Profil {k}\",\n",
    "            text=[f\"{v:.2f}\" for v in row.values],\n",
    "            textposition=\"outside\",\n",
    "            marker_color=\"cornflowerblue\"\n",
    "\n",
    "        ),\n",
    "        row=1,\n",
    "        col=i\n",
    "    )\n",
    "\n",
    "# Étape 4 : mise en forme\n",
    "fig.update_layout(\n",
    "    height=500,\n",
    "    width=1200,\n",
    "    title_text=\"Apperçu moyens des quatre profils\",\n",
    "    showlegend=False\n",
    ")\n",
    "\n",
    "fig.update_yaxes(range=[0, 4.5], title=\"Score moyen\", row=1, col=1)\n",
    "fig.show()\n"
   ]
  },
  {
   "cell_type": "code",
   "execution_count": 156,
   "id": "fa023612",
   "metadata": {},
   "outputs": [
    {
     "data": {
      "application/vnd.plotly.v1+json": {
       "config": {
        "plotlyServerURL": "https://plot.ly"
       },
       "data": [
        {
         "marker": {
          "color": "cornflowerblue"
         },
         "name": "Genre",
         "showlegend": false,
         "type": "bar",
         "x": [
          "Fille",
          "Garçon"
         ],
         "xaxis": "x",
         "y": {
          "bdata": "fFU=",
          "dtype": "i1"
         },
         "yaxis": "y"
        },
        {
         "marker": {
          "color": "orange"
         },
         "name": "Niveau",
         "showlegend": false,
         "type": "bar",
         "x": [
          "6e",
          "5e",
          "4e",
          "3e"
         ],
         "xaxis": "x",
         "y": {
          "bdata": "QDU1Jw==",
          "dtype": "i1"
         },
         "yaxis": "y"
        },
        {
         "marker": {
          "color": "cornflowerblue"
         },
         "name": "Genre",
         "showlegend": false,
         "type": "bar",
         "x": [
          "Fille",
          "Garçon"
         ],
         "xaxis": "x2",
         "y": {
          "bdata": "NFc=",
          "dtype": "i1"
         },
         "yaxis": "y2"
        },
        {
         "marker": {
          "color": "orange"
         },
         "name": "Niveau",
         "showlegend": false,
         "type": "bar",
         "x": [
          "6e",
          "5e",
          "4e",
          "3e"
         ],
         "xaxis": "x2",
         "y": {
          "bdata": "HjMmFA==",
          "dtype": "i1"
         },
         "yaxis": "y2"
        },
        {
         "marker": {
          "color": "cornflowerblue"
         },
         "name": "Genre",
         "showlegend": false,
         "type": "bar",
         "x": [
          "Fille",
          "Garçon"
         ],
         "xaxis": "x3",
         "y": {
          "bdata": "oQB+AA==",
          "dtype": "i2"
         },
         "yaxis": "y3"
        },
        {
         "marker": {
          "color": "orange"
         },
         "name": "Niveau",
         "showlegend": false,
         "type": "bar",
         "x": [
          "6e",
          "5e",
          "4e",
          "3e"
         ],
         "xaxis": "x3",
         "y": {
          "bdata": "QUxMRg==",
          "dtype": "i1"
         },
         "yaxis": "y3"
        },
        {
         "marker": {
          "color": "cornflowerblue"
         },
         "name": "Genre",
         "showlegend": false,
         "type": "bar",
         "x": [
          "Fille",
          "Garçon"
         ],
         "xaxis": "x4",
         "y": {
          "bdata": "YnA=",
          "dtype": "i1"
         },
         "yaxis": "y4"
        },
        {
         "marker": {
          "color": "orange"
         },
         "name": "Niveau",
         "showlegend": false,
         "type": "bar",
         "x": [
          "6e",
          "5e",
          "4e",
          "3e"
         ],
         "xaxis": "x4",
         "y": {
          "bdata": "STstIQ==",
          "dtype": "i1"
         },
         "yaxis": "y4"
        }
       ],
       "layout": {
        "annotations": [
         {
          "font": {
           "size": 16
          },
          "showarrow": false,
          "text": "Profil 1",
          "x": 0.10625,
          "xanchor": "center",
          "xref": "paper",
          "y": 1,
          "yanchor": "bottom",
          "yref": "paper"
         },
         {
          "font": {
           "size": 16
          },
          "showarrow": false,
          "text": "Profil 2",
          "x": 0.36875,
          "xanchor": "center",
          "xref": "paper",
          "y": 1,
          "yanchor": "bottom",
          "yref": "paper"
         },
         {
          "font": {
           "size": 16
          },
          "showarrow": false,
          "text": "Profil 3",
          "x": 0.6312500000000001,
          "xanchor": "center",
          "xref": "paper",
          "y": 1,
          "yanchor": "bottom",
          "yref": "paper"
         },
         {
          "font": {
           "size": 16
          },
          "showarrow": false,
          "text": "Profil 4",
          "x": 0.89375,
          "xanchor": "center",
          "xref": "paper",
          "y": 1,
          "yanchor": "bottom",
          "yref": "paper"
         }
        ],
        "barmode": "group",
        "height": 500,
        "template": {
         "data": {
          "bar": [
           {
            "error_x": {
             "color": "#2a3f5f"
            },
            "error_y": {
             "color": "#2a3f5f"
            },
            "marker": {
             "line": {
              "color": "#E5ECF6",
              "width": 0.5
             },
             "pattern": {
              "fillmode": "overlay",
              "size": 10,
              "solidity": 0.2
             }
            },
            "type": "bar"
           }
          ],
          "barpolar": [
           {
            "marker": {
             "line": {
              "color": "#E5ECF6",
              "width": 0.5
             },
             "pattern": {
              "fillmode": "overlay",
              "size": 10,
              "solidity": 0.2
             }
            },
            "type": "barpolar"
           }
          ],
          "carpet": [
           {
            "aaxis": {
             "endlinecolor": "#2a3f5f",
             "gridcolor": "white",
             "linecolor": "white",
             "minorgridcolor": "white",
             "startlinecolor": "#2a3f5f"
            },
            "baxis": {
             "endlinecolor": "#2a3f5f",
             "gridcolor": "white",
             "linecolor": "white",
             "minorgridcolor": "white",
             "startlinecolor": "#2a3f5f"
            },
            "type": "carpet"
           }
          ],
          "choropleth": [
           {
            "colorbar": {
             "outlinewidth": 0,
             "ticks": ""
            },
            "type": "choropleth"
           }
          ],
          "contour": [
           {
            "colorbar": {
             "outlinewidth": 0,
             "ticks": ""
            },
            "colorscale": [
             [
              0,
              "#0d0887"
             ],
             [
              0.1111111111111111,
              "#46039f"
             ],
             [
              0.2222222222222222,
              "#7201a8"
             ],
             [
              0.3333333333333333,
              "#9c179e"
             ],
             [
              0.4444444444444444,
              "#bd3786"
             ],
             [
              0.5555555555555556,
              "#d8576b"
             ],
             [
              0.6666666666666666,
              "#ed7953"
             ],
             [
              0.7777777777777778,
              "#fb9f3a"
             ],
             [
              0.8888888888888888,
              "#fdca26"
             ],
             [
              1,
              "#f0f921"
             ]
            ],
            "type": "contour"
           }
          ],
          "contourcarpet": [
           {
            "colorbar": {
             "outlinewidth": 0,
             "ticks": ""
            },
            "type": "contourcarpet"
           }
          ],
          "heatmap": [
           {
            "colorbar": {
             "outlinewidth": 0,
             "ticks": ""
            },
            "colorscale": [
             [
              0,
              "#0d0887"
             ],
             [
              0.1111111111111111,
              "#46039f"
             ],
             [
              0.2222222222222222,
              "#7201a8"
             ],
             [
              0.3333333333333333,
              "#9c179e"
             ],
             [
              0.4444444444444444,
              "#bd3786"
             ],
             [
              0.5555555555555556,
              "#d8576b"
             ],
             [
              0.6666666666666666,
              "#ed7953"
             ],
             [
              0.7777777777777778,
              "#fb9f3a"
             ],
             [
              0.8888888888888888,
              "#fdca26"
             ],
             [
              1,
              "#f0f921"
             ]
            ],
            "type": "heatmap"
           }
          ],
          "histogram": [
           {
            "marker": {
             "pattern": {
              "fillmode": "overlay",
              "size": 10,
              "solidity": 0.2
             }
            },
            "type": "histogram"
           }
          ],
          "histogram2d": [
           {
            "colorbar": {
             "outlinewidth": 0,
             "ticks": ""
            },
            "colorscale": [
             [
              0,
              "#0d0887"
             ],
             [
              0.1111111111111111,
              "#46039f"
             ],
             [
              0.2222222222222222,
              "#7201a8"
             ],
             [
              0.3333333333333333,
              "#9c179e"
             ],
             [
              0.4444444444444444,
              "#bd3786"
             ],
             [
              0.5555555555555556,
              "#d8576b"
             ],
             [
              0.6666666666666666,
              "#ed7953"
             ],
             [
              0.7777777777777778,
              "#fb9f3a"
             ],
             [
              0.8888888888888888,
              "#fdca26"
             ],
             [
              1,
              "#f0f921"
             ]
            ],
            "type": "histogram2d"
           }
          ],
          "histogram2dcontour": [
           {
            "colorbar": {
             "outlinewidth": 0,
             "ticks": ""
            },
            "colorscale": [
             [
              0,
              "#0d0887"
             ],
             [
              0.1111111111111111,
              "#46039f"
             ],
             [
              0.2222222222222222,
              "#7201a8"
             ],
             [
              0.3333333333333333,
              "#9c179e"
             ],
             [
              0.4444444444444444,
              "#bd3786"
             ],
             [
              0.5555555555555556,
              "#d8576b"
             ],
             [
              0.6666666666666666,
              "#ed7953"
             ],
             [
              0.7777777777777778,
              "#fb9f3a"
             ],
             [
              0.8888888888888888,
              "#fdca26"
             ],
             [
              1,
              "#f0f921"
             ]
            ],
            "type": "histogram2dcontour"
           }
          ],
          "mesh3d": [
           {
            "colorbar": {
             "outlinewidth": 0,
             "ticks": ""
            },
            "type": "mesh3d"
           }
          ],
          "parcoords": [
           {
            "line": {
             "colorbar": {
              "outlinewidth": 0,
              "ticks": ""
             }
            },
            "type": "parcoords"
           }
          ],
          "pie": [
           {
            "automargin": true,
            "type": "pie"
           }
          ],
          "scatter": [
           {
            "fillpattern": {
             "fillmode": "overlay",
             "size": 10,
             "solidity": 0.2
            },
            "type": "scatter"
           }
          ],
          "scatter3d": [
           {
            "line": {
             "colorbar": {
              "outlinewidth": 0,
              "ticks": ""
             }
            },
            "marker": {
             "colorbar": {
              "outlinewidth": 0,
              "ticks": ""
             }
            },
            "type": "scatter3d"
           }
          ],
          "scattercarpet": [
           {
            "marker": {
             "colorbar": {
              "outlinewidth": 0,
              "ticks": ""
             }
            },
            "type": "scattercarpet"
           }
          ],
          "scattergeo": [
           {
            "marker": {
             "colorbar": {
              "outlinewidth": 0,
              "ticks": ""
             }
            },
            "type": "scattergeo"
           }
          ],
          "scattergl": [
           {
            "marker": {
             "colorbar": {
              "outlinewidth": 0,
              "ticks": ""
             }
            },
            "type": "scattergl"
           }
          ],
          "scattermap": [
           {
            "marker": {
             "colorbar": {
              "outlinewidth": 0,
              "ticks": ""
             }
            },
            "type": "scattermap"
           }
          ],
          "scattermapbox": [
           {
            "marker": {
             "colorbar": {
              "outlinewidth": 0,
              "ticks": ""
             }
            },
            "type": "scattermapbox"
           }
          ],
          "scatterpolar": [
           {
            "marker": {
             "colorbar": {
              "outlinewidth": 0,
              "ticks": ""
             }
            },
            "type": "scatterpolar"
           }
          ],
          "scatterpolargl": [
           {
            "marker": {
             "colorbar": {
              "outlinewidth": 0,
              "ticks": ""
             }
            },
            "type": "scatterpolargl"
           }
          ],
          "scatterternary": [
           {
            "marker": {
             "colorbar": {
              "outlinewidth": 0,
              "ticks": ""
             }
            },
            "type": "scatterternary"
           }
          ],
          "surface": [
           {
            "colorbar": {
             "outlinewidth": 0,
             "ticks": ""
            },
            "colorscale": [
             [
              0,
              "#0d0887"
             ],
             [
              0.1111111111111111,
              "#46039f"
             ],
             [
              0.2222222222222222,
              "#7201a8"
             ],
             [
              0.3333333333333333,
              "#9c179e"
             ],
             [
              0.4444444444444444,
              "#bd3786"
             ],
             [
              0.5555555555555556,
              "#d8576b"
             ],
             [
              0.6666666666666666,
              "#ed7953"
             ],
             [
              0.7777777777777778,
              "#fb9f3a"
             ],
             [
              0.8888888888888888,
              "#fdca26"
             ],
             [
              1,
              "#f0f921"
             ]
            ],
            "type": "surface"
           }
          ],
          "table": [
           {
            "cells": {
             "fill": {
              "color": "#EBF0F8"
             },
             "line": {
              "color": "white"
             }
            },
            "header": {
             "fill": {
              "color": "#C8D4E3"
             },
             "line": {
              "color": "white"
             }
            },
            "type": "table"
           }
          ]
         },
         "layout": {
          "annotationdefaults": {
           "arrowcolor": "#2a3f5f",
           "arrowhead": 0,
           "arrowwidth": 1
          },
          "autotypenumbers": "strict",
          "coloraxis": {
           "colorbar": {
            "outlinewidth": 0,
            "ticks": ""
           }
          },
          "colorscale": {
           "diverging": [
            [
             0,
             "#8e0152"
            ],
            [
             0.1,
             "#c51b7d"
            ],
            [
             0.2,
             "#de77ae"
            ],
            [
             0.3,
             "#f1b6da"
            ],
            [
             0.4,
             "#fde0ef"
            ],
            [
             0.5,
             "#f7f7f7"
            ],
            [
             0.6,
             "#e6f5d0"
            ],
            [
             0.7,
             "#b8e186"
            ],
            [
             0.8,
             "#7fbc41"
            ],
            [
             0.9,
             "#4d9221"
            ],
            [
             1,
             "#276419"
            ]
           ],
           "sequential": [
            [
             0,
             "#0d0887"
            ],
            [
             0.1111111111111111,
             "#46039f"
            ],
            [
             0.2222222222222222,
             "#7201a8"
            ],
            [
             0.3333333333333333,
             "#9c179e"
            ],
            [
             0.4444444444444444,
             "#bd3786"
            ],
            [
             0.5555555555555556,
             "#d8576b"
            ],
            [
             0.6666666666666666,
             "#ed7953"
            ],
            [
             0.7777777777777778,
             "#fb9f3a"
            ],
            [
             0.8888888888888888,
             "#fdca26"
            ],
            [
             1,
             "#f0f921"
            ]
           ],
           "sequentialminus": [
            [
             0,
             "#0d0887"
            ],
            [
             0.1111111111111111,
             "#46039f"
            ],
            [
             0.2222222222222222,
             "#7201a8"
            ],
            [
             0.3333333333333333,
             "#9c179e"
            ],
            [
             0.4444444444444444,
             "#bd3786"
            ],
            [
             0.5555555555555556,
             "#d8576b"
            ],
            [
             0.6666666666666666,
             "#ed7953"
            ],
            [
             0.7777777777777778,
             "#fb9f3a"
            ],
            [
             0.8888888888888888,
             "#fdca26"
            ],
            [
             1,
             "#f0f921"
            ]
           ]
          },
          "colorway": [
           "#636efa",
           "#EF553B",
           "#00cc96",
           "#ab63fa",
           "#FFA15A",
           "#19d3f3",
           "#FF6692",
           "#B6E880",
           "#FF97FF",
           "#FECB52"
          ],
          "font": {
           "color": "#2a3f5f"
          },
          "geo": {
           "bgcolor": "white",
           "lakecolor": "white",
           "landcolor": "#E5ECF6",
           "showlakes": true,
           "showland": true,
           "subunitcolor": "white"
          },
          "hoverlabel": {
           "align": "left"
          },
          "hovermode": "closest",
          "mapbox": {
           "style": "light"
          },
          "paper_bgcolor": "white",
          "plot_bgcolor": "#E5ECF6",
          "polar": {
           "angularaxis": {
            "gridcolor": "white",
            "linecolor": "white",
            "ticks": ""
           },
           "bgcolor": "#E5ECF6",
           "radialaxis": {
            "gridcolor": "white",
            "linecolor": "white",
            "ticks": ""
           }
          },
          "scene": {
           "xaxis": {
            "backgroundcolor": "#E5ECF6",
            "gridcolor": "white",
            "gridwidth": 2,
            "linecolor": "white",
            "showbackground": true,
            "ticks": "",
            "zerolinecolor": "white"
           },
           "yaxis": {
            "backgroundcolor": "#E5ECF6",
            "gridcolor": "white",
            "gridwidth": 2,
            "linecolor": "white",
            "showbackground": true,
            "ticks": "",
            "zerolinecolor": "white"
           },
           "zaxis": {
            "backgroundcolor": "#E5ECF6",
            "gridcolor": "white",
            "gridwidth": 2,
            "linecolor": "white",
            "showbackground": true,
            "ticks": "",
            "zerolinecolor": "white"
           }
          },
          "shapedefaults": {
           "line": {
            "color": "#2a3f5f"
           }
          },
          "ternary": {
           "aaxis": {
            "gridcolor": "white",
            "linecolor": "white",
            "ticks": ""
           },
           "baxis": {
            "gridcolor": "white",
            "linecolor": "white",
            "ticks": ""
           },
           "bgcolor": "#E5ECF6",
           "caxis": {
            "gridcolor": "white",
            "linecolor": "white",
            "ticks": ""
           }
          },
          "title": {
           "x": 0.05
          },
          "xaxis": {
           "automargin": true,
           "gridcolor": "white",
           "linecolor": "white",
           "ticks": "",
           "title": {
            "standoff": 15
           },
           "zerolinecolor": "white",
           "zerolinewidth": 2
          },
          "yaxis": {
           "automargin": true,
           "gridcolor": "white",
           "linecolor": "white",
           "ticks": "",
           "title": {
            "standoff": 15
           },
           "zerolinecolor": "white",
           "zerolinewidth": 2
          }
         }
        },
        "title": {
         "text": "Répartition genre et niveau, par profil"
        },
        "width": 1200,
        "xaxis": {
         "anchor": "y",
         "domain": [
          0,
          0.2125
         ]
        },
        "xaxis2": {
         "anchor": "y2",
         "domain": [
          0.2625,
          0.475
         ]
        },
        "xaxis3": {
         "anchor": "y3",
         "domain": [
          0.525,
          0.7375
         ]
        },
        "xaxis4": {
         "anchor": "y4",
         "domain": [
          0.7875,
          1
         ]
        },
        "yaxis": {
         "anchor": "x",
         "domain": [
          0,
          1
         ],
         "title": {
          "text": "Nombre d'élèves"
         }
        },
        "yaxis2": {
         "anchor": "x2",
         "domain": [
          0,
          1
         ],
         "matches": "y",
         "showticklabels": false
        },
        "yaxis3": {
         "anchor": "x3",
         "domain": [
          0,
          1
         ],
         "matches": "y",
         "showticklabels": false
        },
        "yaxis4": {
         "anchor": "x4",
         "domain": [
          0,
          1
         ],
         "matches": "y",
         "showticklabels": false
        }
       }
      }
     },
     "metadata": {},
     "output_type": "display_data"
    }
   ],
   "source": [
    "import plotly.graph_objects as go\n",
    "from plotly.subplots import make_subplots\n",
    "\n",
    "# Définir les clusters présents\n",
    "clusters = sorted(df_scores[\"cluster_kmeans\"].unique())\n",
    "n_clusters = len(clusters)\n",
    "\n",
    "# Création des subplots : 1 ligne, n colonnes (1 par cluster)\n",
    "fig = make_subplots(\n",
    "    rows=1, cols=n_clusters,\n",
    "    subplot_titles=[f\"Profil {k+1}\" for k in clusters],\n",
    "    specs=[[{\"type\": \"xy\"}]*n_clusters],\n",
    "    shared_yaxes=True\n",
    ")\n",
    "\n",
    "# Générer les graphiques pour chaque cluster\n",
    "for i, cluster in enumerate(clusters):\n",
    "    df_c = df_scores[df_scores[\"cluster_kmeans\"] == cluster]\n",
    "\n",
    "    # Comptage genre\n",
    "    genre_counts = df_c[\"genre\"].value_counts().reindex([\"Fille\", \"Garçon\"]).fillna(0)\n",
    "\n",
    "    # Comptage niveau\n",
    "    niveau_counts = df_c[\"niveau\"].value_counts().reindex([\"6e\", \"5e\", \"4e\", \"3e\"]).fillna(0)\n",
    "\n",
    "    # Barres genre\n",
    "    fig.add_trace(\n",
    "        go.Bar(\n",
    "            x=[\"Fille\", \"Garçon\"],\n",
    "            y=genre_counts.values,\n",
    "            name=\"Genre\",\n",
    "            marker_color='cornflowerblue',\n",
    "            showlegend=False\n",
    "        ),\n",
    "        row=1,\n",
    "        col=i + 1\n",
    "    )\n",
    "\n",
    "    # Barres niveau\n",
    "    fig.add_trace(\n",
    "        go.Bar(\n",
    "            x=[\"6e\", \"5e\", \"4e\", \"3e\"],\n",
    "            y=niveau_counts.values,\n",
    "            name=\"Niveau\",\n",
    "            marker_color='orange',\n",
    "            showlegend=False\n",
    "        ),\n",
    "        row=1,\n",
    "        col=i + 1\n",
    "    )\n",
    "\n",
    "# Mise en forme\n",
    "fig.update_layout(\n",
    "    title=\"Répartition genre et niveau, par profil\",\n",
    "    height=500,\n",
    "    width=1200,\n",
    "    barmode=\"group\"\n",
    ")\n",
    "\n",
    "fig.update_yaxes(title_text=\"Nombre d'élèves\", row=1, col=1)\n",
    "fig.show()\n"
   ]
  },
  {
   "cell_type": "markdown",
   "id": "7a187fd4",
   "metadata": {},
   "source": [
    "| Profil       | Titre                     | Description                                                                                                                                                                                    | Répartition dominante                              |\n",
    "| ------------ | ------------------------------------- | ---------------------------------------------------------------------------------------------------------------------------------------------------------------------------------------------- | -------------------------------------------------- |\n",
    "| **Profil 1** | Satisfaits mais peu engagés           | Élèves qui se sentent très bien dans l’établissement mais qui participent peu. Il est pertinent d’interroger le sens et la visibilité de l’engagement proposé. Profil en décroissance dans les niveaux.                                | **Filles majoritaires**, niveaux bien répartis     |\n",
    "| **Profil 2** | En retrait et en inconfort            | Élèves exprimant un mal-être global, avec peu de bien-être, peu de confiance, peu d'écoute et un engagement faible. Ce profil reflète une distance émotionnelle avec l’environnement scolaire. | **Garçons majoritaires**, forte présence en **5e** |\n",
    "| **Profil 3** | Moyennement satisfaits mais impliqués | Élèves qui n’ont pas une perception très positive de leur climat scolaire, mais restent actifs. Ils méritent reconnaissance et écoute pour éviter qu’ils décrochent.                           | **Filles majoritaires**, répartition équilibrée    |\n",
    "| **Profil 4** | Intégrés mais désengagés              | Élèves qui disent se sentir écoutés, plutôt en confiance, mais ne s’engagent pas du tout. Un levier stratégique pour remotiver ceux qui \"vont bien\" mais \"n'agissent pas\".                     | **Garçons majoritaires**, surtout en **6e/5e**     |\n"
   ]
  },
  {
   "cell_type": "markdown",
   "id": "aebab4cf",
   "metadata": {},
   "source": [
    "| Code | Question                                                                 |\n",
    "|------|--------------------------------------------------------------------------|\n",
    "| Q3   | Comment te sens-tu globalement dans ton établissement ?                 |\n",
    "| Q4   | As-tu confiance dans les décisions prises par les adultes ?             |\n",
    "| Q6   | Te sens-tu en sécurité dans l’établissement ?                           |\n",
    "| Q7   | As-tu déjà participé à des projets ou activités dans l’établissement ?  |\n",
    "| Q9   | Peux-tu t’exprimer librement dans l’établissement ?                     |\n",
    "| Q10  | Te sens-tu écouté(e) et soutenu(e) ?                                     |\n",
    "| Q12  | As-tu envie de venir chaque jour à l’établissement ?                    |\n",
    "| Q13  | Comment qualifierais-tu la relation entre ta famille, l’établissement et toi ? |\n"
   ]
  },
  {
   "cell_type": "markdown",
   "id": "0f3d3bfc",
   "metadata": {},
   "source": [
    "## Questions ouvertes"
   ]
  },
  {
   "cell_type": "code",
   "execution_count": 245,
   "id": "1723d337",
   "metadata": {},
   "outputs": [],
   "source": [
    "import pandas as pd\n",
    "import ast\n",
    "\n",
    "# Étape 1 : fusion des infos\n",
    "df_full = df.copy()\n",
    "df_full[\"cluster_kmeans\"] = df_scores[\"cluster_kmeans\"].values\n",
    "df_full[\"genre\"] = df_scores[\"genre\"].values\n",
    "df_full[\"niveau\"] = df_scores[\"niveau\"].values\n",
    "\n",
    "# Étape 2 : dictionnaire de regroupement\n",
    "regroupements = {\n",
    "    \"non\": \"aucun\",\n",
    "    \"récré\": \"récréation\",\n",
    "    \"récréations\": \"récréation\",\n",
    "    \"pause méridienne\": \"pause\",\n",
    "    \"pauses\": \"pause\",\n",
    "    \"plateau\": \"terrain\",\n",
    "    \"MASSMUN\": \"MUN\",\n",
    "    \"OSUIMUN\": \"MUN\",\n",
    "    \"THIMUN\": \"MUN\",\n",
    "    \"FERMUN\": \"MUN\",\n",
    "    \"cours\": \"en cours\",\n",
    "    \"cour\":\"la cour\",\n",
    "    \"récréation\":\"la cour\",\n",
    "    \"cours\":\"classe\",\n",
    "    \"salle\":\"salle de classe\",\n",
    "    \"classe\":\"salle de classe\",\n",
    "    \"classes\":\"salle de classe\",\n",
    "    \"salles\":\"salle de classe\",\n",
    "    \"évaluations\":\"évaluation\",\n",
    "\n",
    "    # ajoute si besoin\n",
    "}\n",
    "\n",
    "# Étape 3 : colonnes à traiter\n",
    "colonnes_ouvertes = [\n",
    "    \"confiance_dialogue_extrait\",\n",
    "    \"lieux_expression_libre\",\n",
    "    \"moments_agreables\",\n",
    "    \"moments_desagreables\",\n",
    "    \"lieux_agreables\",\n",
    "    \"lieux_desagreables\",\n",
    "    \"changements_souhaites\"\n",
    "]\n",
    "\n",
    "# Étape 4 : parsing + harmonisation\n",
    "def parse_et_harmoniser(val, regroupements):\n",
    "    try:\n",
    "        if isinstance(val, str):\n",
    "            val = ast.literal_eval(val)\n",
    "        if not isinstance(val, list):\n",
    "            return []\n",
    "        return [regroupements.get(m.strip().lower(), m.strip().lower()) for m in val]\n",
    "    except:\n",
    "        return []\n",
    "\n",
    "for col in colonnes_ouvertes:\n",
    "    df_full[col] = df_full[col].apply(lambda x: parse_et_harmoniser(x, regroupements))\n",
    "\n",
    "# Étape 5 : calcul des fréquences globales par colonne\n",
    "def compter_mots_uniques_par_colonnes(df, colonnes):\n",
    "    stats = {}\n",
    "    for col in colonnes:\n",
    "        mots = df.explode(col)[col]\n",
    "        mots = mots[mots.notna() & (mots != \"\")]\n",
    "        compte = mots.value_counts().reset_index()\n",
    "        compte.columns = [\"mot\", \"frequence\"]\n",
    "        stats[col] = compte\n",
    "    return stats\n",
    "\n",
    "# Application\n",
    "frequences_par_question = compter_mots_uniques_par_colonnes(df_full, colonnes_ouvertes)\n"
   ]
  },
  {
   "cell_type": "code",
   "execution_count": 250,
   "id": "419f97be",
   "metadata": {},
   "outputs": [
    {
     "data": {
      "application/vnd.plotly.v1+json": {
       "config": {
        "plotlyServerURL": "https://plot.ly"
       },
       "data": [
        {
         "hovertemplate": "Mot=%{y}<br>Fréquence=%{x}<extra></extra>",
         "legendgroup": "calme",
         "marker": {
          "color": "#636efa",
          "pattern": {
           "shape": ""
          }
         },
         "name": "calme",
         "orientation": "h",
         "showlegend": true,
         "textposition": "auto",
         "type": "bar",
         "x": {
          "bdata": "Eg==",
          "dtype": "i1"
         },
         "xaxis": "x",
         "y": [
          "calme"
         ],
         "yaxis": "y"
        },
        {
         "hovertemplate": "Mot=%{y}<br>Fréquence=%{x}<extra></extra>",
         "legendgroup": "gentillesse",
         "marker": {
          "color": "#EF553B",
          "pattern": {
           "shape": ""
          }
         },
         "name": "gentillesse",
         "orientation": "h",
         "showlegend": true,
         "textposition": "auto",
         "type": "bar",
         "x": {
          "bdata": "FA==",
          "dtype": "i1"
         },
         "xaxis": "x",
         "y": [
          "gentillesse"
         ],
         "yaxis": "y"
        },
        {
         "hovertemplate": "Mot=%{y}<br>Fréquence=%{x}<extra></extra>",
         "legendgroup": "discussion",
         "marker": {
          "color": "#00cc96",
          "pattern": {
           "shape": ""
          }
         },
         "name": "discussion",
         "orientation": "h",
         "showlegend": true,
         "textposition": "auto",
         "type": "bar",
         "x": {
          "bdata": "FQ==",
          "dtype": "i1"
         },
         "xaxis": "x",
         "y": [
          "discussion"
         ],
         "yaxis": "y"
        },
        {
         "hovertemplate": "Mot=%{y}<br>Fréquence=%{x}<extra></extra>",
         "legendgroup": "communication",
         "marker": {
          "color": "#ab63fa",
          "pattern": {
           "shape": ""
          }
         },
         "name": "communication",
         "orientation": "h",
         "showlegend": true,
         "textposition": "auto",
         "type": "bar",
         "x": {
          "bdata": "IA==",
          "dtype": "i1"
         },
         "xaxis": "x",
         "y": [
          "communication"
         ],
         "yaxis": "y"
        },
        {
         "hovertemplate": "Mot=%{y}<br>Fréquence=%{x}<extra></extra>",
         "legendgroup": "dialogue",
         "marker": {
          "color": "#FFA15A",
          "pattern": {
           "shape": ""
          }
         },
         "name": "dialogue",
         "orientation": "h",
         "showlegend": true,
         "textposition": "auto",
         "type": "bar",
         "x": {
          "bdata": "KA==",
          "dtype": "i1"
         },
         "xaxis": "x",
         "y": [
          "dialogue"
         ],
         "yaxis": "y"
        },
        {
         "hovertemplate": "Mot=%{y}<br>Fréquence=%{x}<extra></extra>",
         "legendgroup": "confiance",
         "marker": {
          "color": "#19d3f3",
          "pattern": {
           "shape": ""
          }
         },
         "name": "confiance",
         "orientation": "h",
         "showlegend": true,
         "textposition": "auto",
         "type": "bar",
         "x": {
          "bdata": "Mg==",
          "dtype": "i1"
         },
         "xaxis": "x",
         "y": [
          "confiance"
         ],
         "yaxis": "y"
        },
        {
         "hovertemplate": "Mot=%{y}<br>Fréquence=%{x}<extra></extra>",
         "legendgroup": "compréhension",
         "marker": {
          "color": "#FF6692",
          "pattern": {
           "shape": ""
          }
         },
         "name": "compréhension",
         "orientation": "h",
         "showlegend": true,
         "textposition": "auto",
         "type": "bar",
         "x": {
          "bdata": "Pw==",
          "dtype": "i1"
         },
         "xaxis": "x",
         "y": [
          "compréhension"
         ],
         "yaxis": "y"
        },
        {
         "hovertemplate": "Mot=%{y}<br>Fréquence=%{x}<extra></extra>",
         "legendgroup": "aucun",
         "marker": {
          "color": "#B6E880",
          "pattern": {
           "shape": ""
          }
         },
         "name": "aucun",
         "orientation": "h",
         "showlegend": true,
         "textposition": "auto",
         "type": "bar",
         "x": {
          "bdata": "bg==",
          "dtype": "i1"
         },
         "xaxis": "x",
         "y": [
          "aucun"
         ],
         "yaxis": "y"
        },
        {
         "hovertemplate": "Mot=%{y}<br>Fréquence=%{x}<extra></extra>",
         "legendgroup": "respect",
         "marker": {
          "color": "#FF97FF",
          "pattern": {
           "shape": ""
          }
         },
         "name": "respect",
         "orientation": "h",
         "showlegend": true,
         "textposition": "auto",
         "type": "bar",
         "x": {
          "bdata": "fg==",
          "dtype": "i1"
         },
         "xaxis": "x",
         "y": [
          "respect"
         ],
         "yaxis": "y"
        },
        {
         "hovertemplate": "Mot=%{y}<br>Fréquence=%{x}<extra></extra>",
         "legendgroup": "écoute",
         "marker": {
          "color": "#FECB52",
          "pattern": {
           "shape": ""
          }
         },
         "name": "écoute",
         "orientation": "h",
         "showlegend": true,
         "textposition": "auto",
         "type": "bar",
         "x": {
          "bdata": "ngA=",
          "dtype": "i2"
         },
         "xaxis": "x",
         "y": [
          "écoute"
         ],
         "yaxis": "y"
        }
       ],
       "layout": {
        "barmode": "relative",
        "height": 400,
        "legend": {
         "title": {
          "text": "Mot"
         },
         "tracegroupgap": 0
        },
        "showlegend": false,
        "template": {
         "data": {
          "bar": [
           {
            "error_x": {
             "color": "#2a3f5f"
            },
            "error_y": {
             "color": "#2a3f5f"
            },
            "marker": {
             "line": {
              "color": "#E5ECF6",
              "width": 0.5
             },
             "pattern": {
              "fillmode": "overlay",
              "size": 10,
              "solidity": 0.2
             }
            },
            "type": "bar"
           }
          ],
          "barpolar": [
           {
            "marker": {
             "line": {
              "color": "#E5ECF6",
              "width": 0.5
             },
             "pattern": {
              "fillmode": "overlay",
              "size": 10,
              "solidity": 0.2
             }
            },
            "type": "barpolar"
           }
          ],
          "carpet": [
           {
            "aaxis": {
             "endlinecolor": "#2a3f5f",
             "gridcolor": "white",
             "linecolor": "white",
             "minorgridcolor": "white",
             "startlinecolor": "#2a3f5f"
            },
            "baxis": {
             "endlinecolor": "#2a3f5f",
             "gridcolor": "white",
             "linecolor": "white",
             "minorgridcolor": "white",
             "startlinecolor": "#2a3f5f"
            },
            "type": "carpet"
           }
          ],
          "choropleth": [
           {
            "colorbar": {
             "outlinewidth": 0,
             "ticks": ""
            },
            "type": "choropleth"
           }
          ],
          "contour": [
           {
            "colorbar": {
             "outlinewidth": 0,
             "ticks": ""
            },
            "colorscale": [
             [
              0,
              "#0d0887"
             ],
             [
              0.1111111111111111,
              "#46039f"
             ],
             [
              0.2222222222222222,
              "#7201a8"
             ],
             [
              0.3333333333333333,
              "#9c179e"
             ],
             [
              0.4444444444444444,
              "#bd3786"
             ],
             [
              0.5555555555555556,
              "#d8576b"
             ],
             [
              0.6666666666666666,
              "#ed7953"
             ],
             [
              0.7777777777777778,
              "#fb9f3a"
             ],
             [
              0.8888888888888888,
              "#fdca26"
             ],
             [
              1,
              "#f0f921"
             ]
            ],
            "type": "contour"
           }
          ],
          "contourcarpet": [
           {
            "colorbar": {
             "outlinewidth": 0,
             "ticks": ""
            },
            "type": "contourcarpet"
           }
          ],
          "heatmap": [
           {
            "colorbar": {
             "outlinewidth": 0,
             "ticks": ""
            },
            "colorscale": [
             [
              0,
              "#0d0887"
             ],
             [
              0.1111111111111111,
              "#46039f"
             ],
             [
              0.2222222222222222,
              "#7201a8"
             ],
             [
              0.3333333333333333,
              "#9c179e"
             ],
             [
              0.4444444444444444,
              "#bd3786"
             ],
             [
              0.5555555555555556,
              "#d8576b"
             ],
             [
              0.6666666666666666,
              "#ed7953"
             ],
             [
              0.7777777777777778,
              "#fb9f3a"
             ],
             [
              0.8888888888888888,
              "#fdca26"
             ],
             [
              1,
              "#f0f921"
             ]
            ],
            "type": "heatmap"
           }
          ],
          "histogram": [
           {
            "marker": {
             "pattern": {
              "fillmode": "overlay",
              "size": 10,
              "solidity": 0.2
             }
            },
            "type": "histogram"
           }
          ],
          "histogram2d": [
           {
            "colorbar": {
             "outlinewidth": 0,
             "ticks": ""
            },
            "colorscale": [
             [
              0,
              "#0d0887"
             ],
             [
              0.1111111111111111,
              "#46039f"
             ],
             [
              0.2222222222222222,
              "#7201a8"
             ],
             [
              0.3333333333333333,
              "#9c179e"
             ],
             [
              0.4444444444444444,
              "#bd3786"
             ],
             [
              0.5555555555555556,
              "#d8576b"
             ],
             [
              0.6666666666666666,
              "#ed7953"
             ],
             [
              0.7777777777777778,
              "#fb9f3a"
             ],
             [
              0.8888888888888888,
              "#fdca26"
             ],
             [
              1,
              "#f0f921"
             ]
            ],
            "type": "histogram2d"
           }
          ],
          "histogram2dcontour": [
           {
            "colorbar": {
             "outlinewidth": 0,
             "ticks": ""
            },
            "colorscale": [
             [
              0,
              "#0d0887"
             ],
             [
              0.1111111111111111,
              "#46039f"
             ],
             [
              0.2222222222222222,
              "#7201a8"
             ],
             [
              0.3333333333333333,
              "#9c179e"
             ],
             [
              0.4444444444444444,
              "#bd3786"
             ],
             [
              0.5555555555555556,
              "#d8576b"
             ],
             [
              0.6666666666666666,
              "#ed7953"
             ],
             [
              0.7777777777777778,
              "#fb9f3a"
             ],
             [
              0.8888888888888888,
              "#fdca26"
             ],
             [
              1,
              "#f0f921"
             ]
            ],
            "type": "histogram2dcontour"
           }
          ],
          "mesh3d": [
           {
            "colorbar": {
             "outlinewidth": 0,
             "ticks": ""
            },
            "type": "mesh3d"
           }
          ],
          "parcoords": [
           {
            "line": {
             "colorbar": {
              "outlinewidth": 0,
              "ticks": ""
             }
            },
            "type": "parcoords"
           }
          ],
          "pie": [
           {
            "automargin": true,
            "type": "pie"
           }
          ],
          "scatter": [
           {
            "fillpattern": {
             "fillmode": "overlay",
             "size": 10,
             "solidity": 0.2
            },
            "type": "scatter"
           }
          ],
          "scatter3d": [
           {
            "line": {
             "colorbar": {
              "outlinewidth": 0,
              "ticks": ""
             }
            },
            "marker": {
             "colorbar": {
              "outlinewidth": 0,
              "ticks": ""
             }
            },
            "type": "scatter3d"
           }
          ],
          "scattercarpet": [
           {
            "marker": {
             "colorbar": {
              "outlinewidth": 0,
              "ticks": ""
             }
            },
            "type": "scattercarpet"
           }
          ],
          "scattergeo": [
           {
            "marker": {
             "colorbar": {
              "outlinewidth": 0,
              "ticks": ""
             }
            },
            "type": "scattergeo"
           }
          ],
          "scattergl": [
           {
            "marker": {
             "colorbar": {
              "outlinewidth": 0,
              "ticks": ""
             }
            },
            "type": "scattergl"
           }
          ],
          "scattermap": [
           {
            "marker": {
             "colorbar": {
              "outlinewidth": 0,
              "ticks": ""
             }
            },
            "type": "scattermap"
           }
          ],
          "scattermapbox": [
           {
            "marker": {
             "colorbar": {
              "outlinewidth": 0,
              "ticks": ""
             }
            },
            "type": "scattermapbox"
           }
          ],
          "scatterpolar": [
           {
            "marker": {
             "colorbar": {
              "outlinewidth": 0,
              "ticks": ""
             }
            },
            "type": "scatterpolar"
           }
          ],
          "scatterpolargl": [
           {
            "marker": {
             "colorbar": {
              "outlinewidth": 0,
              "ticks": ""
             }
            },
            "type": "scatterpolargl"
           }
          ],
          "scatterternary": [
           {
            "marker": {
             "colorbar": {
              "outlinewidth": 0,
              "ticks": ""
             }
            },
            "type": "scatterternary"
           }
          ],
          "surface": [
           {
            "colorbar": {
             "outlinewidth": 0,
             "ticks": ""
            },
            "colorscale": [
             [
              0,
              "#0d0887"
             ],
             [
              0.1111111111111111,
              "#46039f"
             ],
             [
              0.2222222222222222,
              "#7201a8"
             ],
             [
              0.3333333333333333,
              "#9c179e"
             ],
             [
              0.4444444444444444,
              "#bd3786"
             ],
             [
              0.5555555555555556,
              "#d8576b"
             ],
             [
              0.6666666666666666,
              "#ed7953"
             ],
             [
              0.7777777777777778,
              "#fb9f3a"
             ],
             [
              0.8888888888888888,
              "#fdca26"
             ],
             [
              1,
              "#f0f921"
             ]
            ],
            "type": "surface"
           }
          ],
          "table": [
           {
            "cells": {
             "fill": {
              "color": "#EBF0F8"
             },
             "line": {
              "color": "white"
             }
            },
            "header": {
             "fill": {
              "color": "#C8D4E3"
             },
             "line": {
              "color": "white"
             }
            },
            "type": "table"
           }
          ]
         },
         "layout": {
          "annotationdefaults": {
           "arrowcolor": "#2a3f5f",
           "arrowhead": 0,
           "arrowwidth": 1
          },
          "autotypenumbers": "strict",
          "coloraxis": {
           "colorbar": {
            "outlinewidth": 0,
            "ticks": ""
           }
          },
          "colorscale": {
           "diverging": [
            [
             0,
             "#8e0152"
            ],
            [
             0.1,
             "#c51b7d"
            ],
            [
             0.2,
             "#de77ae"
            ],
            [
             0.3,
             "#f1b6da"
            ],
            [
             0.4,
             "#fde0ef"
            ],
            [
             0.5,
             "#f7f7f7"
            ],
            [
             0.6,
             "#e6f5d0"
            ],
            [
             0.7,
             "#b8e186"
            ],
            [
             0.8,
             "#7fbc41"
            ],
            [
             0.9,
             "#4d9221"
            ],
            [
             1,
             "#276419"
            ]
           ],
           "sequential": [
            [
             0,
             "#0d0887"
            ],
            [
             0.1111111111111111,
             "#46039f"
            ],
            [
             0.2222222222222222,
             "#7201a8"
            ],
            [
             0.3333333333333333,
             "#9c179e"
            ],
            [
             0.4444444444444444,
             "#bd3786"
            ],
            [
             0.5555555555555556,
             "#d8576b"
            ],
            [
             0.6666666666666666,
             "#ed7953"
            ],
            [
             0.7777777777777778,
             "#fb9f3a"
            ],
            [
             0.8888888888888888,
             "#fdca26"
            ],
            [
             1,
             "#f0f921"
            ]
           ],
           "sequentialminus": [
            [
             0,
             "#0d0887"
            ],
            [
             0.1111111111111111,
             "#46039f"
            ],
            [
             0.2222222222222222,
             "#7201a8"
            ],
            [
             0.3333333333333333,
             "#9c179e"
            ],
            [
             0.4444444444444444,
             "#bd3786"
            ],
            [
             0.5555555555555556,
             "#d8576b"
            ],
            [
             0.6666666666666666,
             "#ed7953"
            ],
            [
             0.7777777777777778,
             "#fb9f3a"
            ],
            [
             0.8888888888888888,
             "#fdca26"
            ],
            [
             1,
             "#f0f921"
            ]
           ]
          },
          "colorway": [
           "#636efa",
           "#EF553B",
           "#00cc96",
           "#ab63fa",
           "#FFA15A",
           "#19d3f3",
           "#FF6692",
           "#B6E880",
           "#FF97FF",
           "#FECB52"
          ],
          "font": {
           "color": "#2a3f5f"
          },
          "geo": {
           "bgcolor": "white",
           "lakecolor": "white",
           "landcolor": "#E5ECF6",
           "showlakes": true,
           "showland": true,
           "subunitcolor": "white"
          },
          "hoverlabel": {
           "align": "left"
          },
          "hovermode": "closest",
          "mapbox": {
           "style": "light"
          },
          "paper_bgcolor": "white",
          "plot_bgcolor": "#E5ECF6",
          "polar": {
           "angularaxis": {
            "gridcolor": "white",
            "linecolor": "white",
            "ticks": ""
           },
           "bgcolor": "#E5ECF6",
           "radialaxis": {
            "gridcolor": "white",
            "linecolor": "white",
            "ticks": ""
           }
          },
          "scene": {
           "xaxis": {
            "backgroundcolor": "#E5ECF6",
            "gridcolor": "white",
            "gridwidth": 2,
            "linecolor": "white",
            "showbackground": true,
            "ticks": "",
            "zerolinecolor": "white"
           },
           "yaxis": {
            "backgroundcolor": "#E5ECF6",
            "gridcolor": "white",
            "gridwidth": 2,
            "linecolor": "white",
            "showbackground": true,
            "ticks": "",
            "zerolinecolor": "white"
           },
           "zaxis": {
            "backgroundcolor": "#E5ECF6",
            "gridcolor": "white",
            "gridwidth": 2,
            "linecolor": "white",
            "showbackground": true,
            "ticks": "",
            "zerolinecolor": "white"
           }
          },
          "shapedefaults": {
           "line": {
            "color": "#2a3f5f"
           }
          },
          "ternary": {
           "aaxis": {
            "gridcolor": "white",
            "linecolor": "white",
            "ticks": ""
           },
           "baxis": {
            "gridcolor": "white",
            "linecolor": "white",
            "ticks": ""
           },
           "bgcolor": "#E5ECF6",
           "caxis": {
            "gridcolor": "white",
            "linecolor": "white",
            "ticks": ""
           }
          },
          "title": {
           "x": 0.05
          },
          "xaxis": {
           "automargin": true,
           "gridcolor": "white",
           "linecolor": "white",
           "ticks": "",
           "title": {
            "standoff": 15
           },
           "zerolinecolor": "white",
           "zerolinewidth": 2
          },
          "yaxis": {
           "automargin": true,
           "gridcolor": "white",
           "linecolor": "white",
           "ticks": "",
           "title": {
            "standoff": 15
           },
           "zerolinecolor": "white",
           "zerolinewidth": 2
          }
         }
        },
        "title": {
         "text": "Situations dans lesquelles les élèves se sentent écoutés ou en confiance"
        },
        "xaxis": {
         "anchor": "y",
         "domain": [
          0,
          1
         ],
         "title": {
          "text": "Fréquence"
         }
        },
        "yaxis": {
         "anchor": "x",
         "categoryarray": [
          "écoute",
          "respect",
          "aucun",
          "compréhension",
          "confiance",
          "dialogue",
          "communication",
          "discussion",
          "gentillesse",
          "calme"
         ],
         "categoryorder": "total ascending",
         "domain": [
          0,
          1
         ],
         "title": {
          "text": "Mot"
         }
        }
       }
      }
     },
     "metadata": {},
     "output_type": "display_data"
    },
    {
     "data": {
      "application/vnd.plotly.v1+json": {
       "config": {
        "plotlyServerURL": "https://plot.ly"
       },
       "data": [
        {
         "hovertemplate": "Mot=%{y}<br>Fréquence=%{x}<extra></extra>",
         "legendgroup": "vie scolaire",
         "marker": {
          "color": "#636efa",
          "pattern": {
           "shape": ""
          }
         },
         "name": "vie scolaire",
         "orientation": "h",
         "showlegend": true,
         "textposition": "auto",
         "type": "bar",
         "x": {
          "bdata": "Dw==",
          "dtype": "i1"
         },
         "xaxis": "x",
         "y": [
          "vie scolaire"
         ],
         "yaxis": "y"
        },
        {
         "hovertemplate": "Mot=%{y}<br>Fréquence=%{x}<extra></extra>",
         "legendgroup": "cpe",
         "marker": {
          "color": "#EF553B",
          "pattern": {
           "shape": ""
          }
         },
         "name": "cpe",
         "orientation": "h",
         "showlegend": true,
         "textposition": "auto",
         "type": "bar",
         "x": {
          "bdata": "Gw==",
          "dtype": "i1"
         },
         "xaxis": "x",
         "y": [
          "cpe"
         ],
         "yaxis": "y"
        },
        {
         "hovertemplate": "Mot=%{y}<br>Fréquence=%{x}<extra></extra>",
         "legendgroup": "classe",
         "marker": {
          "color": "#00cc96",
          "pattern": {
           "shape": ""
          }
         },
         "name": "classe",
         "orientation": "h",
         "showlegend": true,
         "textposition": "auto",
         "type": "bar",
         "x": {
          "bdata": "Hg==",
          "dtype": "i1"
         },
         "xaxis": "x",
         "y": [
          "classe"
         ],
         "yaxis": "y"
        },
        {
         "hovertemplate": "Mot=%{y}<br>Fréquence=%{x}<extra></extra>",
         "legendgroup": "salle de classe",
         "marker": {
          "color": "#ab63fa",
          "pattern": {
           "shape": ""
          }
         },
         "name": "salle de classe",
         "orientation": "h",
         "showlegend": true,
         "textposition": "auto",
         "type": "bar",
         "x": {
          "bdata": "Tg==",
          "dtype": "i1"
         },
         "xaxis": "x",
         "y": [
          "salle de classe"
         ],
         "yaxis": "y"
        },
        {
         "hovertemplate": "Mot=%{y}<br>Fréquence=%{x}<extra></extra>",
         "legendgroup": "la cour",
         "marker": {
          "color": "#FFA15A",
          "pattern": {
           "shape": ""
          }
         },
         "name": "la cour",
         "orientation": "h",
         "showlegend": true,
         "textposition": "auto",
         "type": "bar",
         "x": {
          "bdata": "Ug==",
          "dtype": "i1"
         },
         "xaxis": "x",
         "y": [
          "la cour"
         ],
         "yaxis": "y"
        },
        {
         "hovertemplate": "Mot=%{y}<br>Fréquence=%{x}<extra></extra>",
         "legendgroup": "aucun",
         "marker": {
          "color": "#19d3f3",
          "pattern": {
           "shape": ""
          }
         },
         "name": "aucun",
         "orientation": "h",
         "showlegend": true,
         "textposition": "auto",
         "type": "bar",
         "x": {
          "bdata": "Yg==",
          "dtype": "i1"
         },
         "xaxis": "x",
         "y": [
          "aucun"
         ],
         "yaxis": "y"
        }
       ],
       "layout": {
        "barmode": "relative",
        "height": 400,
        "legend": {
         "title": {
          "text": "Mot"
         },
         "tracegroupgap": 0
        },
        "showlegend": false,
        "template": {
         "data": {
          "bar": [
           {
            "error_x": {
             "color": "#2a3f5f"
            },
            "error_y": {
             "color": "#2a3f5f"
            },
            "marker": {
             "line": {
              "color": "#E5ECF6",
              "width": 0.5
             },
             "pattern": {
              "fillmode": "overlay",
              "size": 10,
              "solidity": 0.2
             }
            },
            "type": "bar"
           }
          ],
          "barpolar": [
           {
            "marker": {
             "line": {
              "color": "#E5ECF6",
              "width": 0.5
             },
             "pattern": {
              "fillmode": "overlay",
              "size": 10,
              "solidity": 0.2
             }
            },
            "type": "barpolar"
           }
          ],
          "carpet": [
           {
            "aaxis": {
             "endlinecolor": "#2a3f5f",
             "gridcolor": "white",
             "linecolor": "white",
             "minorgridcolor": "white",
             "startlinecolor": "#2a3f5f"
            },
            "baxis": {
             "endlinecolor": "#2a3f5f",
             "gridcolor": "white",
             "linecolor": "white",
             "minorgridcolor": "white",
             "startlinecolor": "#2a3f5f"
            },
            "type": "carpet"
           }
          ],
          "choropleth": [
           {
            "colorbar": {
             "outlinewidth": 0,
             "ticks": ""
            },
            "type": "choropleth"
           }
          ],
          "contour": [
           {
            "colorbar": {
             "outlinewidth": 0,
             "ticks": ""
            },
            "colorscale": [
             [
              0,
              "#0d0887"
             ],
             [
              0.1111111111111111,
              "#46039f"
             ],
             [
              0.2222222222222222,
              "#7201a8"
             ],
             [
              0.3333333333333333,
              "#9c179e"
             ],
             [
              0.4444444444444444,
              "#bd3786"
             ],
             [
              0.5555555555555556,
              "#d8576b"
             ],
             [
              0.6666666666666666,
              "#ed7953"
             ],
             [
              0.7777777777777778,
              "#fb9f3a"
             ],
             [
              0.8888888888888888,
              "#fdca26"
             ],
             [
              1,
              "#f0f921"
             ]
            ],
            "type": "contour"
           }
          ],
          "contourcarpet": [
           {
            "colorbar": {
             "outlinewidth": 0,
             "ticks": ""
            },
            "type": "contourcarpet"
           }
          ],
          "heatmap": [
           {
            "colorbar": {
             "outlinewidth": 0,
             "ticks": ""
            },
            "colorscale": [
             [
              0,
              "#0d0887"
             ],
             [
              0.1111111111111111,
              "#46039f"
             ],
             [
              0.2222222222222222,
              "#7201a8"
             ],
             [
              0.3333333333333333,
              "#9c179e"
             ],
             [
              0.4444444444444444,
              "#bd3786"
             ],
             [
              0.5555555555555556,
              "#d8576b"
             ],
             [
              0.6666666666666666,
              "#ed7953"
             ],
             [
              0.7777777777777778,
              "#fb9f3a"
             ],
             [
              0.8888888888888888,
              "#fdca26"
             ],
             [
              1,
              "#f0f921"
             ]
            ],
            "type": "heatmap"
           }
          ],
          "histogram": [
           {
            "marker": {
             "pattern": {
              "fillmode": "overlay",
              "size": 10,
              "solidity": 0.2
             }
            },
            "type": "histogram"
           }
          ],
          "histogram2d": [
           {
            "colorbar": {
             "outlinewidth": 0,
             "ticks": ""
            },
            "colorscale": [
             [
              0,
              "#0d0887"
             ],
             [
              0.1111111111111111,
              "#46039f"
             ],
             [
              0.2222222222222222,
              "#7201a8"
             ],
             [
              0.3333333333333333,
              "#9c179e"
             ],
             [
              0.4444444444444444,
              "#bd3786"
             ],
             [
              0.5555555555555556,
              "#d8576b"
             ],
             [
              0.6666666666666666,
              "#ed7953"
             ],
             [
              0.7777777777777778,
              "#fb9f3a"
             ],
             [
              0.8888888888888888,
              "#fdca26"
             ],
             [
              1,
              "#f0f921"
             ]
            ],
            "type": "histogram2d"
           }
          ],
          "histogram2dcontour": [
           {
            "colorbar": {
             "outlinewidth": 0,
             "ticks": ""
            },
            "colorscale": [
             [
              0,
              "#0d0887"
             ],
             [
              0.1111111111111111,
              "#46039f"
             ],
             [
              0.2222222222222222,
              "#7201a8"
             ],
             [
              0.3333333333333333,
              "#9c179e"
             ],
             [
              0.4444444444444444,
              "#bd3786"
             ],
             [
              0.5555555555555556,
              "#d8576b"
             ],
             [
              0.6666666666666666,
              "#ed7953"
             ],
             [
              0.7777777777777778,
              "#fb9f3a"
             ],
             [
              0.8888888888888888,
              "#fdca26"
             ],
             [
              1,
              "#f0f921"
             ]
            ],
            "type": "histogram2dcontour"
           }
          ],
          "mesh3d": [
           {
            "colorbar": {
             "outlinewidth": 0,
             "ticks": ""
            },
            "type": "mesh3d"
           }
          ],
          "parcoords": [
           {
            "line": {
             "colorbar": {
              "outlinewidth": 0,
              "ticks": ""
             }
            },
            "type": "parcoords"
           }
          ],
          "pie": [
           {
            "automargin": true,
            "type": "pie"
           }
          ],
          "scatter": [
           {
            "fillpattern": {
             "fillmode": "overlay",
             "size": 10,
             "solidity": 0.2
            },
            "type": "scatter"
           }
          ],
          "scatter3d": [
           {
            "line": {
             "colorbar": {
              "outlinewidth": 0,
              "ticks": ""
             }
            },
            "marker": {
             "colorbar": {
              "outlinewidth": 0,
              "ticks": ""
             }
            },
            "type": "scatter3d"
           }
          ],
          "scattercarpet": [
           {
            "marker": {
             "colorbar": {
              "outlinewidth": 0,
              "ticks": ""
             }
            },
            "type": "scattercarpet"
           }
          ],
          "scattergeo": [
           {
            "marker": {
             "colorbar": {
              "outlinewidth": 0,
              "ticks": ""
             }
            },
            "type": "scattergeo"
           }
          ],
          "scattergl": [
           {
            "marker": {
             "colorbar": {
              "outlinewidth": 0,
              "ticks": ""
             }
            },
            "type": "scattergl"
           }
          ],
          "scattermap": [
           {
            "marker": {
             "colorbar": {
              "outlinewidth": 0,
              "ticks": ""
             }
            },
            "type": "scattermap"
           }
          ],
          "scattermapbox": [
           {
            "marker": {
             "colorbar": {
              "outlinewidth": 0,
              "ticks": ""
             }
            },
            "type": "scattermapbox"
           }
          ],
          "scatterpolar": [
           {
            "marker": {
             "colorbar": {
              "outlinewidth": 0,
              "ticks": ""
             }
            },
            "type": "scatterpolar"
           }
          ],
          "scatterpolargl": [
           {
            "marker": {
             "colorbar": {
              "outlinewidth": 0,
              "ticks": ""
             }
            },
            "type": "scatterpolargl"
           }
          ],
          "scatterternary": [
           {
            "marker": {
             "colorbar": {
              "outlinewidth": 0,
              "ticks": ""
             }
            },
            "type": "scatterternary"
           }
          ],
          "surface": [
           {
            "colorbar": {
             "outlinewidth": 0,
             "ticks": ""
            },
            "colorscale": [
             [
              0,
              "#0d0887"
             ],
             [
              0.1111111111111111,
              "#46039f"
             ],
             [
              0.2222222222222222,
              "#7201a8"
             ],
             [
              0.3333333333333333,
              "#9c179e"
             ],
             [
              0.4444444444444444,
              "#bd3786"
             ],
             [
              0.5555555555555556,
              "#d8576b"
             ],
             [
              0.6666666666666666,
              "#ed7953"
             ],
             [
              0.7777777777777778,
              "#fb9f3a"
             ],
             [
              0.8888888888888888,
              "#fdca26"
             ],
             [
              1,
              "#f0f921"
             ]
            ],
            "type": "surface"
           }
          ],
          "table": [
           {
            "cells": {
             "fill": {
              "color": "#EBF0F8"
             },
             "line": {
              "color": "white"
             }
            },
            "header": {
             "fill": {
              "color": "#C8D4E3"
             },
             "line": {
              "color": "white"
             }
            },
            "type": "table"
           }
          ]
         },
         "layout": {
          "annotationdefaults": {
           "arrowcolor": "#2a3f5f",
           "arrowhead": 0,
           "arrowwidth": 1
          },
          "autotypenumbers": "strict",
          "coloraxis": {
           "colorbar": {
            "outlinewidth": 0,
            "ticks": ""
           }
          },
          "colorscale": {
           "diverging": [
            [
             0,
             "#8e0152"
            ],
            [
             0.1,
             "#c51b7d"
            ],
            [
             0.2,
             "#de77ae"
            ],
            [
             0.3,
             "#f1b6da"
            ],
            [
             0.4,
             "#fde0ef"
            ],
            [
             0.5,
             "#f7f7f7"
            ],
            [
             0.6,
             "#e6f5d0"
            ],
            [
             0.7,
             "#b8e186"
            ],
            [
             0.8,
             "#7fbc41"
            ],
            [
             0.9,
             "#4d9221"
            ],
            [
             1,
             "#276419"
            ]
           ],
           "sequential": [
            [
             0,
             "#0d0887"
            ],
            [
             0.1111111111111111,
             "#46039f"
            ],
            [
             0.2222222222222222,
             "#7201a8"
            ],
            [
             0.3333333333333333,
             "#9c179e"
            ],
            [
             0.4444444444444444,
             "#bd3786"
            ],
            [
             0.5555555555555556,
             "#d8576b"
            ],
            [
             0.6666666666666666,
             "#ed7953"
            ],
            [
             0.7777777777777778,
             "#fb9f3a"
            ],
            [
             0.8888888888888888,
             "#fdca26"
            ],
            [
             1,
             "#f0f921"
            ]
           ],
           "sequentialminus": [
            [
             0,
             "#0d0887"
            ],
            [
             0.1111111111111111,
             "#46039f"
            ],
            [
             0.2222222222222222,
             "#7201a8"
            ],
            [
             0.3333333333333333,
             "#9c179e"
            ],
            [
             0.4444444444444444,
             "#bd3786"
            ],
            [
             0.5555555555555556,
             "#d8576b"
            ],
            [
             0.6666666666666666,
             "#ed7953"
            ],
            [
             0.7777777777777778,
             "#fb9f3a"
            ],
            [
             0.8888888888888888,
             "#fdca26"
            ],
            [
             1,
             "#f0f921"
            ]
           ]
          },
          "colorway": [
           "#636efa",
           "#EF553B",
           "#00cc96",
           "#ab63fa",
           "#FFA15A",
           "#19d3f3",
           "#FF6692",
           "#B6E880",
           "#FF97FF",
           "#FECB52"
          ],
          "font": {
           "color": "#2a3f5f"
          },
          "geo": {
           "bgcolor": "white",
           "lakecolor": "white",
           "landcolor": "#E5ECF6",
           "showlakes": true,
           "showland": true,
           "subunitcolor": "white"
          },
          "hoverlabel": {
           "align": "left"
          },
          "hovermode": "closest",
          "mapbox": {
           "style": "light"
          },
          "paper_bgcolor": "white",
          "plot_bgcolor": "#E5ECF6",
          "polar": {
           "angularaxis": {
            "gridcolor": "white",
            "linecolor": "white",
            "ticks": ""
           },
           "bgcolor": "#E5ECF6",
           "radialaxis": {
            "gridcolor": "white",
            "linecolor": "white",
            "ticks": ""
           }
          },
          "scene": {
           "xaxis": {
            "backgroundcolor": "#E5ECF6",
            "gridcolor": "white",
            "gridwidth": 2,
            "linecolor": "white",
            "showbackground": true,
            "ticks": "",
            "zerolinecolor": "white"
           },
           "yaxis": {
            "backgroundcolor": "#E5ECF6",
            "gridcolor": "white",
            "gridwidth": 2,
            "linecolor": "white",
            "showbackground": true,
            "ticks": "",
            "zerolinecolor": "white"
           },
           "zaxis": {
            "backgroundcolor": "#E5ECF6",
            "gridcolor": "white",
            "gridwidth": 2,
            "linecolor": "white",
            "showbackground": true,
            "ticks": "",
            "zerolinecolor": "white"
           }
          },
          "shapedefaults": {
           "line": {
            "color": "#2a3f5f"
           }
          },
          "ternary": {
           "aaxis": {
            "gridcolor": "white",
            "linecolor": "white",
            "ticks": ""
           },
           "baxis": {
            "gridcolor": "white",
            "linecolor": "white",
            "ticks": ""
           },
           "bgcolor": "#E5ECF6",
           "caxis": {
            "gridcolor": "white",
            "linecolor": "white",
            "ticks": ""
           }
          },
          "title": {
           "x": 0.05
          },
          "xaxis": {
           "automargin": true,
           "gridcolor": "white",
           "linecolor": "white",
           "ticks": "",
           "title": {
            "standoff": 15
           },
           "zerolinecolor": "white",
           "zerolinewidth": 2
          },
          "yaxis": {
           "automargin": true,
           "gridcolor": "white",
           "linecolor": "white",
           "ticks": "",
           "title": {
            "standoff": 15
           },
           "zerolinecolor": "white",
           "zerolinewidth": 2
          }
         }
        },
        "title": {
         "text": "Lieux où les élèves peuvent s’exprimer librement"
        },
        "xaxis": {
         "anchor": "y",
         "domain": [
          0,
          1
         ],
         "title": {
          "text": "Fréquence"
         }
        },
        "yaxis": {
         "anchor": "x",
         "categoryarray": [
          "aucun",
          "la cour",
          "salle de classe",
          "classe",
          "cpe",
          "vie scolaire"
         ],
         "categoryorder": "total ascending",
         "domain": [
          0,
          1
         ],
         "title": {
          "text": "Mot"
         }
        }
       }
      }
     },
     "metadata": {},
     "output_type": "display_data"
    },
    {
     "data": {
      "application/vnd.plotly.v1+json": {
       "config": {
        "plotlyServerURL": "https://plot.ly"
       },
       "data": [
        {
         "hovertemplate": "Mot=%{y}<br>Fréquence=%{x}<extra></extra>",
         "legendgroup": "fin des cours",
         "marker": {
          "color": "#636efa",
          "pattern": {
           "shape": ""
          }
         },
         "name": "fin des cours",
         "orientation": "h",
         "showlegend": true,
         "textposition": "auto",
         "type": "bar",
         "x": {
          "bdata": "Dw==",
          "dtype": "i1"
         },
         "xaxis": "x",
         "y": [
          "fin des cours"
         ],
         "yaxis": "y"
        },
        {
         "hovertemplate": "Mot=%{y}<br>Fréquence=%{x}<extra></extra>",
         "legendgroup": "vacances",
         "marker": {
          "color": "#EF553B",
          "pattern": {
           "shape": ""
          }
         },
         "name": "vacances",
         "orientation": "h",
         "showlegend": true,
         "textposition": "auto",
         "type": "bar",
         "x": {
          "bdata": "EA==",
          "dtype": "i1"
         },
         "xaxis": "x",
         "y": [
          "vacances"
         ],
         "yaxis": "y"
        },
        {
         "hovertemplate": "Mot=%{y}<br>Fréquence=%{x}<extra></extra>",
         "legendgroup": "cantine",
         "marker": {
          "color": "#00cc96",
          "pattern": {
           "shape": ""
          }
         },
         "name": "cantine",
         "orientation": "h",
         "showlegend": true,
         "textposition": "auto",
         "type": "bar",
         "x": {
          "bdata": "IA==",
          "dtype": "i1"
         },
         "xaxis": "x",
         "y": [
          "cantine"
         ],
         "yaxis": "y"
        },
        {
         "hovertemplate": "Mot=%{y}<br>Fréquence=%{x}<extra></extra>",
         "legendgroup": "récréation",
         "marker": {
          "color": "#ab63fa",
          "pattern": {
           "shape": ""
          }
         },
         "name": "récréation",
         "orientation": "h",
         "showlegend": true,
         "textposition": "auto",
         "type": "bar",
         "x": {
          "bdata": "LA==",
          "dtype": "i1"
         },
         "xaxis": "x",
         "y": [
          "récréation"
         ],
         "yaxis": "y"
        },
        {
         "hovertemplate": "Mot=%{y}<br>Fréquence=%{x}<extra></extra>",
         "legendgroup": "amis",
         "marker": {
          "color": "#FFA15A",
          "pattern": {
           "shape": ""
          }
         },
         "name": "amis",
         "orientation": "h",
         "showlegend": true,
         "textposition": "auto",
         "type": "bar",
         "x": {
          "bdata": "Sw==",
          "dtype": "i1"
         },
         "xaxis": "x",
         "y": [
          "amis"
         ],
         "yaxis": "y"
        },
        {
         "hovertemplate": "Mot=%{y}<br>Fréquence=%{x}<extra></extra>",
         "legendgroup": "pause",
         "marker": {
          "color": "#19d3f3",
          "pattern": {
           "shape": ""
          }
         },
         "name": "pause",
         "orientation": "h",
         "showlegend": true,
         "textposition": "auto",
         "type": "bar",
         "x": {
          "bdata": "Tw==",
          "dtype": "i1"
         },
         "xaxis": "x",
         "y": [
          "pause"
         ],
         "yaxis": "y"
        },
        {
         "hovertemplate": "Mot=%{y}<br>Fréquence=%{x}<extra></extra>",
         "legendgroup": "la cour",
         "marker": {
          "color": "#FF6692",
          "pattern": {
           "shape": ""
          }
         },
         "name": "la cour",
         "orientation": "h",
         "showlegend": true,
         "textposition": "auto",
         "type": "bar",
         "x": {
          "bdata": "UQ==",
          "dtype": "i1"
         },
         "xaxis": "x",
         "y": [
          "la cour"
         ],
         "yaxis": "y"
        }
       ],
       "layout": {
        "barmode": "relative",
        "height": 400,
        "legend": {
         "title": {
          "text": "Mot"
         },
         "tracegroupgap": 0
        },
        "showlegend": false,
        "template": {
         "data": {
          "bar": [
           {
            "error_x": {
             "color": "#2a3f5f"
            },
            "error_y": {
             "color": "#2a3f5f"
            },
            "marker": {
             "line": {
              "color": "#E5ECF6",
              "width": 0.5
             },
             "pattern": {
              "fillmode": "overlay",
              "size": 10,
              "solidity": 0.2
             }
            },
            "type": "bar"
           }
          ],
          "barpolar": [
           {
            "marker": {
             "line": {
              "color": "#E5ECF6",
              "width": 0.5
             },
             "pattern": {
              "fillmode": "overlay",
              "size": 10,
              "solidity": 0.2
             }
            },
            "type": "barpolar"
           }
          ],
          "carpet": [
           {
            "aaxis": {
             "endlinecolor": "#2a3f5f",
             "gridcolor": "white",
             "linecolor": "white",
             "minorgridcolor": "white",
             "startlinecolor": "#2a3f5f"
            },
            "baxis": {
             "endlinecolor": "#2a3f5f",
             "gridcolor": "white",
             "linecolor": "white",
             "minorgridcolor": "white",
             "startlinecolor": "#2a3f5f"
            },
            "type": "carpet"
           }
          ],
          "choropleth": [
           {
            "colorbar": {
             "outlinewidth": 0,
             "ticks": ""
            },
            "type": "choropleth"
           }
          ],
          "contour": [
           {
            "colorbar": {
             "outlinewidth": 0,
             "ticks": ""
            },
            "colorscale": [
             [
              0,
              "#0d0887"
             ],
             [
              0.1111111111111111,
              "#46039f"
             ],
             [
              0.2222222222222222,
              "#7201a8"
             ],
             [
              0.3333333333333333,
              "#9c179e"
             ],
             [
              0.4444444444444444,
              "#bd3786"
             ],
             [
              0.5555555555555556,
              "#d8576b"
             ],
             [
              0.6666666666666666,
              "#ed7953"
             ],
             [
              0.7777777777777778,
              "#fb9f3a"
             ],
             [
              0.8888888888888888,
              "#fdca26"
             ],
             [
              1,
              "#f0f921"
             ]
            ],
            "type": "contour"
           }
          ],
          "contourcarpet": [
           {
            "colorbar": {
             "outlinewidth": 0,
             "ticks": ""
            },
            "type": "contourcarpet"
           }
          ],
          "heatmap": [
           {
            "colorbar": {
             "outlinewidth": 0,
             "ticks": ""
            },
            "colorscale": [
             [
              0,
              "#0d0887"
             ],
             [
              0.1111111111111111,
              "#46039f"
             ],
             [
              0.2222222222222222,
              "#7201a8"
             ],
             [
              0.3333333333333333,
              "#9c179e"
             ],
             [
              0.4444444444444444,
              "#bd3786"
             ],
             [
              0.5555555555555556,
              "#d8576b"
             ],
             [
              0.6666666666666666,
              "#ed7953"
             ],
             [
              0.7777777777777778,
              "#fb9f3a"
             ],
             [
              0.8888888888888888,
              "#fdca26"
             ],
             [
              1,
              "#f0f921"
             ]
            ],
            "type": "heatmap"
           }
          ],
          "histogram": [
           {
            "marker": {
             "pattern": {
              "fillmode": "overlay",
              "size": 10,
              "solidity": 0.2
             }
            },
            "type": "histogram"
           }
          ],
          "histogram2d": [
           {
            "colorbar": {
             "outlinewidth": 0,
             "ticks": ""
            },
            "colorscale": [
             [
              0,
              "#0d0887"
             ],
             [
              0.1111111111111111,
              "#46039f"
             ],
             [
              0.2222222222222222,
              "#7201a8"
             ],
             [
              0.3333333333333333,
              "#9c179e"
             ],
             [
              0.4444444444444444,
              "#bd3786"
             ],
             [
              0.5555555555555556,
              "#d8576b"
             ],
             [
              0.6666666666666666,
              "#ed7953"
             ],
             [
              0.7777777777777778,
              "#fb9f3a"
             ],
             [
              0.8888888888888888,
              "#fdca26"
             ],
             [
              1,
              "#f0f921"
             ]
            ],
            "type": "histogram2d"
           }
          ],
          "histogram2dcontour": [
           {
            "colorbar": {
             "outlinewidth": 0,
             "ticks": ""
            },
            "colorscale": [
             [
              0,
              "#0d0887"
             ],
             [
              0.1111111111111111,
              "#46039f"
             ],
             [
              0.2222222222222222,
              "#7201a8"
             ],
             [
              0.3333333333333333,
              "#9c179e"
             ],
             [
              0.4444444444444444,
              "#bd3786"
             ],
             [
              0.5555555555555556,
              "#d8576b"
             ],
             [
              0.6666666666666666,
              "#ed7953"
             ],
             [
              0.7777777777777778,
              "#fb9f3a"
             ],
             [
              0.8888888888888888,
              "#fdca26"
             ],
             [
              1,
              "#f0f921"
             ]
            ],
            "type": "histogram2dcontour"
           }
          ],
          "mesh3d": [
           {
            "colorbar": {
             "outlinewidth": 0,
             "ticks": ""
            },
            "type": "mesh3d"
           }
          ],
          "parcoords": [
           {
            "line": {
             "colorbar": {
              "outlinewidth": 0,
              "ticks": ""
             }
            },
            "type": "parcoords"
           }
          ],
          "pie": [
           {
            "automargin": true,
            "type": "pie"
           }
          ],
          "scatter": [
           {
            "fillpattern": {
             "fillmode": "overlay",
             "size": 10,
             "solidity": 0.2
            },
            "type": "scatter"
           }
          ],
          "scatter3d": [
           {
            "line": {
             "colorbar": {
              "outlinewidth": 0,
              "ticks": ""
             }
            },
            "marker": {
             "colorbar": {
              "outlinewidth": 0,
              "ticks": ""
             }
            },
            "type": "scatter3d"
           }
          ],
          "scattercarpet": [
           {
            "marker": {
             "colorbar": {
              "outlinewidth": 0,
              "ticks": ""
             }
            },
            "type": "scattercarpet"
           }
          ],
          "scattergeo": [
           {
            "marker": {
             "colorbar": {
              "outlinewidth": 0,
              "ticks": ""
             }
            },
            "type": "scattergeo"
           }
          ],
          "scattergl": [
           {
            "marker": {
             "colorbar": {
              "outlinewidth": 0,
              "ticks": ""
             }
            },
            "type": "scattergl"
           }
          ],
          "scattermap": [
           {
            "marker": {
             "colorbar": {
              "outlinewidth": 0,
              "ticks": ""
             }
            },
            "type": "scattermap"
           }
          ],
          "scattermapbox": [
           {
            "marker": {
             "colorbar": {
              "outlinewidth": 0,
              "ticks": ""
             }
            },
            "type": "scattermapbox"
           }
          ],
          "scatterpolar": [
           {
            "marker": {
             "colorbar": {
              "outlinewidth": 0,
              "ticks": ""
             }
            },
            "type": "scatterpolar"
           }
          ],
          "scatterpolargl": [
           {
            "marker": {
             "colorbar": {
              "outlinewidth": 0,
              "ticks": ""
             }
            },
            "type": "scatterpolargl"
           }
          ],
          "scatterternary": [
           {
            "marker": {
             "colorbar": {
              "outlinewidth": 0,
              "ticks": ""
             }
            },
            "type": "scatterternary"
           }
          ],
          "surface": [
           {
            "colorbar": {
             "outlinewidth": 0,
             "ticks": ""
            },
            "colorscale": [
             [
              0,
              "#0d0887"
             ],
             [
              0.1111111111111111,
              "#46039f"
             ],
             [
              0.2222222222222222,
              "#7201a8"
             ],
             [
              0.3333333333333333,
              "#9c179e"
             ],
             [
              0.4444444444444444,
              "#bd3786"
             ],
             [
              0.5555555555555556,
              "#d8576b"
             ],
             [
              0.6666666666666666,
              "#ed7953"
             ],
             [
              0.7777777777777778,
              "#fb9f3a"
             ],
             [
              0.8888888888888888,
              "#fdca26"
             ],
             [
              1,
              "#f0f921"
             ]
            ],
            "type": "surface"
           }
          ],
          "table": [
           {
            "cells": {
             "fill": {
              "color": "#EBF0F8"
             },
             "line": {
              "color": "white"
             }
            },
            "header": {
             "fill": {
              "color": "#C8D4E3"
             },
             "line": {
              "color": "white"
             }
            },
            "type": "table"
           }
          ]
         },
         "layout": {
          "annotationdefaults": {
           "arrowcolor": "#2a3f5f",
           "arrowhead": 0,
           "arrowwidth": 1
          },
          "autotypenumbers": "strict",
          "coloraxis": {
           "colorbar": {
            "outlinewidth": 0,
            "ticks": ""
           }
          },
          "colorscale": {
           "diverging": [
            [
             0,
             "#8e0152"
            ],
            [
             0.1,
             "#c51b7d"
            ],
            [
             0.2,
             "#de77ae"
            ],
            [
             0.3,
             "#f1b6da"
            ],
            [
             0.4,
             "#fde0ef"
            ],
            [
             0.5,
             "#f7f7f7"
            ],
            [
             0.6,
             "#e6f5d0"
            ],
            [
             0.7,
             "#b8e186"
            ],
            [
             0.8,
             "#7fbc41"
            ],
            [
             0.9,
             "#4d9221"
            ],
            [
             1,
             "#276419"
            ]
           ],
           "sequential": [
            [
             0,
             "#0d0887"
            ],
            [
             0.1111111111111111,
             "#46039f"
            ],
            [
             0.2222222222222222,
             "#7201a8"
            ],
            [
             0.3333333333333333,
             "#9c179e"
            ],
            [
             0.4444444444444444,
             "#bd3786"
            ],
            [
             0.5555555555555556,
             "#d8576b"
            ],
            [
             0.6666666666666666,
             "#ed7953"
            ],
            [
             0.7777777777777778,
             "#fb9f3a"
            ],
            [
             0.8888888888888888,
             "#fdca26"
            ],
            [
             1,
             "#f0f921"
            ]
           ],
           "sequentialminus": [
            [
             0,
             "#0d0887"
            ],
            [
             0.1111111111111111,
             "#46039f"
            ],
            [
             0.2222222222222222,
             "#7201a8"
            ],
            [
             0.3333333333333333,
             "#9c179e"
            ],
            [
             0.4444444444444444,
             "#bd3786"
            ],
            [
             0.5555555555555556,
             "#d8576b"
            ],
            [
             0.6666666666666666,
             "#ed7953"
            ],
            [
             0.7777777777777778,
             "#fb9f3a"
            ],
            [
             0.8888888888888888,
             "#fdca26"
            ],
            [
             1,
             "#f0f921"
            ]
           ]
          },
          "colorway": [
           "#636efa",
           "#EF553B",
           "#00cc96",
           "#ab63fa",
           "#FFA15A",
           "#19d3f3",
           "#FF6692",
           "#B6E880",
           "#FF97FF",
           "#FECB52"
          ],
          "font": {
           "color": "#2a3f5f"
          },
          "geo": {
           "bgcolor": "white",
           "lakecolor": "white",
           "landcolor": "#E5ECF6",
           "showlakes": true,
           "showland": true,
           "subunitcolor": "white"
          },
          "hoverlabel": {
           "align": "left"
          },
          "hovermode": "closest",
          "mapbox": {
           "style": "light"
          },
          "paper_bgcolor": "white",
          "plot_bgcolor": "#E5ECF6",
          "polar": {
           "angularaxis": {
            "gridcolor": "white",
            "linecolor": "white",
            "ticks": ""
           },
           "bgcolor": "#E5ECF6",
           "radialaxis": {
            "gridcolor": "white",
            "linecolor": "white",
            "ticks": ""
           }
          },
          "scene": {
           "xaxis": {
            "backgroundcolor": "#E5ECF6",
            "gridcolor": "white",
            "gridwidth": 2,
            "linecolor": "white",
            "showbackground": true,
            "ticks": "",
            "zerolinecolor": "white"
           },
           "yaxis": {
            "backgroundcolor": "#E5ECF6",
            "gridcolor": "white",
            "gridwidth": 2,
            "linecolor": "white",
            "showbackground": true,
            "ticks": "",
            "zerolinecolor": "white"
           },
           "zaxis": {
            "backgroundcolor": "#E5ECF6",
            "gridcolor": "white",
            "gridwidth": 2,
            "linecolor": "white",
            "showbackground": true,
            "ticks": "",
            "zerolinecolor": "white"
           }
          },
          "shapedefaults": {
           "line": {
            "color": "#2a3f5f"
           }
          },
          "ternary": {
           "aaxis": {
            "gridcolor": "white",
            "linecolor": "white",
            "ticks": ""
           },
           "baxis": {
            "gridcolor": "white",
            "linecolor": "white",
            "ticks": ""
           },
           "bgcolor": "#E5ECF6",
           "caxis": {
            "gridcolor": "white",
            "linecolor": "white",
            "ticks": ""
           }
          },
          "title": {
           "x": 0.05
          },
          "xaxis": {
           "automargin": true,
           "gridcolor": "white",
           "linecolor": "white",
           "ticks": "",
           "title": {
            "standoff": 15
           },
           "zerolinecolor": "white",
           "zerolinewidth": 2
          },
          "yaxis": {
           "automargin": true,
           "gridcolor": "white",
           "linecolor": "white",
           "ticks": "",
           "title": {
            "standoff": 15
           },
           "zerolinecolor": "white",
           "zerolinewidth": 2
          }
         }
        },
        "title": {
         "text": "Moments les plus agréables vécus au sein de l’établissement"
        },
        "xaxis": {
         "anchor": "y",
         "domain": [
          0,
          1
         ],
         "title": {
          "text": "Fréquence"
         }
        },
        "yaxis": {
         "anchor": "x",
         "categoryarray": [
          "la cour",
          "pause",
          "amis",
          "récréation",
          "cantine",
          "vacances",
          "fin des cours"
         ],
         "categoryorder": "total ascending",
         "domain": [
          0,
          1
         ],
         "title": {
          "text": "Mot"
         }
        }
       }
      }
     },
     "metadata": {},
     "output_type": "display_data"
    },
    {
     "data": {
      "application/vnd.plotly.v1+json": {
       "config": {
        "plotlyServerURL": "https://plot.ly"
       },
       "data": [
        {
         "hovertemplate": "Mot=%{y}<br>Fréquence=%{x}<extra></extra>",
         "legendgroup": "cantine",
         "marker": {
          "color": "#636efa",
          "pattern": {
           "shape": ""
          }
         },
         "name": "cantine",
         "orientation": "h",
         "showlegend": true,
         "textposition": "auto",
         "type": "bar",
         "x": {
          "bdata": "Dw==",
          "dtype": "i1"
         },
         "xaxis": "x",
         "y": [
          "cantine"
         ],
         "yaxis": "y"
        },
        {
         "hovertemplate": "Mot=%{y}<br>Fréquence=%{x}<extra></extra>",
         "legendgroup": "évaluation",
         "marker": {
          "color": "#EF553B",
          "pattern": {
           "shape": ""
          }
         },
         "name": "évaluation",
         "orientation": "h",
         "showlegend": true,
         "textposition": "auto",
         "type": "bar",
         "x": {
          "bdata": "Og==",
          "dtype": "i1"
         },
         "xaxis": "x",
         "y": [
          "évaluation"
         ],
         "yaxis": "y"
        },
        {
         "hovertemplate": "Mot=%{y}<br>Fréquence=%{x}<extra></extra>",
         "legendgroup": "classe",
         "marker": {
          "color": "#00cc96",
          "pattern": {
           "shape": ""
          }
         },
         "name": "classe",
         "orientation": "h",
         "showlegend": true,
         "textposition": "auto",
         "type": "bar",
         "x": {
          "bdata": "SA==",
          "dtype": "i1"
         },
         "xaxis": "x",
         "y": [
          "classe"
         ],
         "yaxis": "y"
        }
       ],
       "layout": {
        "barmode": "relative",
        "height": 400,
        "legend": {
         "title": {
          "text": "Mot"
         },
         "tracegroupgap": 0
        },
        "showlegend": false,
        "template": {
         "data": {
          "bar": [
           {
            "error_x": {
             "color": "#2a3f5f"
            },
            "error_y": {
             "color": "#2a3f5f"
            },
            "marker": {
             "line": {
              "color": "#E5ECF6",
              "width": 0.5
             },
             "pattern": {
              "fillmode": "overlay",
              "size": 10,
              "solidity": 0.2
             }
            },
            "type": "bar"
           }
          ],
          "barpolar": [
           {
            "marker": {
             "line": {
              "color": "#E5ECF6",
              "width": 0.5
             },
             "pattern": {
              "fillmode": "overlay",
              "size": 10,
              "solidity": 0.2
             }
            },
            "type": "barpolar"
           }
          ],
          "carpet": [
           {
            "aaxis": {
             "endlinecolor": "#2a3f5f",
             "gridcolor": "white",
             "linecolor": "white",
             "minorgridcolor": "white",
             "startlinecolor": "#2a3f5f"
            },
            "baxis": {
             "endlinecolor": "#2a3f5f",
             "gridcolor": "white",
             "linecolor": "white",
             "minorgridcolor": "white",
             "startlinecolor": "#2a3f5f"
            },
            "type": "carpet"
           }
          ],
          "choropleth": [
           {
            "colorbar": {
             "outlinewidth": 0,
             "ticks": ""
            },
            "type": "choropleth"
           }
          ],
          "contour": [
           {
            "colorbar": {
             "outlinewidth": 0,
             "ticks": ""
            },
            "colorscale": [
             [
              0,
              "#0d0887"
             ],
             [
              0.1111111111111111,
              "#46039f"
             ],
             [
              0.2222222222222222,
              "#7201a8"
             ],
             [
              0.3333333333333333,
              "#9c179e"
             ],
             [
              0.4444444444444444,
              "#bd3786"
             ],
             [
              0.5555555555555556,
              "#d8576b"
             ],
             [
              0.6666666666666666,
              "#ed7953"
             ],
             [
              0.7777777777777778,
              "#fb9f3a"
             ],
             [
              0.8888888888888888,
              "#fdca26"
             ],
             [
              1,
              "#f0f921"
             ]
            ],
            "type": "contour"
           }
          ],
          "contourcarpet": [
           {
            "colorbar": {
             "outlinewidth": 0,
             "ticks": ""
            },
            "type": "contourcarpet"
           }
          ],
          "heatmap": [
           {
            "colorbar": {
             "outlinewidth": 0,
             "ticks": ""
            },
            "colorscale": [
             [
              0,
              "#0d0887"
             ],
             [
              0.1111111111111111,
              "#46039f"
             ],
             [
              0.2222222222222222,
              "#7201a8"
             ],
             [
              0.3333333333333333,
              "#9c179e"
             ],
             [
              0.4444444444444444,
              "#bd3786"
             ],
             [
              0.5555555555555556,
              "#d8576b"
             ],
             [
              0.6666666666666666,
              "#ed7953"
             ],
             [
              0.7777777777777778,
              "#fb9f3a"
             ],
             [
              0.8888888888888888,
              "#fdca26"
             ],
             [
              1,
              "#f0f921"
             ]
            ],
            "type": "heatmap"
           }
          ],
          "histogram": [
           {
            "marker": {
             "pattern": {
              "fillmode": "overlay",
              "size": 10,
              "solidity": 0.2
             }
            },
            "type": "histogram"
           }
          ],
          "histogram2d": [
           {
            "colorbar": {
             "outlinewidth": 0,
             "ticks": ""
            },
            "colorscale": [
             [
              0,
              "#0d0887"
             ],
             [
              0.1111111111111111,
              "#46039f"
             ],
             [
              0.2222222222222222,
              "#7201a8"
             ],
             [
              0.3333333333333333,
              "#9c179e"
             ],
             [
              0.4444444444444444,
              "#bd3786"
             ],
             [
              0.5555555555555556,
              "#d8576b"
             ],
             [
              0.6666666666666666,
              "#ed7953"
             ],
             [
              0.7777777777777778,
              "#fb9f3a"
             ],
             [
              0.8888888888888888,
              "#fdca26"
             ],
             [
              1,
              "#f0f921"
             ]
            ],
            "type": "histogram2d"
           }
          ],
          "histogram2dcontour": [
           {
            "colorbar": {
             "outlinewidth": 0,
             "ticks": ""
            },
            "colorscale": [
             [
              0,
              "#0d0887"
             ],
             [
              0.1111111111111111,
              "#46039f"
             ],
             [
              0.2222222222222222,
              "#7201a8"
             ],
             [
              0.3333333333333333,
              "#9c179e"
             ],
             [
              0.4444444444444444,
              "#bd3786"
             ],
             [
              0.5555555555555556,
              "#d8576b"
             ],
             [
              0.6666666666666666,
              "#ed7953"
             ],
             [
              0.7777777777777778,
              "#fb9f3a"
             ],
             [
              0.8888888888888888,
              "#fdca26"
             ],
             [
              1,
              "#f0f921"
             ]
            ],
            "type": "histogram2dcontour"
           }
          ],
          "mesh3d": [
           {
            "colorbar": {
             "outlinewidth": 0,
             "ticks": ""
            },
            "type": "mesh3d"
           }
          ],
          "parcoords": [
           {
            "line": {
             "colorbar": {
              "outlinewidth": 0,
              "ticks": ""
             }
            },
            "type": "parcoords"
           }
          ],
          "pie": [
           {
            "automargin": true,
            "type": "pie"
           }
          ],
          "scatter": [
           {
            "fillpattern": {
             "fillmode": "overlay",
             "size": 10,
             "solidity": 0.2
            },
            "type": "scatter"
           }
          ],
          "scatter3d": [
           {
            "line": {
             "colorbar": {
              "outlinewidth": 0,
              "ticks": ""
             }
            },
            "marker": {
             "colorbar": {
              "outlinewidth": 0,
              "ticks": ""
             }
            },
            "type": "scatter3d"
           }
          ],
          "scattercarpet": [
           {
            "marker": {
             "colorbar": {
              "outlinewidth": 0,
              "ticks": ""
             }
            },
            "type": "scattercarpet"
           }
          ],
          "scattergeo": [
           {
            "marker": {
             "colorbar": {
              "outlinewidth": 0,
              "ticks": ""
             }
            },
            "type": "scattergeo"
           }
          ],
          "scattergl": [
           {
            "marker": {
             "colorbar": {
              "outlinewidth": 0,
              "ticks": ""
             }
            },
            "type": "scattergl"
           }
          ],
          "scattermap": [
           {
            "marker": {
             "colorbar": {
              "outlinewidth": 0,
              "ticks": ""
             }
            },
            "type": "scattermap"
           }
          ],
          "scattermapbox": [
           {
            "marker": {
             "colorbar": {
              "outlinewidth": 0,
              "ticks": ""
             }
            },
            "type": "scattermapbox"
           }
          ],
          "scatterpolar": [
           {
            "marker": {
             "colorbar": {
              "outlinewidth": 0,
              "ticks": ""
             }
            },
            "type": "scatterpolar"
           }
          ],
          "scatterpolargl": [
           {
            "marker": {
             "colorbar": {
              "outlinewidth": 0,
              "ticks": ""
             }
            },
            "type": "scatterpolargl"
           }
          ],
          "scatterternary": [
           {
            "marker": {
             "colorbar": {
              "outlinewidth": 0,
              "ticks": ""
             }
            },
            "type": "scatterternary"
           }
          ],
          "surface": [
           {
            "colorbar": {
             "outlinewidth": 0,
             "ticks": ""
            },
            "colorscale": [
             [
              0,
              "#0d0887"
             ],
             [
              0.1111111111111111,
              "#46039f"
             ],
             [
              0.2222222222222222,
              "#7201a8"
             ],
             [
              0.3333333333333333,
              "#9c179e"
             ],
             [
              0.4444444444444444,
              "#bd3786"
             ],
             [
              0.5555555555555556,
              "#d8576b"
             ],
             [
              0.6666666666666666,
              "#ed7953"
             ],
             [
              0.7777777777777778,
              "#fb9f3a"
             ],
             [
              0.8888888888888888,
              "#fdca26"
             ],
             [
              1,
              "#f0f921"
             ]
            ],
            "type": "surface"
           }
          ],
          "table": [
           {
            "cells": {
             "fill": {
              "color": "#EBF0F8"
             },
             "line": {
              "color": "white"
             }
            },
            "header": {
             "fill": {
              "color": "#C8D4E3"
             },
             "line": {
              "color": "white"
             }
            },
            "type": "table"
           }
          ]
         },
         "layout": {
          "annotationdefaults": {
           "arrowcolor": "#2a3f5f",
           "arrowhead": 0,
           "arrowwidth": 1
          },
          "autotypenumbers": "strict",
          "coloraxis": {
           "colorbar": {
            "outlinewidth": 0,
            "ticks": ""
           }
          },
          "colorscale": {
           "diverging": [
            [
             0,
             "#8e0152"
            ],
            [
             0.1,
             "#c51b7d"
            ],
            [
             0.2,
             "#de77ae"
            ],
            [
             0.3,
             "#f1b6da"
            ],
            [
             0.4,
             "#fde0ef"
            ],
            [
             0.5,
             "#f7f7f7"
            ],
            [
             0.6,
             "#e6f5d0"
            ],
            [
             0.7,
             "#b8e186"
            ],
            [
             0.8,
             "#7fbc41"
            ],
            [
             0.9,
             "#4d9221"
            ],
            [
             1,
             "#276419"
            ]
           ],
           "sequential": [
            [
             0,
             "#0d0887"
            ],
            [
             0.1111111111111111,
             "#46039f"
            ],
            [
             0.2222222222222222,
             "#7201a8"
            ],
            [
             0.3333333333333333,
             "#9c179e"
            ],
            [
             0.4444444444444444,
             "#bd3786"
            ],
            [
             0.5555555555555556,
             "#d8576b"
            ],
            [
             0.6666666666666666,
             "#ed7953"
            ],
            [
             0.7777777777777778,
             "#fb9f3a"
            ],
            [
             0.8888888888888888,
             "#fdca26"
            ],
            [
             1,
             "#f0f921"
            ]
           ],
           "sequentialminus": [
            [
             0,
             "#0d0887"
            ],
            [
             0.1111111111111111,
             "#46039f"
            ],
            [
             0.2222222222222222,
             "#7201a8"
            ],
            [
             0.3333333333333333,
             "#9c179e"
            ],
            [
             0.4444444444444444,
             "#bd3786"
            ],
            [
             0.5555555555555556,
             "#d8576b"
            ],
            [
             0.6666666666666666,
             "#ed7953"
            ],
            [
             0.7777777777777778,
             "#fb9f3a"
            ],
            [
             0.8888888888888888,
             "#fdca26"
            ],
            [
             1,
             "#f0f921"
            ]
           ]
          },
          "colorway": [
           "#636efa",
           "#EF553B",
           "#00cc96",
           "#ab63fa",
           "#FFA15A",
           "#19d3f3",
           "#FF6692",
           "#B6E880",
           "#FF97FF",
           "#FECB52"
          ],
          "font": {
           "color": "#2a3f5f"
          },
          "geo": {
           "bgcolor": "white",
           "lakecolor": "white",
           "landcolor": "#E5ECF6",
           "showlakes": true,
           "showland": true,
           "subunitcolor": "white"
          },
          "hoverlabel": {
           "align": "left"
          },
          "hovermode": "closest",
          "mapbox": {
           "style": "light"
          },
          "paper_bgcolor": "white",
          "plot_bgcolor": "#E5ECF6",
          "polar": {
           "angularaxis": {
            "gridcolor": "white",
            "linecolor": "white",
            "ticks": ""
           },
           "bgcolor": "#E5ECF6",
           "radialaxis": {
            "gridcolor": "white",
            "linecolor": "white",
            "ticks": ""
           }
          },
          "scene": {
           "xaxis": {
            "backgroundcolor": "#E5ECF6",
            "gridcolor": "white",
            "gridwidth": 2,
            "linecolor": "white",
            "showbackground": true,
            "ticks": "",
            "zerolinecolor": "white"
           },
           "yaxis": {
            "backgroundcolor": "#E5ECF6",
            "gridcolor": "white",
            "gridwidth": 2,
            "linecolor": "white",
            "showbackground": true,
            "ticks": "",
            "zerolinecolor": "white"
           },
           "zaxis": {
            "backgroundcolor": "#E5ECF6",
            "gridcolor": "white",
            "gridwidth": 2,
            "linecolor": "white",
            "showbackground": true,
            "ticks": "",
            "zerolinecolor": "white"
           }
          },
          "shapedefaults": {
           "line": {
            "color": "#2a3f5f"
           }
          },
          "ternary": {
           "aaxis": {
            "gridcolor": "white",
            "linecolor": "white",
            "ticks": ""
           },
           "baxis": {
            "gridcolor": "white",
            "linecolor": "white",
            "ticks": ""
           },
           "bgcolor": "#E5ECF6",
           "caxis": {
            "gridcolor": "white",
            "linecolor": "white",
            "ticks": ""
           }
          },
          "title": {
           "x": 0.05
          },
          "xaxis": {
           "automargin": true,
           "gridcolor": "white",
           "linecolor": "white",
           "ticks": "",
           "title": {
            "standoff": 15
           },
           "zerolinecolor": "white",
           "zerolinewidth": 2
          },
          "yaxis": {
           "automargin": true,
           "gridcolor": "white",
           "linecolor": "white",
           "ticks": "",
           "title": {
            "standoff": 15
           },
           "zerolinecolor": "white",
           "zerolinewidth": 2
          }
         }
        },
        "title": {
         "text": "Moments les plus désagréables vécus au sein de l’établissement"
        },
        "xaxis": {
         "anchor": "y",
         "domain": [
          0,
          1
         ],
         "title": {
          "text": "Fréquence"
         }
        },
        "yaxis": {
         "anchor": "x",
         "categoryarray": [
          "classe",
          "évaluation",
          "cantine"
         ],
         "categoryorder": "total ascending",
         "domain": [
          0,
          1
         ],
         "title": {
          "text": "Mot"
         }
        }
       }
      }
     },
     "metadata": {},
     "output_type": "display_data"
    },
    {
     "data": {
      "application/vnd.plotly.v1+json": {
       "config": {
        "plotlyServerURL": "https://plot.ly"
       },
       "data": [
        {
         "hovertemplate": "Mot=%{y}<br>Fréquence=%{x}<extra></extra>",
         "legendgroup": "permanence",
         "marker": {
          "color": "#636efa",
          "pattern": {
           "shape": ""
          }
         },
         "name": "permanence",
         "orientation": "h",
         "showlegend": true,
         "textposition": "auto",
         "type": "bar",
         "x": {
          "bdata": "IA==",
          "dtype": "i1"
         },
         "xaxis": "x",
         "y": [
          "permanence"
         ],
         "yaxis": "y"
        },
        {
         "hovertemplate": "Mot=%{y}<br>Fréquence=%{x}<extra></extra>",
         "legendgroup": "foyer",
         "marker": {
          "color": "#EF553B",
          "pattern": {
           "shape": ""
          }
         },
         "name": "foyer",
         "orientation": "h",
         "showlegend": true,
         "textposition": "auto",
         "type": "bar",
         "x": {
          "bdata": "JA==",
          "dtype": "i1"
         },
         "xaxis": "x",
         "y": [
          "foyer"
         ],
         "yaxis": "y"
        },
        {
         "hovertemplate": "Mot=%{y}<br>Fréquence=%{x}<extra></extra>",
         "legendgroup": "médiathèque",
         "marker": {
          "color": "#00cc96",
          "pattern": {
           "shape": ""
          }
         },
         "name": "médiathèque",
         "orientation": "h",
         "showlegend": true,
         "textposition": "auto",
         "type": "bar",
         "x": {
          "bdata": "KQ==",
          "dtype": "i1"
         },
         "xaxis": "x",
         "y": [
          "médiathèque"
         ],
         "yaxis": "y"
        },
        {
         "hovertemplate": "Mot=%{y}<br>Fréquence=%{x}<extra></extra>",
         "legendgroup": "cantine",
         "marker": {
          "color": "#ab63fa",
          "pattern": {
           "shape": ""
          }
         },
         "name": "cantine",
         "orientation": "h",
         "showlegend": true,
         "textposition": "auto",
         "type": "bar",
         "x": {
          "bdata": "Ow==",
          "dtype": "i1"
         },
         "xaxis": "x",
         "y": [
          "cantine"
         ],
         "yaxis": "y"
        },
        {
         "hovertemplate": "Mot=%{y}<br>Fréquence=%{x}<extra></extra>",
         "legendgroup": "classe",
         "marker": {
          "color": "#FFA15A",
          "pattern": {
           "shape": ""
          }
         },
         "name": "classe",
         "orientation": "h",
         "showlegend": true,
         "textposition": "auto",
         "type": "bar",
         "x": {
          "bdata": "RQ==",
          "dtype": "i1"
         },
         "xaxis": "x",
         "y": [
          "classe"
         ],
         "yaxis": "y"
        },
        {
         "hovertemplate": "Mot=%{y}<br>Fréquence=%{x}<extra></extra>",
         "legendgroup": "terrain",
         "marker": {
          "color": "#19d3f3",
          "pattern": {
           "shape": ""
          }
         },
         "name": "terrain",
         "orientation": "h",
         "showlegend": true,
         "textposition": "auto",
         "type": "bar",
         "x": {
          "bdata": "RQ==",
          "dtype": "i1"
         },
         "xaxis": "x",
         "y": [
          "terrain"
         ],
         "yaxis": "y"
        },
        {
         "hovertemplate": "Mot=%{y}<br>Fréquence=%{x}<extra></extra>",
         "legendgroup": "salle de classe",
         "marker": {
          "color": "#FF6692",
          "pattern": {
           "shape": ""
          }
         },
         "name": "salle de classe",
         "orientation": "h",
         "showlegend": true,
         "textposition": "auto",
         "type": "bar",
         "x": {
          "bdata": "Tg==",
          "dtype": "i1"
         },
         "xaxis": "x",
         "y": [
          "salle de classe"
         ],
         "yaxis": "y"
        },
        {
         "hovertemplate": "Mot=%{y}<br>Fréquence=%{x}<extra></extra>",
         "legendgroup": "ccc",
         "marker": {
          "color": "#B6E880",
          "pattern": {
           "shape": ""
          }
         },
         "name": "ccc",
         "orientation": "h",
         "showlegend": true,
         "textposition": "auto",
         "type": "bar",
         "x": {
          "bdata": "fA==",
          "dtype": "i1"
         },
         "xaxis": "x",
         "y": [
          "ccc"
         ],
         "yaxis": "y"
        },
        {
         "hovertemplate": "Mot=%{y}<br>Fréquence=%{x}<extra></extra>",
         "legendgroup": "la cour",
         "marker": {
          "color": "#FF97FF",
          "pattern": {
           "shape": ""
          }
         },
         "name": "la cour",
         "orientation": "h",
         "showlegend": true,
         "textposition": "auto",
         "type": "bar",
         "x": {
          "bdata": "mQA=",
          "dtype": "i2"
         },
         "xaxis": "x",
         "y": [
          "la cour"
         ],
         "yaxis": "y"
        }
       ],
       "layout": {
        "barmode": "relative",
        "height": 400,
        "legend": {
         "title": {
          "text": "Mot"
         },
         "tracegroupgap": 0
        },
        "showlegend": false,
        "template": {
         "data": {
          "bar": [
           {
            "error_x": {
             "color": "#2a3f5f"
            },
            "error_y": {
             "color": "#2a3f5f"
            },
            "marker": {
             "line": {
              "color": "#E5ECF6",
              "width": 0.5
             },
             "pattern": {
              "fillmode": "overlay",
              "size": 10,
              "solidity": 0.2
             }
            },
            "type": "bar"
           }
          ],
          "barpolar": [
           {
            "marker": {
             "line": {
              "color": "#E5ECF6",
              "width": 0.5
             },
             "pattern": {
              "fillmode": "overlay",
              "size": 10,
              "solidity": 0.2
             }
            },
            "type": "barpolar"
           }
          ],
          "carpet": [
           {
            "aaxis": {
             "endlinecolor": "#2a3f5f",
             "gridcolor": "white",
             "linecolor": "white",
             "minorgridcolor": "white",
             "startlinecolor": "#2a3f5f"
            },
            "baxis": {
             "endlinecolor": "#2a3f5f",
             "gridcolor": "white",
             "linecolor": "white",
             "minorgridcolor": "white",
             "startlinecolor": "#2a3f5f"
            },
            "type": "carpet"
           }
          ],
          "choropleth": [
           {
            "colorbar": {
             "outlinewidth": 0,
             "ticks": ""
            },
            "type": "choropleth"
           }
          ],
          "contour": [
           {
            "colorbar": {
             "outlinewidth": 0,
             "ticks": ""
            },
            "colorscale": [
             [
              0,
              "#0d0887"
             ],
             [
              0.1111111111111111,
              "#46039f"
             ],
             [
              0.2222222222222222,
              "#7201a8"
             ],
             [
              0.3333333333333333,
              "#9c179e"
             ],
             [
              0.4444444444444444,
              "#bd3786"
             ],
             [
              0.5555555555555556,
              "#d8576b"
             ],
             [
              0.6666666666666666,
              "#ed7953"
             ],
             [
              0.7777777777777778,
              "#fb9f3a"
             ],
             [
              0.8888888888888888,
              "#fdca26"
             ],
             [
              1,
              "#f0f921"
             ]
            ],
            "type": "contour"
           }
          ],
          "contourcarpet": [
           {
            "colorbar": {
             "outlinewidth": 0,
             "ticks": ""
            },
            "type": "contourcarpet"
           }
          ],
          "heatmap": [
           {
            "colorbar": {
             "outlinewidth": 0,
             "ticks": ""
            },
            "colorscale": [
             [
              0,
              "#0d0887"
             ],
             [
              0.1111111111111111,
              "#46039f"
             ],
             [
              0.2222222222222222,
              "#7201a8"
             ],
             [
              0.3333333333333333,
              "#9c179e"
             ],
             [
              0.4444444444444444,
              "#bd3786"
             ],
             [
              0.5555555555555556,
              "#d8576b"
             ],
             [
              0.6666666666666666,
              "#ed7953"
             ],
             [
              0.7777777777777778,
              "#fb9f3a"
             ],
             [
              0.8888888888888888,
              "#fdca26"
             ],
             [
              1,
              "#f0f921"
             ]
            ],
            "type": "heatmap"
           }
          ],
          "histogram": [
           {
            "marker": {
             "pattern": {
              "fillmode": "overlay",
              "size": 10,
              "solidity": 0.2
             }
            },
            "type": "histogram"
           }
          ],
          "histogram2d": [
           {
            "colorbar": {
             "outlinewidth": 0,
             "ticks": ""
            },
            "colorscale": [
             [
              0,
              "#0d0887"
             ],
             [
              0.1111111111111111,
              "#46039f"
             ],
             [
              0.2222222222222222,
              "#7201a8"
             ],
             [
              0.3333333333333333,
              "#9c179e"
             ],
             [
              0.4444444444444444,
              "#bd3786"
             ],
             [
              0.5555555555555556,
              "#d8576b"
             ],
             [
              0.6666666666666666,
              "#ed7953"
             ],
             [
              0.7777777777777778,
              "#fb9f3a"
             ],
             [
              0.8888888888888888,
              "#fdca26"
             ],
             [
              1,
              "#f0f921"
             ]
            ],
            "type": "histogram2d"
           }
          ],
          "histogram2dcontour": [
           {
            "colorbar": {
             "outlinewidth": 0,
             "ticks": ""
            },
            "colorscale": [
             [
              0,
              "#0d0887"
             ],
             [
              0.1111111111111111,
              "#46039f"
             ],
             [
              0.2222222222222222,
              "#7201a8"
             ],
             [
              0.3333333333333333,
              "#9c179e"
             ],
             [
              0.4444444444444444,
              "#bd3786"
             ],
             [
              0.5555555555555556,
              "#d8576b"
             ],
             [
              0.6666666666666666,
              "#ed7953"
             ],
             [
              0.7777777777777778,
              "#fb9f3a"
             ],
             [
              0.8888888888888888,
              "#fdca26"
             ],
             [
              1,
              "#f0f921"
             ]
            ],
            "type": "histogram2dcontour"
           }
          ],
          "mesh3d": [
           {
            "colorbar": {
             "outlinewidth": 0,
             "ticks": ""
            },
            "type": "mesh3d"
           }
          ],
          "parcoords": [
           {
            "line": {
             "colorbar": {
              "outlinewidth": 0,
              "ticks": ""
             }
            },
            "type": "parcoords"
           }
          ],
          "pie": [
           {
            "automargin": true,
            "type": "pie"
           }
          ],
          "scatter": [
           {
            "fillpattern": {
             "fillmode": "overlay",
             "size": 10,
             "solidity": 0.2
            },
            "type": "scatter"
           }
          ],
          "scatter3d": [
           {
            "line": {
             "colorbar": {
              "outlinewidth": 0,
              "ticks": ""
             }
            },
            "marker": {
             "colorbar": {
              "outlinewidth": 0,
              "ticks": ""
             }
            },
            "type": "scatter3d"
           }
          ],
          "scattercarpet": [
           {
            "marker": {
             "colorbar": {
              "outlinewidth": 0,
              "ticks": ""
             }
            },
            "type": "scattercarpet"
           }
          ],
          "scattergeo": [
           {
            "marker": {
             "colorbar": {
              "outlinewidth": 0,
              "ticks": ""
             }
            },
            "type": "scattergeo"
           }
          ],
          "scattergl": [
           {
            "marker": {
             "colorbar": {
              "outlinewidth": 0,
              "ticks": ""
             }
            },
            "type": "scattergl"
           }
          ],
          "scattermap": [
           {
            "marker": {
             "colorbar": {
              "outlinewidth": 0,
              "ticks": ""
             }
            },
            "type": "scattermap"
           }
          ],
          "scattermapbox": [
           {
            "marker": {
             "colorbar": {
              "outlinewidth": 0,
              "ticks": ""
             }
            },
            "type": "scattermapbox"
           }
          ],
          "scatterpolar": [
           {
            "marker": {
             "colorbar": {
              "outlinewidth": 0,
              "ticks": ""
             }
            },
            "type": "scatterpolar"
           }
          ],
          "scatterpolargl": [
           {
            "marker": {
             "colorbar": {
              "outlinewidth": 0,
              "ticks": ""
             }
            },
            "type": "scatterpolargl"
           }
          ],
          "scatterternary": [
           {
            "marker": {
             "colorbar": {
              "outlinewidth": 0,
              "ticks": ""
             }
            },
            "type": "scatterternary"
           }
          ],
          "surface": [
           {
            "colorbar": {
             "outlinewidth": 0,
             "ticks": ""
            },
            "colorscale": [
             [
              0,
              "#0d0887"
             ],
             [
              0.1111111111111111,
              "#46039f"
             ],
             [
              0.2222222222222222,
              "#7201a8"
             ],
             [
              0.3333333333333333,
              "#9c179e"
             ],
             [
              0.4444444444444444,
              "#bd3786"
             ],
             [
              0.5555555555555556,
              "#d8576b"
             ],
             [
              0.6666666666666666,
              "#ed7953"
             ],
             [
              0.7777777777777778,
              "#fb9f3a"
             ],
             [
              0.8888888888888888,
              "#fdca26"
             ],
             [
              1,
              "#f0f921"
             ]
            ],
            "type": "surface"
           }
          ],
          "table": [
           {
            "cells": {
             "fill": {
              "color": "#EBF0F8"
             },
             "line": {
              "color": "white"
             }
            },
            "header": {
             "fill": {
              "color": "#C8D4E3"
             },
             "line": {
              "color": "white"
             }
            },
            "type": "table"
           }
          ]
         },
         "layout": {
          "annotationdefaults": {
           "arrowcolor": "#2a3f5f",
           "arrowhead": 0,
           "arrowwidth": 1
          },
          "autotypenumbers": "strict",
          "coloraxis": {
           "colorbar": {
            "outlinewidth": 0,
            "ticks": ""
           }
          },
          "colorscale": {
           "diverging": [
            [
             0,
             "#8e0152"
            ],
            [
             0.1,
             "#c51b7d"
            ],
            [
             0.2,
             "#de77ae"
            ],
            [
             0.3,
             "#f1b6da"
            ],
            [
             0.4,
             "#fde0ef"
            ],
            [
             0.5,
             "#f7f7f7"
            ],
            [
             0.6,
             "#e6f5d0"
            ],
            [
             0.7,
             "#b8e186"
            ],
            [
             0.8,
             "#7fbc41"
            ],
            [
             0.9,
             "#4d9221"
            ],
            [
             1,
             "#276419"
            ]
           ],
           "sequential": [
            [
             0,
             "#0d0887"
            ],
            [
             0.1111111111111111,
             "#46039f"
            ],
            [
             0.2222222222222222,
             "#7201a8"
            ],
            [
             0.3333333333333333,
             "#9c179e"
            ],
            [
             0.4444444444444444,
             "#bd3786"
            ],
            [
             0.5555555555555556,
             "#d8576b"
            ],
            [
             0.6666666666666666,
             "#ed7953"
            ],
            [
             0.7777777777777778,
             "#fb9f3a"
            ],
            [
             0.8888888888888888,
             "#fdca26"
            ],
            [
             1,
             "#f0f921"
            ]
           ],
           "sequentialminus": [
            [
             0,
             "#0d0887"
            ],
            [
             0.1111111111111111,
             "#46039f"
            ],
            [
             0.2222222222222222,
             "#7201a8"
            ],
            [
             0.3333333333333333,
             "#9c179e"
            ],
            [
             0.4444444444444444,
             "#bd3786"
            ],
            [
             0.5555555555555556,
             "#d8576b"
            ],
            [
             0.6666666666666666,
             "#ed7953"
            ],
            [
             0.7777777777777778,
             "#fb9f3a"
            ],
            [
             0.8888888888888888,
             "#fdca26"
            ],
            [
             1,
             "#f0f921"
            ]
           ]
          },
          "colorway": [
           "#636efa",
           "#EF553B",
           "#00cc96",
           "#ab63fa",
           "#FFA15A",
           "#19d3f3",
           "#FF6692",
           "#B6E880",
           "#FF97FF",
           "#FECB52"
          ],
          "font": {
           "color": "#2a3f5f"
          },
          "geo": {
           "bgcolor": "white",
           "lakecolor": "white",
           "landcolor": "#E5ECF6",
           "showlakes": true,
           "showland": true,
           "subunitcolor": "white"
          },
          "hoverlabel": {
           "align": "left"
          },
          "hovermode": "closest",
          "mapbox": {
           "style": "light"
          },
          "paper_bgcolor": "white",
          "plot_bgcolor": "#E5ECF6",
          "polar": {
           "angularaxis": {
            "gridcolor": "white",
            "linecolor": "white",
            "ticks": ""
           },
           "bgcolor": "#E5ECF6",
           "radialaxis": {
            "gridcolor": "white",
            "linecolor": "white",
            "ticks": ""
           }
          },
          "scene": {
           "xaxis": {
            "backgroundcolor": "#E5ECF6",
            "gridcolor": "white",
            "gridwidth": 2,
            "linecolor": "white",
            "showbackground": true,
            "ticks": "",
            "zerolinecolor": "white"
           },
           "yaxis": {
            "backgroundcolor": "#E5ECF6",
            "gridcolor": "white",
            "gridwidth": 2,
            "linecolor": "white",
            "showbackground": true,
            "ticks": "",
            "zerolinecolor": "white"
           },
           "zaxis": {
            "backgroundcolor": "#E5ECF6",
            "gridcolor": "white",
            "gridwidth": 2,
            "linecolor": "white",
            "showbackground": true,
            "ticks": "",
            "zerolinecolor": "white"
           }
          },
          "shapedefaults": {
           "line": {
            "color": "#2a3f5f"
           }
          },
          "ternary": {
           "aaxis": {
            "gridcolor": "white",
            "linecolor": "white",
            "ticks": ""
           },
           "baxis": {
            "gridcolor": "white",
            "linecolor": "white",
            "ticks": ""
           },
           "bgcolor": "#E5ECF6",
           "caxis": {
            "gridcolor": "white",
            "linecolor": "white",
            "ticks": ""
           }
          },
          "title": {
           "x": 0.05
          },
          "xaxis": {
           "automargin": true,
           "gridcolor": "white",
           "linecolor": "white",
           "ticks": "",
           "title": {
            "standoff": 15
           },
           "zerolinecolor": "white",
           "zerolinewidth": 2
          },
          "yaxis": {
           "automargin": true,
           "gridcolor": "white",
           "linecolor": "white",
           "ticks": "",
           "title": {
            "standoff": 15
           },
           "zerolinecolor": "white",
           "zerolinewidth": 2
          }
         }
        },
        "title": {
         "text": "Lieux perçus comme agréables dans l’établissement"
        },
        "xaxis": {
         "anchor": "y",
         "domain": [
          0,
          1
         ],
         "title": {
          "text": "Fréquence"
         }
        },
        "yaxis": {
         "anchor": "x",
         "categoryarray": [
          "la cour",
          "ccc",
          "salle de classe",
          "terrain",
          "classe",
          "cantine",
          "médiathèque",
          "foyer",
          "permanence"
         ],
         "categoryorder": "total ascending",
         "domain": [
          0,
          1
         ],
         "title": {
          "text": "Mot"
         }
        }
       }
      }
     },
     "metadata": {},
     "output_type": "display_data"
    },
    {
     "data": {
      "application/vnd.plotly.v1+json": {
       "config": {
        "plotlyServerURL": "https://plot.ly"
       },
       "data": [
        {
         "hovertemplate": "Mot=%{y}<br>Fréquence=%{x}<extra></extra>",
         "legendgroup": "la cour",
         "marker": {
          "color": "#636efa",
          "pattern": {
           "shape": ""
          }
         },
         "name": "la cour",
         "orientation": "h",
         "showlegend": true,
         "textposition": "auto",
         "type": "bar",
         "x": {
          "bdata": "Ew==",
          "dtype": "i1"
         },
         "xaxis": "x",
         "y": [
          "la cour"
         ],
         "yaxis": "y"
        },
        {
         "hovertemplate": "Mot=%{y}<br>Fréquence=%{x}<extra></extra>",
         "legendgroup": "toilettes",
         "marker": {
          "color": "#EF553B",
          "pattern": {
           "shape": ""
          }
         },
         "name": "toilettes",
         "orientation": "h",
         "showlegend": true,
         "textposition": "auto",
         "type": "bar",
         "x": {
          "bdata": "Fw==",
          "dtype": "i1"
         },
         "xaxis": "x",
         "y": [
          "toilettes"
         ],
         "yaxis": "y"
        },
        {
         "hovertemplate": "Mot=%{y}<br>Fréquence=%{x}<extra></extra>",
         "legendgroup": "cantine",
         "marker": {
          "color": "#00cc96",
          "pattern": {
           "shape": ""
          }
         },
         "name": "cantine",
         "orientation": "h",
         "showlegend": true,
         "textposition": "auto",
         "type": "bar",
         "x": {
          "bdata": "Gg==",
          "dtype": "i1"
         },
         "xaxis": "x",
         "y": [
          "cantine"
         ],
         "yaxis": "y"
        },
        {
         "hovertemplate": "Mot=%{y}<br>Fréquence=%{x}<extra></extra>",
         "legendgroup": "classe",
         "marker": {
          "color": "#ab63fa",
          "pattern": {
           "shape": ""
          }
         },
         "name": "classe",
         "orientation": "h",
         "showlegend": true,
         "textposition": "auto",
         "type": "bar",
         "x": {
          "bdata": "Ig==",
          "dtype": "i1"
         },
         "xaxis": "x",
         "y": [
          "classe"
         ],
         "yaxis": "y"
        },
        {
         "hovertemplate": "Mot=%{y}<br>Fréquence=%{x}<extra></extra>",
         "legendgroup": "permanence",
         "marker": {
          "color": "#FFA15A",
          "pattern": {
           "shape": ""
          }
         },
         "name": "permanence",
         "orientation": "h",
         "showlegend": true,
         "textposition": "auto",
         "type": "bar",
         "x": {
          "bdata": "Sg==",
          "dtype": "i1"
         },
         "xaxis": "x",
         "y": [
          "permanence"
         ],
         "yaxis": "y"
        },
        {
         "hovertemplate": "Mot=%{y}<br>Fréquence=%{x}<extra></extra>",
         "legendgroup": "salle de classe",
         "marker": {
          "color": "#19d3f3",
          "pattern": {
           "shape": ""
          }
         },
         "name": "salle de classe",
         "orientation": "h",
         "showlegend": true,
         "textposition": "auto",
         "type": "bar",
         "x": {
          "bdata": "qwA=",
          "dtype": "i2"
         },
         "xaxis": "x",
         "y": [
          "salle de classe"
         ],
         "yaxis": "y"
        }
       ],
       "layout": {
        "barmode": "relative",
        "height": 400,
        "legend": {
         "title": {
          "text": "Mot"
         },
         "tracegroupgap": 0
        },
        "showlegend": false,
        "template": {
         "data": {
          "bar": [
           {
            "error_x": {
             "color": "#2a3f5f"
            },
            "error_y": {
             "color": "#2a3f5f"
            },
            "marker": {
             "line": {
              "color": "#E5ECF6",
              "width": 0.5
             },
             "pattern": {
              "fillmode": "overlay",
              "size": 10,
              "solidity": 0.2
             }
            },
            "type": "bar"
           }
          ],
          "barpolar": [
           {
            "marker": {
             "line": {
              "color": "#E5ECF6",
              "width": 0.5
             },
             "pattern": {
              "fillmode": "overlay",
              "size": 10,
              "solidity": 0.2
             }
            },
            "type": "barpolar"
           }
          ],
          "carpet": [
           {
            "aaxis": {
             "endlinecolor": "#2a3f5f",
             "gridcolor": "white",
             "linecolor": "white",
             "minorgridcolor": "white",
             "startlinecolor": "#2a3f5f"
            },
            "baxis": {
             "endlinecolor": "#2a3f5f",
             "gridcolor": "white",
             "linecolor": "white",
             "minorgridcolor": "white",
             "startlinecolor": "#2a3f5f"
            },
            "type": "carpet"
           }
          ],
          "choropleth": [
           {
            "colorbar": {
             "outlinewidth": 0,
             "ticks": ""
            },
            "type": "choropleth"
           }
          ],
          "contour": [
           {
            "colorbar": {
             "outlinewidth": 0,
             "ticks": ""
            },
            "colorscale": [
             [
              0,
              "#0d0887"
             ],
             [
              0.1111111111111111,
              "#46039f"
             ],
             [
              0.2222222222222222,
              "#7201a8"
             ],
             [
              0.3333333333333333,
              "#9c179e"
             ],
             [
              0.4444444444444444,
              "#bd3786"
             ],
             [
              0.5555555555555556,
              "#d8576b"
             ],
             [
              0.6666666666666666,
              "#ed7953"
             ],
             [
              0.7777777777777778,
              "#fb9f3a"
             ],
             [
              0.8888888888888888,
              "#fdca26"
             ],
             [
              1,
              "#f0f921"
             ]
            ],
            "type": "contour"
           }
          ],
          "contourcarpet": [
           {
            "colorbar": {
             "outlinewidth": 0,
             "ticks": ""
            },
            "type": "contourcarpet"
           }
          ],
          "heatmap": [
           {
            "colorbar": {
             "outlinewidth": 0,
             "ticks": ""
            },
            "colorscale": [
             [
              0,
              "#0d0887"
             ],
             [
              0.1111111111111111,
              "#46039f"
             ],
             [
              0.2222222222222222,
              "#7201a8"
             ],
             [
              0.3333333333333333,
              "#9c179e"
             ],
             [
              0.4444444444444444,
              "#bd3786"
             ],
             [
              0.5555555555555556,
              "#d8576b"
             ],
             [
              0.6666666666666666,
              "#ed7953"
             ],
             [
              0.7777777777777778,
              "#fb9f3a"
             ],
             [
              0.8888888888888888,
              "#fdca26"
             ],
             [
              1,
              "#f0f921"
             ]
            ],
            "type": "heatmap"
           }
          ],
          "histogram": [
           {
            "marker": {
             "pattern": {
              "fillmode": "overlay",
              "size": 10,
              "solidity": 0.2
             }
            },
            "type": "histogram"
           }
          ],
          "histogram2d": [
           {
            "colorbar": {
             "outlinewidth": 0,
             "ticks": ""
            },
            "colorscale": [
             [
              0,
              "#0d0887"
             ],
             [
              0.1111111111111111,
              "#46039f"
             ],
             [
              0.2222222222222222,
              "#7201a8"
             ],
             [
              0.3333333333333333,
              "#9c179e"
             ],
             [
              0.4444444444444444,
              "#bd3786"
             ],
             [
              0.5555555555555556,
              "#d8576b"
             ],
             [
              0.6666666666666666,
              "#ed7953"
             ],
             [
              0.7777777777777778,
              "#fb9f3a"
             ],
             [
              0.8888888888888888,
              "#fdca26"
             ],
             [
              1,
              "#f0f921"
             ]
            ],
            "type": "histogram2d"
           }
          ],
          "histogram2dcontour": [
           {
            "colorbar": {
             "outlinewidth": 0,
             "ticks": ""
            },
            "colorscale": [
             [
              0,
              "#0d0887"
             ],
             [
              0.1111111111111111,
              "#46039f"
             ],
             [
              0.2222222222222222,
              "#7201a8"
             ],
             [
              0.3333333333333333,
              "#9c179e"
             ],
             [
              0.4444444444444444,
              "#bd3786"
             ],
             [
              0.5555555555555556,
              "#d8576b"
             ],
             [
              0.6666666666666666,
              "#ed7953"
             ],
             [
              0.7777777777777778,
              "#fb9f3a"
             ],
             [
              0.8888888888888888,
              "#fdca26"
             ],
             [
              1,
              "#f0f921"
             ]
            ],
            "type": "histogram2dcontour"
           }
          ],
          "mesh3d": [
           {
            "colorbar": {
             "outlinewidth": 0,
             "ticks": ""
            },
            "type": "mesh3d"
           }
          ],
          "parcoords": [
           {
            "line": {
             "colorbar": {
              "outlinewidth": 0,
              "ticks": ""
             }
            },
            "type": "parcoords"
           }
          ],
          "pie": [
           {
            "automargin": true,
            "type": "pie"
           }
          ],
          "scatter": [
           {
            "fillpattern": {
             "fillmode": "overlay",
             "size": 10,
             "solidity": 0.2
            },
            "type": "scatter"
           }
          ],
          "scatter3d": [
           {
            "line": {
             "colorbar": {
              "outlinewidth": 0,
              "ticks": ""
             }
            },
            "marker": {
             "colorbar": {
              "outlinewidth": 0,
              "ticks": ""
             }
            },
            "type": "scatter3d"
           }
          ],
          "scattercarpet": [
           {
            "marker": {
             "colorbar": {
              "outlinewidth": 0,
              "ticks": ""
             }
            },
            "type": "scattercarpet"
           }
          ],
          "scattergeo": [
           {
            "marker": {
             "colorbar": {
              "outlinewidth": 0,
              "ticks": ""
             }
            },
            "type": "scattergeo"
           }
          ],
          "scattergl": [
           {
            "marker": {
             "colorbar": {
              "outlinewidth": 0,
              "ticks": ""
             }
            },
            "type": "scattergl"
           }
          ],
          "scattermap": [
           {
            "marker": {
             "colorbar": {
              "outlinewidth": 0,
              "ticks": ""
             }
            },
            "type": "scattermap"
           }
          ],
          "scattermapbox": [
           {
            "marker": {
             "colorbar": {
              "outlinewidth": 0,
              "ticks": ""
             }
            },
            "type": "scattermapbox"
           }
          ],
          "scatterpolar": [
           {
            "marker": {
             "colorbar": {
              "outlinewidth": 0,
              "ticks": ""
             }
            },
            "type": "scatterpolar"
           }
          ],
          "scatterpolargl": [
           {
            "marker": {
             "colorbar": {
              "outlinewidth": 0,
              "ticks": ""
             }
            },
            "type": "scatterpolargl"
           }
          ],
          "scatterternary": [
           {
            "marker": {
             "colorbar": {
              "outlinewidth": 0,
              "ticks": ""
             }
            },
            "type": "scatterternary"
           }
          ],
          "surface": [
           {
            "colorbar": {
             "outlinewidth": 0,
             "ticks": ""
            },
            "colorscale": [
             [
              0,
              "#0d0887"
             ],
             [
              0.1111111111111111,
              "#46039f"
             ],
             [
              0.2222222222222222,
              "#7201a8"
             ],
             [
              0.3333333333333333,
              "#9c179e"
             ],
             [
              0.4444444444444444,
              "#bd3786"
             ],
             [
              0.5555555555555556,
              "#d8576b"
             ],
             [
              0.6666666666666666,
              "#ed7953"
             ],
             [
              0.7777777777777778,
              "#fb9f3a"
             ],
             [
              0.8888888888888888,
              "#fdca26"
             ],
             [
              1,
              "#f0f921"
             ]
            ],
            "type": "surface"
           }
          ],
          "table": [
           {
            "cells": {
             "fill": {
              "color": "#EBF0F8"
             },
             "line": {
              "color": "white"
             }
            },
            "header": {
             "fill": {
              "color": "#C8D4E3"
             },
             "line": {
              "color": "white"
             }
            },
            "type": "table"
           }
          ]
         },
         "layout": {
          "annotationdefaults": {
           "arrowcolor": "#2a3f5f",
           "arrowhead": 0,
           "arrowwidth": 1
          },
          "autotypenumbers": "strict",
          "coloraxis": {
           "colorbar": {
            "outlinewidth": 0,
            "ticks": ""
           }
          },
          "colorscale": {
           "diverging": [
            [
             0,
             "#8e0152"
            ],
            [
             0.1,
             "#c51b7d"
            ],
            [
             0.2,
             "#de77ae"
            ],
            [
             0.3,
             "#f1b6da"
            ],
            [
             0.4,
             "#fde0ef"
            ],
            [
             0.5,
             "#f7f7f7"
            ],
            [
             0.6,
             "#e6f5d0"
            ],
            [
             0.7,
             "#b8e186"
            ],
            [
             0.8,
             "#7fbc41"
            ],
            [
             0.9,
             "#4d9221"
            ],
            [
             1,
             "#276419"
            ]
           ],
           "sequential": [
            [
             0,
             "#0d0887"
            ],
            [
             0.1111111111111111,
             "#46039f"
            ],
            [
             0.2222222222222222,
             "#7201a8"
            ],
            [
             0.3333333333333333,
             "#9c179e"
            ],
            [
             0.4444444444444444,
             "#bd3786"
            ],
            [
             0.5555555555555556,
             "#d8576b"
            ],
            [
             0.6666666666666666,
             "#ed7953"
            ],
            [
             0.7777777777777778,
             "#fb9f3a"
            ],
            [
             0.8888888888888888,
             "#fdca26"
            ],
            [
             1,
             "#f0f921"
            ]
           ],
           "sequentialminus": [
            [
             0,
             "#0d0887"
            ],
            [
             0.1111111111111111,
             "#46039f"
            ],
            [
             0.2222222222222222,
             "#7201a8"
            ],
            [
             0.3333333333333333,
             "#9c179e"
            ],
            [
             0.4444444444444444,
             "#bd3786"
            ],
            [
             0.5555555555555556,
             "#d8576b"
            ],
            [
             0.6666666666666666,
             "#ed7953"
            ],
            [
             0.7777777777777778,
             "#fb9f3a"
            ],
            [
             0.8888888888888888,
             "#fdca26"
            ],
            [
             1,
             "#f0f921"
            ]
           ]
          },
          "colorway": [
           "#636efa",
           "#EF553B",
           "#00cc96",
           "#ab63fa",
           "#FFA15A",
           "#19d3f3",
           "#FF6692",
           "#B6E880",
           "#FF97FF",
           "#FECB52"
          ],
          "font": {
           "color": "#2a3f5f"
          },
          "geo": {
           "bgcolor": "white",
           "lakecolor": "white",
           "landcolor": "#E5ECF6",
           "showlakes": true,
           "showland": true,
           "subunitcolor": "white"
          },
          "hoverlabel": {
           "align": "left"
          },
          "hovermode": "closest",
          "mapbox": {
           "style": "light"
          },
          "paper_bgcolor": "white",
          "plot_bgcolor": "#E5ECF6",
          "polar": {
           "angularaxis": {
            "gridcolor": "white",
            "linecolor": "white",
            "ticks": ""
           },
           "bgcolor": "#E5ECF6",
           "radialaxis": {
            "gridcolor": "white",
            "linecolor": "white",
            "ticks": ""
           }
          },
          "scene": {
           "xaxis": {
            "backgroundcolor": "#E5ECF6",
            "gridcolor": "white",
            "gridwidth": 2,
            "linecolor": "white",
            "showbackground": true,
            "ticks": "",
            "zerolinecolor": "white"
           },
           "yaxis": {
            "backgroundcolor": "#E5ECF6",
            "gridcolor": "white",
            "gridwidth": 2,
            "linecolor": "white",
            "showbackground": true,
            "ticks": "",
            "zerolinecolor": "white"
           },
           "zaxis": {
            "backgroundcolor": "#E5ECF6",
            "gridcolor": "white",
            "gridwidth": 2,
            "linecolor": "white",
            "showbackground": true,
            "ticks": "",
            "zerolinecolor": "white"
           }
          },
          "shapedefaults": {
           "line": {
            "color": "#2a3f5f"
           }
          },
          "ternary": {
           "aaxis": {
            "gridcolor": "white",
            "linecolor": "white",
            "ticks": ""
           },
           "baxis": {
            "gridcolor": "white",
            "linecolor": "white",
            "ticks": ""
           },
           "bgcolor": "#E5ECF6",
           "caxis": {
            "gridcolor": "white",
            "linecolor": "white",
            "ticks": ""
           }
          },
          "title": {
           "x": 0.05
          },
          "xaxis": {
           "automargin": true,
           "gridcolor": "white",
           "linecolor": "white",
           "ticks": "",
           "title": {
            "standoff": 15
           },
           "zerolinecolor": "white",
           "zerolinewidth": 2
          },
          "yaxis": {
           "automargin": true,
           "gridcolor": "white",
           "linecolor": "white",
           "ticks": "",
           "title": {
            "standoff": 15
           },
           "zerolinecolor": "white",
           "zerolinewidth": 2
          }
         }
        },
        "title": {
         "text": "Lieux perçus comme désagréables dans l’établissement"
        },
        "xaxis": {
         "anchor": "y",
         "domain": [
          0,
          1
         ],
         "title": {
          "text": "Fréquence"
         }
        },
        "yaxis": {
         "anchor": "x",
         "categoryarray": [
          "salle de classe",
          "permanence",
          "classe",
          "cantine",
          "toilettes",
          "la cour"
         ],
         "categoryorder": "total ascending",
         "domain": [
          0,
          1
         ],
         "title": {
          "text": "Mot"
         }
        }
       }
      }
     },
     "metadata": {},
     "output_type": "display_data"
    },
    {
     "data": {
      "application/vnd.plotly.v1+json": {
       "config": {
        "plotlyServerURL": "https://plot.ly"
       },
       "data": [
        {
         "hovertemplate": "Mot=%{y}<br>Fréquence=%{x}<extra></extra>",
         "legendgroup": "heures",
         "marker": {
          "color": "#636efa",
          "pattern": {
           "shape": ""
          }
         },
         "name": "heures",
         "orientation": "h",
         "showlegend": true,
         "textposition": "auto",
         "type": "bar",
         "x": {
          "bdata": "Dw==",
          "dtype": "i1"
         },
         "xaxis": "x",
         "y": [
          "heures"
         ],
         "yaxis": "y"
        },
        {
         "hovertemplate": "Mot=%{y}<br>Fréquence=%{x}<extra></extra>",
         "legendgroup": "salle de classe",
         "marker": {
          "color": "#EF553B",
          "pattern": {
           "shape": ""
          }
         },
         "name": "salle de classe",
         "orientation": "h",
         "showlegend": true,
         "textposition": "auto",
         "type": "bar",
         "x": {
          "bdata": "EA==",
          "dtype": "i1"
         },
         "xaxis": "x",
         "y": [
          "salle de classe"
         ],
         "yaxis": "y"
        },
        {
         "hovertemplate": "Mot=%{y}<br>Fréquence=%{x}<extra></extra>",
         "legendgroup": "temps",
         "marker": {
          "color": "#00cc96",
          "pattern": {
           "shape": ""
          }
         },
         "name": "temps",
         "orientation": "h",
         "showlegend": true,
         "textposition": "auto",
         "type": "bar",
         "x": {
          "bdata": "EA==",
          "dtype": "i1"
         },
         "xaxis": "x",
         "y": [
          "temps"
         ],
         "yaxis": "y"
        },
        {
         "hovertemplate": "Mot=%{y}<br>Fréquence=%{x}<extra></extra>",
         "legendgroup": "fontaine",
         "marker": {
          "color": "#ab63fa",
          "pattern": {
           "shape": ""
          }
         },
         "name": "fontaine",
         "orientation": "h",
         "showlegend": true,
         "textposition": "auto",
         "type": "bar",
         "x": {
          "bdata": "EA==",
          "dtype": "i1"
         },
         "xaxis": "x",
         "y": [
          "fontaine"
         ],
         "yaxis": "y"
        },
        {
         "hovertemplate": "Mot=%{y}<br>Fréquence=%{x}<extra></extra>",
         "legendgroup": "pause",
         "marker": {
          "color": "#FFA15A",
          "pattern": {
           "shape": ""
          }
         },
         "name": "pause",
         "orientation": "h",
         "showlegend": true,
         "textposition": "auto",
         "type": "bar",
         "x": {
          "bdata": "EQ==",
          "dtype": "i1"
         },
         "xaxis": "x",
         "y": [
          "pause"
         ],
         "yaxis": "y"
        },
        {
         "hovertemplate": "Mot=%{y}<br>Fréquence=%{x}<extra></extra>",
         "legendgroup": "devoirs",
         "marker": {
          "color": "#19d3f3",
          "pattern": {
           "shape": ""
          }
         },
         "name": "devoirs",
         "orientation": "h",
         "showlegend": true,
         "textposition": "auto",
         "type": "bar",
         "x": {
          "bdata": "Fg==",
          "dtype": "i1"
         },
         "xaxis": "x",
         "y": [
          "devoirs"
         ],
         "yaxis": "y"
        },
        {
         "hovertemplate": "Mot=%{y}<br>Fréquence=%{x}<extra></extra>",
         "legendgroup": "horaire",
         "marker": {
          "color": "#FF6692",
          "pattern": {
           "shape": ""
          }
         },
         "name": "horaire",
         "orientation": "h",
         "showlegend": true,
         "textposition": "auto",
         "type": "bar",
         "x": {
          "bdata": "Fg==",
          "dtype": "i1"
         },
         "xaxis": "x",
         "y": [
          "horaire"
         ],
         "yaxis": "y"
        },
        {
         "hovertemplate": "Mot=%{y}<br>Fréquence=%{x}<extra></extra>",
         "legendgroup": "téléphone",
         "marker": {
          "color": "#B6E880",
          "pattern": {
           "shape": ""
          }
         },
         "name": "téléphone",
         "orientation": "h",
         "showlegend": true,
         "textposition": "auto",
         "type": "bar",
         "x": {
          "bdata": "Fw==",
          "dtype": "i1"
         },
         "xaxis": "x",
         "y": [
          "téléphone"
         ],
         "yaxis": "y"
        },
        {
         "hovertemplate": "Mot=%{y}<br>Fréquence=%{x}<extra></extra>",
         "legendgroup": "classe",
         "marker": {
          "color": "#FF97FF",
          "pattern": {
           "shape": ""
          }
         },
         "name": "classe",
         "orientation": "h",
         "showlegend": true,
         "textposition": "auto",
         "type": "bar",
         "x": {
          "bdata": "GA==",
          "dtype": "i1"
         },
         "xaxis": "x",
         "y": [
          "classe"
         ],
         "yaxis": "y"
        },
        {
         "hovertemplate": "Mot=%{y}<br>Fréquence=%{x}<extra></extra>",
         "legendgroup": "respect",
         "marker": {
          "color": "#FECB52",
          "pattern": {
           "shape": ""
          }
         },
         "name": "respect",
         "orientation": "h",
         "showlegend": true,
         "textposition": "auto",
         "type": "bar",
         "x": {
          "bdata": "GA==",
          "dtype": "i1"
         },
         "xaxis": "x",
         "y": [
          "respect"
         ],
         "yaxis": "y"
        },
        {
         "hovertemplate": "Mot=%{y}<br>Fréquence=%{x}<extra></extra>",
         "legendgroup": "écoute",
         "marker": {
          "color": "#636efa",
          "pattern": {
           "shape": ""
          }
         },
         "name": "écoute",
         "orientation": "h",
         "showlegend": true,
         "textposition": "auto",
         "type": "bar",
         "x": {
          "bdata": "Gg==",
          "dtype": "i1"
         },
         "xaxis": "x",
         "y": [
          "écoute"
         ],
         "yaxis": "y"
        },
        {
         "hovertemplate": "Mot=%{y}<br>Fréquence=%{x}<extra></extra>",
         "legendgroup": "activités",
         "marker": {
          "color": "#EF553B",
          "pattern": {
           "shape": ""
          }
         },
         "name": "activités",
         "orientation": "h",
         "showlegend": true,
         "textposition": "auto",
         "type": "bar",
         "x": {
          "bdata": "Gg==",
          "dtype": "i1"
         },
         "xaxis": "x",
         "y": [
          "activités"
         ],
         "yaxis": "y"
        },
        {
         "hovertemplate": "Mot=%{y}<br>Fréquence=%{x}<extra></extra>",
         "legendgroup": "liberté",
         "marker": {
          "color": "#00cc96",
          "pattern": {
           "shape": ""
          }
         },
         "name": "liberté",
         "orientation": "h",
         "showlegend": true,
         "textposition": "auto",
         "type": "bar",
         "x": {
          "bdata": "HA==",
          "dtype": "i1"
         },
         "xaxis": "x",
         "y": [
          "liberté"
         ],
         "yaxis": "y"
        },
        {
         "hovertemplate": "Mot=%{y}<br>Fréquence=%{x}<extra></extra>",
         "legendgroup": "cantine",
         "marker": {
          "color": "#ab63fa",
          "pattern": {
           "shape": ""
          }
         },
         "name": "cantine",
         "orientation": "h",
         "showlegend": true,
         "textposition": "auto",
         "type": "bar",
         "x": {
          "bdata": "MA==",
          "dtype": "i1"
         },
         "xaxis": "x",
         "y": [
          "cantine"
         ],
         "yaxis": "y"
        },
        {
         "hovertemplate": "Mot=%{y}<br>Fréquence=%{x}<extra></extra>",
         "legendgroup": "climatisation",
         "marker": {
          "color": "#FFA15A",
          "pattern": {
           "shape": ""
          }
         },
         "name": "climatisation",
         "orientation": "h",
         "showlegend": true,
         "textposition": "auto",
         "type": "bar",
         "x": {
          "bdata": "Mw==",
          "dtype": "i1"
         },
         "xaxis": "x",
         "y": [
          "climatisation"
         ],
         "yaxis": "y"
        },
        {
         "hovertemplate": "Mot=%{y}<br>Fréquence=%{x}<extra></extra>",
         "legendgroup": "aucun",
         "marker": {
          "color": "#19d3f3",
          "pattern": {
           "shape": ""
          }
         },
         "name": "aucun",
         "orientation": "h",
         "showlegend": true,
         "textposition": "auto",
         "type": "bar",
         "x": {
          "bdata": "Tg==",
          "dtype": "i1"
         },
         "xaxis": "x",
         "y": [
          "aucun"
         ],
         "yaxis": "y"
        },
        {
         "hovertemplate": "Mot=%{y}<br>Fréquence=%{x}<extra></extra>",
         "legendgroup": "horaires",
         "marker": {
          "color": "#FF6692",
          "pattern": {
           "shape": ""
          }
         },
         "name": "horaires",
         "orientation": "h",
         "showlegend": true,
         "textposition": "auto",
         "type": "bar",
         "x": {
          "bdata": "UQ==",
          "dtype": "i1"
         },
         "xaxis": "x",
         "y": [
          "horaires"
         ],
         "yaxis": "y"
        }
       ],
       "layout": {
        "barmode": "relative",
        "height": 400,
        "legend": {
         "title": {
          "text": "Mot"
         },
         "tracegroupgap": 0
        },
        "showlegend": false,
        "template": {
         "data": {
          "bar": [
           {
            "error_x": {
             "color": "#2a3f5f"
            },
            "error_y": {
             "color": "#2a3f5f"
            },
            "marker": {
             "line": {
              "color": "#E5ECF6",
              "width": 0.5
             },
             "pattern": {
              "fillmode": "overlay",
              "size": 10,
              "solidity": 0.2
             }
            },
            "type": "bar"
           }
          ],
          "barpolar": [
           {
            "marker": {
             "line": {
              "color": "#E5ECF6",
              "width": 0.5
             },
             "pattern": {
              "fillmode": "overlay",
              "size": 10,
              "solidity": 0.2
             }
            },
            "type": "barpolar"
           }
          ],
          "carpet": [
           {
            "aaxis": {
             "endlinecolor": "#2a3f5f",
             "gridcolor": "white",
             "linecolor": "white",
             "minorgridcolor": "white",
             "startlinecolor": "#2a3f5f"
            },
            "baxis": {
             "endlinecolor": "#2a3f5f",
             "gridcolor": "white",
             "linecolor": "white",
             "minorgridcolor": "white",
             "startlinecolor": "#2a3f5f"
            },
            "type": "carpet"
           }
          ],
          "choropleth": [
           {
            "colorbar": {
             "outlinewidth": 0,
             "ticks": ""
            },
            "type": "choropleth"
           }
          ],
          "contour": [
           {
            "colorbar": {
             "outlinewidth": 0,
             "ticks": ""
            },
            "colorscale": [
             [
              0,
              "#0d0887"
             ],
             [
              0.1111111111111111,
              "#46039f"
             ],
             [
              0.2222222222222222,
              "#7201a8"
             ],
             [
              0.3333333333333333,
              "#9c179e"
             ],
             [
              0.4444444444444444,
              "#bd3786"
             ],
             [
              0.5555555555555556,
              "#d8576b"
             ],
             [
              0.6666666666666666,
              "#ed7953"
             ],
             [
              0.7777777777777778,
              "#fb9f3a"
             ],
             [
              0.8888888888888888,
              "#fdca26"
             ],
             [
              1,
              "#f0f921"
             ]
            ],
            "type": "contour"
           }
          ],
          "contourcarpet": [
           {
            "colorbar": {
             "outlinewidth": 0,
             "ticks": ""
            },
            "type": "contourcarpet"
           }
          ],
          "heatmap": [
           {
            "colorbar": {
             "outlinewidth": 0,
             "ticks": ""
            },
            "colorscale": [
             [
              0,
              "#0d0887"
             ],
             [
              0.1111111111111111,
              "#46039f"
             ],
             [
              0.2222222222222222,
              "#7201a8"
             ],
             [
              0.3333333333333333,
              "#9c179e"
             ],
             [
              0.4444444444444444,
              "#bd3786"
             ],
             [
              0.5555555555555556,
              "#d8576b"
             ],
             [
              0.6666666666666666,
              "#ed7953"
             ],
             [
              0.7777777777777778,
              "#fb9f3a"
             ],
             [
              0.8888888888888888,
              "#fdca26"
             ],
             [
              1,
              "#f0f921"
             ]
            ],
            "type": "heatmap"
           }
          ],
          "histogram": [
           {
            "marker": {
             "pattern": {
              "fillmode": "overlay",
              "size": 10,
              "solidity": 0.2
             }
            },
            "type": "histogram"
           }
          ],
          "histogram2d": [
           {
            "colorbar": {
             "outlinewidth": 0,
             "ticks": ""
            },
            "colorscale": [
             [
              0,
              "#0d0887"
             ],
             [
              0.1111111111111111,
              "#46039f"
             ],
             [
              0.2222222222222222,
              "#7201a8"
             ],
             [
              0.3333333333333333,
              "#9c179e"
             ],
             [
              0.4444444444444444,
              "#bd3786"
             ],
             [
              0.5555555555555556,
              "#d8576b"
             ],
             [
              0.6666666666666666,
              "#ed7953"
             ],
             [
              0.7777777777777778,
              "#fb9f3a"
             ],
             [
              0.8888888888888888,
              "#fdca26"
             ],
             [
              1,
              "#f0f921"
             ]
            ],
            "type": "histogram2d"
           }
          ],
          "histogram2dcontour": [
           {
            "colorbar": {
             "outlinewidth": 0,
             "ticks": ""
            },
            "colorscale": [
             [
              0,
              "#0d0887"
             ],
             [
              0.1111111111111111,
              "#46039f"
             ],
             [
              0.2222222222222222,
              "#7201a8"
             ],
             [
              0.3333333333333333,
              "#9c179e"
             ],
             [
              0.4444444444444444,
              "#bd3786"
             ],
             [
              0.5555555555555556,
              "#d8576b"
             ],
             [
              0.6666666666666666,
              "#ed7953"
             ],
             [
              0.7777777777777778,
              "#fb9f3a"
             ],
             [
              0.8888888888888888,
              "#fdca26"
             ],
             [
              1,
              "#f0f921"
             ]
            ],
            "type": "histogram2dcontour"
           }
          ],
          "mesh3d": [
           {
            "colorbar": {
             "outlinewidth": 0,
             "ticks": ""
            },
            "type": "mesh3d"
           }
          ],
          "parcoords": [
           {
            "line": {
             "colorbar": {
              "outlinewidth": 0,
              "ticks": ""
             }
            },
            "type": "parcoords"
           }
          ],
          "pie": [
           {
            "automargin": true,
            "type": "pie"
           }
          ],
          "scatter": [
           {
            "fillpattern": {
             "fillmode": "overlay",
             "size": 10,
             "solidity": 0.2
            },
            "type": "scatter"
           }
          ],
          "scatter3d": [
           {
            "line": {
             "colorbar": {
              "outlinewidth": 0,
              "ticks": ""
             }
            },
            "marker": {
             "colorbar": {
              "outlinewidth": 0,
              "ticks": ""
             }
            },
            "type": "scatter3d"
           }
          ],
          "scattercarpet": [
           {
            "marker": {
             "colorbar": {
              "outlinewidth": 0,
              "ticks": ""
             }
            },
            "type": "scattercarpet"
           }
          ],
          "scattergeo": [
           {
            "marker": {
             "colorbar": {
              "outlinewidth": 0,
              "ticks": ""
             }
            },
            "type": "scattergeo"
           }
          ],
          "scattergl": [
           {
            "marker": {
             "colorbar": {
              "outlinewidth": 0,
              "ticks": ""
             }
            },
            "type": "scattergl"
           }
          ],
          "scattermap": [
           {
            "marker": {
             "colorbar": {
              "outlinewidth": 0,
              "ticks": ""
             }
            },
            "type": "scattermap"
           }
          ],
          "scattermapbox": [
           {
            "marker": {
             "colorbar": {
              "outlinewidth": 0,
              "ticks": ""
             }
            },
            "type": "scattermapbox"
           }
          ],
          "scatterpolar": [
           {
            "marker": {
             "colorbar": {
              "outlinewidth": 0,
              "ticks": ""
             }
            },
            "type": "scatterpolar"
           }
          ],
          "scatterpolargl": [
           {
            "marker": {
             "colorbar": {
              "outlinewidth": 0,
              "ticks": ""
             }
            },
            "type": "scatterpolargl"
           }
          ],
          "scatterternary": [
           {
            "marker": {
             "colorbar": {
              "outlinewidth": 0,
              "ticks": ""
             }
            },
            "type": "scatterternary"
           }
          ],
          "surface": [
           {
            "colorbar": {
             "outlinewidth": 0,
             "ticks": ""
            },
            "colorscale": [
             [
              0,
              "#0d0887"
             ],
             [
              0.1111111111111111,
              "#46039f"
             ],
             [
              0.2222222222222222,
              "#7201a8"
             ],
             [
              0.3333333333333333,
              "#9c179e"
             ],
             [
              0.4444444444444444,
              "#bd3786"
             ],
             [
              0.5555555555555556,
              "#d8576b"
             ],
             [
              0.6666666666666666,
              "#ed7953"
             ],
             [
              0.7777777777777778,
              "#fb9f3a"
             ],
             [
              0.8888888888888888,
              "#fdca26"
             ],
             [
              1,
              "#f0f921"
             ]
            ],
            "type": "surface"
           }
          ],
          "table": [
           {
            "cells": {
             "fill": {
              "color": "#EBF0F8"
             },
             "line": {
              "color": "white"
             }
            },
            "header": {
             "fill": {
              "color": "#C8D4E3"
             },
             "line": {
              "color": "white"
             }
            },
            "type": "table"
           }
          ]
         },
         "layout": {
          "annotationdefaults": {
           "arrowcolor": "#2a3f5f",
           "arrowhead": 0,
           "arrowwidth": 1
          },
          "autotypenumbers": "strict",
          "coloraxis": {
           "colorbar": {
            "outlinewidth": 0,
            "ticks": ""
           }
          },
          "colorscale": {
           "diverging": [
            [
             0,
             "#8e0152"
            ],
            [
             0.1,
             "#c51b7d"
            ],
            [
             0.2,
             "#de77ae"
            ],
            [
             0.3,
             "#f1b6da"
            ],
            [
             0.4,
             "#fde0ef"
            ],
            [
             0.5,
             "#f7f7f7"
            ],
            [
             0.6,
             "#e6f5d0"
            ],
            [
             0.7,
             "#b8e186"
            ],
            [
             0.8,
             "#7fbc41"
            ],
            [
             0.9,
             "#4d9221"
            ],
            [
             1,
             "#276419"
            ]
           ],
           "sequential": [
            [
             0,
             "#0d0887"
            ],
            [
             0.1111111111111111,
             "#46039f"
            ],
            [
             0.2222222222222222,
             "#7201a8"
            ],
            [
             0.3333333333333333,
             "#9c179e"
            ],
            [
             0.4444444444444444,
             "#bd3786"
            ],
            [
             0.5555555555555556,
             "#d8576b"
            ],
            [
             0.6666666666666666,
             "#ed7953"
            ],
            [
             0.7777777777777778,
             "#fb9f3a"
            ],
            [
             0.8888888888888888,
             "#fdca26"
            ],
            [
             1,
             "#f0f921"
            ]
           ],
           "sequentialminus": [
            [
             0,
             "#0d0887"
            ],
            [
             0.1111111111111111,
             "#46039f"
            ],
            [
             0.2222222222222222,
             "#7201a8"
            ],
            [
             0.3333333333333333,
             "#9c179e"
            ],
            [
             0.4444444444444444,
             "#bd3786"
            ],
            [
             0.5555555555555556,
             "#d8576b"
            ],
            [
             0.6666666666666666,
             "#ed7953"
            ],
            [
             0.7777777777777778,
             "#fb9f3a"
            ],
            [
             0.8888888888888888,
             "#fdca26"
            ],
            [
             1,
             "#f0f921"
            ]
           ]
          },
          "colorway": [
           "#636efa",
           "#EF553B",
           "#00cc96",
           "#ab63fa",
           "#FFA15A",
           "#19d3f3",
           "#FF6692",
           "#B6E880",
           "#FF97FF",
           "#FECB52"
          ],
          "font": {
           "color": "#2a3f5f"
          },
          "geo": {
           "bgcolor": "white",
           "lakecolor": "white",
           "landcolor": "#E5ECF6",
           "showlakes": true,
           "showland": true,
           "subunitcolor": "white"
          },
          "hoverlabel": {
           "align": "left"
          },
          "hovermode": "closest",
          "mapbox": {
           "style": "light"
          },
          "paper_bgcolor": "white",
          "plot_bgcolor": "#E5ECF6",
          "polar": {
           "angularaxis": {
            "gridcolor": "white",
            "linecolor": "white",
            "ticks": ""
           },
           "bgcolor": "#E5ECF6",
           "radialaxis": {
            "gridcolor": "white",
            "linecolor": "white",
            "ticks": ""
           }
          },
          "scene": {
           "xaxis": {
            "backgroundcolor": "#E5ECF6",
            "gridcolor": "white",
            "gridwidth": 2,
            "linecolor": "white",
            "showbackground": true,
            "ticks": "",
            "zerolinecolor": "white"
           },
           "yaxis": {
            "backgroundcolor": "#E5ECF6",
            "gridcolor": "white",
            "gridwidth": 2,
            "linecolor": "white",
            "showbackground": true,
            "ticks": "",
            "zerolinecolor": "white"
           },
           "zaxis": {
            "backgroundcolor": "#E5ECF6",
            "gridcolor": "white",
            "gridwidth": 2,
            "linecolor": "white",
            "showbackground": true,
            "ticks": "",
            "zerolinecolor": "white"
           }
          },
          "shapedefaults": {
           "line": {
            "color": "#2a3f5f"
           }
          },
          "ternary": {
           "aaxis": {
            "gridcolor": "white",
            "linecolor": "white",
            "ticks": ""
           },
           "baxis": {
            "gridcolor": "white",
            "linecolor": "white",
            "ticks": ""
           },
           "bgcolor": "#E5ECF6",
           "caxis": {
            "gridcolor": "white",
            "linecolor": "white",
            "ticks": ""
           }
          },
          "title": {
           "x": 0.05
          },
          "xaxis": {
           "automargin": true,
           "gridcolor": "white",
           "linecolor": "white",
           "ticks": "",
           "title": {
            "standoff": 15
           },
           "zerolinecolor": "white",
           "zerolinewidth": 2
          },
          "yaxis": {
           "automargin": true,
           "gridcolor": "white",
           "linecolor": "white",
           "ticks": "",
           "title": {
            "standoff": 15
           },
           "zerolinecolor": "white",
           "zerolinewidth": 2
          }
         }
        },
        "title": {
         "text": "Changements souhaités dans l’établissement"
        },
        "xaxis": {
         "anchor": "y",
         "domain": [
          0,
          1
         ],
         "title": {
          "text": "Fréquence"
         }
        },
        "yaxis": {
         "anchor": "x",
         "categoryarray": [
          "horaires",
          "aucun",
          "climatisation",
          "cantine",
          "liberté",
          "activités",
          "écoute",
          "respect",
          "classe",
          "téléphone",
          "horaire",
          "devoirs",
          "pause",
          "fontaine",
          "temps",
          "salle de classe",
          "heures"
         ],
         "categoryorder": "total ascending",
         "domain": [
          0,
          1
         ],
         "title": {
          "text": "Mot"
         }
        }
       }
      }
     },
     "metadata": {},
     "output_type": "display_data"
    }
   ],
   "source": [
    "# import plotly.express as px\n",
    "\n",
    "\n",
    "\n",
    "# def plot_barplots_questions_interactive(freq_dict, min_freq=5, question_titles=None):\n",
    "#     for col, df_freq in freq_dict.items():\n",
    "#         if df_freq.empty:\n",
    "#             continue\n",
    "\n",
    "#         df_plot = df_freq[df_freq[\"frequence\"] >= min_freq]\n",
    "#         if df_plot.empty:\n",
    "#             continue\n",
    "\n",
    "#         title = question_titles.get(col, col.replace('_', ' ').capitalize())\n",
    "\n",
    "#         fig = px.bar(\n",
    "#             df_plot.sort_values(\"frequence\", ascending=True),\n",
    "#             x=\"frequence\",\n",
    "#             y=\"mot\",\n",
    "#             orientation=\"h\",\n",
    "#             title=title,\n",
    "#             labels={\"frequence\": \"Fréquence\", \"mot\": \"Mot\"},\n",
    "#             color=\"mot\"\n",
    "#         )\n",
    "#         fig.update_layout(\n",
    "#             showlegend=False,\n",
    "#             yaxis=dict(categoryorder=\"total ascending\"),\n",
    "#             height=400\n",
    "#         )\n",
    "#     fig.show()\n",
    "\n",
    "\n",
    "\n",
    "\n",
    "# plot_barplots_questions_interactive(frequences_par_question, min_freq=15, question_titles=question_titles)\n",
    "\n",
    "import plotly.express as px\n",
    "\n",
    "def plot_barplots_questions_selection(freq_dict, questions, min_freq=5, question_titles=None):\n",
    "    \"\"\"\n",
    "    Affiche les barplots uniquement pour les colonnes spécifiées dans `questions`.\n",
    "    \"\"\"\n",
    "    for col in questions:\n",
    "        df_freq = freq_dict.get(col, None)\n",
    "        if df_freq is None or df_freq.empty:\n",
    "            continue\n",
    "\n",
    "        df_plot = df_freq[df_freq[\"frequence\"] >= min_freq]\n",
    "        if df_plot.empty:\n",
    "            continue\n",
    "\n",
    "        title = question_titles.get(col, col.replace('_', ' ').capitalize())\n",
    "\n",
    "        fig = px.bar(\n",
    "            df_plot.sort_values(\"frequence\", ascending=True),\n",
    "            x=\"frequence\",\n",
    "            y=\"mot\",\n",
    "            orientation=\"h\",\n",
    "            title=title,\n",
    "            labels={\"frequence\": \"Fréquence\", \"mot\": \"Mot\"},\n",
    "            color=\"mot\"\n",
    "        )\n",
    "\n",
    "        fig.update_layout(\n",
    "            showlegend=False,\n",
    "            yaxis=dict(categoryorder=\"total ascending\"),\n",
    "            height=400\n",
    "        )\n",
    "\n",
    "        fig.show()\n",
    "\n",
    "questions_a_afficher = [\n",
    "    \"confiance_dialogue_extrait\",\n",
    "    \"lieux_expression_libre\",\n",
    "    \"moments_agreables\",\n",
    "    \"moments_desagreables\",\n",
    "    \"lieux_agreables\",\n",
    "    \"lieux_desagreables\",\n",
    "    \"changements_souhaites\"\n",
    "]\n",
    "\n",
    "question_titles = {\n",
    "    \"confiance_dialogue_extrait\": \"Situations dans lesquelles les élèves se sentent écoutés ou en confiance\",\n",
    "    \"lieux_expression_libre\": \"Lieux où les élèves peuvent s’exprimer librement\",\n",
    "    \"moments_agreables\": \"Moments les plus agréables vécus au sein de l’établissement\",\n",
    "    \"moments_desagreables\": \"Moments les plus désagréables vécus au sein de l’établissement\",\n",
    "    \"lieux_agreables\": \"Lieux perçus comme agréables dans l’établissement\",\n",
    "    \"lieux_desagreables\": \"Lieux perçus comme désagréables dans l’établissement\",\n",
    "    \"changements_souhaites\": \"Changements souhaités dans l’établissement\"\n",
    "}\n",
    "plot_barplots_questions_selection(frequences_par_question, questions_a_afficher, min_freq=15, question_titles=question_titles)\n"
   ]
  },
  {
   "cell_type": "code",
   "execution_count": 251,
   "id": "0d11dacd",
   "metadata": {},
   "outputs": [],
   "source": [
    "\n",
    "# Sérialisation propre des DataFrames avec listes\n",
    "df.to_csv(\"processed_data/df.csv\", index=False)\n",
    "df_scores.to_csv(\"processed_data/df_scores.csv\", index=False)\n",
    "df_full.to_csv(\"processed_data/df_full.csv\", index=False)"
   ]
  }
 ],
 "metadata": {
  "kernelspec": {
   "display_name": "form_eleves",
   "language": "python",
   "name": "python3"
  },
  "language_info": {
   "codemirror_mode": {
    "name": "ipython",
    "version": 3
   },
   "file_extension": ".py",
   "mimetype": "text/x-python",
   "name": "python",
   "nbconvert_exporter": "python",
   "pygments_lexer": "ipython3",
   "version": "3.10.6"
  }
 },
 "nbformat": 4,
 "nbformat_minor": 5
}
